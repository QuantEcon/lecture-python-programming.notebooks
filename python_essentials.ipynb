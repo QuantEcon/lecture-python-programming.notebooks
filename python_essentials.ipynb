{
 "cells": [
  {
   "cell_type": "markdown",
   "id": "48af2eff",
   "metadata": {},
   "source": [
    "\n",
    "<a id='python-done-right'></a>\n",
    "<div id=\"qe-notebook-header\" align=\"right\" style=\"text-align:right;\">\n",
    "        <a href=\"https://quantecon.org/\" title=\"quantecon.org\">\n",
    "                <img style=\"width:250px;display:inline;\" width=\"250px\" src=\"https://assets.quantecon.org/img/qe-menubar-logo.svg\" alt=\"QuantEcon\">\n",
    "        </a>\n",
    "</div>"
   ]
  },
  {
   "cell_type": "markdown",
   "id": "b1d25ce8",
   "metadata": {},
   "source": [
    "# Python Essentials"
   ]
  },
  {
   "cell_type": "markdown",
   "id": "b539b4bf",
   "metadata": {},
   "source": [
    "## Contents\n",
    "\n",
    "- [Python Essentials](#Python-Essentials)  \n",
    "  - [Overview](#Overview)  \n",
    "  - [Data Types](#Data-Types)  \n",
    "  - [Input and Output](#Input-and-Output)  \n",
    "  - [Iterating](#Iterating)  \n",
    "  - [Comparisons and Logical Operators](#Comparisons-and-Logical-Operators)  \n",
    "  - [More Functions](#More-Functions)  \n",
    "  - [Coding Style and PEP8](#Coding-Style-and-PEP8)  \n",
    "  - [Exercises](#Exercises)  \n",
    "  - [Solutions](#Solutions)  "
   ]
  },
  {
   "cell_type": "markdown",
   "id": "64b66e2d",
   "metadata": {},
   "source": [
    "## Overview\n",
    "\n",
    "We have covered a lot of material quite quickly, with a focus on examples.\n",
    "\n",
    "Now let’s cover some core features of Python in a more systematic way.\n",
    "\n",
    "This approach is less exciting but helps clear up some details."
   ]
  },
  {
   "cell_type": "markdown",
   "id": "278c27b8",
   "metadata": {},
   "source": [
    "## Data Types\n",
    "\n",
    "\n",
    "<a id='index-0'></a>\n",
    "Computer programs typically keep track of a range of data types.\n",
    "\n",
    "For example, `1.5` is a floating point number, while `1` is an integer.\n",
    "\n",
    "Programs need to distinguish between these two types for various reasons.\n",
    "\n",
    "One is that they are stored in memory differently.\n",
    "\n",
    "Another is that arithmetic operations are different\n",
    "\n",
    "- For example, floating point arithmetic is implemented on most machines by a\n",
    "  specialized Floating Point Unit (FPU).  \n",
    "\n",
    "\n",
    "In general, floats are more informative but arithmetic operations on integers\n",
    "are faster and more accurate.\n",
    "\n",
    "Python provides numerous other built-in Python data types, some of which we’ve already met\n",
    "\n",
    "- strings, lists, etc.  \n",
    "\n",
    "\n",
    "Let’s learn a bit more about them."
   ]
  },
  {
   "cell_type": "markdown",
   "id": "f94ada41",
   "metadata": {},
   "source": [
    "### Primitive Data Types\n",
    "\n",
    "One simple data type is **Boolean values**, which can be either `True` or `False`"
   ]
  },
  {
   "cell_type": "code",
   "execution_count": null,
   "id": "c716386d",
   "metadata": {
    "hide-output": false
   },
   "outputs": [],
   "source": [
    "x = True\n",
    "x"
   ]
  },
  {
   "cell_type": "markdown",
   "id": "b29d3e3e",
   "metadata": {},
   "source": [
    "We can check the type of any object in memory using the `type()` function."
   ]
  },
  {
   "cell_type": "code",
   "execution_count": null,
   "id": "1eff1712",
   "metadata": {
    "hide-output": false
   },
   "outputs": [],
   "source": [
    "type(x)"
   ]
  },
  {
   "cell_type": "markdown",
   "id": "4683a638",
   "metadata": {},
   "source": [
    "In the next line of code, the interpreter evaluates the expression on the right of = and binds y to this value"
   ]
  },
  {
   "cell_type": "code",
   "execution_count": null,
   "id": "9ea579e5",
   "metadata": {
    "hide-output": false
   },
   "outputs": [],
   "source": [
    "y = 100 < 10\n",
    "y"
   ]
  },
  {
   "cell_type": "code",
   "execution_count": null,
   "id": "aadaf4e3",
   "metadata": {
    "hide-output": false
   },
   "outputs": [],
   "source": [
    "type(y)"
   ]
  },
  {
   "cell_type": "markdown",
   "id": "711dd075",
   "metadata": {},
   "source": [
    "In arithmetic expressions, `True` is converted to `1` and `False` is converted `0`.\n",
    "\n",
    "This is called **Boolean arithmetic** and is often useful in programming.\n",
    "\n",
    "Here are some examples"
   ]
  },
  {
   "cell_type": "code",
   "execution_count": null,
   "id": "7eafb3d5",
   "metadata": {
    "hide-output": false
   },
   "outputs": [],
   "source": [
    "x + y"
   ]
  },
  {
   "cell_type": "code",
   "execution_count": null,
   "id": "ff72a7a4",
   "metadata": {
    "hide-output": false
   },
   "outputs": [],
   "source": [
    "x * y"
   ]
  },
  {
   "cell_type": "code",
   "execution_count": null,
   "id": "ce5023df",
   "metadata": {
    "hide-output": false
   },
   "outputs": [],
   "source": [
    "True + True"
   ]
  },
  {
   "cell_type": "code",
   "execution_count": null,
   "id": "067112c2",
   "metadata": {
    "hide-output": false
   },
   "outputs": [],
   "source": [
    "bools = [True, True, False, True]  # List of Boolean values\n",
    "\n",
    "sum(bools)"
   ]
  },
  {
   "cell_type": "markdown",
   "id": "af8bfb4d",
   "metadata": {},
   "source": [
    "Complex numbers are another primitive data type in Python"
   ]
  },
  {
   "cell_type": "code",
   "execution_count": null,
   "id": "309dd75d",
   "metadata": {
    "hide-output": false
   },
   "outputs": [],
   "source": [
    "x = complex(1, 2)\n",
    "y = complex(2, 1)\n",
    "print(x * y)\n",
    "\n",
    "type(x)"
   ]
  },
  {
   "cell_type": "markdown",
   "id": "dfca292b",
   "metadata": {},
   "source": [
    "### Containers\n",
    "\n",
    "Python has several basic types for storing collections of (possibly heterogeneous) data.\n",
    "\n",
    "We’ve [already discussed lists](https://python-programming.quantecon.org/python_by_example.html#lists-ref).\n",
    "\n",
    "\n",
    "<a id='index-1'></a>\n",
    "A related data type is **tuples**, which are “immutable” lists"
   ]
  },
  {
   "cell_type": "code",
   "execution_count": null,
   "id": "ed25bc9a",
   "metadata": {
    "hide-output": false
   },
   "outputs": [],
   "source": [
    "x = ('a', 'b')  # Parentheses instead of the square brackets\n",
    "x = 'a', 'b'    # Or no brackets --- the meaning is identical\n",
    "x"
   ]
  },
  {
   "cell_type": "code",
   "execution_count": null,
   "id": "969f934d",
   "metadata": {
    "hide-output": false
   },
   "outputs": [],
   "source": [
    "type(x)"
   ]
  },
  {
   "cell_type": "markdown",
   "id": "a42a2258",
   "metadata": {},
   "source": [
    "In Python, an object is called **immutable** if, once created, the object cannot be changed.\n",
    "\n",
    "Conversely, an object is **mutable** if it can still be altered after creation.\n",
    "\n",
    "Python lists are mutable"
   ]
  },
  {
   "cell_type": "code",
   "execution_count": null,
   "id": "fb4cad4a",
   "metadata": {
    "hide-output": false
   },
   "outputs": [],
   "source": [
    "x = [1, 2]\n",
    "x[0] = 10\n",
    "x"
   ]
  },
  {
   "cell_type": "markdown",
   "id": "c52e84eb",
   "metadata": {},
   "source": [
    "But tuples are not"
   ]
  },
  {
   "cell_type": "code",
   "execution_count": null,
   "id": "bf2f330b",
   "metadata": {
    "hide-output": false
   },
   "outputs": [],
   "source": [
    "x = (1, 2)\n",
    "x[0] = 10"
   ]
  },
  {
   "cell_type": "markdown",
   "id": "3375488b",
   "metadata": {},
   "source": [
    "We’ll say more about the role of mutable and immutable data a bit later.\n",
    "\n",
    "Tuples (and lists) can be “unpacked” as follows"
   ]
  },
  {
   "cell_type": "code",
   "execution_count": null,
   "id": "80fe856f",
   "metadata": {
    "hide-output": false
   },
   "outputs": [],
   "source": [
    "integers = (10, 20, 30)\n",
    "x, y, z = integers\n",
    "x"
   ]
  },
  {
   "cell_type": "code",
   "execution_count": null,
   "id": "360db675",
   "metadata": {
    "hide-output": false
   },
   "outputs": [],
   "source": [
    "y"
   ]
  },
  {
   "cell_type": "markdown",
   "id": "f04c62d6",
   "metadata": {},
   "source": [
    "You’ve actually [seen an example of this](https://python-programming.quantecon.org/about_py.html#tuple-unpacking-example) already.\n",
    "\n",
    "Tuple unpacking is convenient and we’ll use it often."
   ]
  },
  {
   "cell_type": "markdown",
   "id": "91e447f9",
   "metadata": {},
   "source": [
    "#### Slice Notation\n",
    "\n",
    "\n",
    "<a id='index-2'></a>\n",
    "To access multiple elements of a list or tuple, you can use Python’s slice\n",
    "notation.\n",
    "\n",
    "For example,"
   ]
  },
  {
   "cell_type": "code",
   "execution_count": null,
   "id": "0bbc4d30",
   "metadata": {
    "hide-output": false
   },
   "outputs": [],
   "source": [
    "a = [2, 4, 6, 8]\n",
    "a[1:]"
   ]
  },
  {
   "cell_type": "code",
   "execution_count": null,
   "id": "c6790e9d",
   "metadata": {
    "hide-output": false
   },
   "outputs": [],
   "source": [
    "a[1:3]"
   ]
  },
  {
   "cell_type": "markdown",
   "id": "95667202",
   "metadata": {},
   "source": [
    "The general rule is that `a[m:n]` returns `n - m` elements, starting at `a[m]`.\n",
    "\n",
    "Negative numbers are also permissible"
   ]
  },
  {
   "cell_type": "code",
   "execution_count": null,
   "id": "2cc4be60",
   "metadata": {
    "hide-output": false
   },
   "outputs": [],
   "source": [
    "a[-2:]  # Last two elements of the list"
   ]
  },
  {
   "cell_type": "markdown",
   "id": "08547bb2",
   "metadata": {},
   "source": [
    "The same slice notation works on tuples and strings"
   ]
  },
  {
   "cell_type": "code",
   "execution_count": null,
   "id": "d66f63be",
   "metadata": {
    "hide-output": false
   },
   "outputs": [],
   "source": [
    "s = 'foobar'\n",
    "s[-3:]  # Select the last three elements"
   ]
  },
  {
   "cell_type": "markdown",
   "id": "02a726a2",
   "metadata": {},
   "source": [
    "#### Sets and Dictionaries\n",
    "\n",
    "\n",
    "<a id='index-4'></a>\n",
    "Two other container types we should mention before moving on are [sets](https://docs.python.org/3/tutorial/datastructures.html#sets) and [dictionaries](https://docs.python.org/3/tutorial/datastructures.html#dictionaries).\n",
    "\n",
    "Dictionaries are much like lists, except that the items are named instead of\n",
    "numbered"
   ]
  },
  {
   "cell_type": "code",
   "execution_count": null,
   "id": "1a9259d6",
   "metadata": {
    "hide-output": false
   },
   "outputs": [],
   "source": [
    "d = {'name': 'Frodo', 'age': 33}\n",
    "type(d)"
   ]
  },
  {
   "cell_type": "code",
   "execution_count": null,
   "id": "b3e04a8e",
   "metadata": {
    "hide-output": false
   },
   "outputs": [],
   "source": [
    "d['age']"
   ]
  },
  {
   "cell_type": "markdown",
   "id": "1a272d6d",
   "metadata": {},
   "source": [
    "The names `'name'` and `'age'` are called the *keys*.\n",
    "\n",
    "The objects that the keys are mapped to (`'Frodo'` and `33`) are called the `values`.\n",
    "\n",
    "Sets are unordered collections without duplicates, and set methods provide the\n",
    "usual set-theoretic operations"
   ]
  },
  {
   "cell_type": "code",
   "execution_count": null,
   "id": "876c4ac2",
   "metadata": {
    "hide-output": false
   },
   "outputs": [],
   "source": [
    "s1 = {'a', 'b'}\n",
    "type(s1)"
   ]
  },
  {
   "cell_type": "code",
   "execution_count": null,
   "id": "97fec5e6",
   "metadata": {
    "hide-output": false
   },
   "outputs": [],
   "source": [
    "s2 = {'b', 'c'}\n",
    "s1.issubset(s2)"
   ]
  },
  {
   "cell_type": "code",
   "execution_count": null,
   "id": "f529c89a",
   "metadata": {
    "hide-output": false
   },
   "outputs": [],
   "source": [
    "s1.intersection(s2)"
   ]
  },
  {
   "cell_type": "markdown",
   "id": "f2981d02",
   "metadata": {},
   "source": [
    "The `set()` function creates sets from sequences"
   ]
  },
  {
   "cell_type": "code",
   "execution_count": null,
   "id": "08d5ccce",
   "metadata": {
    "hide-output": false
   },
   "outputs": [],
   "source": [
    "s3 = set(('foo', 'bar', 'foo'))\n",
    "s3"
   ]
  },
  {
   "cell_type": "markdown",
   "id": "77969375",
   "metadata": {},
   "source": [
    "## Input and Output\n",
    "\n",
    "\n",
    "<a id='index-5'></a>\n",
    "Let’s briefly review reading and writing to text files, starting with writing"
   ]
  },
  {
   "cell_type": "code",
   "execution_count": null,
   "id": "b76a6bec",
   "metadata": {
    "hide-output": false
   },
   "outputs": [],
   "source": [
    "f = open('newfile.txt', 'w')   # Open 'newfile.txt' for writing\n",
    "f.write('Testing\\n')           # Here '\\n' means new line\n",
    "f.write('Testing again')\n",
    "f.close()"
   ]
  },
  {
   "cell_type": "markdown",
   "id": "0479719f",
   "metadata": {},
   "source": [
    "Here\n",
    "\n",
    "- The built-in function `open()` creates a file object for writing to.  \n",
    "- Both `write()` and `close()` are methods of file objects.  \n",
    "\n",
    "\n",
    "Where is this file that we’ve created?\n",
    "\n",
    "Recall that Python maintains a concept of the present working directory (pwd) that can be located from with Jupyter or IPython via"
   ]
  },
  {
   "cell_type": "code",
   "execution_count": null,
   "id": "3ae4f240",
   "metadata": {
    "hide-output": false
   },
   "outputs": [],
   "source": [
    "%pwd"
   ]
  },
  {
   "cell_type": "markdown",
   "id": "46cc4159",
   "metadata": {},
   "source": [
    "If a path is not specified, then this is where Python writes to.\n",
    "\n",
    "We can also use Python to read the contents of `newline.txt` as follows"
   ]
  },
  {
   "cell_type": "code",
   "execution_count": null,
   "id": "f4aa38eb",
   "metadata": {
    "hide-output": false
   },
   "outputs": [],
   "source": [
    "f = open('newfile.txt', 'r')\n",
    "out = f.read()\n",
    "out"
   ]
  },
  {
   "cell_type": "code",
   "execution_count": null,
   "id": "5b7008d9",
   "metadata": {
    "hide-output": false
   },
   "outputs": [],
   "source": [
    "print(out)"
   ]
  },
  {
   "cell_type": "markdown",
   "id": "7740e365",
   "metadata": {},
   "source": [
    "### Paths\n",
    "\n",
    "\n",
    "<a id='index-6'></a>\n",
    "Note that if `newfile.txt` is not in the present working directory then this call to `open()` fails.\n",
    "\n",
    "In this case, you can shift the file to the pwd or specify the [full path](https://en.wikipedia.org/wiki/Path_%28computing%29) to the file"
   ]
  },
  {
   "cell_type": "markdown",
   "id": "8962d7d2",
   "metadata": {
    "hide-output": false
   },
   "source": [
    "```python3\n",
    "f = open('insert_full_path_to_file/newfile.txt', 'r')\n",
    "```\n"
   ]
  },
  {
   "cell_type": "markdown",
   "id": "1513cd48",
   "metadata": {},
   "source": [
    "\n",
    "<a id='iterating-version-1'></a>"
   ]
  },
  {
   "cell_type": "markdown",
   "id": "8395909d",
   "metadata": {},
   "source": [
    "## Iterating\n",
    "\n",
    "\n",
    "<a id='index-7'></a>\n",
    "One of the most important tasks in computing is stepping through a\n",
    "sequence of data and performing a given action.\n",
    "\n",
    "One of Python’s strengths is its simple, flexible interface to this kind of iteration via\n",
    "the `for` loop."
   ]
  },
  {
   "cell_type": "markdown",
   "id": "ea23e908",
   "metadata": {},
   "source": [
    "### Looping over Different Objects\n",
    "\n",
    "Many Python objects are “iterable”, in the sense that they can be looped over.\n",
    "\n",
    "To give an example, let’s write the file us_cities.txt, which lists US cities and their population, to the present working directory.\n",
    "\n",
    "\n",
    "<a id='us-cities-data'></a>"
   ]
  },
  {
   "cell_type": "code",
   "execution_count": null,
   "id": "92d20667",
   "metadata": {
    "hide-output": false
   },
   "outputs": [],
   "source": [
    "%%file us_cities.txt\n",
    "new york: 8244910\n",
    "los angeles: 3819702\n",
    "chicago: 2707120\n",
    "houston: 2145146\n",
    "philadelphia: 1536471\n",
    "phoenix: 1469471\n",
    "san antonio: 1359758\n",
    "san diego: 1326179\n",
    "dallas: 1223229"
   ]
  },
  {
   "cell_type": "markdown",
   "id": "0f7b5c63",
   "metadata": {},
   "source": [
    "Here %%file is an [IPython cell magic](https://ipython.readthedocs.io/en/stable/interactive/magics.html#cell-magics).\n",
    "\n",
    "Suppose that we want to make the information more readable, by capitalizing names and adding commas to mark thousands.\n",
    "\n",
    "The program below reads the data in and makes the conversion:"
   ]
  },
  {
   "cell_type": "code",
   "execution_count": null,
   "id": "03d06923",
   "metadata": {
    "hide-output": false
   },
   "outputs": [],
   "source": [
    "data_file = open('us_cities.txt', 'r')\n",
    "for line in data_file:\n",
    "    city, population = line.split(':')         # Tuple unpacking\n",
    "    city = city.title()                        # Capitalize city names\n",
    "    population = f'{int(population):,}'        # Add commas to numbers\n",
    "    print(city.ljust(15) + population)\n",
    "data_file.close()"
   ]
  },
  {
   "cell_type": "markdown",
   "id": "3bc480ca",
   "metadata": {},
   "source": [
    "Here `format()` is a string method [used for inserting variables into strings](https://docs.python.org/3/library/string.html#formatspec).\n",
    "\n",
    "The reformatting of each line is the result of three different string methods,\n",
    "the details of which can be left till later.\n",
    "\n",
    "The interesting part of this program for us is line 2, which shows that\n",
    "\n",
    "1. The file object `data_file` is iterable, in the sense that it can be placed to the right of `in` within a `for` loop.  \n",
    "1. Iteration steps through each line in the file.  \n",
    "\n",
    "\n",
    "This leads to the clean, convenient syntax shown in our program.\n",
    "\n",
    "Many other kinds of objects are iterable, and we’ll discuss some of them later on."
   ]
  },
  {
   "cell_type": "markdown",
   "id": "b3ae4928",
   "metadata": {},
   "source": [
    "### Looping without Indices\n",
    "\n",
    "One thing you might have noticed is that Python tends to favor looping without explicit indexing.\n",
    "\n",
    "For example,"
   ]
  },
  {
   "cell_type": "code",
   "execution_count": null,
   "id": "30759efc",
   "metadata": {
    "hide-output": false
   },
   "outputs": [],
   "source": [
    "x_values = [1, 2, 3]  # Some iterable x\n",
    "for x in x_values:\n",
    "    print(x * x)"
   ]
  },
  {
   "cell_type": "markdown",
   "id": "cdc60996",
   "metadata": {},
   "source": [
    "is preferred to"
   ]
  },
  {
   "cell_type": "code",
   "execution_count": null,
   "id": "a3303525",
   "metadata": {
    "hide-output": false
   },
   "outputs": [],
   "source": [
    "for i in range(len(x_values)):\n",
    "    print(x_values[i] * x_values[i])"
   ]
  },
  {
   "cell_type": "markdown",
   "id": "8197cabe",
   "metadata": {},
   "source": [
    "When you compare these two alternatives, you can see why the first one is preferred.\n",
    "\n",
    "Python provides some facilities to simplify looping without indices.\n",
    "\n",
    "One is `zip()`, which is used for stepping through pairs from two sequences.\n",
    "\n",
    "For example, try running the following code"
   ]
  },
  {
   "cell_type": "code",
   "execution_count": null,
   "id": "c9d336b6",
   "metadata": {
    "hide-output": false
   },
   "outputs": [],
   "source": [
    "countries = ('Japan', 'Korea', 'China')\n",
    "cities = ('Tokyo', 'Seoul', 'Beijing')\n",
    "for country, city in zip(countries, cities):\n",
    "    print(f'The capital of {country} is {city}')"
   ]
  },
  {
   "cell_type": "markdown",
   "id": "39f7a253",
   "metadata": {},
   "source": [
    "The `zip()` function is also useful for creating dictionaries — for\n",
    "example"
   ]
  },
  {
   "cell_type": "code",
   "execution_count": null,
   "id": "86170e23",
   "metadata": {
    "hide-output": false
   },
   "outputs": [],
   "source": [
    "names = ['Tom', 'John']\n",
    "marks = ['E', 'F']\n",
    "dict(zip(names, marks))"
   ]
  },
  {
   "cell_type": "markdown",
   "id": "ecae7f8b",
   "metadata": {},
   "source": [
    "If we actually need the index from a list, one option is to use `enumerate()`.\n",
    "\n",
    "To understand what `enumerate()` does, consider the following example"
   ]
  },
  {
   "cell_type": "code",
   "execution_count": null,
   "id": "3a8f75ab",
   "metadata": {
    "hide-output": false
   },
   "outputs": [],
   "source": [
    "letter_list = ['a', 'b', 'c']\n",
    "for index, letter in enumerate(letter_list):\n",
    "    print(f\"letter_list[{index}] = '{letter}'\")"
   ]
  },
  {
   "cell_type": "markdown",
   "id": "5c8f0119",
   "metadata": {},
   "source": [
    "### List Comprehensions\n",
    "\n",
    "\n",
    "<a id='index-8'></a>\n",
    "We can also simplify the code for generating the list of random draws considerably by using something called a *list comprehension*.\n",
    "\n",
    "[List comprehensions](https://en.wikipedia.org/wiki/List_comprehension) are an elegant Python tool for creating lists.\n",
    "\n",
    "Consider the following example, where the list comprehension is on the\n",
    "right-hand side of the second line"
   ]
  },
  {
   "cell_type": "code",
   "execution_count": null,
   "id": "c411871f",
   "metadata": {
    "hide-output": false
   },
   "outputs": [],
   "source": [
    "animals = ['dog', 'cat', 'bird']\n",
    "plurals = [animal + 's' for animal in animals]\n",
    "plurals"
   ]
  },
  {
   "cell_type": "markdown",
   "id": "b8f1f08c",
   "metadata": {},
   "source": [
    "Here’s another example"
   ]
  },
  {
   "cell_type": "code",
   "execution_count": null,
   "id": "decf1f8b",
   "metadata": {
    "hide-output": false
   },
   "outputs": [],
   "source": [
    "range(8)"
   ]
  },
  {
   "cell_type": "code",
   "execution_count": null,
   "id": "0fd3ceea",
   "metadata": {
    "hide-output": false
   },
   "outputs": [],
   "source": [
    "doubles = [2 * x for x in range(8)]\n",
    "doubles"
   ]
  },
  {
   "cell_type": "markdown",
   "id": "8bec6d22",
   "metadata": {},
   "source": [
    "## Comparisons and Logical Operators"
   ]
  },
  {
   "cell_type": "markdown",
   "id": "8673fced",
   "metadata": {},
   "source": [
    "### Comparisons\n",
    "\n",
    "\n",
    "<a id='index-9'></a>\n",
    "Many different kinds of expressions evaluate to one of the Boolean values (i.e., `True` or `False`).\n",
    "\n",
    "A common type is comparisons, such as"
   ]
  },
  {
   "cell_type": "code",
   "execution_count": null,
   "id": "e199a551",
   "metadata": {
    "hide-output": false
   },
   "outputs": [],
   "source": [
    "x, y = 1, 2\n",
    "x < y"
   ]
  },
  {
   "cell_type": "code",
   "execution_count": null,
   "id": "88d68763",
   "metadata": {
    "hide-output": false
   },
   "outputs": [],
   "source": [
    "x > y"
   ]
  },
  {
   "cell_type": "markdown",
   "id": "e5921329",
   "metadata": {},
   "source": [
    "One of the nice features of Python is that we can *chain* inequalities"
   ]
  },
  {
   "cell_type": "code",
   "execution_count": null,
   "id": "828ba91b",
   "metadata": {
    "hide-output": false
   },
   "outputs": [],
   "source": [
    "1 < 2 < 3"
   ]
  },
  {
   "cell_type": "code",
   "execution_count": null,
   "id": "c3865d42",
   "metadata": {
    "hide-output": false
   },
   "outputs": [],
   "source": [
    "1 <= 2 <= 3"
   ]
  },
  {
   "cell_type": "markdown",
   "id": "7daf8659",
   "metadata": {},
   "source": [
    "As we saw earlier, when testing for equality we use `==`"
   ]
  },
  {
   "cell_type": "code",
   "execution_count": null,
   "id": "9532b03c",
   "metadata": {
    "hide-output": false
   },
   "outputs": [],
   "source": [
    "x = 1    # Assignment\n",
    "x == 2   # Comparison"
   ]
  },
  {
   "cell_type": "markdown",
   "id": "cfeb14f0",
   "metadata": {},
   "source": [
    "For “not equal” use `!=`"
   ]
  },
  {
   "cell_type": "code",
   "execution_count": null,
   "id": "a397a6ee",
   "metadata": {
    "hide-output": false
   },
   "outputs": [],
   "source": [
    "1 != 2"
   ]
  },
  {
   "cell_type": "markdown",
   "id": "a8dc7a65",
   "metadata": {},
   "source": [
    "Note that when testing conditions, we can use **any** valid Python expression"
   ]
  },
  {
   "cell_type": "code",
   "execution_count": null,
   "id": "02bbe8a6",
   "metadata": {
    "hide-output": false
   },
   "outputs": [],
   "source": [
    "x = 'yes' if 42 else 'no'\n",
    "x"
   ]
  },
  {
   "cell_type": "code",
   "execution_count": null,
   "id": "f4391b9d",
   "metadata": {
    "hide-output": false
   },
   "outputs": [],
   "source": [
    "x = 'yes' if [] else 'no'\n",
    "x"
   ]
  },
  {
   "cell_type": "markdown",
   "id": "0cbc84f5",
   "metadata": {},
   "source": [
    "What’s going on here?\n",
    "\n",
    "The rule is:\n",
    "\n",
    "- Expressions that evaluate to zero, empty sequences or containers (strings, lists, etc.) and `None` are all equivalent to `False`.  \n",
    "  - for example, `[]` and `()` are equivalent to `False` in an `if` clause  \n",
    "- All other values are equivalent to `True`.  \n",
    "  - for example, `42` is equivalent to `True` in an `if` clause  "
   ]
  },
  {
   "cell_type": "markdown",
   "id": "49347d00",
   "metadata": {},
   "source": [
    "### Combining Expressions\n",
    "\n",
    "\n",
    "<a id='index-10'></a>\n",
    "We can combine expressions using `and`, `or` and `not`.\n",
    "\n",
    "These are the standard logical connectives (conjunction, disjunction and denial)"
   ]
  },
  {
   "cell_type": "code",
   "execution_count": null,
   "id": "e8e93a4c",
   "metadata": {
    "hide-output": false
   },
   "outputs": [],
   "source": [
    "1 < 2 and 'f' in 'foo'"
   ]
  },
  {
   "cell_type": "code",
   "execution_count": null,
   "id": "a7e3d10b",
   "metadata": {
    "hide-output": false
   },
   "outputs": [],
   "source": [
    "1 < 2 and 'g' in 'foo'"
   ]
  },
  {
   "cell_type": "code",
   "execution_count": null,
   "id": "7affdeaf",
   "metadata": {
    "hide-output": false
   },
   "outputs": [],
   "source": [
    "1 < 2 or 'g' in 'foo'"
   ]
  },
  {
   "cell_type": "code",
   "execution_count": null,
   "id": "eaed170c",
   "metadata": {
    "hide-output": false
   },
   "outputs": [],
   "source": [
    "not True"
   ]
  },
  {
   "cell_type": "code",
   "execution_count": null,
   "id": "693d4f22",
   "metadata": {
    "hide-output": false
   },
   "outputs": [],
   "source": [
    "not not True"
   ]
  },
  {
   "cell_type": "markdown",
   "id": "ccd8d8bf",
   "metadata": {},
   "source": [
    "Remember\n",
    "\n",
    "- `P and Q` is `True` if both are `True`, else `False`  \n",
    "- `P or Q` is `False` if both are `False`, else `True`  "
   ]
  },
  {
   "cell_type": "markdown",
   "id": "ba668d93",
   "metadata": {},
   "source": [
    "## More Functions\n",
    "\n",
    "\n",
    "<a id='index-11'></a>\n",
    "Let’s talk a bit more about functions, which are all important for good programming style."
   ]
  },
  {
   "cell_type": "markdown",
   "id": "64ad03d8",
   "metadata": {},
   "source": [
    "### The Flexibility of Python Functions\n",
    "\n",
    "As we discussed in the [previous lecture](https://python-programming.quantecon.org/python_by_example.html#python-by-example), Python functions are very flexible.\n",
    "\n",
    "In particular\n",
    "\n",
    "- Any number of functions can be defined in a given file.  \n",
    "- Functions can be (and often are) defined inside other functions.  \n",
    "- Any object can be passed to a function as an argument, including other functions.  \n",
    "- A function can return any kind of object, including functions.  \n",
    "\n",
    "\n",
    "We already [gave an example](https://python-programming.quantecon.org/functions.html#test-program-6) of how straightforward it is to pass a function to\n",
    "a function.\n",
    "\n",
    "Note that a function can have arbitrarily many `return` statements (including zero).\n",
    "\n",
    "Execution of the function terminates when the first return is hit, allowing\n",
    "code like the following example"
   ]
  },
  {
   "cell_type": "code",
   "execution_count": null,
   "id": "5e77c649",
   "metadata": {
    "hide-output": false
   },
   "outputs": [],
   "source": [
    "def f(x):\n",
    "    if x < 0:\n",
    "        return 'negative'\n",
    "    return 'nonnegative'"
   ]
  },
  {
   "cell_type": "markdown",
   "id": "1f4fd2ef",
   "metadata": {},
   "source": [
    "Functions without a return statement automatically return the special Python object `None`."
   ]
  },
  {
   "cell_type": "markdown",
   "id": "e9510b7f",
   "metadata": {},
   "source": [
    "### Docstrings\n",
    "\n",
    "\n",
    "<a id='index-12'></a>\n",
    "Python has a system for adding comments to functions, modules, etc. called *docstrings*.\n",
    "\n",
    "The nice thing about docstrings is that they are available at run-time.\n",
    "\n",
    "Try running this"
   ]
  },
  {
   "cell_type": "code",
   "execution_count": null,
   "id": "59eb8d06",
   "metadata": {
    "hide-output": false
   },
   "outputs": [],
   "source": [
    "def f(x):\n",
    "    \"\"\"\n",
    "    This function squares its argument\n",
    "    \"\"\"\n",
    "    return x**2"
   ]
  },
  {
   "cell_type": "markdown",
   "id": "3b6c6589",
   "metadata": {},
   "source": [
    "After running this code, the docstring is available"
   ]
  },
  {
   "cell_type": "code",
   "execution_count": null,
   "id": "f5d5d80a",
   "metadata": {
    "hide-output": false
   },
   "outputs": [],
   "source": [
    "f?"
   ]
  },
  {
   "cell_type": "markdown",
   "id": "c8983e36",
   "metadata": {
    "hide-output": false
   },
   "source": [
    "```ipython\n",
    "Type:       function\n",
    "String Form:<function f at 0x2223320>\n",
    "File:       /home/john/temp/temp.py\n",
    "Definition: f(x)\n",
    "Docstring:  This function squares its argument\n",
    "```\n"
   ]
  },
  {
   "cell_type": "code",
   "execution_count": null,
   "id": "ecfdd8d9",
   "metadata": {
    "hide-output": false
   },
   "outputs": [],
   "source": [
    "f??"
   ]
  },
  {
   "cell_type": "markdown",
   "id": "afb907fa",
   "metadata": {
    "hide-output": false
   },
   "source": [
    "```ipython\n",
    "Type:       function\n",
    "String Form:<function f at 0x2223320>\n",
    "File:       /home/john/temp/temp.py\n",
    "Definition: f(x)\n",
    "Source:\n",
    "def f(x):\n",
    "    \"\"\"\n",
    "    This function squares its argument\n",
    "    \"\"\"\n",
    "    return x**2\n",
    "```\n"
   ]
  },
  {
   "cell_type": "markdown",
   "id": "1d070bfd",
   "metadata": {},
   "source": [
    "With one question mark we bring up the docstring, and with two we get the source code as well."
   ]
  },
  {
   "cell_type": "markdown",
   "id": "3e571e9e",
   "metadata": {},
   "source": [
    "### One-Line Functions: `lambda`\n",
    "\n",
    "\n",
    "<a id='index-13'></a>\n",
    "The `lambda` keyword is used to create simple functions on one line.\n",
    "\n",
    "For example, the definitions"
   ]
  },
  {
   "cell_type": "code",
   "execution_count": null,
   "id": "3cc09f92",
   "metadata": {
    "hide-output": false
   },
   "outputs": [],
   "source": [
    "def f(x):\n",
    "    return x**3"
   ]
  },
  {
   "cell_type": "markdown",
   "id": "07d67e0a",
   "metadata": {},
   "source": [
    "and"
   ]
  },
  {
   "cell_type": "code",
   "execution_count": null,
   "id": "b733f60e",
   "metadata": {
    "hide-output": false
   },
   "outputs": [],
   "source": [
    "f = lambda x: x**3"
   ]
  },
  {
   "cell_type": "markdown",
   "id": "d47bb8ad",
   "metadata": {},
   "source": [
    "are entirely equivalent.\n",
    "\n",
    "To see why `lambda` is useful, suppose that we want to calculate $ \\int_0^2 x^3 dx $ (and have forgotten our high-school calculus).\n",
    "\n",
    "The SciPy library has a function called `quad` that will do this calculation for us.\n",
    "\n",
    "The syntax of the `quad` function is `quad(f, a, b)` where `f` is a function and `a` and `b` are numbers.\n",
    "\n",
    "To create the function $ f(x) = x^3 $ we can use `lambda` as follows"
   ]
  },
  {
   "cell_type": "code",
   "execution_count": null,
   "id": "7b786a06",
   "metadata": {
    "hide-output": false
   },
   "outputs": [],
   "source": [
    "from scipy.integrate import quad\n",
    "\n",
    "quad(lambda x: x**3, 0, 2)"
   ]
  },
  {
   "cell_type": "markdown",
   "id": "e7a64603",
   "metadata": {},
   "source": [
    "Here the function created by `lambda` is said to be *anonymous* because it was never given a name."
   ]
  },
  {
   "cell_type": "markdown",
   "id": "b256be4c",
   "metadata": {},
   "source": [
    "### Keyword Arguments\n",
    "\n",
    "\n",
    "<a id='index-14'></a>\n",
    "In a [previous lecture](https://python-programming.quantecon.org/python_by_example.html#python-by-example), you came across the statement"
   ]
  },
  {
   "cell_type": "markdown",
   "id": "b5030beb",
   "metadata": {
    "hide-output": false
   },
   "source": [
    "```python3\n",
    "plt.plot(x, 'b-', label=\"white noise\")\n",
    "```\n"
   ]
  },
  {
   "cell_type": "markdown",
   "id": "3b38ece3",
   "metadata": {},
   "source": [
    "In this call to Matplotlib’s `plot` function, notice that the last argument is passed in `name=argument` syntax.\n",
    "\n",
    "This is called a *keyword argument*, with `label` being the keyword.\n",
    "\n",
    "Non-keyword arguments are called *positional arguments*, since their meaning\n",
    "is determined by order\n",
    "\n",
    "- `plot(x, 'b-', label=\"white noise\")` is different from `plot('b-', x, label=\"white noise\")`  \n",
    "\n",
    "\n",
    "Keyword arguments are particularly useful when a function has a lot of arguments, in which case it’s hard to remember the right order.\n",
    "\n",
    "You can adopt keyword arguments in user-defined functions with no difficulty.\n",
    "\n",
    "The next example illustrates the syntax"
   ]
  },
  {
   "cell_type": "code",
   "execution_count": null,
   "id": "569105ad",
   "metadata": {
    "hide-output": false
   },
   "outputs": [],
   "source": [
    "def f(x, a=1, b=1):\n",
    "    return a + b * x"
   ]
  },
  {
   "cell_type": "markdown",
   "id": "e844f2ad",
   "metadata": {},
   "source": [
    "The keyword argument values we supplied in the definition of `f` become the default values"
   ]
  },
  {
   "cell_type": "code",
   "execution_count": null,
   "id": "1c777557",
   "metadata": {
    "hide-output": false
   },
   "outputs": [],
   "source": [
    "f(2)"
   ]
  },
  {
   "cell_type": "markdown",
   "id": "1bf0fe5e",
   "metadata": {},
   "source": [
    "They can be modified as follows"
   ]
  },
  {
   "cell_type": "code",
   "execution_count": null,
   "id": "8669171e",
   "metadata": {
    "hide-output": false
   },
   "outputs": [],
   "source": [
    "f(2, a=4, b=5)"
   ]
  },
  {
   "cell_type": "markdown",
   "id": "93449347",
   "metadata": {},
   "source": [
    "## Coding Style and PEP8\n",
    "\n",
    "\n",
    "<a id='index-15'></a>\n",
    "To learn more about the Python programming philosophy type `import this` at the prompt.\n",
    "\n",
    "Among other things, Python strongly favors consistency in programming style.\n",
    "\n",
    "We’ve all heard the saying about consistency and little minds.\n",
    "\n",
    "In programming, as in mathematics, the opposite is true\n",
    "\n",
    "- A mathematical paper where the symbols $ \\cup $ and $ \\cap $ were\n",
    "  reversed would be very hard to read, even if the author told you so on the\n",
    "  first page.  \n",
    "\n",
    "\n",
    "In Python, the standard style is set out in [PEP8](https://www.python.org/dev/peps/pep-0008/).\n",
    "\n",
    "(Occasionally we’ll deviate from PEP8 in these lectures to better match mathematical notation)"
   ]
  },
  {
   "cell_type": "markdown",
   "id": "2ccb6777",
   "metadata": {},
   "source": [
    "## Exercises\n",
    "\n",
    "Solve the following exercises.\n",
    "\n",
    "(For some, the built-in function `sum()` comes in handy).\n",
    "\n",
    "\n",
    "<a id='pyess-ex1'></a>"
   ]
  },
  {
   "cell_type": "markdown",
   "id": "31a9e1d6",
   "metadata": {},
   "source": [
    "### Exercise 1\n",
    "\n",
    "Part 1: Given two numeric lists or tuples `x_vals` and `y_vals` of equal length, compute\n",
    "their inner product using `zip()`.\n",
    "\n",
    "Part 2: In one line, count the number of even numbers in 0,…,99.\n",
    "\n",
    "- Hint: `x % 2` returns 0 if `x` is even, 1 otherwise.  \n",
    "\n",
    "\n",
    "Part 3: Given `pairs = ((2, 5), (4, 2), (9, 8), (12, 10))`, count the number of pairs `(a, b)`\n",
    "such that both `a` and `b` are even.\n",
    "\n",
    "\n",
    "<a id='pyess-ex2'></a>"
   ]
  },
  {
   "cell_type": "markdown",
   "id": "eea976fe",
   "metadata": {},
   "source": [
    "### Exercise 2\n",
    "\n",
    "Consider the polynomial\n",
    "\n",
    "\n",
    "<a id='equation-polynom0'></a>\n",
    "$$\n",
    "p(x)\n",
    "= a_0 + a_1 x + a_2 x^2 + \\cdots a_n x^n\n",
    "= \\sum_{i=0}^n a_i x^i \\tag{5.1}\n",
    "$$\n",
    "\n",
    "Write a function `p` such that `p(x, coeff)` that computes the value in [(5.1)](#equation-polynom0) given a point `x` and a list of coefficients `coeff`.\n",
    "\n",
    "Try to use `enumerate()` in your loop.\n",
    "\n",
    "\n",
    "<a id='pyess-ex3'></a>"
   ]
  },
  {
   "cell_type": "markdown",
   "id": "fd87b4b0",
   "metadata": {},
   "source": [
    "### Exercise 3\n",
    "\n",
    "Write a function that takes a string as an argument and returns the number of capital letters in the string.\n",
    "\n",
    "Hint: `'foo'.upper()` returns `'FOO'`.\n",
    "\n",
    "\n",
    "<a id='pyess-ex4'></a>"
   ]
  },
  {
   "cell_type": "markdown",
   "id": "b48b7131",
   "metadata": {},
   "source": [
    "### Exercise 4\n",
    "\n",
    "Write a function that takes two sequences `seq_a` and `seq_b` as arguments and\n",
    "returns `True` if every element in `seq_a` is also an element of `seq_b`, else\n",
    "`False`.\n",
    "\n",
    "- By “sequence” we mean a list, a tuple or a string.  \n",
    "- Do the exercise without using [sets](https://docs.python.org/3/tutorial/datastructures.html#sets) and set methods.  \n",
    "\n",
    "\n",
    "\n",
    "<a id='pyess-ex5'></a>"
   ]
  },
  {
   "cell_type": "markdown",
   "id": "3eeb10e9",
   "metadata": {},
   "source": [
    "### Exercise 5\n",
    "\n",
    "When we cover the numerical libraries, we will see they include many\n",
    "alternatives for interpolation and function approximation.\n",
    "\n",
    "Nevertheless, let’s write our own function approximation routine as an exercise.\n",
    "\n",
    "In particular, without using any imports, write a function `linapprox` that takes as arguments\n",
    "\n",
    "- A function `f` mapping some interval $ [a, b] $ into $ \\mathbb R $.  \n",
    "- Two scalars `a` and `b` providing the limits of this interval.  \n",
    "- An integer `n` determining the number of grid points.  \n",
    "- A number `x` satisfying `a <= x <= b`.  \n",
    "\n",
    "\n",
    "and returns the [piecewise linear interpolation](https://en.wikipedia.org/wiki/Linear_interpolation) of `f` at `x`, based on `n` evenly spaced grid points `a = point[0] < point[1] < ... < point[n-1] = b`.\n",
    "\n",
    "Aim for clarity, not efficiency."
   ]
  },
  {
   "cell_type": "markdown",
   "id": "6ca6319d",
   "metadata": {},
   "source": [
    "### Exercise 6\n",
    "\n",
    "Using list comprehension syntax, we can simplify the loop in the following\n",
    "code."
   ]
  },
  {
   "cell_type": "code",
   "execution_count": null,
   "id": "9f877ade",
   "metadata": {
    "hide-output": false
   },
   "outputs": [],
   "source": [
    "import numpy as np\n",
    "\n",
    "n = 100\n",
    "ϵ_values = []\n",
    "for i in range(n):\n",
    "    e = np.random.randn()\n",
    "    ϵ_values.append(e)"
   ]
  },
  {
   "cell_type": "markdown",
   "id": "a583f936",
   "metadata": {},
   "source": [
    "## Solutions"
   ]
  },
  {
   "cell_type": "markdown",
   "id": "0def3b1b",
   "metadata": {},
   "source": [
    "### Exercise 1"
   ]
  },
  {
   "cell_type": "markdown",
   "id": "8857c113",
   "metadata": {},
   "source": [
    "#### Part 1 Solution:\n",
    "\n",
    "Here’s one possible solution"
   ]
  },
  {
   "cell_type": "code",
   "execution_count": null,
   "id": "faf8a93d",
   "metadata": {
    "hide-output": false
   },
   "outputs": [],
   "source": [
    "x_vals = [1, 2, 3]\n",
    "y_vals = [1, 1, 1]\n",
    "sum([x * y for x, y in zip(x_vals, y_vals)])"
   ]
  },
  {
   "cell_type": "markdown",
   "id": "12b9234f",
   "metadata": {},
   "source": [
    "This also works"
   ]
  },
  {
   "cell_type": "code",
   "execution_count": null,
   "id": "b33903ef",
   "metadata": {
    "hide-output": false
   },
   "outputs": [],
   "source": [
    "sum(x * y for x, y in zip(x_vals, y_vals))"
   ]
  },
  {
   "cell_type": "markdown",
   "id": "9387be2d",
   "metadata": {},
   "source": [
    "#### Part 2 Solution:\n",
    "\n",
    "One solution is"
   ]
  },
  {
   "cell_type": "code",
   "execution_count": null,
   "id": "15ffff65",
   "metadata": {
    "hide-output": false
   },
   "outputs": [],
   "source": [
    "sum([x % 2 == 0 for x in range(100)])"
   ]
  },
  {
   "cell_type": "markdown",
   "id": "3f77cdb8",
   "metadata": {},
   "source": [
    "This also works:"
   ]
  },
  {
   "cell_type": "code",
   "execution_count": null,
   "id": "a7fb20ba",
   "metadata": {
    "hide-output": false
   },
   "outputs": [],
   "source": [
    "sum(x % 2 == 0 for x in range(100))"
   ]
  },
  {
   "cell_type": "markdown",
   "id": "c26d92f9",
   "metadata": {},
   "source": [
    "Some less natural alternatives that nonetheless help to illustrate the\n",
    "flexibility of list comprehensions are"
   ]
  },
  {
   "cell_type": "code",
   "execution_count": null,
   "id": "0a0ba27f",
   "metadata": {
    "hide-output": false
   },
   "outputs": [],
   "source": [
    "len([x for x in range(100) if x % 2 == 0])"
   ]
  },
  {
   "cell_type": "markdown",
   "id": "29d39935",
   "metadata": {},
   "source": [
    "and"
   ]
  },
  {
   "cell_type": "code",
   "execution_count": null,
   "id": "3b56d954",
   "metadata": {
    "hide-output": false
   },
   "outputs": [],
   "source": [
    "sum([1 for x in range(100) if x % 2 == 0])"
   ]
  },
  {
   "cell_type": "markdown",
   "id": "894a8ad9",
   "metadata": {},
   "source": [
    "#### Part 3 Solution\n",
    "\n",
    "Here’s one possibility"
   ]
  },
  {
   "cell_type": "code",
   "execution_count": null,
   "id": "45a34968",
   "metadata": {
    "hide-output": false
   },
   "outputs": [],
   "source": [
    "pairs = ((2, 5), (4, 2), (9, 8), (12, 10))\n",
    "sum([x % 2 == 0 and y % 2 == 0 for x, y in pairs])"
   ]
  },
  {
   "cell_type": "markdown",
   "id": "2a3ab8a9",
   "metadata": {},
   "source": [
    "### Exercise 2"
   ]
  },
  {
   "cell_type": "code",
   "execution_count": null,
   "id": "cb292ce9",
   "metadata": {
    "hide-output": false
   },
   "outputs": [],
   "source": [
    "def p(x, coeff):\n",
    "    return sum(a * x**i for i, a in enumerate(coeff))"
   ]
  },
  {
   "cell_type": "code",
   "execution_count": null,
   "id": "9425ddbe",
   "metadata": {
    "hide-output": false
   },
   "outputs": [],
   "source": [
    "p(1, (2, 4))"
   ]
  },
  {
   "cell_type": "markdown",
   "id": "1da14b6a",
   "metadata": {},
   "source": [
    "### Exercise 3\n",
    "\n",
    "Here’s one solution:"
   ]
  },
  {
   "cell_type": "code",
   "execution_count": null,
   "id": "59cfa969",
   "metadata": {
    "hide-output": false
   },
   "outputs": [],
   "source": [
    "def f(string):\n",
    "    count = 0\n",
    "    for letter in string:\n",
    "        if letter == letter.upper() and letter.isalpha():\n",
    "            count += 1\n",
    "    return count\n",
    "\n",
    "f('The Rain in Spain')"
   ]
  },
  {
   "cell_type": "markdown",
   "id": "40ae3104",
   "metadata": {},
   "source": [
    "An alternative, more pythonic solution:"
   ]
  },
  {
   "cell_type": "code",
   "execution_count": null,
   "id": "2cb3959d",
   "metadata": {
    "hide-output": false
   },
   "outputs": [],
   "source": [
    "def count_uppercase_chars(s):\n",
    "    return sum([c.isupper() for c in s])\n",
    "\n",
    "count_uppercase_chars('The Rain in Spain')"
   ]
  },
  {
   "cell_type": "markdown",
   "id": "b53be2e8",
   "metadata": {},
   "source": [
    "### Exercise 4\n",
    "\n",
    "Here’s a solution:"
   ]
  },
  {
   "cell_type": "code",
   "execution_count": null,
   "id": "d8ea0656",
   "metadata": {
    "hide-output": false
   },
   "outputs": [],
   "source": [
    "def f(seq_a, seq_b):\n",
    "    is_subset = True\n",
    "    for a in seq_a:\n",
    "        if a not in seq_b:\n",
    "            is_subset = False\n",
    "    return is_subset\n",
    "\n",
    "# == test == #\n",
    "\n",
    "print(f([1, 2], [1, 2, 3]))\n",
    "print(f([1, 2, 3], [1, 2]))"
   ]
  },
  {
   "cell_type": "markdown",
   "id": "998d56cf",
   "metadata": {},
   "source": [
    "Of course, if we use the `sets` data type then the solution is easier"
   ]
  },
  {
   "cell_type": "code",
   "execution_count": null,
   "id": "06d41b81",
   "metadata": {
    "hide-output": false
   },
   "outputs": [],
   "source": [
    "def f(seq_a, seq_b):\n",
    "    return set(seq_a).issubset(set(seq_b))"
   ]
  },
  {
   "cell_type": "markdown",
   "id": "6c1a8021",
   "metadata": {},
   "source": [
    "### Exercise 5"
   ]
  },
  {
   "cell_type": "code",
   "execution_count": null,
   "id": "fdd8cfc1",
   "metadata": {
    "hide-output": false
   },
   "outputs": [],
   "source": [
    "def linapprox(f, a, b, n, x):\n",
    "    \"\"\"\n",
    "    Evaluates the piecewise linear interpolant of f at x on the interval\n",
    "    [a, b], with n evenly spaced grid points.\n",
    "\n",
    "    Parameters\n",
    "    ==========\n",
    "        f : function\n",
    "            The function to approximate\n",
    "\n",
    "        x, a, b : scalars (floats or integers)\n",
    "            Evaluation point and endpoints, with a <= x <= b\n",
    "\n",
    "        n : integer\n",
    "            Number of grid points\n",
    "\n",
    "    Returns\n",
    "    =======\n",
    "        A float. The interpolant evaluated at x\n",
    "\n",
    "    \"\"\"\n",
    "    length_of_interval = b - a\n",
    "    num_subintervals = n - 1\n",
    "    step = length_of_interval / num_subintervals\n",
    "\n",
    "    # === find first grid point larger than x === #\n",
    "    point = a\n",
    "    while point <= x:\n",
    "        point += step\n",
    "\n",
    "    # === x must lie between the gridpoints (point - step) and point === #\n",
    "    u, v = point - step, point\n",
    "\n",
    "    return f(u) + (x - u) * (f(v) - f(u)) / (v - u)"
   ]
  },
  {
   "cell_type": "markdown",
   "id": "50abded0",
   "metadata": {},
   "source": [
    "### Exercise 6\n",
    "\n",
    "Here’s one solution."
   ]
  },
  {
   "cell_type": "code",
   "execution_count": null,
   "id": "b871a9a5",
   "metadata": {
    "hide-output": false
   },
   "outputs": [],
   "source": [
    "n = 100\n",
    "ϵ_values = [np.random.randn() for i in range(n)]"
   ]
  }
 ],
 "metadata": {
  "date": 1637311025.9061742,
  "filename": "python_essentials.md",
  "kernelspec": {
   "display_name": "Python",
   "language": "python3",
   "name": "python3"
  },
  "title": "Python Essentials"
 },
 "nbformat": 4,
 "nbformat_minor": 5
}