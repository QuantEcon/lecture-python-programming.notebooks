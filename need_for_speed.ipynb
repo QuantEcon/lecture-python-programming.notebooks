{
 "cells": [
  {
   "cell_type": "markdown",
   "id": "b21681de",
   "metadata": {},
   "source": [
    "\n",
    "<a id='speed'></a>\n",
    "<div id=\"qe-notebook-header\" align=\"right\" style=\"text-align:right;\">\n",
    "        <a href=\"https://quantecon.org/\" title=\"quantecon.org\">\n",
    "                <img style=\"width:250px;display:inline;\" width=\"250px\" src=\"https://assets.quantecon.org/img/qe-menubar-logo.svg\" alt=\"QuantEcon\">\n",
    "        </a>\n",
    "</div>"
   ]
  },
  {
   "cell_type": "markdown",
   "id": "85c5a177",
   "metadata": {},
   "source": [
    "# Python for Scientific Computing\n",
    "\n",
    "> “We should forget about small efficiencies, say about 97% of the time:\n",
    "> premature optimization is the root of all evil.” – Donald Knuth"
   ]
  },
  {
   "cell_type": "markdown",
   "id": "a21444dc",
   "metadata": {},
   "source": [
    "## Overview\n",
    "\n",
    "Python is popular for scientific computing due to factors such as\n",
    "\n",
    "- the accessible and expressive nature of the language itself,  \n",
    "- the huge range of high quality scientific libraries,  \n",
    "- the fact that the language and libraries are open source,  \n",
    "- the popular [Anaconda Python distribution](https://www.anaconda.com/download), which simplifies installation and management of scientific libraries, and  \n",
    "- the key role that Python plays in data science, machine learning and artificial intelligence.  \n",
    "\n",
    "\n",
    "In previous lectures, we looked at some scientific Python libraries such as NumPy and Matplotlib.\n",
    "\n",
    "However, our main focus was the core Python language, rather than the libraries.\n",
    "\n",
    "Now we turn to the scientific libraries and give them our full attention.\n",
    "\n",
    "We’ll also discuss the following topics:\n",
    "\n",
    "- What are the relative strengths and weaknesses of Python for scientific work?  \n",
    "- What are the main elements of the scientific Python ecosystem?  \n",
    "- How is the situation changing over time?  \n",
    "\n",
    "\n",
    "In addition to what’s in Anaconda, this lecture will need"
   ]
  },
  {
   "cell_type": "code",
   "execution_count": null,
   "id": "42a90484",
   "metadata": {
    "hide-output": false
   },
   "outputs": [],
   "source": [
    "!pip install quantecon"
   ]
  },
  {
   "cell_type": "markdown",
   "id": "af315ab2",
   "metadata": {},
   "source": [
    "## Scientific Libraries\n",
    "\n",
    "Let’s briefly review Python’s scientific libraries, starting with why we need them."
   ]
  },
  {
   "cell_type": "markdown",
   "id": "6ad2dda6",
   "metadata": {},
   "source": [
    "### The Role of Scientific Libraries\n",
    "\n",
    "One reason we use scientific libraries is because they implement routines we want to use.\n",
    "\n",
    "- numerical integration, interpolation, linear algebra, root finding, etc.  \n",
    "\n",
    "\n",
    "For example, it’s almost always better to use an existing routine for root finding than to write a new one from scratch.\n",
    "\n",
    "(For standard algorithms, efficiency is maximized if the community can\n",
    "coordinate on a common set of implementations, written by experts and tuned by\n",
    "users to be as fast and robust as possible.)\n",
    "\n",
    "But this is not the only reason that we use Python’s scientific libraries.\n",
    "\n",
    "Another is that pure Python, while flexible and elegant, is not fast.\n",
    "\n",
    "So we need libraries that are designed to accelerate execution of Python code.\n",
    "\n",
    "They do this using two strategies:\n",
    "\n",
    "1. using compilers that convert Python-like statements into fast machine code for individual threads of logic and  \n",
    "1. parallelizing tasks across multiple “workers” (e.g., CPUs, individual threads inside GPUs).  \n",
    "\n",
    "\n",
    "There are several Python libraries that can do this extremely well."
   ]
  },
  {
   "cell_type": "markdown",
   "id": "46722a65",
   "metadata": {},
   "source": [
    "### Python’s Scientific Ecosystem\n",
    "\n",
    "At QuantEcon, the scientific libraries we use most often are\n",
    "\n",
    "- [NumPy](https://numpy.org/)  \n",
    "- [SciPy](https://scipy.org/)  \n",
    "- [Matplotlib](https://matplotlib.org/)  \n",
    "- [JAX](https://github.com/jax-ml/jax)  \n",
    "- [Pandas](https://pandas.pydata.org/)  \n",
    "- [Numba](https://numba.pydata.org/) and  \n",
    "\n",
    "\n",
    "Here’s how they fit together:\n",
    "\n",
    "- NumPy forms foundations by providing a basic array data type (think of\n",
    "  vectors and matrices) and functions for acting on these arrays (e.g., matrix\n",
    "  multiplication).  \n",
    "- SciPy builds on NumPy by adding numerical methods routinely used in science (interpolation, optimization, root finding, etc.).  \n",
    "- Matplotlib is used to generate figures, with a focus on plotting data stored in NumPy arrays.  \n",
    "- JAX includes array processing operations similar to NumPy, automatic\n",
    "  differentiation, a parallelization-centric just-in-time compiler, and automated integration with hardware accelerators such as\n",
    "  GPUs.  \n",
    "- Pandas provides types and functions for manipulating data.  \n",
    "- Numba provides a just-in-time compiler that plays well with NumPy and helps accelerate Python code.  "
   ]
  },
  {
   "cell_type": "markdown",
   "id": "6d774cb4",
   "metadata": {},
   "source": [
    "## The Need for Speed\n",
    "\n",
    "Let’s discuss execution speed and how scientific libraries can help us accelerate code.\n",
    "\n",
    "Higher-level languages like Python  are optimized for humans.\n",
    "\n",
    "This means that the programmer can leave many details to the runtime environment\n",
    "\n",
    "- specifying variable types  \n",
    "- memory allocation/deallocation, etc.  \n",
    "\n",
    "\n",
    "On one hand, compared to low-level languages, high-level languages are typically faster to write, less error-prone and  easier to debug.\n",
    "\n",
    "On the other hand, high-level languages are harder to optimize — that is, to turn into fast machine code — than languages like C or Fortran.\n",
    "\n",
    "Indeed, the standard implementation of Python (called CPython) cannot match the speed of compiled languages such as C or Fortran.\n",
    "\n",
    "Does that mean that we should just switch to C or Fortran for everything?\n",
    "\n",
    "The answer is: No!\n",
    "\n",
    "There are three reasons why:\n",
    "\n",
    "First, for any given program, relatively few lines are ever going to be time-critical.\n",
    "\n",
    "Hence it is far more efficient to write most of our code in a high productivity language like Python.\n",
    "\n",
    "Second, even for those lines of code that *are* time-critical, we can now achieve the same speed as C or Fortran using Python’s scientific libraries.\n",
    "\n",
    "Third, in the last few years, accelerating code has become essentially\n",
    "synonymous with parallelizing execution, and this task is best left to\n",
    "specialized compilers.\n",
    "\n",
    "Certain Python libraries have outstanding capabilities for parallelizing\n",
    "scientific code – we’ll discuss this more as we go along."
   ]
  },
  {
   "cell_type": "markdown",
   "id": "af31230b",
   "metadata": {},
   "source": [
    "### Where are the Bottlenecks?\n",
    "\n",
    "Before we do so, let’s try to understand why plain vanilla Python is slower than C or Fortran.\n",
    "\n",
    "This will, in turn, help us figure out how to speed things up.\n",
    "\n",
    "In reading the following, remember that the Python interpreter executes code line-by-line."
   ]
  },
  {
   "cell_type": "markdown",
   "id": "c564f0bd",
   "metadata": {},
   "source": [
    "#### Dynamic Typing\n",
    "\n",
    "\n",
    "<a id='index-0'></a>\n",
    "Consider this Python operation"
   ]
  },
  {
   "cell_type": "code",
   "execution_count": null,
   "id": "1138952c",
   "metadata": {
    "hide-output": false
   },
   "outputs": [],
   "source": [
    "a, b = 10, 10\n",
    "a + b"
   ]
  },
  {
   "cell_type": "markdown",
   "id": "ce6eafb5",
   "metadata": {},
   "source": [
    "Even for this simple operation, the Python interpreter has a fair bit of work to do.\n",
    "\n",
    "For example, in the statement `a + b`, the interpreter has to know which\n",
    "operation to invoke.\n",
    "\n",
    "If `a` and `b` are strings, then `a + b` requires string concatenation"
   ]
  },
  {
   "cell_type": "code",
   "execution_count": null,
   "id": "4f537a4e",
   "metadata": {
    "hide-output": false
   },
   "outputs": [],
   "source": [
    "a, b = 'foo', 'bar'\n",
    "a + b"
   ]
  },
  {
   "cell_type": "markdown",
   "id": "b5fd077e",
   "metadata": {},
   "source": [
    "If `a` and `b` are lists, then `a + b` requires list concatenation"
   ]
  },
  {
   "cell_type": "code",
   "execution_count": null,
   "id": "3bf2e389",
   "metadata": {
    "hide-output": false
   },
   "outputs": [],
   "source": [
    "a, b = ['foo'], ['bar']\n",
    "a + b"
   ]
  },
  {
   "cell_type": "markdown",
   "id": "2aeae80a",
   "metadata": {},
   "source": [
    "(We say that the operator `+` is *overloaded* — its action depends on the\n",
    "type of the objects on which it acts)\n",
    "\n",
    "As a result, when executing `a + b`, Python must first check the type of the objects and then call the correct operation.\n",
    "\n",
    "This involves substantial overheads."
   ]
  },
  {
   "cell_type": "markdown",
   "id": "f319e0e5",
   "metadata": {},
   "source": [
    "#### Static Types\n",
    "\n",
    "\n",
    "<a id='index-1'></a>\n",
    "Compiled languages avoid these overheads with explicit, static types.\n",
    "\n",
    "For example, consider the following C code, which sums the integers from 1 to 10"
   ]
  },
  {
   "cell_type": "markdown",
   "id": "2aa359e4",
   "metadata": {
    "hide-output": false
   },
   "source": [
    "```c\n",
    "#include <stdio.h>\n",
    "\n",
    "int main(void) {\n",
    "    int i;\n",
    "    int sum = 0;\n",
    "    for (i = 1; i <= 10; i++) {\n",
    "        sum = sum + i;\n",
    "    }\n",
    "    printf(\"sum = %d\\n\", sum);\n",
    "    return 0;\n",
    "}\n",
    "```\n"
   ]
  },
  {
   "cell_type": "markdown",
   "id": "fb6a8beb",
   "metadata": {},
   "source": [
    "The variables `i` and `sum` are explicitly declared to be integers.\n",
    "\n",
    "Hence, the meaning of addition here is completely unambiguous."
   ]
  },
  {
   "cell_type": "markdown",
   "id": "8794e434",
   "metadata": {},
   "source": [
    "### Data Access\n",
    "\n",
    "Another drag on speed for high-level languages is data access.\n",
    "\n",
    "To illustrate, let’s consider the problem of summing some data — say, a collection of integers."
   ]
  },
  {
   "cell_type": "markdown",
   "id": "cd2f6bd9",
   "metadata": {},
   "source": [
    "#### Summing with Compiled Code\n",
    "\n",
    "In C or Fortran, these integers would typically be stored in an array, which\n",
    "is a simple data structure for storing homogeneous data.\n",
    "\n",
    "Such an array is stored in a single contiguous block of memory\n",
    "\n",
    "- In modern computers, memory addresses are allocated to each byte (one byte = 8 bits).  \n",
    "- For example, a 64 bit integer is stored in 8 bytes of memory.  \n",
    "- An array of $ n $ such integers occupies $ 8n $ **consecutive** memory slots.  \n",
    "\n",
    "\n",
    "Moreover, the compiler is made aware of the data type by the programmer.\n",
    "\n",
    "- In this case 64 bit integers  \n",
    "\n",
    "\n",
    "Hence, each successive data point can be accessed by shifting forward in memory\n",
    "space by a known and fixed amount.\n",
    "\n",
    "- In this case 8 bytes  "
   ]
  },
  {
   "cell_type": "markdown",
   "id": "5184eba9",
   "metadata": {},
   "source": [
    "#### Summing in Pure Python\n",
    "\n",
    "Python tries to replicate these ideas to some degree.\n",
    "\n",
    "For example, in the standard Python implementation (CPython), list elements are placed in memory locations that are in a sense contiguous.\n",
    "\n",
    "However, these list elements are more like pointers to data rather than actual data.\n",
    "\n",
    "Hence, there is still overhead involved in accessing the data values themselves.\n",
    "\n",
    "This is a considerable drag on speed.\n",
    "\n",
    "In fact, it’s generally true that memory traffic is a major culprit when it comes to slow execution.\n",
    "\n",
    "Let’s look at some ways around these problems."
   ]
  },
  {
   "cell_type": "markdown",
   "id": "349571fc",
   "metadata": {},
   "source": [
    "## Vectorization\n",
    "\n",
    "\n",
    "<a id='index-3'></a>\n",
    "One method for avoiding memory traffic and type checking is [array programming](https://en.wikipedia.org/wiki/Array_programming).\n",
    "\n",
    "Economists usually refer to array programming as ``vectorization.’’\n",
    "\n",
    "(In computer science, this term has [a slightly different meaning](https://en.wikipedia.org/wiki/Automatic_vectorization).)\n",
    "\n",
    "The key idea is to send array processing operations in batch to pre-compiled\n",
    "and efficient native machine code.\n",
    "\n",
    "The machine code itself is typically compiled from carefully optimized C or Fortran.\n",
    "\n",
    "For example, when working in a high level language, the operation of inverting a\n",
    "large matrix can be subcontracted to efficient machine code that is pre-compiled\n",
    "for this purpose and supplied to users as part of a package.\n",
    "\n",
    "This idea dates back to MATLAB, which uses vectorization extensively.\n",
    "\n",
    "![https://python-programming.quantecon.org/_static/lecture_specific/need_for_speed/matlab.png](https://python-programming.quantecon.org/_static/lecture_specific/need_for_speed/matlab.png)\n",
    "\n",
    "  \n",
    "Vectorization can greatly accelerate many numerical computations, as we will see\n",
    "in later lectures.\n",
    "\n",
    "\n",
    "<a id='numba-p-c-vectorization'></a>"
   ]
  },
  {
   "cell_type": "markdown",
   "id": "e947aafe",
   "metadata": {},
   "source": [
    "## Beyond Vectorization\n",
    "\n",
    "At best, vectorization yields fast, simple code.\n",
    "\n",
    "However, it’s not without disadvantages.\n",
    "\n",
    "One issue is that it can be highly memory-intensive.\n",
    "\n",
    "This is because vectorization tends to create many intermediate arrays before\n",
    "producing the final calculation.\n",
    "\n",
    "Another issue is that not all algorithms can be vectorized.\n",
    "\n",
    "Because of these issues, most high performance computing is moving away from\n",
    "traditional vectorization and towards the use of [just-in-time compilers](https://en.wikipedia.org/wiki/Just-in-time_compilation).\n",
    "\n",
    "In later lectures in this series, we will learn about how modern Python libraries exploit\n",
    "just-in-time compilers to generate fast, efficient, parallelized machine code."
   ]
  }
 ],
 "metadata": {
  "date": 1756362393.4912925,
  "filename": "need_for_speed.md",
  "kernelspec": {
   "display_name": "Python",
   "language": "python3",
   "name": "python3"
  },
  "title": "Python for Scientific Computing"
 },
 "nbformat": 4,
 "nbformat_minor": 5
}