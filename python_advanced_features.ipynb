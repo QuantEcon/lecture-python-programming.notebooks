{
 "cells": [
  {
   "cell_type": "markdown",
   "id": "1d903fbc",
   "metadata": {},
   "source": [
    "\n",
    "<a id='python-advanced-features'></a>\n",
    "<div id=\"qe-notebook-header\" align=\"right\" style=\"text-align:right;\">\n",
    "        <a href=\"https://quantecon.org/\" title=\"quantecon.org\">\n",
    "                <img style=\"width:250px;display:inline;\" width=\"250px\" src=\"https://assets.quantecon.org/img/qe-menubar-logo.svg\" alt=\"QuantEcon\">\n",
    "        </a>\n",
    "</div>"
   ]
  },
  {
   "cell_type": "markdown",
   "id": "b3f3ac69",
   "metadata": {},
   "source": [
    "# More Language Features"
   ]
  },
  {
   "cell_type": "markdown",
   "id": "b7ae66ed",
   "metadata": {},
   "source": [
    "## Contents\n",
    "\n",
    "- [More Language Features](#More-Language-Features)  \n",
    "  - [Overview](#Overview)  \n",
    "  - [Iterables and Iterators](#Iterables-and-Iterators)  \n",
    "  - [Decorators and Descriptors](#Decorators-and-Descriptors)  \n",
    "  - [Generators](#Generators)  \n",
    "  - [Exercises](#Exercises)  "
   ]
  },
  {
   "cell_type": "markdown",
   "id": "302f719a",
   "metadata": {},
   "source": [
    "## Overview\n",
    "\n",
    "With this last lecture, our advice is to **skip it on first pass**, unless you have a burning desire to read it.\n",
    "\n",
    "It’s here\n",
    "\n",
    "1. as a reference, so we can link back to it when required, and  \n",
    "1. for those who have worked through a number of applications, and now want to learn more about the Python language  \n",
    "\n",
    "\n",
    "A variety of topics are treated in the lecture, including iterators, decorators and descriptors, and generators."
   ]
  },
  {
   "cell_type": "markdown",
   "id": "7bc1e163",
   "metadata": {},
   "source": [
    "## Iterables and Iterators\n",
    "\n",
    "\n",
    "<a id='index-0'></a>\n",
    "We’ve [already said something](https://python-programming.quantecon.org/python_essentials.html#iterating-version-1) about iterating in Python.\n",
    "\n",
    "Now let’s look more closely at how it all works, focusing in Python’s implementation of the `for` loop.\n",
    "\n",
    "\n",
    "<a id='iterators'></a>"
   ]
  },
  {
   "cell_type": "markdown",
   "id": "7b51e583",
   "metadata": {},
   "source": [
    "### Iterators\n",
    "\n",
    "\n",
    "<a id='index-1'></a>\n",
    "Iterators are a uniform interface to stepping through elements in a collection.\n",
    "\n",
    "Here we’ll talk about using iterators—later we’ll learn how to build our own.\n",
    "\n",
    "Formally, an *iterator* is an object with a `__next__` method.\n",
    "\n",
    "For example, file objects are iterators .\n",
    "\n",
    "To see this, let’s have another look at the [US cities data](https://python-programming.quantecon.org/python_essentials.html#us-cities-data),\n",
    "which is written to the present working directory in the following cell"
   ]
  },
  {
   "cell_type": "code",
   "execution_count": null,
   "id": "38e740fd",
   "metadata": {
    "hide-output": false
   },
   "outputs": [],
   "source": [
    "%%file us_cities.txt\n",
    "new york: 8244910\n",
    "los angeles: 3819702\n",
    "chicago: 2707120\n",
    "houston: 2145146\n",
    "philadelphia: 1536471\n",
    "phoenix: 1469471\n",
    "san antonio: 1359758\n",
    "san diego: 1326179\n",
    "dallas: 1223229"
   ]
  },
  {
   "cell_type": "code",
   "execution_count": null,
   "id": "7fd4f2ab",
   "metadata": {
    "hide-output": false
   },
   "outputs": [],
   "source": [
    "f = open('us_cities.txt')\n",
    "f.__next__()"
   ]
  },
  {
   "cell_type": "code",
   "execution_count": null,
   "id": "0f06ea35",
   "metadata": {
    "hide-output": false
   },
   "outputs": [],
   "source": [
    "f.__next__()"
   ]
  },
  {
   "cell_type": "markdown",
   "id": "b9fb964f",
   "metadata": {},
   "source": [
    "We see that file objects do indeed have a `__next__` method, and that calling this method returns the next line in the file.\n",
    "\n",
    "The next method can also be accessed via the builtin function `next()`,\n",
    "which directly calls this method"
   ]
  },
  {
   "cell_type": "code",
   "execution_count": null,
   "id": "744e86e3",
   "metadata": {
    "hide-output": false
   },
   "outputs": [],
   "source": [
    "next(f)"
   ]
  },
  {
   "cell_type": "markdown",
   "id": "c495096c",
   "metadata": {},
   "source": [
    "The objects returned by `enumerate()` are also iterators"
   ]
  },
  {
   "cell_type": "code",
   "execution_count": null,
   "id": "3253054f",
   "metadata": {
    "hide-output": false
   },
   "outputs": [],
   "source": [
    "e = enumerate(['foo', 'bar'])\n",
    "next(e)"
   ]
  },
  {
   "cell_type": "code",
   "execution_count": null,
   "id": "ca24c84e",
   "metadata": {
    "hide-output": false
   },
   "outputs": [],
   "source": [
    "next(e)"
   ]
  },
  {
   "cell_type": "markdown",
   "id": "df44cb1f",
   "metadata": {},
   "source": [
    "as are the reader objects from the `csv` module .\n",
    "\n",
    "Let’s create a small csv file that contains data from the NIKKEI index"
   ]
  },
  {
   "cell_type": "code",
   "execution_count": null,
   "id": "c400d373",
   "metadata": {
    "hide-output": false
   },
   "outputs": [],
   "source": [
    "%%file test_table.csv\n",
    "Date,Open,High,Low,Close,Volume,Adj Close\n",
    "2009-05-21,9280.35,9286.35,9189.92,9264.15,133200,9264.15\n",
    "2009-05-20,9372.72,9399.40,9311.61,9344.64,143200,9344.64\n",
    "2009-05-19,9172.56,9326.75,9166.97,9290.29,167000,9290.29\n",
    "2009-05-18,9167.05,9167.82,8997.74,9038.69,147800,9038.69\n",
    "2009-05-15,9150.21,9272.08,9140.90,9265.02,172000,9265.02\n",
    "2009-05-14,9212.30,9223.77,9052.41,9093.73,169400,9093.73\n",
    "2009-05-13,9305.79,9379.47,9278.89,9340.49,176000,9340.49\n",
    "2009-05-12,9358.25,9389.61,9298.61,9298.61,188400,9298.61\n",
    "2009-05-11,9460.72,9503.91,9342.75,9451.98,230800,9451.98\n",
    "2009-05-08,9351.40,9464.43,9349.57,9432.83,220200,9432.83"
   ]
  },
  {
   "cell_type": "code",
   "execution_count": null,
   "id": "db76ba8a",
   "metadata": {
    "hide-output": false
   },
   "outputs": [],
   "source": [
    "from csv import reader\n",
    "\n",
    "f = open('test_table.csv', 'r')\n",
    "nikkei_data = reader(f)\n",
    "next(nikkei_data)"
   ]
  },
  {
   "cell_type": "code",
   "execution_count": null,
   "id": "73b1d5c3",
   "metadata": {
    "hide-output": false
   },
   "outputs": [],
   "source": [
    "next(nikkei_data)"
   ]
  },
  {
   "cell_type": "markdown",
   "id": "7a6cab42",
   "metadata": {},
   "source": [
    "### Iterators in For Loops\n",
    "\n",
    "\n",
    "<a id='index-2'></a>\n",
    "All iterators can be placed to the right of the `in` keyword in `for` loop statements.\n",
    "\n",
    "In fact this is how the `for` loop works:  If we write"
   ]
  },
  {
   "cell_type": "markdown",
   "id": "1d04c0e5",
   "metadata": {
    "hide-output": false
   },
   "source": [
    "```python3\n",
    "for x in iterator:\n",
    "    <code block>\n",
    "```\n"
   ]
  },
  {
   "cell_type": "markdown",
   "id": "6e019927",
   "metadata": {},
   "source": [
    "then the interpreter\n",
    "\n",
    "- calls `iterator.___next___()` and binds `x` to the result  \n",
    "- executes the code block  \n",
    "- repeats until a `StopIteration` error occurs  \n",
    "\n",
    "\n",
    "So now you know how this magical looking syntax works"
   ]
  },
  {
   "cell_type": "markdown",
   "id": "6f52f447",
   "metadata": {
    "hide-output": false
   },
   "source": [
    "```python3\n",
    "f = open('somefile.txt', 'r')\n",
    "for line in f:\n",
    "    # do something\n",
    "```\n"
   ]
  },
  {
   "cell_type": "markdown",
   "id": "4494928b",
   "metadata": {},
   "source": [
    "The interpreter just keeps\n",
    "\n",
    "1. calling `f.__next__()` and binding `line` to the result  \n",
    "1. executing the body of the loop  \n",
    "\n",
    "\n",
    "This continues until a `StopIteration` error occurs."
   ]
  },
  {
   "cell_type": "markdown",
   "id": "c1bae725",
   "metadata": {},
   "source": [
    "### Iterables\n",
    "\n",
    "\n",
    "<a id='index-3'></a>\n",
    "You already know that we can put a Python list to the right of `in` in a `for` loop"
   ]
  },
  {
   "cell_type": "code",
   "execution_count": null,
   "id": "1a5bc47a",
   "metadata": {
    "hide-output": false
   },
   "outputs": [],
   "source": [
    "for i in ['spam', 'eggs']:\n",
    "    print(i)"
   ]
  },
  {
   "cell_type": "markdown",
   "id": "e991c996",
   "metadata": {},
   "source": [
    "So does that mean that a list is an iterator?\n",
    "\n",
    "The answer is no"
   ]
  },
  {
   "cell_type": "code",
   "execution_count": null,
   "id": "048c319e",
   "metadata": {
    "hide-output": false
   },
   "outputs": [],
   "source": [
    "x = ['foo', 'bar']\n",
    "type(x)"
   ]
  },
  {
   "cell_type": "code",
   "execution_count": null,
   "id": "c969676c",
   "metadata": {
    "hide-output": false
   },
   "outputs": [],
   "source": [
    "next(x)"
   ]
  },
  {
   "cell_type": "markdown",
   "id": "60efb7cb",
   "metadata": {},
   "source": [
    "So why can we iterate over a list in a `for` loop?\n",
    "\n",
    "The reason is that a list is *iterable* (as opposed to an iterator).\n",
    "\n",
    "Formally, an object is iterable if it can be converted to an iterator using the built-in function `iter()`.\n",
    "\n",
    "Lists are one such object"
   ]
  },
  {
   "cell_type": "code",
   "execution_count": null,
   "id": "f8555a98",
   "metadata": {
    "hide-output": false
   },
   "outputs": [],
   "source": [
    "x = ['foo', 'bar']\n",
    "type(x)"
   ]
  },
  {
   "cell_type": "code",
   "execution_count": null,
   "id": "72cea77e",
   "metadata": {
    "hide-output": false
   },
   "outputs": [],
   "source": [
    "y = iter(x)\n",
    "type(y)"
   ]
  },
  {
   "cell_type": "code",
   "execution_count": null,
   "id": "ef0c3d24",
   "metadata": {
    "hide-output": false
   },
   "outputs": [],
   "source": [
    "next(y)"
   ]
  },
  {
   "cell_type": "code",
   "execution_count": null,
   "id": "01a605d7",
   "metadata": {
    "hide-output": false
   },
   "outputs": [],
   "source": [
    "next(y)"
   ]
  },
  {
   "cell_type": "code",
   "execution_count": null,
   "id": "ad7fd7e7",
   "metadata": {
    "hide-output": false
   },
   "outputs": [],
   "source": [
    "next(y)"
   ]
  },
  {
   "cell_type": "markdown",
   "id": "a2872d99",
   "metadata": {},
   "source": [
    "Many other objects are iterable, such as dictionaries and tuples.\n",
    "\n",
    "Of course, not all objects are iterable"
   ]
  },
  {
   "cell_type": "code",
   "execution_count": null,
   "id": "1c57f259",
   "metadata": {
    "hide-output": false
   },
   "outputs": [],
   "source": [
    "iter(42)"
   ]
  },
  {
   "cell_type": "markdown",
   "id": "a2e3ecb2",
   "metadata": {},
   "source": [
    "To conclude our discussion of `for` loops\n",
    "\n",
    "- `for` loops work on either iterators or iterables.  \n",
    "- In the second case, the iterable is converted into an iterator before the loop starts.  "
   ]
  },
  {
   "cell_type": "markdown",
   "id": "d6a1c583",
   "metadata": {},
   "source": [
    "### Iterators and built-ins\n",
    "\n",
    "\n",
    "<a id='index-4'></a>\n",
    "Some built-in functions that act on sequences also work with iterables\n",
    "\n",
    "- `max()`, `min()`, `sum()`, `all()`, `any()`  \n",
    "\n",
    "\n",
    "For example"
   ]
  },
  {
   "cell_type": "code",
   "execution_count": null,
   "id": "b45a8636",
   "metadata": {
    "hide-output": false
   },
   "outputs": [],
   "source": [
    "x = [10, -10]\n",
    "max(x)"
   ]
  },
  {
   "cell_type": "code",
   "execution_count": null,
   "id": "965c4ee2",
   "metadata": {
    "hide-output": false
   },
   "outputs": [],
   "source": [
    "y = iter(x)\n",
    "type(y)"
   ]
  },
  {
   "cell_type": "code",
   "execution_count": null,
   "id": "6800131a",
   "metadata": {
    "hide-output": false
   },
   "outputs": [],
   "source": [
    "max(y)"
   ]
  },
  {
   "cell_type": "markdown",
   "id": "fbaddf72",
   "metadata": {},
   "source": [
    "One thing to remember about iterators is that they are depleted by use"
   ]
  },
  {
   "cell_type": "code",
   "execution_count": null,
   "id": "0cce8b4d",
   "metadata": {
    "hide-output": false
   },
   "outputs": [],
   "source": [
    "x = [10, -10]\n",
    "y = iter(x)\n",
    "max(y)"
   ]
  },
  {
   "cell_type": "code",
   "execution_count": null,
   "id": "38bb1554",
   "metadata": {
    "hide-output": false
   },
   "outputs": [],
   "source": [
    "max(y)"
   ]
  },
  {
   "cell_type": "markdown",
   "id": "fcb51573",
   "metadata": {},
   "source": [
    "## Decorators and Descriptors\n",
    "\n",
    "\n",
    "<a id='index-6'></a>\n",
    "Let’s look at some special syntax elements that are routinely used by Python developers.\n",
    "\n",
    "You might not need the following concepts immediately, but you will see them\n",
    "in other people’s code.\n",
    "\n",
    "Hence you need to understand them at some stage of your Python education."
   ]
  },
  {
   "cell_type": "markdown",
   "id": "bd1fb52f",
   "metadata": {},
   "source": [
    "### Decorators\n",
    "\n",
    "\n",
    "<a id='index-7'></a>\n",
    "Decorators are a bit of syntactic sugar that, while easily avoided, have turned out to be popular.\n",
    "\n",
    "It’s very easy to say what decorators do.\n",
    "\n",
    "On the other hand it takes a bit of effort to explain *why* you might use them."
   ]
  },
  {
   "cell_type": "markdown",
   "id": "4c78b327",
   "metadata": {},
   "source": [
    "#### An Example\n",
    "\n",
    "Suppose we are working on a program that looks something like this"
   ]
  },
  {
   "cell_type": "code",
   "execution_count": null,
   "id": "5cd7f0d4",
   "metadata": {
    "hide-output": false
   },
   "outputs": [],
   "source": [
    "import numpy as np\n",
    "\n",
    "def f(x):\n",
    "    return np.log(np.log(x))\n",
    "\n",
    "def g(x):\n",
    "    return np.sqrt(42 * x)\n",
    "\n",
    "# Program continues with various calculations using f and g"
   ]
  },
  {
   "cell_type": "markdown",
   "id": "58314987",
   "metadata": {},
   "source": [
    "Now suppose there’s a problem: occasionally negative numbers get fed to `f` and `g` in the calculations that follow.\n",
    "\n",
    "If you try it, you’ll see that when these functions are called with negative numbers they return a NumPy object called `nan` .\n",
    "\n",
    "This stands for “not a number” (and indicates that you are trying to evaluate\n",
    "a mathematical function at a point where it is not defined).\n",
    "\n",
    "Perhaps this isn’t what we want, because it causes other problems that are hard to pick up later on.\n",
    "\n",
    "Suppose that instead we want the program to terminate whenever this happens, with a sensible error message.\n",
    "\n",
    "This change is easy enough to implement"
   ]
  },
  {
   "cell_type": "code",
   "execution_count": null,
   "id": "18856d52",
   "metadata": {
    "hide-output": false
   },
   "outputs": [],
   "source": [
    "import numpy as np\n",
    "\n",
    "def f(x):\n",
    "    assert x >= 0, \"Argument must be nonnegative\"\n",
    "    return np.log(np.log(x))\n",
    "\n",
    "def g(x):\n",
    "    assert x >= 0, \"Argument must be nonnegative\"\n",
    "    return np.sqrt(42 * x)\n",
    "\n",
    "# Program continues with various calculations using f and g"
   ]
  },
  {
   "cell_type": "markdown",
   "id": "87d7fe4e",
   "metadata": {},
   "source": [
    "Notice however that there is some repetition here, in the form of two identical lines of code.\n",
    "\n",
    "Repetition makes our code longer and harder to maintain, and hence is\n",
    "something we try hard to avoid.\n",
    "\n",
    "Here it’s not a big deal, but imagine now that instead of just `f` and `g`, we have 20 such functions that we need to modify in exactly the same way.\n",
    "\n",
    "This means we need to repeat the test logic (i.e., the `assert` line testing nonnegativity) 20 times.\n",
    "\n",
    "The situation is still worse if the test logic is longer and more complicated.\n",
    "\n",
    "In this kind of scenario the following approach would be neater"
   ]
  },
  {
   "cell_type": "code",
   "execution_count": null,
   "id": "04b14830",
   "metadata": {
    "hide-output": false
   },
   "outputs": [],
   "source": [
    "import numpy as np\n",
    "\n",
    "def check_nonneg(func):\n",
    "    def safe_function(x):\n",
    "        assert x >= 0, \"Argument must be nonnegative\"\n",
    "        return func(x)\n",
    "    return safe_function\n",
    "\n",
    "def f(x):\n",
    "    return np.log(np.log(x))\n",
    "\n",
    "def g(x):\n",
    "    return np.sqrt(42 * x)\n",
    "\n",
    "f = check_nonneg(f)\n",
    "g = check_nonneg(g)\n",
    "# Program continues with various calculations using f and g"
   ]
  },
  {
   "cell_type": "markdown",
   "id": "a625fe70",
   "metadata": {},
   "source": [
    "This looks complicated so let’s work through it slowly.\n",
    "\n",
    "To unravel the logic, consider what happens when we say `f = check_nonneg(f)`.\n",
    "\n",
    "This calls the function `check_nonneg` with parameter `func` set equal to `f`.\n",
    "\n",
    "Now `check_nonneg` creates a new function called `safe_function` that\n",
    "verifies `x` as nonnegative and then calls `func` on it (which is the same as `f`).\n",
    "\n",
    "Finally, the global name `f` is then set equal to `safe_function`.\n",
    "\n",
    "Now the behavior of `f` is as we desire, and the same is true of `g`.\n",
    "\n",
    "At the same time, the test logic is written only once."
   ]
  },
  {
   "cell_type": "markdown",
   "id": "26356199",
   "metadata": {},
   "source": [
    "#### Enter Decorators\n",
    "\n",
    "\n",
    "<a id='index-8'></a>\n",
    "The last version of our code is still not ideal.\n",
    "\n",
    "For example, if someone is reading our code and wants to know how\n",
    "`f` works, they will be looking for the function definition, which is"
   ]
  },
  {
   "cell_type": "code",
   "execution_count": null,
   "id": "ece204c8",
   "metadata": {
    "hide-output": false
   },
   "outputs": [],
   "source": [
    "def f(x):\n",
    "    return np.log(np.log(x))"
   ]
  },
  {
   "cell_type": "markdown",
   "id": "e9552796",
   "metadata": {},
   "source": [
    "They may well miss the line `f = check_nonneg(f)`.\n",
    "\n",
    "For this and other reasons, decorators were introduced to Python.\n",
    "\n",
    "With decorators, we can replace the lines"
   ]
  },
  {
   "cell_type": "code",
   "execution_count": null,
   "id": "3a7dfb16",
   "metadata": {
    "hide-output": false
   },
   "outputs": [],
   "source": [
    "def f(x):\n",
    "    return np.log(np.log(x))\n",
    "\n",
    "def g(x):\n",
    "    return np.sqrt(42 * x)\n",
    "\n",
    "f = check_nonneg(f)\n",
    "g = check_nonneg(g)"
   ]
  },
  {
   "cell_type": "markdown",
   "id": "f30ef4aa",
   "metadata": {},
   "source": [
    "with"
   ]
  },
  {
   "cell_type": "code",
   "execution_count": null,
   "id": "957edd8d",
   "metadata": {
    "hide-output": false
   },
   "outputs": [],
   "source": [
    "@check_nonneg\n",
    "def f(x):\n",
    "    return np.log(np.log(x))\n",
    "\n",
    "@check_nonneg\n",
    "def g(x):\n",
    "    return np.sqrt(42 * x)"
   ]
  },
  {
   "cell_type": "markdown",
   "id": "83368d36",
   "metadata": {},
   "source": [
    "These two pieces of code do exactly the same thing.\n",
    "\n",
    "If they do the same thing, do we really need decorator syntax?\n",
    "\n",
    "Well, notice that the decorators sit right on top of the function definitions.\n",
    "\n",
    "Hence anyone looking at the definition of the function will see them and be\n",
    "aware that the function is modified.\n",
    "\n",
    "In the opinion of many people, this makes the decorator syntax a significant improvement to the language.\n",
    "\n",
    "\n",
    "<a id='descriptors'></a>"
   ]
  },
  {
   "cell_type": "markdown",
   "id": "fe121374",
   "metadata": {},
   "source": [
    "### Descriptors\n",
    "\n",
    "\n",
    "<a id='index-9'></a>\n",
    "Descriptors solve a common problem regarding management of variables.\n",
    "\n",
    "To understand the issue, consider a `Car` class, that simulates a car.\n",
    "\n",
    "Suppose that this class defines the variables `miles` and `kms`, which give the distance traveled in miles\n",
    "and kilometers respectively.\n",
    "\n",
    "A highly simplified version of the class might look as follows"
   ]
  },
  {
   "cell_type": "code",
   "execution_count": null,
   "id": "3f0f98ac",
   "metadata": {
    "hide-output": false
   },
   "outputs": [],
   "source": [
    "class Car:\n",
    "\n",
    "    def __init__(self, miles=1000):\n",
    "        self.miles = miles\n",
    "        self.kms = miles * 1.61\n",
    "\n",
    "    # Some other functionality, details omitted"
   ]
  },
  {
   "cell_type": "markdown",
   "id": "d7f09bed",
   "metadata": {},
   "source": [
    "One potential problem we might have here is that a user alters one of these\n",
    "variables but not the other"
   ]
  },
  {
   "cell_type": "code",
   "execution_count": null,
   "id": "76ef586e",
   "metadata": {
    "hide-output": false
   },
   "outputs": [],
   "source": [
    "car = Car()\n",
    "car.miles"
   ]
  },
  {
   "cell_type": "code",
   "execution_count": null,
   "id": "cdb3042c",
   "metadata": {
    "hide-output": false
   },
   "outputs": [],
   "source": [
    "car.kms"
   ]
  },
  {
   "cell_type": "code",
   "execution_count": null,
   "id": "2bf0d7c0",
   "metadata": {
    "hide-output": false
   },
   "outputs": [],
   "source": [
    "car.miles = 6000\n",
    "car.kms"
   ]
  },
  {
   "cell_type": "markdown",
   "id": "59a58165",
   "metadata": {},
   "source": [
    "In the last two lines we see that `miles` and `kms` are out of sync.\n",
    "\n",
    "What we really want is some mechanism whereby each time a user sets one of these variables, *the other is automatically updated*."
   ]
  },
  {
   "cell_type": "markdown",
   "id": "6183893d",
   "metadata": {},
   "source": [
    "#### A Solution\n",
    "\n",
    "In Python, this issue is solved using *descriptors*.\n",
    "\n",
    "A descriptor is just a Python object that implements certain methods.\n",
    "\n",
    "These methods are triggered when the object is accessed through dotted attribute notation.\n",
    "\n",
    "The best way to understand this is to see it in action.\n",
    "\n",
    "Consider this alternative version of the `Car` class"
   ]
  },
  {
   "cell_type": "code",
   "execution_count": null,
   "id": "0c85d458",
   "metadata": {
    "hide-output": false
   },
   "outputs": [],
   "source": [
    "class Car:\n",
    "\n",
    "    def __init__(self, miles=1000):\n",
    "        self._miles = miles\n",
    "        self._kms = miles * 1.61\n",
    "\n",
    "    def set_miles(self, value):\n",
    "        self._miles = value\n",
    "        self._kms = value * 1.61\n",
    "\n",
    "    def set_kms(self, value):\n",
    "        self._kms = value\n",
    "        self._miles = value / 1.61\n",
    "\n",
    "    def get_miles(self):\n",
    "        return self._miles\n",
    "\n",
    "    def get_kms(self):\n",
    "        return self._kms\n",
    "\n",
    "    miles = property(get_miles, set_miles)\n",
    "    kms = property(get_kms, set_kms)"
   ]
  },
  {
   "cell_type": "markdown",
   "id": "8ed3434c",
   "metadata": {},
   "source": [
    "First let’s check that we get the desired behavior"
   ]
  },
  {
   "cell_type": "code",
   "execution_count": null,
   "id": "cef8252d",
   "metadata": {
    "hide-output": false
   },
   "outputs": [],
   "source": [
    "car = Car()\n",
    "car.miles"
   ]
  },
  {
   "cell_type": "code",
   "execution_count": null,
   "id": "3fc01581",
   "metadata": {
    "hide-output": false
   },
   "outputs": [],
   "source": [
    "car.miles = 6000\n",
    "car.kms"
   ]
  },
  {
   "cell_type": "markdown",
   "id": "d8e31266",
   "metadata": {},
   "source": [
    "Yep, that’s what we want — `car.kms` is automatically updated."
   ]
  },
  {
   "cell_type": "markdown",
   "id": "28dc92dc",
   "metadata": {},
   "source": [
    "#### How it Works\n",
    "\n",
    "The names `_miles` and `_kms` are arbitrary names we are using to store the values of the variables.\n",
    "\n",
    "The objects `miles` and `kms` are *properties*, a common kind of descriptor.\n",
    "\n",
    "The methods `get_miles`, `set_miles`, `get_kms` and `set_kms` define\n",
    "what happens when you get (i.e. access) or set (bind) these variables\n",
    "\n",
    "- So-called “getter” and “setter” methods.  \n",
    "\n",
    "\n",
    "The builtin Python function `property` takes getter and setter methods and creates a property.\n",
    "\n",
    "For example, after `car` is created as an instance of `Car`, the object `car.miles` is a property.\n",
    "\n",
    "Being a property, when we set its value via `car.miles = 6000` its setter\n",
    "method is triggered — in this case `set_miles`."
   ]
  },
  {
   "cell_type": "markdown",
   "id": "64ec8836",
   "metadata": {},
   "source": [
    "#### Decorators and Properties\n",
    "\n",
    "\n",
    "<a id='index-11'></a>\n",
    "These days its very common to see the `property` function used via a decorator.\n",
    "\n",
    "Here’s another version of our `Car` class that works as before but now uses\n",
    "decorators to set up the properties"
   ]
  },
  {
   "cell_type": "code",
   "execution_count": null,
   "id": "66c6a297",
   "metadata": {
    "hide-output": false
   },
   "outputs": [],
   "source": [
    "class Car:\n",
    "\n",
    "    def __init__(self, miles=1000):\n",
    "        self._miles = miles\n",
    "        self._kms = miles * 1.61\n",
    "\n",
    "    @property\n",
    "    def miles(self):\n",
    "        return self._miles\n",
    "\n",
    "    @property\n",
    "    def kms(self):\n",
    "        return self._kms\n",
    "\n",
    "    @miles.setter\n",
    "    def miles(self, value):\n",
    "        self._miles = value\n",
    "        self._kms = value * 1.61\n",
    "\n",
    "    @kms.setter\n",
    "    def kms(self, value):\n",
    "        self._kms = value\n",
    "        self._miles = value / 1.61"
   ]
  },
  {
   "cell_type": "markdown",
   "id": "a80f3d96",
   "metadata": {},
   "source": [
    "We won’t go through all the details here.\n",
    "\n",
    "For further information you can refer to the [descriptor documentation](https://docs.python.org/3/howto/descriptor.html).\n",
    "\n",
    "\n",
    "<a id='paf-generators'></a>"
   ]
  },
  {
   "cell_type": "markdown",
   "id": "e510f673",
   "metadata": {},
   "source": [
    "## Generators\n",
    "\n",
    "\n",
    "<a id='index-12'></a>\n",
    "A generator is a kind of iterator (i.e., it works with a `next` function).\n",
    "\n",
    "We will study two ways to build generators: generator expressions and generator functions."
   ]
  },
  {
   "cell_type": "markdown",
   "id": "55ebd500",
   "metadata": {},
   "source": [
    "### Generator Expressions\n",
    "\n",
    "The easiest way to build generators is using *generator expressions*.\n",
    "\n",
    "Just like a list comprehension, but with round brackets.\n",
    "\n",
    "Here is the list comprehension:"
   ]
  },
  {
   "cell_type": "code",
   "execution_count": null,
   "id": "c00625c1",
   "metadata": {
    "hide-output": false
   },
   "outputs": [],
   "source": [
    "singular = ('dog', 'cat', 'bird')\n",
    "type(singular)"
   ]
  },
  {
   "cell_type": "code",
   "execution_count": null,
   "id": "e33ca7cf",
   "metadata": {
    "hide-output": false
   },
   "outputs": [],
   "source": [
    "plural = [string + 's' for string in singular]\n",
    "plural"
   ]
  },
  {
   "cell_type": "code",
   "execution_count": null,
   "id": "92b021dc",
   "metadata": {
    "hide-output": false
   },
   "outputs": [],
   "source": [
    "type(plural)"
   ]
  },
  {
   "cell_type": "markdown",
   "id": "fb47996d",
   "metadata": {},
   "source": [
    "And here is the generator expression"
   ]
  },
  {
   "cell_type": "code",
   "execution_count": null,
   "id": "d641dd1a",
   "metadata": {
    "hide-output": false
   },
   "outputs": [],
   "source": [
    "singular = ('dog', 'cat', 'bird')\n",
    "plural = (string + 's' for string in singular)\n",
    "type(plural)"
   ]
  },
  {
   "cell_type": "code",
   "execution_count": null,
   "id": "3ba03fc0",
   "metadata": {
    "hide-output": false
   },
   "outputs": [],
   "source": [
    "next(plural)"
   ]
  },
  {
   "cell_type": "code",
   "execution_count": null,
   "id": "c5524008",
   "metadata": {
    "hide-output": false
   },
   "outputs": [],
   "source": [
    "next(plural)"
   ]
  },
  {
   "cell_type": "code",
   "execution_count": null,
   "id": "e2087200",
   "metadata": {
    "hide-output": false
   },
   "outputs": [],
   "source": [
    "next(plural)"
   ]
  },
  {
   "cell_type": "markdown",
   "id": "a5b82575",
   "metadata": {},
   "source": [
    "Since `sum()` can be called on iterators, we can do this"
   ]
  },
  {
   "cell_type": "code",
   "execution_count": null,
   "id": "fdf45d3a",
   "metadata": {
    "hide-output": false
   },
   "outputs": [],
   "source": [
    "sum((x * x for x in range(10)))"
   ]
  },
  {
   "cell_type": "markdown",
   "id": "4db2356d",
   "metadata": {},
   "source": [
    "The function `sum()` calls `next()` to get the items, adds successive terms.\n",
    "\n",
    "In fact, we can omit the outer brackets in this case"
   ]
  },
  {
   "cell_type": "code",
   "execution_count": null,
   "id": "53188687",
   "metadata": {
    "hide-output": false
   },
   "outputs": [],
   "source": [
    "sum(x * x for x in range(10))"
   ]
  },
  {
   "cell_type": "markdown",
   "id": "1c86dafd",
   "metadata": {},
   "source": [
    "### Generator Functions\n",
    "\n",
    "\n",
    "<a id='index-13'></a>\n",
    "The most flexible way to create generator objects is to use generator functions.\n",
    "\n",
    "Let’s look at some examples."
   ]
  },
  {
   "cell_type": "markdown",
   "id": "dbf8b118",
   "metadata": {},
   "source": [
    "#### Example 1\n",
    "\n",
    "Here’s a very simple example of a generator function"
   ]
  },
  {
   "cell_type": "code",
   "execution_count": null,
   "id": "0fc97fdf",
   "metadata": {
    "hide-output": false
   },
   "outputs": [],
   "source": [
    "def f():\n",
    "    yield 'start'\n",
    "    yield 'middle'\n",
    "    yield 'end'"
   ]
  },
  {
   "cell_type": "markdown",
   "id": "86d69308",
   "metadata": {},
   "source": [
    "It looks like a function, but uses a keyword `yield` that we haven’t met before.\n",
    "\n",
    "Let’s see how it works after running this code"
   ]
  },
  {
   "cell_type": "code",
   "execution_count": null,
   "id": "adc0fdfd",
   "metadata": {
    "hide-output": false
   },
   "outputs": [],
   "source": [
    "type(f)"
   ]
  },
  {
   "cell_type": "code",
   "execution_count": null,
   "id": "cb8857eb",
   "metadata": {
    "hide-output": false
   },
   "outputs": [],
   "source": [
    "gen = f()\n",
    "gen"
   ]
  },
  {
   "cell_type": "code",
   "execution_count": null,
   "id": "ad64f076",
   "metadata": {
    "hide-output": false
   },
   "outputs": [],
   "source": [
    "next(gen)"
   ]
  },
  {
   "cell_type": "code",
   "execution_count": null,
   "id": "56f13c2f",
   "metadata": {
    "hide-output": false
   },
   "outputs": [],
   "source": [
    "next(gen)"
   ]
  },
  {
   "cell_type": "code",
   "execution_count": null,
   "id": "f08c1d3e",
   "metadata": {
    "hide-output": false
   },
   "outputs": [],
   "source": [
    "next(gen)"
   ]
  },
  {
   "cell_type": "code",
   "execution_count": null,
   "id": "2d5fa378",
   "metadata": {
    "hide-output": false
   },
   "outputs": [],
   "source": [
    "next(gen)"
   ]
  },
  {
   "cell_type": "markdown",
   "id": "328683c8",
   "metadata": {},
   "source": [
    "The generator function `f()` is used to create generator objects (in this case `gen`).\n",
    "\n",
    "Generators are iterators, because they support a `next` method.\n",
    "\n",
    "The first call to `next(gen)`\n",
    "\n",
    "- Executes code in the body of `f()` until it meets a `yield` statement.  \n",
    "- Returns that value to the caller of `next(gen)`.  \n",
    "\n",
    "\n",
    "The second call to `next(gen)` starts executing *from the next line*"
   ]
  },
  {
   "cell_type": "code",
   "execution_count": null,
   "id": "4667ecdc",
   "metadata": {
    "hide-output": false
   },
   "outputs": [],
   "source": [
    "def f():\n",
    "    yield 'start'\n",
    "    yield 'middle'  # This line!\n",
    "    yield 'end'"
   ]
  },
  {
   "cell_type": "markdown",
   "id": "c38351f9",
   "metadata": {},
   "source": [
    "and continues until the next `yield` statement.\n",
    "\n",
    "At that point it returns the value following `yield` to the caller of `next(gen)`, and so on.\n",
    "\n",
    "When the code block ends, the generator throws a `StopIteration` error."
   ]
  },
  {
   "cell_type": "markdown",
   "id": "08ad668c",
   "metadata": {},
   "source": [
    "#### Example 2\n",
    "\n",
    "Our next example receives an argument `x` from the caller"
   ]
  },
  {
   "cell_type": "code",
   "execution_count": null,
   "id": "1db0ca75",
   "metadata": {
    "hide-output": false
   },
   "outputs": [],
   "source": [
    "def g(x):\n",
    "    while x < 100:\n",
    "        yield x\n",
    "        x = x * x"
   ]
  },
  {
   "cell_type": "markdown",
   "id": "790491ac",
   "metadata": {},
   "source": [
    "Let’s see how it works"
   ]
  },
  {
   "cell_type": "code",
   "execution_count": null,
   "id": "45f67d8d",
   "metadata": {
    "hide-output": false
   },
   "outputs": [],
   "source": [
    "g"
   ]
  },
  {
   "cell_type": "code",
   "execution_count": null,
   "id": "f430c6aa",
   "metadata": {
    "hide-output": false
   },
   "outputs": [],
   "source": [
    "gen = g(2)\n",
    "type(gen)"
   ]
  },
  {
   "cell_type": "code",
   "execution_count": null,
   "id": "635fe944",
   "metadata": {
    "hide-output": false
   },
   "outputs": [],
   "source": [
    "next(gen)"
   ]
  },
  {
   "cell_type": "code",
   "execution_count": null,
   "id": "eb444bf4",
   "metadata": {
    "hide-output": false
   },
   "outputs": [],
   "source": [
    "next(gen)"
   ]
  },
  {
   "cell_type": "code",
   "execution_count": null,
   "id": "9695a63d",
   "metadata": {
    "hide-output": false
   },
   "outputs": [],
   "source": [
    "next(gen)"
   ]
  },
  {
   "cell_type": "code",
   "execution_count": null,
   "id": "02360c89",
   "metadata": {
    "hide-output": false
   },
   "outputs": [],
   "source": [
    "next(gen)"
   ]
  },
  {
   "cell_type": "markdown",
   "id": "3970b786",
   "metadata": {},
   "source": [
    "The call `gen = g(2)` binds `gen` to a generator.\n",
    "\n",
    "Inside the generator, the name `x` is bound to `2`.\n",
    "\n",
    "When we call `next(gen)`\n",
    "\n",
    "- The body of `g()` executes until the line `yield x`, and the value of `x` is returned.  \n",
    "\n",
    "\n",
    "Note that value of `x` is retained inside the generator.\n",
    "\n",
    "When we call `next(gen)` again, execution continues *from where it left off*"
   ]
  },
  {
   "cell_type": "code",
   "execution_count": null,
   "id": "2e593172",
   "metadata": {
    "hide-output": false
   },
   "outputs": [],
   "source": [
    "def g(x):\n",
    "    while x < 100:\n",
    "        yield x\n",
    "        x = x * x  # execution continues from here"
   ]
  },
  {
   "cell_type": "markdown",
   "id": "c60f3222",
   "metadata": {},
   "source": [
    "When `x < 100` fails, the generator throws a `StopIteration` error.\n",
    "\n",
    "Incidentally, the loop inside the generator can be infinite"
   ]
  },
  {
   "cell_type": "code",
   "execution_count": null,
   "id": "e26688c4",
   "metadata": {
    "hide-output": false
   },
   "outputs": [],
   "source": [
    "def g(x):\n",
    "    while 1:\n",
    "        yield x\n",
    "        x = x * x"
   ]
  },
  {
   "cell_type": "markdown",
   "id": "1acbbbaa",
   "metadata": {},
   "source": [
    "### Advantages of Iterators\n",
    "\n",
    "What’s the advantage of using an iterator here?\n",
    "\n",
    "Suppose we want to sample a binomial(n,0.5).\n",
    "\n",
    "One way to do it is as follows"
   ]
  },
  {
   "cell_type": "code",
   "execution_count": null,
   "id": "efabbef4",
   "metadata": {
    "hide-output": false
   },
   "outputs": [],
   "source": [
    "import random\n",
    "n = 10000000\n",
    "draws = [random.uniform(0, 1) < 0.5 for i in range(n)]\n",
    "sum(draws)"
   ]
  },
  {
   "cell_type": "markdown",
   "id": "0d5d5ceb",
   "metadata": {},
   "source": [
    "But we are creating two huge lists here,  `range(n)` and `draws`.\n",
    "\n",
    "This uses lots of memory and is very slow.\n",
    "\n",
    "If we make `n` even bigger then this happens"
   ]
  },
  {
   "cell_type": "code",
   "execution_count": null,
   "id": "35ecc0c0",
   "metadata": {
    "hide-output": false
   },
   "outputs": [],
   "source": [
    "n = 100000000\n",
    "draws = [random.uniform(0, 1) < 0.5 for i in range(n)]"
   ]
  },
  {
   "cell_type": "markdown",
   "id": "53ad439f",
   "metadata": {},
   "source": [
    "We can avoid these problems using iterators.\n",
    "\n",
    "Here is the generator function"
   ]
  },
  {
   "cell_type": "code",
   "execution_count": null,
   "id": "8137aae9",
   "metadata": {
    "hide-output": false
   },
   "outputs": [],
   "source": [
    "def f(n):\n",
    "    i = 1\n",
    "    while i <= n:\n",
    "        yield random.uniform(0, 1) < 0.5\n",
    "        i += 1"
   ]
  },
  {
   "cell_type": "markdown",
   "id": "16d8ce77",
   "metadata": {},
   "source": [
    "Now let’s do the sum"
   ]
  },
  {
   "cell_type": "code",
   "execution_count": null,
   "id": "c24aabcb",
   "metadata": {
    "hide-output": false
   },
   "outputs": [],
   "source": [
    "n = 10000000\n",
    "draws = f(n)\n",
    "draws"
   ]
  },
  {
   "cell_type": "code",
   "execution_count": null,
   "id": "f994fb90",
   "metadata": {
    "hide-output": false
   },
   "outputs": [],
   "source": [
    "sum(draws)"
   ]
  },
  {
   "cell_type": "markdown",
   "id": "17ac6d53",
   "metadata": {},
   "source": [
    "In summary, iterables\n",
    "\n",
    "- avoid the need to create big lists/tuples, and  \n",
    "- provide a uniform interface to iteration that can be used transparently in `for` loops  "
   ]
  },
  {
   "cell_type": "markdown",
   "id": "b81085ab",
   "metadata": {},
   "source": [
    "## Exercises"
   ]
  },
  {
   "cell_type": "markdown",
   "id": "a040a9ac",
   "metadata": {},
   "source": [
    "## Exercise 16.1\n",
    "\n",
    "Complete the following code, and test it using [this csv file](https://raw.githubusercontent.com/QuantEcon/lecture-python-programming/master/source/_static/lecture_specific/python_advanced_features/test_table.csv), which we assume that you’ve put in your current working directory"
   ]
  },
  {
   "cell_type": "markdown",
   "id": "80fbde9a",
   "metadata": {
    "hide-output": false
   },
   "source": [
    "```python3\n",
    "def column_iterator(target_file, column_number):\n",
    "    \"\"\"A generator function for CSV files.\n",
    "    When called with a file name target_file (string) and column number\n",
    "    column_number (integer), the generator function returns a generator\n",
    "    that steps through the elements of column column_number in file\n",
    "    target_file.\n",
    "    \"\"\"\n",
    "    # put your code here\n",
    "\n",
    "dates = column_iterator('test_table.csv', 1)\n",
    "\n",
    "for date in dates:\n",
    "    print(date)\n",
    "```\n"
   ]
  },
  {
   "cell_type": "markdown",
   "id": "4b86b0b3",
   "metadata": {},
   "source": [
    "## Solution to[ Exercise 16.1](https://python-programming.quantecon.org/#paf_ex1)\n",
    "\n",
    "One solution is as follows"
   ]
  },
  {
   "cell_type": "code",
   "execution_count": null,
   "id": "0780246f",
   "metadata": {
    "hide-output": false
   },
   "outputs": [],
   "source": [
    "def column_iterator(target_file, column_number):\n",
    "    \"\"\"A generator function for CSV files.\n",
    "    When called with a file name target_file (string) and column number\n",
    "    column_number (integer), the generator function returns a generator\n",
    "    which steps through the elements of column column_number in file\n",
    "    target_file.\n",
    "    \"\"\"\n",
    "    f = open(target_file, 'r')\n",
    "    for line in f:\n",
    "        yield line.split(',')[column_number - 1]\n",
    "    f.close()\n",
    "\n",
    "dates = column_iterator('test_table.csv', 1)\n",
    "\n",
    "i = 1\n",
    "for date in dates:\n",
    "    print(date)\n",
    "    if i == 10:\n",
    "        break\n",
    "    i += 1"
   ]
  }
 ],
 "metadata": {
  "date": 1667361213.1825707,
  "filename": "python_advanced_features.md",
  "kernelspec": {
   "display_name": "Python",
   "language": "python3",
   "name": "python3"
  },
  "title": "More Language Features"
 },
 "nbformat": 4,
 "nbformat_minor": 5
}