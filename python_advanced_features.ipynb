{
 "cells": [
  {
   "cell_type": "markdown",
   "id": "128f7395",
   "metadata": {},
   "source": [
    "\n",
    "<a id='python-advanced-features'></a>\n",
    "<div id=\"qe-notebook-header\" align=\"right\" style=\"text-align:right;\">\n",
    "        <a href=\"https://quantecon.org/\" title=\"quantecon.org\">\n",
    "                <img style=\"width:250px;display:inline;\" width=\"250px\" src=\"https://assets.quantecon.org/img/qe-menubar-logo.svg\" alt=\"QuantEcon\">\n",
    "        </a>\n",
    "</div>"
   ]
  },
  {
   "cell_type": "markdown",
   "id": "3bb9a654",
   "metadata": {},
   "source": [
    "# More Language Features"
   ]
  },
  {
   "cell_type": "markdown",
   "id": "d60bb0bc",
   "metadata": {},
   "source": [
    "## Contents\n",
    "\n",
    "- [More Language Features](#More-Language-Features)  \n",
    "  - [Overview](#Overview)  \n",
    "  - [Iterables and Iterators](#Iterables-and-Iterators)  \n",
    "  - [Names and Name Resolution](#Names-and-Name-Resolution)  \n",
    "  - [Handling Errors](#Handling-Errors)  \n",
    "  - [Decorators and Descriptors](#Decorators-and-Descriptors)  \n",
    "  - [Generators](#Generators)  \n",
    "  - [Recursive Function Calls](#Recursive-Function-Calls)  \n",
    "  - [Exercises](#Exercises)  \n",
    "  - [Solutions](#Solutions)  "
   ]
  },
  {
   "cell_type": "markdown",
   "id": "70c07d3e",
   "metadata": {},
   "source": [
    "## Overview\n",
    "\n",
    "With this last lecture, our advice is to **skip it on first pass**, unless you have a burning desire to read it.\n",
    "\n",
    "It’s here\n",
    "\n",
    "1. as a reference, so we can link back to it when required, and  \n",
    "1. for those who have worked through a number of applications, and now want to learn more about the Python language  \n",
    "\n",
    "\n",
    "A variety of topics are treated in the lecture, including generators, exceptions and descriptors."
   ]
  },
  {
   "cell_type": "markdown",
   "id": "114fb8f5",
   "metadata": {},
   "source": [
    "## Iterables and Iterators\n",
    "\n",
    "\n",
    "<a id='index-0'></a>\n",
    "We’ve [already said something](https://python-programming.quantecon.org/python_essentials.html#iterating-version-1) about iterating in Python.\n",
    "\n",
    "Now let’s look more closely at how it all works, focusing in Python’s implementation of the `for` loop."
   ]
  },
  {
   "cell_type": "markdown",
   "id": "57846f95",
   "metadata": {},
   "source": [
    "### Iterators\n",
    "\n",
    "\n",
    "<a id='index-1'></a>\n",
    "Iterators are a uniform interface to stepping through elements in a collection.\n",
    "\n",
    "Here we’ll talk about using iterators—later we’ll learn how to build our own.\n",
    "\n",
    "Formally, an *iterator* is an object with a `__next__` method.\n",
    "\n",
    "For example, file objects are iterators .\n",
    "\n",
    "To see this, let’s have another look at the [US cities data](https://python-programming.quantecon.org/python_essentials.html#us-cities-data),\n",
    "which is written to the present working directory in the following cell"
   ]
  },
  {
   "cell_type": "code",
   "execution_count": null,
   "id": "fa868c32",
   "metadata": {
    "hide-output": false
   },
   "outputs": [],
   "source": [
    "%%file us_cities.txt\n",
    "new york: 8244910\n",
    "los angeles: 3819702\n",
    "chicago: 2707120\n",
    "houston: 2145146\n",
    "philadelphia: 1536471\n",
    "phoenix: 1469471\n",
    "san antonio: 1359758\n",
    "san diego: 1326179\n",
    "dallas: 1223229"
   ]
  },
  {
   "cell_type": "code",
   "execution_count": null,
   "id": "bcc13dbf",
   "metadata": {
    "hide-output": false
   },
   "outputs": [],
   "source": [
    "f = open('us_cities.txt')\n",
    "f.__next__()"
   ]
  },
  {
   "cell_type": "code",
   "execution_count": null,
   "id": "37450a80",
   "metadata": {
    "hide-output": false
   },
   "outputs": [],
   "source": [
    "f.__next__()"
   ]
  },
  {
   "cell_type": "markdown",
   "id": "fb6b1845",
   "metadata": {},
   "source": [
    "We see that file objects do indeed have a `__next__` method, and that calling this method returns the next line in the file.\n",
    "\n",
    "The next method can also be accessed via the builtin function `next()`,\n",
    "which directly calls this method"
   ]
  },
  {
   "cell_type": "code",
   "execution_count": null,
   "id": "a4f18a1c",
   "metadata": {
    "hide-output": false
   },
   "outputs": [],
   "source": [
    "next(f)"
   ]
  },
  {
   "cell_type": "markdown",
   "id": "a6da8774",
   "metadata": {},
   "source": [
    "The objects returned by `enumerate()` are also iterators"
   ]
  },
  {
   "cell_type": "code",
   "execution_count": null,
   "id": "10f50f3e",
   "metadata": {
    "hide-output": false
   },
   "outputs": [],
   "source": [
    "e = enumerate(['foo', 'bar'])\n",
    "next(e)"
   ]
  },
  {
   "cell_type": "code",
   "execution_count": null,
   "id": "8a833c1b",
   "metadata": {
    "hide-output": false
   },
   "outputs": [],
   "source": [
    "next(e)"
   ]
  },
  {
   "cell_type": "markdown",
   "id": "1fa5c544",
   "metadata": {},
   "source": [
    "as are the reader objects from the `csv` module .\n",
    "\n",
    "Let’s create a small csv file that contains data from the NIKKEI index"
   ]
  },
  {
   "cell_type": "code",
   "execution_count": null,
   "id": "f7d6ee99",
   "metadata": {
    "hide-output": false
   },
   "outputs": [],
   "source": [
    "%%file test_table.csv\n",
    "Date,Open,High,Low,Close,Volume,Adj Close\n",
    "2009-05-21,9280.35,9286.35,9189.92,9264.15,133200,9264.15\n",
    "2009-05-20,9372.72,9399.40,9311.61,9344.64,143200,9344.64\n",
    "2009-05-19,9172.56,9326.75,9166.97,9290.29,167000,9290.29\n",
    "2009-05-18,9167.05,9167.82,8997.74,9038.69,147800,9038.69\n",
    "2009-05-15,9150.21,9272.08,9140.90,9265.02,172000,9265.02\n",
    "2009-05-14,9212.30,9223.77,9052.41,9093.73,169400,9093.73\n",
    "2009-05-13,9305.79,9379.47,9278.89,9340.49,176000,9340.49\n",
    "2009-05-12,9358.25,9389.61,9298.61,9298.61,188400,9298.61\n",
    "2009-05-11,9460.72,9503.91,9342.75,9451.98,230800,9451.98\n",
    "2009-05-08,9351.40,9464.43,9349.57,9432.83,220200,9432.83"
   ]
  },
  {
   "cell_type": "code",
   "execution_count": null,
   "id": "051f3821",
   "metadata": {
    "hide-output": false
   },
   "outputs": [],
   "source": [
    "from csv import reader\n",
    "\n",
    "f = open('test_table.csv', 'r')\n",
    "nikkei_data = reader(f)\n",
    "next(nikkei_data)"
   ]
  },
  {
   "cell_type": "code",
   "execution_count": null,
   "id": "ddf1b657",
   "metadata": {
    "hide-output": false
   },
   "outputs": [],
   "source": [
    "next(nikkei_data)"
   ]
  },
  {
   "cell_type": "markdown",
   "id": "1bdb6789",
   "metadata": {},
   "source": [
    "### Iterators in For Loops\n",
    "\n",
    "\n",
    "<a id='index-2'></a>\n",
    "All iterators can be placed to the right of the `in` keyword in `for` loop statements.\n",
    "\n",
    "In fact this is how the `for` loop works:  If we write"
   ]
  },
  {
   "cell_type": "markdown",
   "id": "b7b70703",
   "metadata": {
    "hide-output": false
   },
   "source": [
    "```python3\n",
    "for x in iterator:\n",
    "    <code block>\n",
    "```\n"
   ]
  },
  {
   "cell_type": "markdown",
   "id": "42e371ac",
   "metadata": {},
   "source": [
    "then the interpreter\n",
    "\n",
    "- calls `iterator.___next___()` and binds `x` to the result  \n",
    "- executes the code block  \n",
    "- repeats until a `StopIteration` error occurs  \n",
    "\n",
    "\n",
    "So now you know how this magical looking syntax works"
   ]
  },
  {
   "cell_type": "markdown",
   "id": "b7c9b6bf",
   "metadata": {
    "hide-output": false
   },
   "source": [
    "```python3\n",
    "f = open('somefile.txt', 'r')\n",
    "for line in f:\n",
    "    # do something\n",
    "```\n"
   ]
  },
  {
   "cell_type": "markdown",
   "id": "119e435a",
   "metadata": {},
   "source": [
    "The interpreter just keeps\n",
    "\n",
    "1. calling `f.__next__()` and binding `line` to the result  \n",
    "1. executing the body of the loop  \n",
    "\n",
    "\n",
    "This continues until a `StopIteration` error occurs."
   ]
  },
  {
   "cell_type": "markdown",
   "id": "f80f5d2a",
   "metadata": {},
   "source": [
    "### Iterables\n",
    "\n",
    "\n",
    "<a id='index-3'></a>\n",
    "You already know that we can put a Python list to the right of `in` in a `for` loop"
   ]
  },
  {
   "cell_type": "code",
   "execution_count": null,
   "id": "e11d89d2",
   "metadata": {
    "hide-output": false
   },
   "outputs": [],
   "source": [
    "for i in ['spam', 'eggs']:\n",
    "    print(i)"
   ]
  },
  {
   "cell_type": "markdown",
   "id": "00bd72ff",
   "metadata": {},
   "source": [
    "So does that mean that a list is an iterator?\n",
    "\n",
    "The answer is no"
   ]
  },
  {
   "cell_type": "code",
   "execution_count": null,
   "id": "5260c19e",
   "metadata": {
    "hide-output": false
   },
   "outputs": [],
   "source": [
    "x = ['foo', 'bar']\n",
    "type(x)"
   ]
  },
  {
   "cell_type": "code",
   "execution_count": null,
   "id": "a9fb6261",
   "metadata": {
    "hide-output": false
   },
   "outputs": [],
   "source": [
    "next(x)"
   ]
  },
  {
   "cell_type": "markdown",
   "id": "03e5d8a2",
   "metadata": {},
   "source": [
    "So why can we iterate over a list in a `for` loop?\n",
    "\n",
    "The reason is that a list is *iterable* (as opposed to an iterator).\n",
    "\n",
    "Formally, an object is iterable if it can be converted to an iterator using the built-in function `iter()`.\n",
    "\n",
    "Lists are one such object"
   ]
  },
  {
   "cell_type": "code",
   "execution_count": null,
   "id": "ac1bbb39",
   "metadata": {
    "hide-output": false
   },
   "outputs": [],
   "source": [
    "x = ['foo', 'bar']\n",
    "type(x)"
   ]
  },
  {
   "cell_type": "code",
   "execution_count": null,
   "id": "b59e466a",
   "metadata": {
    "hide-output": false
   },
   "outputs": [],
   "source": [
    "y = iter(x)\n",
    "type(y)"
   ]
  },
  {
   "cell_type": "code",
   "execution_count": null,
   "id": "46c79a12",
   "metadata": {
    "hide-output": false
   },
   "outputs": [],
   "source": [
    "next(y)"
   ]
  },
  {
   "cell_type": "code",
   "execution_count": null,
   "id": "ed7cf666",
   "metadata": {
    "hide-output": false
   },
   "outputs": [],
   "source": [
    "next(y)"
   ]
  },
  {
   "cell_type": "code",
   "execution_count": null,
   "id": "a2393167",
   "metadata": {
    "hide-output": false
   },
   "outputs": [],
   "source": [
    "next(y)"
   ]
  },
  {
   "cell_type": "markdown",
   "id": "d43c2aee",
   "metadata": {},
   "source": [
    "Many other objects are iterable, such as dictionaries and tuples.\n",
    "\n",
    "Of course, not all objects are iterable"
   ]
  },
  {
   "cell_type": "code",
   "execution_count": null,
   "id": "48ebd102",
   "metadata": {
    "hide-output": false
   },
   "outputs": [],
   "source": [
    "iter(42)"
   ]
  },
  {
   "cell_type": "markdown",
   "id": "b1f052fc",
   "metadata": {},
   "source": [
    "To conclude our discussion of `for` loops\n",
    "\n",
    "- `for` loops work on either iterators or iterables.  \n",
    "- In the second case, the iterable is converted into an iterator before the loop starts.  "
   ]
  },
  {
   "cell_type": "markdown",
   "id": "0a776a37",
   "metadata": {},
   "source": [
    "### Iterators and built-ins\n",
    "\n",
    "\n",
    "<a id='index-4'></a>\n",
    "Some built-in functions that act on sequences also work with iterables\n",
    "\n",
    "- `max()`, `min()`, `sum()`, `all()`, `any()`  \n",
    "\n",
    "\n",
    "For example"
   ]
  },
  {
   "cell_type": "code",
   "execution_count": null,
   "id": "5311a846",
   "metadata": {
    "hide-output": false
   },
   "outputs": [],
   "source": [
    "x = [10, -10]\n",
    "max(x)"
   ]
  },
  {
   "cell_type": "code",
   "execution_count": null,
   "id": "28b9ef7e",
   "metadata": {
    "hide-output": false
   },
   "outputs": [],
   "source": [
    "y = iter(x)\n",
    "type(y)"
   ]
  },
  {
   "cell_type": "code",
   "execution_count": null,
   "id": "59187c3c",
   "metadata": {
    "hide-output": false
   },
   "outputs": [],
   "source": [
    "max(y)"
   ]
  },
  {
   "cell_type": "markdown",
   "id": "980ee7ad",
   "metadata": {},
   "source": [
    "One thing to remember about iterators is that they are depleted by use"
   ]
  },
  {
   "cell_type": "code",
   "execution_count": null,
   "id": "f4027d29",
   "metadata": {
    "hide-output": false
   },
   "outputs": [],
   "source": [
    "x = [10, -10]\n",
    "y = iter(x)\n",
    "max(y)"
   ]
  },
  {
   "cell_type": "code",
   "execution_count": null,
   "id": "c671523e",
   "metadata": {
    "hide-output": false
   },
   "outputs": [],
   "source": [
    "max(y)"
   ]
  },
  {
   "cell_type": "markdown",
   "id": "e34121b9",
   "metadata": {},
   "source": [
    "\n",
    "<a id='name-res'></a>"
   ]
  },
  {
   "cell_type": "markdown",
   "id": "26c888f1",
   "metadata": {},
   "source": [
    "## Names and Name Resolution"
   ]
  },
  {
   "cell_type": "markdown",
   "id": "d6e16415",
   "metadata": {},
   "source": [
    "### Variable Names in Python\n",
    "\n",
    "\n",
    "<a id='index-5'></a>\n",
    "Consider the Python statement"
   ]
  },
  {
   "cell_type": "code",
   "execution_count": null,
   "id": "1266eba5",
   "metadata": {
    "hide-output": false
   },
   "outputs": [],
   "source": [
    "x = 42"
   ]
  },
  {
   "cell_type": "markdown",
   "id": "be36d663",
   "metadata": {},
   "source": [
    "We now know that when this statement is executed, Python creates an object of\n",
    "type `int` in your computer’s memory, containing\n",
    "\n",
    "- the value `42`  \n",
    "- some associated attributes  \n",
    "\n",
    "\n",
    "But what is `x` itself?\n",
    "\n",
    "In Python, `x` is called a *name*, and the statement `x = 42` *binds* the name `x` to the integer object we have just discussed.\n",
    "\n",
    "Under the hood, this process of binding names to objects is implemented as a dictionary—more about this in a moment.\n",
    "\n",
    "There is no problem binding two or more names to the one object, regardless of what that object is"
   ]
  },
  {
   "cell_type": "code",
   "execution_count": null,
   "id": "3d267696",
   "metadata": {
    "hide-output": false
   },
   "outputs": [],
   "source": [
    "def f(string):      # Create a function called f\n",
    "    print(string)   # that prints any string it's passed\n",
    "\n",
    "g = f\n",
    "id(g) == id(f)"
   ]
  },
  {
   "cell_type": "code",
   "execution_count": null,
   "id": "a5e7f9c3",
   "metadata": {
    "hide-output": false
   },
   "outputs": [],
   "source": [
    "g('test')"
   ]
  },
  {
   "cell_type": "markdown",
   "id": "7d70480c",
   "metadata": {},
   "source": [
    "In the first step, a function object is created, and the name `f` is bound to it.\n",
    "\n",
    "After binding the name `g` to the same object, we can use it anywhere we would use `f`.\n",
    "\n",
    "What happens when the number of names bound to an object goes to zero?\n",
    "\n",
    "Here’s an example of this situation, where the name `x` is first bound to one object and then rebound to another"
   ]
  },
  {
   "cell_type": "code",
   "execution_count": null,
   "id": "80cb95a0",
   "metadata": {
    "hide-output": false
   },
   "outputs": [],
   "source": [
    "x = 'foo'\n",
    "id(x)"
   ]
  },
  {
   "cell_type": "code",
   "execution_count": null,
   "id": "ac6b20a4",
   "metadata": {
    "hide-output": false
   },
   "outputs": [],
   "source": [
    "x = 'bar'  # No names bound to the first object"
   ]
  },
  {
   "cell_type": "markdown",
   "id": "2dd5368e",
   "metadata": {},
   "source": [
    "What happens here is that the first object is garbage collected.\n",
    "\n",
    "In other words, the memory slot that stores that object is deallocated, and returned to the operating system."
   ]
  },
  {
   "cell_type": "markdown",
   "id": "75d205bd",
   "metadata": {},
   "source": [
    "### Namespaces\n",
    "\n",
    "\n",
    "<a id='index-6'></a>\n",
    "Recall from the preceding discussion that the statement"
   ]
  },
  {
   "cell_type": "code",
   "execution_count": null,
   "id": "f7a7fa02",
   "metadata": {
    "hide-output": false
   },
   "outputs": [],
   "source": [
    "x = 42"
   ]
  },
  {
   "cell_type": "markdown",
   "id": "ddcbf6d3",
   "metadata": {},
   "source": [
    "binds the name `x` to the integer object on the right-hand side.\n",
    "\n",
    "We also mentioned that this process of binding `x` to the correct object is implemented as a dictionary.\n",
    "\n",
    "This dictionary is called a *namespace*.\n",
    "\n",
    "**Definition:** A namespace is a symbol table that maps names to objects in memory.\n",
    "\n",
    "Python uses multiple namespaces, creating them on the fly as necessary .\n",
    "\n",
    "For example, every time we import a module, Python creates a namespace for that module.\n",
    "\n",
    "To see this in action, suppose we write a script `math2.py` with a single line"
   ]
  },
  {
   "cell_type": "code",
   "execution_count": null,
   "id": "cd1454c3",
   "metadata": {
    "hide-output": false
   },
   "outputs": [],
   "source": [
    "%%file math2.py\n",
    "pi = 'foobar'"
   ]
  },
  {
   "cell_type": "markdown",
   "id": "47a51ef1",
   "metadata": {},
   "source": [
    "Now we start the Python interpreter and import it"
   ]
  },
  {
   "cell_type": "code",
   "execution_count": null,
   "id": "8efbd42d",
   "metadata": {
    "hide-output": false
   },
   "outputs": [],
   "source": [
    "import math2"
   ]
  },
  {
   "cell_type": "markdown",
   "id": "0a61546c",
   "metadata": {},
   "source": [
    "Next let’s import the `math` module from the standard library"
   ]
  },
  {
   "cell_type": "code",
   "execution_count": null,
   "id": "d5af3de4",
   "metadata": {
    "hide-output": false
   },
   "outputs": [],
   "source": [
    "import math"
   ]
  },
  {
   "cell_type": "markdown",
   "id": "fa9f0bba",
   "metadata": {},
   "source": [
    "Both of these modules have an attribute called `pi`"
   ]
  },
  {
   "cell_type": "code",
   "execution_count": null,
   "id": "982ae1a7",
   "metadata": {
    "hide-output": false
   },
   "outputs": [],
   "source": [
    "math.pi"
   ]
  },
  {
   "cell_type": "code",
   "execution_count": null,
   "id": "34402ece",
   "metadata": {
    "hide-output": false
   },
   "outputs": [],
   "source": [
    "math2.pi"
   ]
  },
  {
   "cell_type": "markdown",
   "id": "7b5e574f",
   "metadata": {},
   "source": [
    "These two different bindings of `pi` exist in different namespaces, each one implemented as a dictionary.\n",
    "\n",
    "We can look at the dictionary directly, using `module_name.__dict__`"
   ]
  },
  {
   "cell_type": "code",
   "execution_count": null,
   "id": "f776a7a7",
   "metadata": {
    "hide-output": false
   },
   "outputs": [],
   "source": [
    "import math\n",
    "\n",
    "math.__dict__.items()"
   ]
  },
  {
   "cell_type": "code",
   "execution_count": null,
   "id": "e58b631d",
   "metadata": {
    "hide-output": false
   },
   "outputs": [],
   "source": [
    "import math2\n",
    "\n",
    "math2.__dict__.items()"
   ]
  },
  {
   "cell_type": "markdown",
   "id": "98f9c276",
   "metadata": {},
   "source": [
    "As you know, we access elements of the namespace using the dotted attribute notation"
   ]
  },
  {
   "cell_type": "code",
   "execution_count": null,
   "id": "15c36bc4",
   "metadata": {
    "hide-output": false
   },
   "outputs": [],
   "source": [
    "math.pi"
   ]
  },
  {
   "cell_type": "markdown",
   "id": "bdfb72a5",
   "metadata": {},
   "source": [
    "In fact this is entirely equivalent to `math.__dict__['pi']`"
   ]
  },
  {
   "cell_type": "code",
   "execution_count": null,
   "id": "8f87d90c",
   "metadata": {
    "hide-output": false
   },
   "outputs": [],
   "source": [
    "math.__dict__['pi'] == math.pi"
   ]
  },
  {
   "cell_type": "markdown",
   "id": "88d239aa",
   "metadata": {},
   "source": [
    "### Viewing Namespaces\n",
    "\n",
    "As we saw above, the `math` namespace can be printed by typing `math.__dict__`.\n",
    "\n",
    "Another way to see its contents is to type `vars(math)`"
   ]
  },
  {
   "cell_type": "code",
   "execution_count": null,
   "id": "0bac5e3f",
   "metadata": {
    "hide-output": false
   },
   "outputs": [],
   "source": [
    "vars(math).items()"
   ]
  },
  {
   "cell_type": "markdown",
   "id": "d5a9e865",
   "metadata": {},
   "source": [
    "If you just want to see the names, you can type"
   ]
  },
  {
   "cell_type": "code",
   "execution_count": null,
   "id": "ff38b568",
   "metadata": {
    "hide-output": false
   },
   "outputs": [],
   "source": [
    "dir(math)[0:10]"
   ]
  },
  {
   "cell_type": "markdown",
   "id": "00174e7c",
   "metadata": {},
   "source": [
    "Notice the special names `__doc__` and `__name__`.\n",
    "\n",
    "These are initialized in the namespace when any module is imported\n",
    "\n",
    "- `__doc__` is the doc string of the module  \n",
    "- `__name__` is the name of the module  "
   ]
  },
  {
   "cell_type": "code",
   "execution_count": null,
   "id": "8671d17e",
   "metadata": {
    "hide-output": false
   },
   "outputs": [],
   "source": [
    "print(math.__doc__)"
   ]
  },
  {
   "cell_type": "code",
   "execution_count": null,
   "id": "2d298d91",
   "metadata": {
    "hide-output": false
   },
   "outputs": [],
   "source": [
    "math.__name__"
   ]
  },
  {
   "cell_type": "markdown",
   "id": "84ad481f",
   "metadata": {},
   "source": [
    "### Interactive Sessions\n",
    "\n",
    "\n",
    "<a id='index-7'></a>\n",
    "In Python, **all** code executed by the interpreter runs in some module.\n",
    "\n",
    "What about commands typed at the prompt?\n",
    "\n",
    "These are also regarded as being executed within a module — in this case, a module called `__main__`.\n",
    "\n",
    "To check this, we can look at the current module name via the value of `__name__` given at the prompt"
   ]
  },
  {
   "cell_type": "code",
   "execution_count": null,
   "id": "08549fa0",
   "metadata": {
    "hide-output": false
   },
   "outputs": [],
   "source": [
    "print(__name__)"
   ]
  },
  {
   "cell_type": "markdown",
   "id": "daab5c0b",
   "metadata": {},
   "source": [
    "When we run a script using IPython’s `run` command, the contents of the file are executed as part of `__main__` too.\n",
    "\n",
    "To see this, let’s create a file `mod.py` that prints its own `__name__` attribute"
   ]
  },
  {
   "cell_type": "code",
   "execution_count": null,
   "id": "eda363c7",
   "metadata": {
    "hide-output": false
   },
   "outputs": [],
   "source": [
    "%%file mod.py\n",
    "print(__name__)"
   ]
  },
  {
   "cell_type": "markdown",
   "id": "85567161",
   "metadata": {},
   "source": [
    "Now let’s look at two different ways of running it in IPython"
   ]
  },
  {
   "cell_type": "code",
   "execution_count": null,
   "id": "892ea7f1",
   "metadata": {
    "hide-output": false
   },
   "outputs": [],
   "source": [
    "import mod  # Standard import"
   ]
  },
  {
   "cell_type": "code",
   "execution_count": null,
   "id": "df166fdf",
   "metadata": {
    "hide-output": false
   },
   "outputs": [],
   "source": [
    "%run mod.py  # Run interactively"
   ]
  },
  {
   "cell_type": "markdown",
   "id": "5bfb8406",
   "metadata": {},
   "source": [
    "In the second case, the code is executed as part of `__main__`, so `__name__` is equal to `__main__`.\n",
    "\n",
    "To see the contents of the namespace of `__main__` we use `vars()` rather than `vars(__main__)` .\n",
    "\n",
    "If you do this in IPython, you will see a whole lot of variables that IPython\n",
    "needs, and has initialized when you started up your session.\n",
    "\n",
    "If you prefer to see only the variables you have initialized, use `whos`"
   ]
  },
  {
   "cell_type": "code",
   "execution_count": null,
   "id": "82185ec3",
   "metadata": {
    "hide-output": false
   },
   "outputs": [],
   "source": [
    "x = 2\n",
    "y = 3\n",
    "\n",
    "import numpy as np\n",
    "\n",
    "%whos"
   ]
  },
  {
   "cell_type": "markdown",
   "id": "eea0662c",
   "metadata": {},
   "source": [
    "### The Global Namespace\n",
    "\n",
    "\n",
    "<a id='index-8'></a>\n",
    "Python documentation often makes reference to the “global namespace”.\n",
    "\n",
    "The global namespace is *the namespace of the module currently being executed*.\n",
    "\n",
    "For example, suppose that we start the interpreter and begin making assignments .\n",
    "\n",
    "We are now working in the module `__main__`, and hence the namespace for `__main__` is the global namespace.\n",
    "\n",
    "Next, we import a module called `amodule`"
   ]
  },
  {
   "cell_type": "markdown",
   "id": "bcf2d7ef",
   "metadata": {
    "hide-output": false
   },
   "source": [
    "```python3\n",
    "import amodule\n",
    "```\n"
   ]
  },
  {
   "cell_type": "markdown",
   "id": "8f7b9496",
   "metadata": {},
   "source": [
    "At this point, the interpreter creates a namespace for the module `amodule` and starts executing commands in the module.\n",
    "\n",
    "While this occurs, the namespace `amodule.__dict__` is the global namespace.\n",
    "\n",
    "Once execution of the module finishes, the interpreter returns to the module from where the import statement was made.\n",
    "\n",
    "In this case it’s `__main__`, so the namespace of `__main__` again becomes the global namespace."
   ]
  },
  {
   "cell_type": "markdown",
   "id": "31c2cb22",
   "metadata": {},
   "source": [
    "### Local Namespaces\n",
    "\n",
    "\n",
    "<a id='index-9'></a>\n",
    "Important fact: When we call a function, the interpreter creates a *local namespace* for that function, and registers the variables in that namespace.\n",
    "\n",
    "The reason for this will be explained in just a moment.\n",
    "\n",
    "Variables in the local namespace are called *local variables*.\n",
    "\n",
    "After the function returns, the namespace is deallocated and lost.\n",
    "\n",
    "While the function is executing, we can view the contents of the local namespace with `locals()`.\n",
    "\n",
    "For example, consider"
   ]
  },
  {
   "cell_type": "code",
   "execution_count": null,
   "id": "4853a797",
   "metadata": {
    "hide-output": false
   },
   "outputs": [],
   "source": [
    "def f(x):\n",
    "    a = 2\n",
    "    print(locals())\n",
    "    return a * x"
   ]
  },
  {
   "cell_type": "markdown",
   "id": "d16fe163",
   "metadata": {},
   "source": [
    "Now let’s call the function"
   ]
  },
  {
   "cell_type": "code",
   "execution_count": null,
   "id": "098384ec",
   "metadata": {
    "hide-output": false
   },
   "outputs": [],
   "source": [
    "f(1)"
   ]
  },
  {
   "cell_type": "markdown",
   "id": "64a40f00",
   "metadata": {},
   "source": [
    "You can see the local namespace of `f` before it is destroyed."
   ]
  },
  {
   "cell_type": "markdown",
   "id": "2a4fdd8a",
   "metadata": {},
   "source": [
    "### The `__builtins__` Namespace\n",
    "\n",
    "\n",
    "<a id='index-10'></a>\n",
    "We have been using various built-in functions, such as `max(), dir(), str(), list(), len(), range(), type()`, etc.\n",
    "\n",
    "How does access to these names work?\n",
    "\n",
    "- These definitions are stored in a module called `__builtin__`.  \n",
    "- They have there own namespace called `__builtins__`.  "
   ]
  },
  {
   "cell_type": "code",
   "execution_count": null,
   "id": "a4e77b83",
   "metadata": {
    "hide-output": false
   },
   "outputs": [],
   "source": [
    "dir()[0:10]"
   ]
  },
  {
   "cell_type": "code",
   "execution_count": null,
   "id": "d501928a",
   "metadata": {
    "hide-output": false
   },
   "outputs": [],
   "source": [
    "dir(__builtins__)[0:10]"
   ]
  },
  {
   "cell_type": "markdown",
   "id": "fe791e4e",
   "metadata": {},
   "source": [
    "We can access elements of the namespace as follows"
   ]
  },
  {
   "cell_type": "code",
   "execution_count": null,
   "id": "dd8c487f",
   "metadata": {
    "hide-output": false
   },
   "outputs": [],
   "source": [
    "__builtins__.max"
   ]
  },
  {
   "cell_type": "markdown",
   "id": "1af050fd",
   "metadata": {},
   "source": [
    "But `__builtins__` is special, because we can always access them directly as well"
   ]
  },
  {
   "cell_type": "code",
   "execution_count": null,
   "id": "0f97a132",
   "metadata": {
    "hide-output": false
   },
   "outputs": [],
   "source": [
    "max"
   ]
  },
  {
   "cell_type": "code",
   "execution_count": null,
   "id": "0798b7a5",
   "metadata": {
    "hide-output": false
   },
   "outputs": [],
   "source": [
    "__builtins__.max == max"
   ]
  },
  {
   "cell_type": "markdown",
   "id": "aceb4bd4",
   "metadata": {},
   "source": [
    "The next section explains how this works …"
   ]
  },
  {
   "cell_type": "markdown",
   "id": "1852e775",
   "metadata": {},
   "source": [
    "### Name Resolution\n",
    "\n",
    "\n",
    "<a id='index-11'></a>\n",
    "Namespaces are great because they help us organize variable names.\n",
    "\n",
    "(Type `import this` at the prompt and look at the last item that’s printed)\n",
    "\n",
    "However, we do need to understand how the Python interpreter works with multiple namespaces .\n",
    "\n",
    "At any point of execution, there are in fact at least two namespaces that can be accessed directly.\n",
    "\n",
    "(“Accessed directly” means without using a dot, as in  `pi` rather than `math.pi`)\n",
    "\n",
    "These namespaces are\n",
    "\n",
    "- The global namespace (of the module being executed)  \n",
    "- The builtin namespace  \n",
    "\n",
    "\n",
    "If the interpreter is executing a function, then the directly accessible namespaces are\n",
    "\n",
    "- The local namespace of the function  \n",
    "- The global namespace (of the module being executed)  \n",
    "- The builtin namespace  \n",
    "\n",
    "\n",
    "Sometimes functions are defined within other functions, like so"
   ]
  },
  {
   "cell_type": "code",
   "execution_count": null,
   "id": "ac18282b",
   "metadata": {
    "hide-output": false
   },
   "outputs": [],
   "source": [
    "def f():\n",
    "    a = 2\n",
    "    def g():\n",
    "        b = 4\n",
    "        print(a * b)\n",
    "    g()"
   ]
  },
  {
   "cell_type": "markdown",
   "id": "ceb6baad",
   "metadata": {},
   "source": [
    "Here `f` is the *enclosing function* for `g`, and each function gets its\n",
    "own namespaces.\n",
    "\n",
    "Now we can give the rule for how namespace resolution works:\n",
    "\n",
    "The order in which the interpreter searches for names is\n",
    "\n",
    "1. the local namespace (if it exists)  \n",
    "1. the hierarchy of enclosing namespaces (if they exist)  \n",
    "1. the global namespace  \n",
    "1. the builtin namespace  \n",
    "\n",
    "\n",
    "If the name is not in any of these namespaces, the interpreter raises a `NameError`.\n",
    "\n",
    "This is called the **LEGB rule** (local, enclosing, global, builtin).\n",
    "\n",
    "Here’s an example that helps to illustrate .\n",
    "\n",
    "Consider a script `test.py` that looks as follows"
   ]
  },
  {
   "cell_type": "code",
   "execution_count": null,
   "id": "1b9b2cfc",
   "metadata": {
    "hide-output": false
   },
   "outputs": [],
   "source": [
    "%%file test.py\n",
    "def g(x):\n",
    "    a = 1\n",
    "    x = x + a\n",
    "    return x\n",
    "\n",
    "a = 0\n",
    "y = g(10)\n",
    "print(\"a = \", a, \"y = \", y)"
   ]
  },
  {
   "cell_type": "markdown",
   "id": "ce927bc0",
   "metadata": {},
   "source": [
    "What happens when we run this script?"
   ]
  },
  {
   "cell_type": "code",
   "execution_count": null,
   "id": "2fd8e585",
   "metadata": {
    "hide-output": false
   },
   "outputs": [],
   "source": [
    "%run test.py"
   ]
  },
  {
   "cell_type": "code",
   "execution_count": null,
   "id": "d994a3c0",
   "metadata": {
    "hide-output": false
   },
   "outputs": [],
   "source": [
    "x"
   ]
  },
  {
   "cell_type": "markdown",
   "id": "4ce67a5c",
   "metadata": {},
   "source": [
    "First,\n",
    "\n",
    "- The global namespace `{}` is created.  \n",
    "- The function object is created, and `g` is bound to it within the global namespace.  \n",
    "- The name `a` is bound to `0`, again in the global namespace.  \n",
    "\n",
    "\n",
    "Next `g` is called via `y = g(10)`, leading to the following sequence of actions\n",
    "\n",
    "- The local namespace for the function is created.  \n",
    "- Local names `x` and `a` are bound, so that the local namespace becomes `{'x': 10, 'a': 1}`.  \n",
    "- Statement `x = x + a` uses the local `a` and local `x` to compute `x + a`, and binds local name `x` to the result.  \n",
    "- This value is returned, and `y` is bound to it in the global namespace.  \n",
    "- Local `x` and `a` are discarded (and the local namespace is deallocated).  \n",
    "\n",
    "\n",
    "Note that the global `a` was not affected by the local `a`.\n",
    "\n",
    "\n",
    "<a id='mutable-vs-immutable'></a>"
   ]
  },
  {
   "cell_type": "markdown",
   "id": "20b190ec",
   "metadata": {},
   "source": [
    "### Mutable Versus Immutable Parameters\n",
    "\n",
    "This is a good time to say a little more about mutable vs immutable objects.\n",
    "\n",
    "Consider the code segment"
   ]
  },
  {
   "cell_type": "code",
   "execution_count": null,
   "id": "76bf6419",
   "metadata": {
    "hide-output": false
   },
   "outputs": [],
   "source": [
    "def f(x):\n",
    "    x = x + 1\n",
    "    return x\n",
    "\n",
    "x = 1\n",
    "print(f(x), x)"
   ]
  },
  {
   "cell_type": "markdown",
   "id": "5c0c9888",
   "metadata": {},
   "source": [
    "We now understand what will happen here: The code prints `2` as the value of `f(x)` and `1` as the value of `x`.\n",
    "\n",
    "First `f` and `x` are registered in the global namespace.\n",
    "\n",
    "The call `f(x)` creates a local namespace and adds `x` to it, bound to `1`.\n",
    "\n",
    "Next, this local `x` is rebound to the new integer object `2`, and this value is returned.\n",
    "\n",
    "None of this affects the global `x`.\n",
    "\n",
    "However, it’s a different story when we use a **mutable** data type such as a list"
   ]
  },
  {
   "cell_type": "code",
   "execution_count": null,
   "id": "37fd1dcd",
   "metadata": {
    "hide-output": false
   },
   "outputs": [],
   "source": [
    "def f(x):\n",
    "    x[0] = x[0] + 1\n",
    "    return x\n",
    "\n",
    "x = [1]\n",
    "print(f(x), x)"
   ]
  },
  {
   "cell_type": "markdown",
   "id": "6626f666",
   "metadata": {},
   "source": [
    "This prints `[2]` as the value of `f(x)` and *same* for `x`.\n",
    "\n",
    "Here’s what happens\n",
    "\n",
    "- `f` is registered as a function in the global namespace  \n",
    "- `x` bound to `[1]` in the global namespace  \n",
    "- The call `f(x)`  \n",
    "  - Creates a local namespace  \n",
    "  - Adds `x` to local namespace, bound to `[1]`  \n",
    "  - The list `[1]` is modified to `[2]`  \n",
    "  - Returns the list `[2]`  \n",
    "  - The local namespace is deallocated, and local `x` is lost  \n",
    "- Global `x` has been modified  "
   ]
  },
  {
   "cell_type": "markdown",
   "id": "5722917f",
   "metadata": {},
   "source": [
    "## Handling Errors\n",
    "\n",
    "\n",
    "<a id='index-14'></a>\n",
    "Sometimes it’s possible to anticipate errors as we’re writing code.\n",
    "\n",
    "For example, the unbiased sample variance of sample $ y_1, \\ldots, y_n $\n",
    "is defined as\n",
    "\n",
    "$$\n",
    "s^2 := \\frac{1}{n-1} \\sum_{i=1}^n (y_i - \\bar y)^2\n",
    "\\qquad \\bar y = \\text{ sample mean}\n",
    "$$\n",
    "\n",
    "This can be calculated in NumPy using `np.var`.\n",
    "\n",
    "But if you were writing a function to handle such a calculation, you might\n",
    "anticipate a divide-by-zero error when the sample size is one.\n",
    "\n",
    "One possible action is to do nothing — the program will just crash, and spit out an error message.\n",
    "\n",
    "But sometimes it’s worth writing your code in a way that anticipates and deals with runtime errors that you think might arise.\n",
    "\n",
    "Why?\n",
    "\n",
    "- Because the debugging information provided by the interpreter is often less useful than the information\n",
    "  on possible errors you have in your head when writing code.  \n",
    "- Because errors causing execution to stop are frustrating if you’re in the middle of a large computation.  \n",
    "- Because it’s reduces confidence in your code on the part of your users (if you are writing for others).  "
   ]
  },
  {
   "cell_type": "markdown",
   "id": "8a95b0e1",
   "metadata": {},
   "source": [
    "### Assertions\n",
    "\n",
    "\n",
    "<a id='index-15'></a>\n",
    "A relatively easy way to handle checks is with the `assert` keyword.\n",
    "\n",
    "For example, pretend for a moment that the `np.var` function doesn’t\n",
    "exist and we need to write our own"
   ]
  },
  {
   "cell_type": "code",
   "execution_count": null,
   "id": "3dd2f2b7",
   "metadata": {
    "hide-output": false
   },
   "outputs": [],
   "source": [
    "def var(y):\n",
    "    n = len(y)\n",
    "    assert n > 1, 'Sample size must be greater than one.'\n",
    "    return np.sum((y - y.mean())**2) / float(n-1)"
   ]
  },
  {
   "cell_type": "markdown",
   "id": "588d1b8d",
   "metadata": {},
   "source": [
    "If we run this with an array of length one, the program will terminate and\n",
    "print our error message"
   ]
  },
  {
   "cell_type": "code",
   "execution_count": null,
   "id": "2d09bbf4",
   "metadata": {
    "hide-output": false
   },
   "outputs": [],
   "source": [
    "var([1])"
   ]
  },
  {
   "cell_type": "markdown",
   "id": "3c593016",
   "metadata": {},
   "source": [
    "The advantage is that we can\n",
    "\n",
    "- fail early, as soon as we know there will be a problem  \n",
    "- supply specific information on why a program is failing  "
   ]
  },
  {
   "cell_type": "markdown",
   "id": "fe0a6717",
   "metadata": {},
   "source": [
    "### Handling Errors During Runtime\n",
    "\n",
    "\n",
    "<a id='index-16'></a>\n",
    "The approach used above is a bit limited, because it always leads to\n",
    "termination.\n",
    "\n",
    "Sometimes we can handle errors more gracefully, by treating special cases.\n",
    "\n",
    "Let’s look at how this is done."
   ]
  },
  {
   "cell_type": "markdown",
   "id": "7b3726b1",
   "metadata": {},
   "source": [
    "#### Exceptions\n",
    "\n",
    "\n",
    "<a id='index-17'></a>\n",
    "Here’s an example of a common error type"
   ]
  },
  {
   "cell_type": "code",
   "execution_count": null,
   "id": "73352ea3",
   "metadata": {
    "hide-output": false
   },
   "outputs": [],
   "source": [
    "def f:"
   ]
  },
  {
   "cell_type": "markdown",
   "id": "6e7c1628",
   "metadata": {},
   "source": [
    "Since illegal syntax cannot be executed, a syntax error terminates execution of the program.\n",
    "\n",
    "Here’s a different kind of error, unrelated to syntax"
   ]
  },
  {
   "cell_type": "code",
   "execution_count": null,
   "id": "0e6913b7",
   "metadata": {
    "hide-output": false
   },
   "outputs": [],
   "source": [
    "1 / 0"
   ]
  },
  {
   "cell_type": "markdown",
   "id": "e94881d8",
   "metadata": {},
   "source": [
    "Here’s another"
   ]
  },
  {
   "cell_type": "code",
   "execution_count": null,
   "id": "ac4737a3",
   "metadata": {
    "hide-output": false
   },
   "outputs": [],
   "source": [
    "x1 = y1"
   ]
  },
  {
   "cell_type": "markdown",
   "id": "01820c12",
   "metadata": {},
   "source": [
    "And another"
   ]
  },
  {
   "cell_type": "code",
   "execution_count": null,
   "id": "062ae5bd",
   "metadata": {
    "hide-output": false
   },
   "outputs": [],
   "source": [
    "'foo' + 6"
   ]
  },
  {
   "cell_type": "markdown",
   "id": "998d75f5",
   "metadata": {},
   "source": [
    "And another"
   ]
  },
  {
   "cell_type": "code",
   "execution_count": null,
   "id": "abda208a",
   "metadata": {
    "hide-output": false
   },
   "outputs": [],
   "source": [
    "X = []\n",
    "x = X[0]"
   ]
  },
  {
   "cell_type": "markdown",
   "id": "48a0722a",
   "metadata": {},
   "source": [
    "On each occasion, the interpreter informs us of the error type\n",
    "\n",
    "- `NameError`, `TypeError`, `IndexError`, `ZeroDivisionError`, etc.  \n",
    "\n",
    "\n",
    "In Python, these errors are called *exceptions*."
   ]
  },
  {
   "cell_type": "markdown",
   "id": "6f2d9b57",
   "metadata": {},
   "source": [
    "#### Catching Exceptions\n",
    "\n",
    "We can catch and deal with exceptions using `try` – `except` blocks.\n",
    "\n",
    "Here’s a simple example"
   ]
  },
  {
   "cell_type": "code",
   "execution_count": null,
   "id": "b826c50b",
   "metadata": {
    "hide-output": false
   },
   "outputs": [],
   "source": [
    "def f(x):\n",
    "    try:\n",
    "        return 1.0 / x\n",
    "    except ZeroDivisionError:\n",
    "        print('Error: division by zero.  Returned None')\n",
    "    return None"
   ]
  },
  {
   "cell_type": "markdown",
   "id": "93789785",
   "metadata": {},
   "source": [
    "When we call `f` we get the following output"
   ]
  },
  {
   "cell_type": "code",
   "execution_count": null,
   "id": "1bcd8048",
   "metadata": {
    "hide-output": false
   },
   "outputs": [],
   "source": [
    "f(2)"
   ]
  },
  {
   "cell_type": "code",
   "execution_count": null,
   "id": "be1b5a66",
   "metadata": {
    "hide-output": false
   },
   "outputs": [],
   "source": [
    "f(0)"
   ]
  },
  {
   "cell_type": "code",
   "execution_count": null,
   "id": "69093ad5",
   "metadata": {
    "hide-output": false
   },
   "outputs": [],
   "source": [
    "f(0.0)"
   ]
  },
  {
   "cell_type": "markdown",
   "id": "f7b444d2",
   "metadata": {},
   "source": [
    "The error is caught and execution of the program is not terminated.\n",
    "\n",
    "Note that other error types are not caught.\n",
    "\n",
    "If we are worried the user might pass in a string, we can catch that error too"
   ]
  },
  {
   "cell_type": "code",
   "execution_count": null,
   "id": "bc1b4631",
   "metadata": {
    "hide-output": false
   },
   "outputs": [],
   "source": [
    "def f(x):\n",
    "    try:\n",
    "        return 1.0 / x\n",
    "    except ZeroDivisionError:\n",
    "        print('Error: Division by zero.  Returned None')\n",
    "    except TypeError:\n",
    "        print('Error: Unsupported operation.  Returned None')\n",
    "    return None"
   ]
  },
  {
   "cell_type": "markdown",
   "id": "4be27514",
   "metadata": {},
   "source": [
    "Here’s what happens"
   ]
  },
  {
   "cell_type": "code",
   "execution_count": null,
   "id": "69e957ff",
   "metadata": {
    "hide-output": false
   },
   "outputs": [],
   "source": [
    "f(2)"
   ]
  },
  {
   "cell_type": "code",
   "execution_count": null,
   "id": "ba9ba40d",
   "metadata": {
    "hide-output": false
   },
   "outputs": [],
   "source": [
    "f(0)"
   ]
  },
  {
   "cell_type": "code",
   "execution_count": null,
   "id": "b5287aa6",
   "metadata": {
    "hide-output": false
   },
   "outputs": [],
   "source": [
    "f('foo')"
   ]
  },
  {
   "cell_type": "markdown",
   "id": "81f777da",
   "metadata": {},
   "source": [
    "If we feel lazy we can catch these errors together"
   ]
  },
  {
   "cell_type": "code",
   "execution_count": null,
   "id": "39508d35",
   "metadata": {
    "hide-output": false
   },
   "outputs": [],
   "source": [
    "def f(x):\n",
    "    try:\n",
    "        return 1.0 / x\n",
    "    except (TypeError, ZeroDivisionError):\n",
    "        print('Error: Unsupported operation.  Returned None')\n",
    "    return None"
   ]
  },
  {
   "cell_type": "markdown",
   "id": "9ce73985",
   "metadata": {},
   "source": [
    "Here’s what happens"
   ]
  },
  {
   "cell_type": "code",
   "execution_count": null,
   "id": "0fa4f8e9",
   "metadata": {
    "hide-output": false
   },
   "outputs": [],
   "source": [
    "f(2)"
   ]
  },
  {
   "cell_type": "code",
   "execution_count": null,
   "id": "54bce094",
   "metadata": {
    "hide-output": false
   },
   "outputs": [],
   "source": [
    "f(0)"
   ]
  },
  {
   "cell_type": "code",
   "execution_count": null,
   "id": "e9c7b037",
   "metadata": {
    "hide-output": false
   },
   "outputs": [],
   "source": [
    "f('foo')"
   ]
  },
  {
   "cell_type": "markdown",
   "id": "4a4db0ab",
   "metadata": {},
   "source": [
    "If we feel extra lazy we can catch all error types as follows"
   ]
  },
  {
   "cell_type": "code",
   "execution_count": null,
   "id": "4072875c",
   "metadata": {
    "hide-output": false
   },
   "outputs": [],
   "source": [
    "def f(x):\n",
    "    try:\n",
    "        return 1.0 / x\n",
    "    except:\n",
    "        print('Error.  Returned None')\n",
    "    return None"
   ]
  },
  {
   "cell_type": "markdown",
   "id": "475bcfa5",
   "metadata": {},
   "source": [
    "In general it’s better to be specific."
   ]
  },
  {
   "cell_type": "markdown",
   "id": "82f97ee7",
   "metadata": {},
   "source": [
    "## Decorators and Descriptors\n",
    "\n",
    "\n",
    "<a id='index-19'></a>\n",
    "Let’s look at some special syntax elements that are routinely used by Python developers.\n",
    "\n",
    "You might not need the following concepts immediately, but you will see them\n",
    "in other people’s code.\n",
    "\n",
    "Hence you need to understand them at some stage of your Python education."
   ]
  },
  {
   "cell_type": "markdown",
   "id": "96d6cf14",
   "metadata": {},
   "source": [
    "### Decorators\n",
    "\n",
    "\n",
    "<a id='index-20'></a>\n",
    "Decorators are a bit of syntactic sugar that, while easily avoided, have turned out to be popular.\n",
    "\n",
    "It’s very easy to say what decorators do.\n",
    "\n",
    "On the other hand it takes a bit of effort to explain *why* you might use them."
   ]
  },
  {
   "cell_type": "markdown",
   "id": "e7f42de5",
   "metadata": {},
   "source": [
    "#### An Example\n",
    "\n",
    "Suppose we are working on a program that looks something like this"
   ]
  },
  {
   "cell_type": "code",
   "execution_count": null,
   "id": "e0315202",
   "metadata": {
    "hide-output": false
   },
   "outputs": [],
   "source": [
    "import numpy as np\n",
    "\n",
    "def f(x):\n",
    "    return np.log(np.log(x))\n",
    "\n",
    "def g(x):\n",
    "    return np.sqrt(42 * x)\n",
    "\n",
    "# Program continues with various calculations using f and g"
   ]
  },
  {
   "cell_type": "markdown",
   "id": "c5476a45",
   "metadata": {},
   "source": [
    "Now suppose there’s a problem: occasionally negative numbers get fed to `f` and `g` in the calculations that follow.\n",
    "\n",
    "If you try it, you’ll see that when these functions are called with negative numbers they return a NumPy object called `nan` .\n",
    "\n",
    "This stands for “not a number” (and indicates that you are trying to evaluate\n",
    "a mathematical function at a point where it is not defined).\n",
    "\n",
    "Perhaps this isn’t what we want, because it causes other problems that are hard to pick up later on.\n",
    "\n",
    "Suppose that instead we want the program to terminate whenever this happens, with a sensible error message.\n",
    "\n",
    "This change is easy enough to implement"
   ]
  },
  {
   "cell_type": "code",
   "execution_count": null,
   "id": "b3f398a7",
   "metadata": {
    "hide-output": false
   },
   "outputs": [],
   "source": [
    "import numpy as np\n",
    "\n",
    "def f(x):\n",
    "    assert x >= 0, \"Argument must be nonnegative\"\n",
    "    return np.log(np.log(x))\n",
    "\n",
    "def g(x):\n",
    "    assert x >= 0, \"Argument must be nonnegative\"\n",
    "    return np.sqrt(42 * x)\n",
    "\n",
    "# Program continues with various calculations using f and g"
   ]
  },
  {
   "cell_type": "markdown",
   "id": "0f246d00",
   "metadata": {},
   "source": [
    "Notice however that there is some repetition here, in the form of two identical lines of code.\n",
    "\n",
    "Repetition makes our code longer and harder to maintain, and hence is\n",
    "something we try hard to avoid.\n",
    "\n",
    "Here it’s not a big deal, but imagine now that instead of just `f` and `g`, we have 20 such functions that we need to modify in exactly the same way.\n",
    "\n",
    "This means we need to repeat the test logic (i.e., the `assert` line testing nonnegativity) 20 times.\n",
    "\n",
    "The situation is still worse if the test logic is longer and more complicated.\n",
    "\n",
    "In this kind of scenario the following approach would be neater"
   ]
  },
  {
   "cell_type": "code",
   "execution_count": null,
   "id": "80d05997",
   "metadata": {
    "hide-output": false
   },
   "outputs": [],
   "source": [
    "import numpy as np\n",
    "\n",
    "def check_nonneg(func):\n",
    "    def safe_function(x):\n",
    "        assert x >= 0, \"Argument must be nonnegative\"\n",
    "        return func(x)\n",
    "    return safe_function\n",
    "\n",
    "def f(x):\n",
    "    return np.log(np.log(x))\n",
    "\n",
    "def g(x):\n",
    "    return np.sqrt(42 * x)\n",
    "\n",
    "f = check_nonneg(f)\n",
    "g = check_nonneg(g)\n",
    "# Program continues with various calculations using f and g"
   ]
  },
  {
   "cell_type": "markdown",
   "id": "ccd76536",
   "metadata": {},
   "source": [
    "This looks complicated so let’s work through it slowly.\n",
    "\n",
    "To unravel the logic, consider what happens when we say `f = check_nonneg(f)`.\n",
    "\n",
    "This calls the function `check_nonneg` with parameter `func` set equal to `f`.\n",
    "\n",
    "Now `check_nonneg` creates a new function called `safe_function` that\n",
    "verifies `x` as nonnegative and then calls `func` on it (which is the same as `f`).\n",
    "\n",
    "Finally, the global name `f` is then set equal to `safe_function`.\n",
    "\n",
    "Now the behavior of `f` is as we desire, and the same is true of `g`.\n",
    "\n",
    "At the same time, the test logic is written only once."
   ]
  },
  {
   "cell_type": "markdown",
   "id": "9c505c59",
   "metadata": {},
   "source": [
    "#### Enter Decorators\n",
    "\n",
    "\n",
    "<a id='index-21'></a>\n",
    "The last version of our code is still not ideal.\n",
    "\n",
    "For example, if someone is reading our code and wants to know how\n",
    "`f` works, they will be looking for the function definition, which is"
   ]
  },
  {
   "cell_type": "code",
   "execution_count": null,
   "id": "a25b0946",
   "metadata": {
    "hide-output": false
   },
   "outputs": [],
   "source": [
    "def f(x):\n",
    "    return np.log(np.log(x))"
   ]
  },
  {
   "cell_type": "markdown",
   "id": "df97b66e",
   "metadata": {},
   "source": [
    "They may well miss the line `f = check_nonneg(f)`.\n",
    "\n",
    "For this and other reasons, decorators were introduced to Python.\n",
    "\n",
    "With decorators, we can replace the lines"
   ]
  },
  {
   "cell_type": "code",
   "execution_count": null,
   "id": "fa5db86a",
   "metadata": {
    "hide-output": false
   },
   "outputs": [],
   "source": [
    "def f(x):\n",
    "    return np.log(np.log(x))\n",
    "\n",
    "def g(x):\n",
    "    return np.sqrt(42 * x)\n",
    "\n",
    "f = check_nonneg(f)\n",
    "g = check_nonneg(g)"
   ]
  },
  {
   "cell_type": "markdown",
   "id": "238878fd",
   "metadata": {},
   "source": [
    "with"
   ]
  },
  {
   "cell_type": "code",
   "execution_count": null,
   "id": "70e62af8",
   "metadata": {
    "hide-output": false
   },
   "outputs": [],
   "source": [
    "@check_nonneg\n",
    "def f(x):\n",
    "    return np.log(np.log(x))\n",
    "\n",
    "@check_nonneg\n",
    "def g(x):\n",
    "    return np.sqrt(42 * x)"
   ]
  },
  {
   "cell_type": "markdown",
   "id": "1dcf42a2",
   "metadata": {},
   "source": [
    "These two pieces of code do exactly the same thing.\n",
    "\n",
    "If they do the same thing, do we really need decorator syntax?\n",
    "\n",
    "Well, notice that the decorators sit right on top of the function definitions.\n",
    "\n",
    "Hence anyone looking at the definition of the function will see them and be\n",
    "aware that the function is modified.\n",
    "\n",
    "In the opinion of many people, this makes the decorator syntax a significant improvement to the language.\n",
    "\n",
    "\n",
    "<a id='descriptors'></a>"
   ]
  },
  {
   "cell_type": "markdown",
   "id": "1fd40a26",
   "metadata": {},
   "source": [
    "### Descriptors\n",
    "\n",
    "\n",
    "<a id='index-22'></a>\n",
    "Descriptors solve a common problem regarding management of variables.\n",
    "\n",
    "To understand the issue, consider a `Car` class, that simulates a car.\n",
    "\n",
    "Suppose that this class defines the variables `miles` and `kms`, which give the distance traveled in miles\n",
    "and kilometers respectively.\n",
    "\n",
    "A highly simplified version of the class might look as follows"
   ]
  },
  {
   "cell_type": "code",
   "execution_count": null,
   "id": "04798069",
   "metadata": {
    "hide-output": false
   },
   "outputs": [],
   "source": [
    "class Car:\n",
    "\n",
    "    def __init__(self, miles=1000):\n",
    "        self.miles = miles\n",
    "        self.kms = miles * 1.61\n",
    "\n",
    "    # Some other functionality, details omitted"
   ]
  },
  {
   "cell_type": "markdown",
   "id": "8b54de3c",
   "metadata": {},
   "source": [
    "One potential problem we might have here is that a user alters one of these\n",
    "variables but not the other"
   ]
  },
  {
   "cell_type": "code",
   "execution_count": null,
   "id": "54bbac36",
   "metadata": {
    "hide-output": false
   },
   "outputs": [],
   "source": [
    "car = Car()\n",
    "car.miles"
   ]
  },
  {
   "cell_type": "code",
   "execution_count": null,
   "id": "4d875dcc",
   "metadata": {
    "hide-output": false
   },
   "outputs": [],
   "source": [
    "car.kms"
   ]
  },
  {
   "cell_type": "code",
   "execution_count": null,
   "id": "ce02c313",
   "metadata": {
    "hide-output": false
   },
   "outputs": [],
   "source": [
    "car.miles = 6000\n",
    "car.kms"
   ]
  },
  {
   "cell_type": "markdown",
   "id": "7ba7a4d7",
   "metadata": {},
   "source": [
    "In the last two lines we see that `miles` and `kms` are out of sync.\n",
    "\n",
    "What we really want is some mechanism whereby each time a user sets one of these variables, *the other is automatically updated*."
   ]
  },
  {
   "cell_type": "markdown",
   "id": "a6d439b3",
   "metadata": {},
   "source": [
    "#### A Solution\n",
    "\n",
    "In Python, this issue is solved using *descriptors*.\n",
    "\n",
    "A descriptor is just a Python object that implements certain methods.\n",
    "\n",
    "These methods are triggered when the object is accessed through dotted attribute notation.\n",
    "\n",
    "The best way to understand this is to see it in action.\n",
    "\n",
    "Consider this alternative version of the `Car` class"
   ]
  },
  {
   "cell_type": "code",
   "execution_count": null,
   "id": "54584fbb",
   "metadata": {
    "hide-output": false
   },
   "outputs": [],
   "source": [
    "class Car:\n",
    "\n",
    "    def __init__(self, miles=1000):\n",
    "        self._miles = miles\n",
    "        self._kms = miles * 1.61\n",
    "\n",
    "    def set_miles(self, value):\n",
    "        self._miles = value\n",
    "        self._kms = value * 1.61\n",
    "\n",
    "    def set_kms(self, value):\n",
    "        self._kms = value\n",
    "        self._miles = value / 1.61\n",
    "\n",
    "    def get_miles(self):\n",
    "        return self._miles\n",
    "\n",
    "    def get_kms(self):\n",
    "        return self._kms\n",
    "\n",
    "    miles = property(get_miles, set_miles)\n",
    "    kms = property(get_kms, set_kms)"
   ]
  },
  {
   "cell_type": "markdown",
   "id": "1244e95a",
   "metadata": {},
   "source": [
    "First let’s check that we get the desired behavior"
   ]
  },
  {
   "cell_type": "code",
   "execution_count": null,
   "id": "f0a01098",
   "metadata": {
    "hide-output": false
   },
   "outputs": [],
   "source": [
    "car = Car()\n",
    "car.miles"
   ]
  },
  {
   "cell_type": "code",
   "execution_count": null,
   "id": "01497f78",
   "metadata": {
    "hide-output": false
   },
   "outputs": [],
   "source": [
    "car.miles = 6000\n",
    "car.kms"
   ]
  },
  {
   "cell_type": "markdown",
   "id": "3f3b7960",
   "metadata": {},
   "source": [
    "Yep, that’s what we want — `car.kms` is automatically updated."
   ]
  },
  {
   "cell_type": "markdown",
   "id": "967bbbaf",
   "metadata": {},
   "source": [
    "#### How it Works\n",
    "\n",
    "The names `_miles` and `_kms` are arbitrary names we are using to store the values of the variables.\n",
    "\n",
    "The objects `miles` and `kms` are *properties*, a common kind of descriptor.\n",
    "\n",
    "The methods `get_miles`, `set_miles`, `get_kms` and `set_kms` define\n",
    "what happens when you get (i.e. access) or set (bind) these variables\n",
    "\n",
    "- So-called “getter” and “setter” methods.  \n",
    "\n",
    "\n",
    "The builtin Python function `property` takes getter and setter methods and creates a property.\n",
    "\n",
    "For example, after `car` is created as an instance of `Car`, the object `car.miles` is a property.\n",
    "\n",
    "Being a property, when we set its value via `car.miles = 6000` its setter\n",
    "method is triggered — in this case `set_miles`."
   ]
  },
  {
   "cell_type": "markdown",
   "id": "c60c990d",
   "metadata": {},
   "source": [
    "#### Decorators and Properties\n",
    "\n",
    "\n",
    "<a id='index-24'></a>\n",
    "These days its very common to see the `property` function used via a decorator.\n",
    "\n",
    "Here’s another version of our `Car` class that works as before but now uses\n",
    "decorators to set up the properties"
   ]
  },
  {
   "cell_type": "code",
   "execution_count": null,
   "id": "f33b69b4",
   "metadata": {
    "hide-output": false
   },
   "outputs": [],
   "source": [
    "class Car:\n",
    "\n",
    "    def __init__(self, miles=1000):\n",
    "        self._miles = miles\n",
    "        self._kms = miles * 1.61\n",
    "\n",
    "    @property\n",
    "    def miles(self):\n",
    "        return self._miles\n",
    "\n",
    "    @property\n",
    "    def kms(self):\n",
    "        return self._kms\n",
    "\n",
    "    @miles.setter\n",
    "    def miles(self, value):\n",
    "        self._miles = value\n",
    "        self._kms = value * 1.61\n",
    "\n",
    "    @kms.setter\n",
    "    def kms(self, value):\n",
    "        self._kms = value\n",
    "        self._miles = value / 1.61"
   ]
  },
  {
   "cell_type": "markdown",
   "id": "a6044bc7",
   "metadata": {},
   "source": [
    "We won’t go through all the details here.\n",
    "\n",
    "For further information you can refer to the [descriptor documentation](https://docs.python.org/3/howto/descriptor.html).\n",
    "\n",
    "\n",
    "<a id='paf-generators'></a>"
   ]
  },
  {
   "cell_type": "markdown",
   "id": "0cf90e83",
   "metadata": {},
   "source": [
    "## Generators\n",
    "\n",
    "\n",
    "<a id='index-25'></a>\n",
    "A generator is a kind of iterator (i.e., it works with a `next` function).\n",
    "\n",
    "We will study two ways to build generators: generator expressions and generator functions."
   ]
  },
  {
   "cell_type": "markdown",
   "id": "7442a31b",
   "metadata": {},
   "source": [
    "### Generator Expressions\n",
    "\n",
    "The easiest way to build generators is using *generator expressions*.\n",
    "\n",
    "Just like a list comprehension, but with round brackets.\n",
    "\n",
    "Here is the list comprehension:"
   ]
  },
  {
   "cell_type": "code",
   "execution_count": null,
   "id": "32048a55",
   "metadata": {
    "hide-output": false
   },
   "outputs": [],
   "source": [
    "singular = ('dog', 'cat', 'bird')\n",
    "type(singular)"
   ]
  },
  {
   "cell_type": "code",
   "execution_count": null,
   "id": "a5edca1c",
   "metadata": {
    "hide-output": false
   },
   "outputs": [],
   "source": [
    "plural = [string + 's' for string in singular]\n",
    "plural"
   ]
  },
  {
   "cell_type": "code",
   "execution_count": null,
   "id": "94e3ea19",
   "metadata": {
    "hide-output": false
   },
   "outputs": [],
   "source": [
    "type(plural)"
   ]
  },
  {
   "cell_type": "markdown",
   "id": "5a17a835",
   "metadata": {},
   "source": [
    "And here is the generator expression"
   ]
  },
  {
   "cell_type": "code",
   "execution_count": null,
   "id": "bd6a624c",
   "metadata": {
    "hide-output": false
   },
   "outputs": [],
   "source": [
    "singular = ('dog', 'cat', 'bird')\n",
    "plural = (string + 's' for string in singular)\n",
    "type(plural)"
   ]
  },
  {
   "cell_type": "code",
   "execution_count": null,
   "id": "80ec63c1",
   "metadata": {
    "hide-output": false
   },
   "outputs": [],
   "source": [
    "next(plural)"
   ]
  },
  {
   "cell_type": "code",
   "execution_count": null,
   "id": "6412560e",
   "metadata": {
    "hide-output": false
   },
   "outputs": [],
   "source": [
    "next(plural)"
   ]
  },
  {
   "cell_type": "code",
   "execution_count": null,
   "id": "13e2584f",
   "metadata": {
    "hide-output": false
   },
   "outputs": [],
   "source": [
    "next(plural)"
   ]
  },
  {
   "cell_type": "markdown",
   "id": "e056b237",
   "metadata": {},
   "source": [
    "Since `sum()` can be called on iterators, we can do this"
   ]
  },
  {
   "cell_type": "code",
   "execution_count": null,
   "id": "e1117370",
   "metadata": {
    "hide-output": false
   },
   "outputs": [],
   "source": [
    "sum((x * x for x in range(10)))"
   ]
  },
  {
   "cell_type": "markdown",
   "id": "fdb4985d",
   "metadata": {},
   "source": [
    "The function `sum()` calls `next()` to get the items, adds successive terms.\n",
    "\n",
    "In fact, we can omit the outer brackets in this case"
   ]
  },
  {
   "cell_type": "code",
   "execution_count": null,
   "id": "dab9fb06",
   "metadata": {
    "hide-output": false
   },
   "outputs": [],
   "source": [
    "sum(x * x for x in range(10))"
   ]
  },
  {
   "cell_type": "markdown",
   "id": "ca15a936",
   "metadata": {},
   "source": [
    "### Generator Functions\n",
    "\n",
    "\n",
    "<a id='index-26'></a>\n",
    "The most flexible way to create generator objects is to use generator functions.\n",
    "\n",
    "Let’s look at some examples."
   ]
  },
  {
   "cell_type": "markdown",
   "id": "45f283c1",
   "metadata": {},
   "source": [
    "#### Example 1\n",
    "\n",
    "Here’s a very simple example of a generator function"
   ]
  },
  {
   "cell_type": "code",
   "execution_count": null,
   "id": "4036e8bc",
   "metadata": {
    "hide-output": false
   },
   "outputs": [],
   "source": [
    "def f():\n",
    "    yield 'start'\n",
    "    yield 'middle'\n",
    "    yield 'end'"
   ]
  },
  {
   "cell_type": "markdown",
   "id": "0e5dabfd",
   "metadata": {},
   "source": [
    "It looks like a function, but uses a keyword `yield` that we haven’t met before.\n",
    "\n",
    "Let’s see how it works after running this code"
   ]
  },
  {
   "cell_type": "code",
   "execution_count": null,
   "id": "5a7b7ab0",
   "metadata": {
    "hide-output": false
   },
   "outputs": [],
   "source": [
    "type(f)"
   ]
  },
  {
   "cell_type": "code",
   "execution_count": null,
   "id": "be25a36c",
   "metadata": {
    "hide-output": false
   },
   "outputs": [],
   "source": [
    "gen = f()\n",
    "gen"
   ]
  },
  {
   "cell_type": "code",
   "execution_count": null,
   "id": "a9bff1ff",
   "metadata": {
    "hide-output": false
   },
   "outputs": [],
   "source": [
    "next(gen)"
   ]
  },
  {
   "cell_type": "code",
   "execution_count": null,
   "id": "137874e6",
   "metadata": {
    "hide-output": false
   },
   "outputs": [],
   "source": [
    "next(gen)"
   ]
  },
  {
   "cell_type": "code",
   "execution_count": null,
   "id": "f46bad27",
   "metadata": {
    "hide-output": false
   },
   "outputs": [],
   "source": [
    "next(gen)"
   ]
  },
  {
   "cell_type": "code",
   "execution_count": null,
   "id": "eda5e18b",
   "metadata": {
    "hide-output": false
   },
   "outputs": [],
   "source": [
    "next(gen)"
   ]
  },
  {
   "cell_type": "markdown",
   "id": "57cec5af",
   "metadata": {},
   "source": [
    "The generator function `f()` is used to create generator objects (in this case `gen`).\n",
    "\n",
    "Generators are iterators, because they support a `next` method.\n",
    "\n",
    "The first call to `next(gen)`\n",
    "\n",
    "- Executes code in the body of `f()` until it meets a `yield` statement.  \n",
    "- Returns that value to the caller of `next(gen)`.  \n",
    "\n",
    "\n",
    "The second call to `next(gen)` starts executing *from the next line*"
   ]
  },
  {
   "cell_type": "code",
   "execution_count": null,
   "id": "fea51c8b",
   "metadata": {
    "hide-output": false
   },
   "outputs": [],
   "source": [
    "def f():\n",
    "    yield 'start'\n",
    "    yield 'middle'  # This line!\n",
    "    yield 'end'"
   ]
  },
  {
   "cell_type": "markdown",
   "id": "d45f9974",
   "metadata": {},
   "source": [
    "and continues until the next `yield` statement.\n",
    "\n",
    "At that point it returns the value following `yield` to the caller of `next(gen)`, and so on.\n",
    "\n",
    "When the code block ends, the generator throws a `StopIteration` error."
   ]
  },
  {
   "cell_type": "markdown",
   "id": "22ffb61a",
   "metadata": {},
   "source": [
    "#### Example 2\n",
    "\n",
    "Our next example receives an argument `x` from the caller"
   ]
  },
  {
   "cell_type": "code",
   "execution_count": null,
   "id": "71071566",
   "metadata": {
    "hide-output": false
   },
   "outputs": [],
   "source": [
    "def g(x):\n",
    "    while x < 100:\n",
    "        yield x\n",
    "        x = x * x"
   ]
  },
  {
   "cell_type": "markdown",
   "id": "bb821d1e",
   "metadata": {},
   "source": [
    "Let’s see how it works"
   ]
  },
  {
   "cell_type": "code",
   "execution_count": null,
   "id": "7d9d971f",
   "metadata": {
    "hide-output": false
   },
   "outputs": [],
   "source": [
    "g"
   ]
  },
  {
   "cell_type": "code",
   "execution_count": null,
   "id": "75f8178c",
   "metadata": {
    "hide-output": false
   },
   "outputs": [],
   "source": [
    "gen = g(2)\n",
    "type(gen)"
   ]
  },
  {
   "cell_type": "code",
   "execution_count": null,
   "id": "bb8ae7cb",
   "metadata": {
    "hide-output": false
   },
   "outputs": [],
   "source": [
    "next(gen)"
   ]
  },
  {
   "cell_type": "code",
   "execution_count": null,
   "id": "d8f8b443",
   "metadata": {
    "hide-output": false
   },
   "outputs": [],
   "source": [
    "next(gen)"
   ]
  },
  {
   "cell_type": "code",
   "execution_count": null,
   "id": "1490d22b",
   "metadata": {
    "hide-output": false
   },
   "outputs": [],
   "source": [
    "next(gen)"
   ]
  },
  {
   "cell_type": "code",
   "execution_count": null,
   "id": "9c4499a0",
   "metadata": {
    "hide-output": false
   },
   "outputs": [],
   "source": [
    "next(gen)"
   ]
  },
  {
   "cell_type": "markdown",
   "id": "2e611fd3",
   "metadata": {},
   "source": [
    "The call `gen = g(2)` binds `gen` to a generator.\n",
    "\n",
    "Inside the generator, the name `x` is bound to `2`.\n",
    "\n",
    "When we call `next(gen)`\n",
    "\n",
    "- The body of `g()` executes until the line `yield x`, and the value of `x` is returned.  \n",
    "\n",
    "\n",
    "Note that value of `x` is retained inside the generator.\n",
    "\n",
    "When we call `next(gen)` again, execution continues *from where it left off*"
   ]
  },
  {
   "cell_type": "code",
   "execution_count": null,
   "id": "d4fe67e1",
   "metadata": {
    "hide-output": false
   },
   "outputs": [],
   "source": [
    "def g(x):\n",
    "    while x < 100:\n",
    "        yield x\n",
    "        x = x * x  # execution continues from here"
   ]
  },
  {
   "cell_type": "markdown",
   "id": "0bb5f414",
   "metadata": {},
   "source": [
    "When `x < 100` fails, the generator throws a `StopIteration` error.\n",
    "\n",
    "Incidentally, the loop inside the generator can be infinite"
   ]
  },
  {
   "cell_type": "code",
   "execution_count": null,
   "id": "db3985b3",
   "metadata": {
    "hide-output": false
   },
   "outputs": [],
   "source": [
    "def g(x):\n",
    "    while 1:\n",
    "        yield x\n",
    "        x = x * x"
   ]
  },
  {
   "cell_type": "markdown",
   "id": "974085c9",
   "metadata": {},
   "source": [
    "### Advantages of Iterators\n",
    "\n",
    "What’s the advantage of using an iterator here?\n",
    "\n",
    "Suppose we want to sample a binomial(n,0.5).\n",
    "\n",
    "One way to do it is as follows"
   ]
  },
  {
   "cell_type": "code",
   "execution_count": null,
   "id": "babbe458",
   "metadata": {
    "hide-output": false
   },
   "outputs": [],
   "source": [
    "import random\n",
    "n = 10000000\n",
    "draws = [random.uniform(0, 1) < 0.5 for i in range(n)]\n",
    "sum(draws)"
   ]
  },
  {
   "cell_type": "markdown",
   "id": "07c5dc70",
   "metadata": {},
   "source": [
    "But we are creating two huge lists here,  `range(n)` and `draws`.\n",
    "\n",
    "This uses lots of memory and is very slow.\n",
    "\n",
    "If we make `n` even bigger then this happens"
   ]
  },
  {
   "cell_type": "code",
   "execution_count": null,
   "id": "c576a5c7",
   "metadata": {
    "hide-output": false
   },
   "outputs": [],
   "source": [
    "n = 100000000\n",
    "draws = [random.uniform(0, 1) < 0.5 for i in range(n)]"
   ]
  },
  {
   "cell_type": "markdown",
   "id": "0a1f1024",
   "metadata": {},
   "source": [
    "We can avoid these problems using iterators.\n",
    "\n",
    "Here is the generator function"
   ]
  },
  {
   "cell_type": "code",
   "execution_count": null,
   "id": "d88b102b",
   "metadata": {
    "hide-output": false
   },
   "outputs": [],
   "source": [
    "def f(n):\n",
    "    i = 1\n",
    "    while i <= n:\n",
    "        yield random.uniform(0, 1) < 0.5\n",
    "        i += 1"
   ]
  },
  {
   "cell_type": "markdown",
   "id": "6a484e89",
   "metadata": {},
   "source": [
    "Now let’s do the sum"
   ]
  },
  {
   "cell_type": "code",
   "execution_count": null,
   "id": "ab537066",
   "metadata": {
    "hide-output": false
   },
   "outputs": [],
   "source": [
    "n = 10000000\n",
    "draws = f(n)\n",
    "draws"
   ]
  },
  {
   "cell_type": "code",
   "execution_count": null,
   "id": "8d538ddc",
   "metadata": {
    "hide-output": false
   },
   "outputs": [],
   "source": [
    "sum(draws)"
   ]
  },
  {
   "cell_type": "markdown",
   "id": "02f80b57",
   "metadata": {},
   "source": [
    "In summary, iterables\n",
    "\n",
    "- avoid the need to create big lists/tuples, and  \n",
    "- provide a uniform interface to iteration that can be used transparently in `for` loops  \n",
    "\n",
    "\n",
    "\n",
    "<a id='recursive-functions'></a>"
   ]
  },
  {
   "cell_type": "markdown",
   "id": "bdcdd14e",
   "metadata": {},
   "source": [
    "## Recursive Function Calls\n",
    "\n",
    "\n",
    "<a id='index-27'></a>\n",
    "This is not something that you will use every day, but it is still useful — you should learn it at some stage.\n",
    "\n",
    "Basically, a recursive function is a function that calls itself.\n",
    "\n",
    "For example, consider the problem of computing $ x_t $ for some t when\n",
    "\n",
    "\n",
    "<a id='equation-xseqdoub'></a>\n",
    "$$\n",
    "x_{t+1} = 2 x_t, \\quad x_0 = 1 \\tag{16.1}\n",
    "$$\n",
    "\n",
    "Obviously the answer is $ 2^t $.\n",
    "\n",
    "We can compute this easily enough with a loop"
   ]
  },
  {
   "cell_type": "code",
   "execution_count": null,
   "id": "d698a2d5",
   "metadata": {
    "hide-output": false
   },
   "outputs": [],
   "source": [
    "def x_loop(t):\n",
    "    x = 1\n",
    "    for i in range(t):\n",
    "        x = 2 * x\n",
    "    return x"
   ]
  },
  {
   "cell_type": "markdown",
   "id": "b1df4b93",
   "metadata": {},
   "source": [
    "We can also use a recursive solution, as follows"
   ]
  },
  {
   "cell_type": "code",
   "execution_count": null,
   "id": "e6ac29a6",
   "metadata": {
    "hide-output": false
   },
   "outputs": [],
   "source": [
    "def x(t):\n",
    "    if t == 0:\n",
    "        return 1\n",
    "    else:\n",
    "        return 2 * x(t-1)"
   ]
  },
  {
   "cell_type": "markdown",
   "id": "f8d4d549",
   "metadata": {},
   "source": [
    "What happens here is that each successive call uses it’s own *frame* in the *stack*\n",
    "\n",
    "- a frame is where the local variables of a given function call are held  \n",
    "- stack is memory used to process function calls  \n",
    "  - a First In Last Out (FILO) queue  \n",
    "\n",
    "\n",
    "This example is somewhat contrived, since the first (iterative) solution would usually be preferred to the recursive solution.\n",
    "\n",
    "We’ll meet less contrived applications of recursion later on."
   ]
  },
  {
   "cell_type": "markdown",
   "id": "9bf7a843",
   "metadata": {},
   "source": [
    "## Exercises"
   ]
  },
  {
   "cell_type": "markdown",
   "id": "f1d63bff",
   "metadata": {},
   "source": [
    "### Exercise 1\n",
    "\n",
    "The Fibonacci numbers are defined by\n",
    "\n",
    "\n",
    "<a id='equation-fib'></a>\n",
    "$$\n",
    "x_{t+1} = x_t + x_{t-1}, \\quad x_0 = 0, \\; x_1 = 1 \\tag{16.2}\n",
    "$$\n",
    "\n",
    "The first few numbers in the sequence are $ 0, 1, 1, 2, 3, 5, 8, 13, 21, 34, 55 $.\n",
    "\n",
    "Write a function to recursively compute the $ t $-th Fibonacci number for any $ t $."
   ]
  },
  {
   "cell_type": "markdown",
   "id": "aec02103",
   "metadata": {},
   "source": [
    "### Exercise 2\n",
    "\n",
    "Complete the following code, and test it using [this csv file](https://raw.githubusercontent.com/QuantEcon/lecture-python-programming/master/source/_static/lecture_specific/python_advanced_features/test_table.csv), which we assume that you’ve put in your current working directory"
   ]
  },
  {
   "cell_type": "markdown",
   "id": "759d71c1",
   "metadata": {
    "hide-output": false
   },
   "source": [
    "```python3\n",
    "def column_iterator(target_file, column_number):\n",
    "    \"\"\"A generator function for CSV files.\n",
    "    When called with a file name target_file (string) and column number\n",
    "    column_number (integer), the generator function returns a generator\n",
    "    that steps through the elements of column column_number in file\n",
    "    target_file.\n",
    "    \"\"\"\n",
    "    # put your code here\n",
    "\n",
    "dates = column_iterator('test_table.csv', 1)\n",
    "\n",
    "for date in dates:\n",
    "    print(date)\n",
    "```\n"
   ]
  },
  {
   "cell_type": "markdown",
   "id": "5d68ba72",
   "metadata": {},
   "source": [
    "### Exercise 3\n",
    "\n",
    "Suppose we have a text file `numbers.txt` containing the following lines"
   ]
  },
  {
   "cell_type": "markdown",
   "id": "0c05b937",
   "metadata": {
    "hide-output": false
   },
   "source": [
    "```text\n",
    "prices\n",
    "3\n",
    "8\n",
    "\n",
    "7\n",
    "21\n",
    "```\n"
   ]
  },
  {
   "cell_type": "markdown",
   "id": "73d4dbad",
   "metadata": {},
   "source": [
    "Using `try` – `except`, write a program to read in the contents of the file and sum the numbers, ignoring lines without numbers."
   ]
  },
  {
   "cell_type": "markdown",
   "id": "ab421266",
   "metadata": {},
   "source": [
    "## Solutions"
   ]
  },
  {
   "cell_type": "markdown",
   "id": "e6d30cbe",
   "metadata": {},
   "source": [
    "### Exercise 1\n",
    "\n",
    "Here’s the standard solution"
   ]
  },
  {
   "cell_type": "code",
   "execution_count": null,
   "id": "9db64c3b",
   "metadata": {
    "hide-output": false
   },
   "outputs": [],
   "source": [
    "def x(t):\n",
    "    if t == 0:\n",
    "        return 0\n",
    "    if t == 1:\n",
    "        return 1\n",
    "    else:\n",
    "        return x(t-1) + x(t-2)"
   ]
  },
  {
   "cell_type": "markdown",
   "id": "12f69b2b",
   "metadata": {},
   "source": [
    "Let’s test it"
   ]
  },
  {
   "cell_type": "code",
   "execution_count": null,
   "id": "08245cd3",
   "metadata": {
    "hide-output": false
   },
   "outputs": [],
   "source": [
    "print([x(i) for i in range(10)])"
   ]
  },
  {
   "cell_type": "markdown",
   "id": "07e01279",
   "metadata": {},
   "source": [
    "### Exercise 2\n",
    "\n",
    "One solution is as follows"
   ]
  },
  {
   "cell_type": "code",
   "execution_count": null,
   "id": "49f84ccb",
   "metadata": {
    "hide-output": false
   },
   "outputs": [],
   "source": [
    "def column_iterator(target_file, column_number):\n",
    "    \"\"\"A generator function for CSV files.\n",
    "    When called with a file name target_file (string) and column number\n",
    "    column_number (integer), the generator function returns a generator\n",
    "    which steps through the elements of column column_number in file\n",
    "    target_file.\n",
    "    \"\"\"\n",
    "    f = open(target_file, 'r')\n",
    "    for line in f:\n",
    "        yield line.split(',')[column_number - 1]\n",
    "    f.close()\n",
    "\n",
    "dates = column_iterator('test_table.csv', 1)\n",
    "\n",
    "i = 1\n",
    "for date in dates:\n",
    "    print(date)\n",
    "    if i == 10:\n",
    "        break\n",
    "    i += 1"
   ]
  },
  {
   "cell_type": "markdown",
   "id": "7d8a6b66",
   "metadata": {},
   "source": [
    "### Exercise 3\n",
    "\n",
    "Let’s save the data first"
   ]
  },
  {
   "cell_type": "code",
   "execution_count": null,
   "id": "b72e7931",
   "metadata": {
    "hide-output": false
   },
   "outputs": [],
   "source": [
    "%%file numbers.txt\n",
    "prices\n",
    "3\n",
    "8\n",
    "\n",
    "7\n",
    "21"
   ]
  },
  {
   "cell_type": "code",
   "execution_count": null,
   "id": "48ac12c8",
   "metadata": {
    "hide-output": false
   },
   "outputs": [],
   "source": [
    "f = open('numbers.txt')\n",
    "\n",
    "total = 0.0\n",
    "for line in f:\n",
    "    try:\n",
    "        total += float(line)\n",
    "    except ValueError:\n",
    "        pass\n",
    "\n",
    "f.close()\n",
    "\n",
    "print(total)"
   ]
  }
 ],
 "metadata": {
  "date": 1645587745.6011477,
  "filename": "python_advanced_features.md",
  "kernelspec": {
   "display_name": "Python",
   "language": "python3",
   "name": "python3"
  },
  "title": "More Language Features"
 },
 "nbformat": 4,
 "nbformat_minor": 5
}