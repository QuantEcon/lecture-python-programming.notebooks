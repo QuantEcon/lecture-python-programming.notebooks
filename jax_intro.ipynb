{
 "cells": [
  {
   "cell_type": "markdown",
   "id": "8cd77d38",
   "metadata": {},
   "source": [
    "# JAX"
   ]
  },
  {
   "cell_type": "markdown",
   "id": "eaf14300",
   "metadata": {},
   "source": [
    "# New website\n",
    "\n",
    "We have replaced this lecture with a new lecture series on quantitative economics using JAX:\n",
    "\n",
    "See [Quantitative Economics with JAX](https://jax.quantecon.org)"
   ]
  }
 ],
 "metadata": {
  "date": 1702956202.1228957,
  "filename": "jax_intro.md",
  "kernelspec": {
   "display_name": "Python",
   "language": "python3",
   "name": "python3"
  },
  "title": "JAX"
 },
 "nbformat": 4,
 "nbformat_minor": 5
}