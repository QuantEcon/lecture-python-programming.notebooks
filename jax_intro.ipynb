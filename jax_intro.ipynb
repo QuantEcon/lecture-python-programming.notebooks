{
 "cells": [
  {
   "cell_type": "markdown",
   "id": "12cf4399",
   "metadata": {},
   "source": [
    "# JAX\n",
    "\n",
    "This lecture provides a short introduction to [Google JAX](https://github.com/google/jax)."
   ]
  },
  {
   "cell_type": "markdown",
   "id": "ac465a3f",
   "metadata": {},
   "source": [
    "## Overview"
   ]
  },
  {
   "cell_type": "markdown",
   "id": "8463367b",
   "metadata": {},
   "source": [
    "### Capabilities\n",
    "\n",
    "[JAX](https://github.com/google/jax) is a Python library initially developed by\n",
    "Google to support in-house artificial intelligence and machine learning.\n",
    "\n",
    ">**Note**\n",
    ">\n",
    ">This lecture is built using the [following hardware](https://python-programming.quantecon.org/status.html#status-machine-details) that\n",
    "has access to an NVIDIA Tesla V100 GPU. When running this lecture on your local\n",
    "machine the speed differences will vary depending on the hardware available.\n",
    "\n",
    "JAX provides data types, functions and a compiler for fast linear\n",
    "algebra operations and automatic differentiation.\n",
    "\n",
    "Loosely speaking, JAX is like NumPy with the addition of\n",
    "\n",
    "- automatic differentiation  \n",
    "- automated GPU/TPU support  \n",
    "- a just-in-time compiler  \n",
    "\n",
    "\n",
    "One of the great benefits of JAX is that the same code can be run either on\n",
    "the CPU or on a hardware accelerator, such as a GPU or TPU.\n",
    "\n",
    "For example, JAX automatically builds and deploys kernels on the GPU whenever\n",
    "an accessible device is detected."
   ]
  },
  {
   "cell_type": "markdown",
   "id": "27c0156c",
   "metadata": {},
   "source": [
    "### History\n",
    "\n",
    "In 2015, Google open-sourced part of its AI infrastructure called TensorFlow.\n",
    "\n",
    "Around two years later, Facebook open-sourced PyTorch beta, an alternative AI\n",
    "framework which is regarded as developer-friendly and more Pythonic than\n",
    "TensorFlow.\n",
    "\n",
    "By 2019, PyTorch was surging in popularity, adopted by Uber, Airbnb, Tesla and\n",
    "many other companies.\n",
    "\n",
    "In 2020, Google launched JAX as an open-source framework, simultaneously\n",
    "beginning to shift away from TPUs to Nvidia GPUs.\n",
    "\n",
    "In the last few years, uptake of Google JAX has accelerated rapidly, bringing\n",
    "attention back to Google-based machine learning architectures."
   ]
  },
  {
   "cell_type": "markdown",
   "id": "f87f8ec4",
   "metadata": {},
   "source": [
    "### Installation\n",
    "\n",
    "JAX can be installed with or without GPU support by following [the install guide](https://github.com/google/jax).\n",
    "\n",
    "Note that JAX is pre-installed with GPU support on [Google Colab](https://colab.research.google.com/).\n",
    "\n",
    "If you do not have your own GPU, we recommend that you run this lecture on Colab."
   ]
  },
  {
   "cell_type": "markdown",
   "id": "e9a6ca50",
   "metadata": {},
   "source": [
    "## JAX as a NumPy Replacement\n",
    "\n",
    "One way to use JAX is as a plug-in NumPy replacement. Let’s look at the similarities and differences."
   ]
  },
  {
   "cell_type": "markdown",
   "id": "d856e898",
   "metadata": {},
   "source": [
    "### Similarities\n",
    "\n",
    "The following import is standard, replacing `import numpy as np`:"
   ]
  },
  {
   "cell_type": "code",
   "execution_count": null,
   "id": "d86921b0",
   "metadata": {
    "hide-output": false
   },
   "outputs": [],
   "source": [
    "import jax\n",
    "import jax.numpy as jnp"
   ]
  },
  {
   "cell_type": "markdown",
   "id": "469ec489",
   "metadata": {},
   "source": [
    "Now we can use `jnp` in place of `np` for the usual array operations:"
   ]
  },
  {
   "cell_type": "code",
   "execution_count": null,
   "id": "d00b950f",
   "metadata": {
    "hide-output": false
   },
   "outputs": [],
   "source": [
    "a = jnp.asarray((1.0, 3.2, -1.5))"
   ]
  },
  {
   "cell_type": "code",
   "execution_count": null,
   "id": "328df1fb",
   "metadata": {
    "hide-output": false
   },
   "outputs": [],
   "source": [
    "print(a)"
   ]
  },
  {
   "cell_type": "code",
   "execution_count": null,
   "id": "627e1682",
   "metadata": {
    "hide-output": false
   },
   "outputs": [],
   "source": [
    "print(jnp.sum(a))"
   ]
  },
  {
   "cell_type": "code",
   "execution_count": null,
   "id": "5d03daee",
   "metadata": {
    "hide-output": false
   },
   "outputs": [],
   "source": [
    "print(jnp.mean(a))"
   ]
  },
  {
   "cell_type": "code",
   "execution_count": null,
   "id": "6807aba2",
   "metadata": {
    "hide-output": false
   },
   "outputs": [],
   "source": [
    "print(jnp.dot(a, a))"
   ]
  },
  {
   "cell_type": "markdown",
   "id": "3b8478a2",
   "metadata": {},
   "source": [
    "However, the array object `a` is not a NumPy array:"
   ]
  },
  {
   "cell_type": "code",
   "execution_count": null,
   "id": "90a5e030",
   "metadata": {
    "hide-output": false
   },
   "outputs": [],
   "source": [
    "a"
   ]
  },
  {
   "cell_type": "code",
   "execution_count": null,
   "id": "bc08f663",
   "metadata": {
    "hide-output": false
   },
   "outputs": [],
   "source": [
    "type(a)"
   ]
  },
  {
   "cell_type": "markdown",
   "id": "55f10887",
   "metadata": {},
   "source": [
    "Even scalar-valued maps on arrays return objects of type `DeviceArray`:"
   ]
  },
  {
   "cell_type": "code",
   "execution_count": null,
   "id": "e49b1658",
   "metadata": {
    "hide-output": false
   },
   "outputs": [],
   "source": [
    "jnp.sum(a)"
   ]
  },
  {
   "cell_type": "markdown",
   "id": "9487c24b",
   "metadata": {},
   "source": [
    "The term `Device` refers to the hardware accelerator (GPU or TPU), although JAX falls back to the CPU if no accelerator is detected.\n",
    "\n",
    "(In the terminology of GPUs, the “host” is the machine that launches GPU operations, while the “device” is the GPU itself.)\n",
    "\n",
    ">**Note**\n",
    ">\n",
    ">Note that `DeviceArray` is a [*future*](https://en.wikipedia.org/wiki/Futures_and_promises); it allows Python to continue execution when the results of computation are not available immediately.\n",
    "\n",
    "This means that Python can dispatch more jobs without waiting for the computation results to be returned by the device.\n",
    "\n",
    "This feature is called [*asynchronous dispatch*](https://jax.readthedocs.io/en/latest/async_dispatch.html), which hides Python overheads and reduces wait time.\n",
    "\n",
    "Operations on higher dimensional arrays is also similar to NumPy:"
   ]
  },
  {
   "cell_type": "code",
   "execution_count": null,
   "id": "df509f35",
   "metadata": {
    "hide-output": false
   },
   "outputs": [],
   "source": [
    "A = jnp.ones((2, 2))\n",
    "B = jnp.identity(2)\n",
    "A @ B"
   ]
  },
  {
   "cell_type": "code",
   "execution_count": null,
   "id": "56abc3df",
   "metadata": {
    "hide-output": false
   },
   "outputs": [],
   "source": [
    "from jax.numpy import linalg"
   ]
  },
  {
   "cell_type": "code",
   "execution_count": null,
   "id": "fae39774",
   "metadata": {
    "hide-output": false
   },
   "outputs": [],
   "source": [
    "linalg.solve(B, A)"
   ]
  },
  {
   "cell_type": "code",
   "execution_count": null,
   "id": "27714782",
   "metadata": {
    "hide-output": false
   },
   "outputs": [],
   "source": [
    "linalg.eigh(B)  # Computes eigenvalues and eigenvectors"
   ]
  },
  {
   "cell_type": "markdown",
   "id": "f28e8a8a",
   "metadata": {},
   "source": [
    "### Differences\n",
    "\n",
    "One difference between NumPy and JAX is that, when running on a GPU, JAX uses 32 bit floats by default.\n",
    "\n",
    "This is standard for GPU computing and can lead to significant speed gains with small loss of precision.\n",
    "\n",
    "However, for some calculations precision matters.  In these cases 64 bit floats can be enforced via the command"
   ]
  },
  {
   "cell_type": "code",
   "execution_count": null,
   "id": "4810852e",
   "metadata": {
    "hide-output": false
   },
   "outputs": [],
   "source": [
    "jax.config.update(\"jax_enable_x64\", True)"
   ]
  },
  {
   "cell_type": "markdown",
   "id": "13c1c60b",
   "metadata": {},
   "source": [
    "Let’s check this works:"
   ]
  },
  {
   "cell_type": "code",
   "execution_count": null,
   "id": "846b5693",
   "metadata": {
    "hide-output": false
   },
   "outputs": [],
   "source": [
    "jnp.ones(3)"
   ]
  },
  {
   "cell_type": "markdown",
   "id": "4e1de1fe",
   "metadata": {},
   "source": [
    "As a NumPy replacement, a more significant difference is that arrays are treated as **immutable**.\n",
    "\n",
    "For example, with NumPy we can write"
   ]
  },
  {
   "cell_type": "code",
   "execution_count": null,
   "id": "5671cb8d",
   "metadata": {
    "hide-output": false
   },
   "outputs": [],
   "source": [
    "import numpy as np\n",
    "a = np.linspace(0, 1, 3)\n",
    "a"
   ]
  },
  {
   "cell_type": "markdown",
   "id": "776125d0",
   "metadata": {},
   "source": [
    "and then mutate the data in memory:"
   ]
  },
  {
   "cell_type": "code",
   "execution_count": null,
   "id": "bc2ac1f4",
   "metadata": {
    "hide-output": false
   },
   "outputs": [],
   "source": [
    "a[0] = 1\n",
    "a"
   ]
  },
  {
   "cell_type": "markdown",
   "id": "1ee512b0",
   "metadata": {},
   "source": [
    "In JAX this fails:"
   ]
  },
  {
   "cell_type": "code",
   "execution_count": null,
   "id": "7f8abc04",
   "metadata": {
    "hide-output": false
   },
   "outputs": [],
   "source": [
    "a = jnp.linspace(0, 1, 3)\n",
    "a"
   ]
  },
  {
   "cell_type": "code",
   "execution_count": null,
   "id": "ea14c1f0",
   "metadata": {
    "hide-output": false
   },
   "outputs": [],
   "source": [
    "a[0] = 1"
   ]
  },
  {
   "cell_type": "markdown",
   "id": "c8f57d14",
   "metadata": {},
   "source": [
    "In line with immutability, JAX does not support inplace operations:"
   ]
  },
  {
   "cell_type": "code",
   "execution_count": null,
   "id": "7cbc5b0c",
   "metadata": {
    "hide-output": false
   },
   "outputs": [],
   "source": [
    "a = np.array((2, 1))\n",
    "a.sort()\n",
    "a"
   ]
  },
  {
   "cell_type": "code",
   "execution_count": null,
   "id": "2f3dd939",
   "metadata": {
    "hide-output": false
   },
   "outputs": [],
   "source": [
    "a = jnp.array((2, 1))\n",
    "a_new = a.sort()\n",
    "a, a_new"
   ]
  },
  {
   "cell_type": "markdown",
   "id": "988165a0",
   "metadata": {},
   "source": [
    "The designers of JAX chose to make arrays immutable because JAX uses a functional programming style.  More on this below.\n",
    "\n",
    "Note that, while mutation is discouraged, it is in fact possible with `at`, as in"
   ]
  },
  {
   "cell_type": "code",
   "execution_count": null,
   "id": "d13af5b4",
   "metadata": {
    "hide-output": false
   },
   "outputs": [],
   "source": [
    "a = jnp.linspace(0, 1, 3)\n",
    "id(a)"
   ]
  },
  {
   "cell_type": "code",
   "execution_count": null,
   "id": "62468d5e",
   "metadata": {
    "hide-output": false
   },
   "outputs": [],
   "source": [
    "a"
   ]
  },
  {
   "cell_type": "code",
   "execution_count": null,
   "id": "10a88c78",
   "metadata": {
    "hide-output": false
   },
   "outputs": [],
   "source": [
    "a.at[0].set(1)"
   ]
  },
  {
   "cell_type": "markdown",
   "id": "fad2df15",
   "metadata": {},
   "source": [
    "We can check that the array is mutated by verifying its identity is unchanged:"
   ]
  },
  {
   "cell_type": "code",
   "execution_count": null,
   "id": "c7778d85",
   "metadata": {
    "hide-output": false
   },
   "outputs": [],
   "source": [
    "id(a)"
   ]
  },
  {
   "cell_type": "markdown",
   "id": "e127f042",
   "metadata": {},
   "source": [
    "## Random Numbers\n",
    "\n",
    "Random numbers are also a bit different in JAX, relative to NumPy.  Typically, in JAX, the state of the random number generator needs to be controlled explicitly."
   ]
  },
  {
   "cell_type": "code",
   "execution_count": null,
   "id": "7707b089",
   "metadata": {
    "hide-output": false
   },
   "outputs": [],
   "source": [
    "import jax.random as random"
   ]
  },
  {
   "cell_type": "markdown",
   "id": "5ef53951",
   "metadata": {},
   "source": [
    "First we produce a key, which seeds the random number generator."
   ]
  },
  {
   "cell_type": "code",
   "execution_count": null,
   "id": "de2658dd",
   "metadata": {
    "hide-output": false
   },
   "outputs": [],
   "source": [
    "key = random.PRNGKey(1)"
   ]
  },
  {
   "cell_type": "code",
   "execution_count": null,
   "id": "2742f85c",
   "metadata": {
    "hide-output": false
   },
   "outputs": [],
   "source": [
    "type(key)"
   ]
  },
  {
   "cell_type": "code",
   "execution_count": null,
   "id": "95ec6d76",
   "metadata": {
    "hide-output": false
   },
   "outputs": [],
   "source": [
    "print(key)"
   ]
  },
  {
   "cell_type": "markdown",
   "id": "b8984caa",
   "metadata": {},
   "source": [
    "Now we can use the key to generate some random numbers:"
   ]
  },
  {
   "cell_type": "code",
   "execution_count": null,
   "id": "8efc4075",
   "metadata": {
    "hide-output": false
   },
   "outputs": [],
   "source": [
    "x = random.normal(key, (3, 3))\n",
    "x"
   ]
  },
  {
   "cell_type": "markdown",
   "id": "c0ebebf0",
   "metadata": {},
   "source": [
    "If we use the same key again, we initialize at the same seed, so the random numbers are the same:"
   ]
  },
  {
   "cell_type": "code",
   "execution_count": null,
   "id": "28eae17c",
   "metadata": {
    "hide-output": false
   },
   "outputs": [],
   "source": [
    "random.normal(key, (3, 3))"
   ]
  },
  {
   "cell_type": "markdown",
   "id": "bc8c15f9",
   "metadata": {},
   "source": [
    "To produce a (quasi-) independent draw, best practice is to “split” the existing key:"
   ]
  },
  {
   "cell_type": "code",
   "execution_count": null,
   "id": "0d1c6f88",
   "metadata": {
    "hide-output": false
   },
   "outputs": [],
   "source": [
    "key, subkey = random.split(key)"
   ]
  },
  {
   "cell_type": "code",
   "execution_count": null,
   "id": "b9f8e989",
   "metadata": {
    "hide-output": false
   },
   "outputs": [],
   "source": [
    "random.normal(key, (3, 3))"
   ]
  },
  {
   "cell_type": "code",
   "execution_count": null,
   "id": "dd793f1e",
   "metadata": {
    "hide-output": false
   },
   "outputs": [],
   "source": [
    "random.normal(subkey, (3, 3))"
   ]
  },
  {
   "cell_type": "markdown",
   "id": "d38b1687",
   "metadata": {},
   "source": [
    "The function below produces `k` (quasi-) independent random `n x n` matrices using this procedure."
   ]
  },
  {
   "cell_type": "code",
   "execution_count": null,
   "id": "211d7220",
   "metadata": {
    "hide-output": false
   },
   "outputs": [],
   "source": [
    "def gen_random_matrices(key, n, k):\n",
    "    matrices = []\n",
    "    for _ in range(k):\n",
    "        key, subkey = random.split(key)\n",
    "        matrices.append(random.uniform(subkey, (n, n)))\n",
    "    return matrices"
   ]
  },
  {
   "cell_type": "code",
   "execution_count": null,
   "id": "4446fb4b",
   "metadata": {
    "hide-output": false
   },
   "outputs": [],
   "source": [
    "matrices = gen_random_matrices(key, 2, 2)\n",
    "for A in matrices:\n",
    "    print(A)"
   ]
  },
  {
   "cell_type": "markdown",
   "id": "11ed322c",
   "metadata": {},
   "source": [
    "One point to remember is that JAX expects tuples to describe array shapes, even for flat arrays.  Hence, to get a one-dimensional array of normal random draws we use `(len, )` for the shape, as in"
   ]
  },
  {
   "cell_type": "code",
   "execution_count": null,
   "id": "98d56645",
   "metadata": {
    "hide-output": false
   },
   "outputs": [],
   "source": [
    "random.normal(key, (5, ))"
   ]
  },
  {
   "cell_type": "markdown",
   "id": "65b577b5",
   "metadata": {},
   "source": [
    "## JIT Compilation\n",
    "\n",
    "The JAX JIT compiler accelerates logic within functions by fusing linear\n",
    "algebra operations into a single, highly optimized kernel that the host can\n",
    "launch on the GPU / TPU (or CPU if no accelerator is detected).\n",
    "\n",
    "Consider the following pure Python function."
   ]
  },
  {
   "cell_type": "code",
   "execution_count": null,
   "id": "57198755",
   "metadata": {
    "hide-output": false
   },
   "outputs": [],
   "source": [
    "def f(x, p=1000):\n",
    "    return sum((k*x for k in range(p)))"
   ]
  },
  {
   "cell_type": "markdown",
   "id": "efa94374",
   "metadata": {},
   "source": [
    "Let’s build an array to call the function on."
   ]
  },
  {
   "cell_type": "code",
   "execution_count": null,
   "id": "d9acb4f7",
   "metadata": {
    "hide-output": false
   },
   "outputs": [],
   "source": [
    "n = 50_000_000\n",
    "x = jnp.ones(n)"
   ]
  },
  {
   "cell_type": "markdown",
   "id": "2ffbf09d",
   "metadata": {},
   "source": [
    "How long does the function take to execute?"
   ]
  },
  {
   "cell_type": "code",
   "execution_count": null,
   "id": "d179e7d0",
   "metadata": {
    "hide-output": false
   },
   "outputs": [],
   "source": [
    "%time f(x).block_until_ready()"
   ]
  },
  {
   "cell_type": "markdown",
   "id": "c0f811dd",
   "metadata": {},
   "source": [
    ">**Note**\n",
    ">\n",
    ">With asynchronous dispatch, the `%time` magic is only evaluating the time to dispatch by the Python interpreter, without taking into account the computation time on the device.\n",
    "\n",
    "Here, to measure the actual speed, the `block_until_ready()` method prevents asynchronous dispatch by asking Python to wait until the computation results are ready.\n",
    "\n",
    "This code is not particularly fast.\n",
    "\n",
    "While it is run on the GPU (since `x` is a `DeviceArray`), each vector `k * x` has to be instantiated before the final sum is computed.\n",
    "\n",
    "If we JIT-compile the function with JAX, then the operations are fused and no intermediate arrays are created."
   ]
  },
  {
   "cell_type": "code",
   "execution_count": null,
   "id": "fe4acda4",
   "metadata": {
    "hide-output": false
   },
   "outputs": [],
   "source": [
    "f_jit = jax.jit(f)   # target for JIT compilation"
   ]
  },
  {
   "cell_type": "markdown",
   "id": "3c6d53ec",
   "metadata": {},
   "source": [
    "Let’s run once to compile it:"
   ]
  },
  {
   "cell_type": "code",
   "execution_count": null,
   "id": "6f59e6b9",
   "metadata": {
    "hide-output": false
   },
   "outputs": [],
   "source": [
    "f_jit(x)"
   ]
  },
  {
   "cell_type": "markdown",
   "id": "5aeafca8",
   "metadata": {},
   "source": [
    "And now let’s time it."
   ]
  },
  {
   "cell_type": "code",
   "execution_count": null,
   "id": "521a1d06",
   "metadata": {
    "hide-output": false
   },
   "outputs": [],
   "source": [
    "%time f_jit(x).block_until_ready()"
   ]
  },
  {
   "cell_type": "markdown",
   "id": "7ceeea38",
   "metadata": {},
   "source": [
    "## Functional Programming\n",
    "\n",
    "From JAX’s documentation:\n",
    "\n",
    "*When walking about the countryside of Italy, the people will not hesitate to tell you that JAX has “una anima di pura programmazione funzionale”.*\n",
    "\n",
    "In other words, JAX assumes a functional programming style.\n",
    "\n",
    "The major implication is that JAX functions should be pure:\n",
    "\n",
    "- no dependence on global variables  \n",
    "- no side effects  \n",
    "\n",
    "\n",
    "“A pure function will always return the same result if invoked with the same inputs.”\n",
    "\n",
    "JAX will not usually throw errors when compiling impure functions but execution becomes unpredictable.\n",
    "\n",
    "Here’s an illustration of this fact, using global variables:"
   ]
  },
  {
   "cell_type": "code",
   "execution_count": null,
   "id": "52a744be",
   "metadata": {
    "hide-output": false
   },
   "outputs": [],
   "source": [
    "a = 1  # global\n",
    "\n",
    "@jax.jit\n",
    "def f(x):\n",
    "    return a + x"
   ]
  },
  {
   "cell_type": "code",
   "execution_count": null,
   "id": "95808635",
   "metadata": {
    "hide-output": false
   },
   "outputs": [],
   "source": [
    "x = jnp.ones(2)"
   ]
  },
  {
   "cell_type": "code",
   "execution_count": null,
   "id": "d875612c",
   "metadata": {
    "hide-output": false
   },
   "outputs": [],
   "source": [
    "f(x)"
   ]
  },
  {
   "cell_type": "markdown",
   "id": "bc3f2557",
   "metadata": {},
   "source": [
    "In the code above, the global value `a=1` is fused into the jitted function.\n",
    "\n",
    "Even if we change `a`, the output of `f` will not be affected — as long as the same compiled version is called."
   ]
  },
  {
   "cell_type": "code",
   "execution_count": null,
   "id": "0223d9e5",
   "metadata": {
    "hide-output": false
   },
   "outputs": [],
   "source": [
    "a = 42"
   ]
  },
  {
   "cell_type": "code",
   "execution_count": null,
   "id": "87916ed8",
   "metadata": {
    "hide-output": false
   },
   "outputs": [],
   "source": [
    "f(x)"
   ]
  },
  {
   "cell_type": "markdown",
   "id": "985fef17",
   "metadata": {},
   "source": [
    "Changing the dimension of the input triggers a fresh compilation of the function, at which time the change in the value of `a` takes effect:"
   ]
  },
  {
   "cell_type": "code",
   "execution_count": null,
   "id": "7ecebc16",
   "metadata": {
    "hide-output": false
   },
   "outputs": [],
   "source": [
    "x = np.ones(3)"
   ]
  },
  {
   "cell_type": "code",
   "execution_count": null,
   "id": "fa2aa90c",
   "metadata": {
    "hide-output": false
   },
   "outputs": [],
   "source": [
    "f(x)"
   ]
  },
  {
   "cell_type": "markdown",
   "id": "53dc85ad",
   "metadata": {},
   "source": [
    "Moral of the story: write pure functions when using JAX!"
   ]
  },
  {
   "cell_type": "markdown",
   "id": "e67e2780",
   "metadata": {},
   "source": [
    "## Gradients\n",
    "\n",
    "JAX can use automatic differentiation to compute gradients.\n",
    "\n",
    "This can be extremely useful in optimization, root finding and other applications.\n",
    "\n",
    "Here’s a very simple illustration, involving the function"
   ]
  },
  {
   "cell_type": "code",
   "execution_count": null,
   "id": "9dcf59fb",
   "metadata": {
    "hide-output": false
   },
   "outputs": [],
   "source": [
    "def f(x):\n",
    "    return (x**2) / 2"
   ]
  },
  {
   "cell_type": "markdown",
   "id": "9ad718b8",
   "metadata": {},
   "source": [
    "Let’s take the derivative:"
   ]
  },
  {
   "cell_type": "code",
   "execution_count": null,
   "id": "357a2a54",
   "metadata": {
    "hide-output": false
   },
   "outputs": [],
   "source": [
    "f_prime = jax.grad(f)"
   ]
  },
  {
   "cell_type": "code",
   "execution_count": null,
   "id": "28dcc968",
   "metadata": {
    "hide-output": false
   },
   "outputs": [],
   "source": [
    "f_prime(10.0)"
   ]
  },
  {
   "cell_type": "markdown",
   "id": "14eb4672",
   "metadata": {},
   "source": [
    "Let’s plot the function and derivative, noting that $ f'(x) = x $."
   ]
  },
  {
   "cell_type": "code",
   "execution_count": null,
   "id": "642c15ab",
   "metadata": {
    "hide-output": false
   },
   "outputs": [],
   "source": [
    "import matplotlib.pyplot as plt\n",
    "\n",
    "fig, ax = plt.subplots()\n",
    "x_grid = jnp.linspace(-4, 4, 200)\n",
    "ax.plot(x_grid, f(x_grid), label=\"$f$\")\n",
    "ax.plot(x_grid, [f_prime(x) for x in x_grid], label=\"$f'$\")\n",
    "ax.legend(loc='upper center')\n",
    "plt.show()"
   ]
  },
  {
   "cell_type": "markdown",
   "id": "158dc049",
   "metadata": {},
   "source": [
    "## Exercises"
   ]
  },
  {
   "cell_type": "markdown",
   "id": "2a4b1d42",
   "metadata": {},
   "source": [
    "## Exercise 15.1\n",
    "\n",
    "Recall that Newton’s method for solving for the root of $ f $ involves iterating on\n",
    "\n",
    "$$\n",
    "q(x) = x - \\frac{f(x)}{f'(x)}\n",
    "$$\n",
    "\n",
    "Write a function called `newton` that takes a function $ f $ plus a guess $ x_0 $ and returns an approximate fixed point.\n",
    "\n",
    "Your `newton` implementation should use automatic differentiation to calculate $ f' $.\n",
    "\n",
    "Test your `newton` method on the function shown below."
   ]
  },
  {
   "cell_type": "code",
   "execution_count": null,
   "id": "7d2a7e88",
   "metadata": {
    "hide-output": false
   },
   "outputs": [],
   "source": [
    "f = lambda x: jnp.sin(4 * (x - 1/4)) + x + x**20 - 1\n",
    "x = jnp.linspace(0, 1, 100)\n",
    "\n",
    "fig, ax = plt.subplots()\n",
    "ax.plot(x, f(x), label='$f(x)$')\n",
    "ax.axhline(ls='--', c='k')\n",
    "ax.set_xlabel('$x$', fontsize=12)\n",
    "ax.set_ylabel('$f(x)$', fontsize=12)\n",
    "ax.legend(fontsize=12)\n",
    "plt.show()"
   ]
  },
  {
   "cell_type": "markdown",
   "id": "50c81cf0",
   "metadata": {},
   "source": [
    "## Solution to[ Exercise 15.1](https://python-programming.quantecon.org/#jax_intro_ex1)\n",
    "\n",
    "Here’s a suitable function:"
   ]
  },
  {
   "cell_type": "code",
   "execution_count": null,
   "id": "bb9ea2ca",
   "metadata": {
    "hide-output": false
   },
   "outputs": [],
   "source": [
    "def newton(f, x_0, tol=1e-5):\n",
    "    f_prime = jax.grad(f)\n",
    "    def q(x):\n",
    "        return x - f(x) / f_prime(x)\n",
    "\n",
    "    error = tol + 1\n",
    "    x = x_0\n",
    "    while error > tol:\n",
    "        y = q(x)\n",
    "        error = abs(x - y)\n",
    "        x = y\n",
    "        \n",
    "    return x"
   ]
  },
  {
   "cell_type": "markdown",
   "id": "0c5f9111",
   "metadata": {},
   "source": [
    "Let’s try it:"
   ]
  },
  {
   "cell_type": "code",
   "execution_count": null,
   "id": "3cfcf0ae",
   "metadata": {
    "hide-output": false
   },
   "outputs": [],
   "source": [
    "newton(f, 0.2)"
   ]
  },
  {
   "cell_type": "markdown",
   "id": "745a6cf0",
   "metadata": {},
   "source": [
    "This number looks good, given the figure."
   ]
  },
  {
   "cell_type": "markdown",
   "id": "c54e8ad6",
   "metadata": {},
   "source": [
    "## Exercise 15.2\n",
    "\n",
    "In [an earlier exercise on parallelization](https://python-programming.quantecon.org/parallelization.html#parallel_ex2), we used Monte\n",
    "Carlo to price a European call option.\n",
    "\n",
    "The code was accelerated by Numba-based multithreading.\n",
    "\n",
    "Try writing a version of this operation for JAX, using all the same\n",
    "parameters.\n",
    "\n",
    "If you are running your code on a GPU, you should be able to achieve\n",
    "significantly faster exection."
   ]
  },
  {
   "cell_type": "markdown",
   "id": "bc3a9f66",
   "metadata": {},
   "source": [
    "## Solution to[ Exercise 15.2](https://python-programming.quantecon.org/#jax_intro_ex2)\n",
    "\n",
    "Here is one solution:"
   ]
  },
  {
   "cell_type": "code",
   "execution_count": null,
   "id": "bbd19cc9",
   "metadata": {
    "hide-output": false
   },
   "outputs": [],
   "source": [
    "M = 10_000_000\n",
    "\n",
    "n, β, K = 20, 0.99, 100\n",
    "μ, ρ, ν, S0, h0 = 0.0001, 0.1, 0.001, 10, 0\n",
    "\n",
    "@jax.jit\n",
    "def compute_call_price_jax(β=β,\n",
    "                           μ=μ,\n",
    "                           S0=S0,\n",
    "                           h0=h0,\n",
    "                           K=K,\n",
    "                           n=n,\n",
    "                           ρ=ρ,\n",
    "                           ν=ν,\n",
    "                           M=M,\n",
    "                           key=jax.random.PRNGKey(1)):\n",
    "\n",
    "    s = jnp.full(M, np.log(S0))\n",
    "    h = jnp.full(M, h0)\n",
    "    for t in range(n):\n",
    "        key, subkey = jax.random.split(key)\n",
    "        Z = jax.random.normal(subkey, (2, M))\n",
    "        s = s + μ + jnp.exp(h) * Z[0, :]\n",
    "        h = ρ * h + ν * Z[1, :]\n",
    "    expectation = jnp.mean(jnp.maximum(jnp.exp(s) - K, 0))\n",
    "        \n",
    "    return β**n * expectation"
   ]
  },
  {
   "cell_type": "markdown",
   "id": "167487db",
   "metadata": {},
   "source": [
    "Let’s run it once to compile it:"
   ]
  },
  {
   "cell_type": "code",
   "execution_count": null,
   "id": "30802bb5",
   "metadata": {
    "hide-output": false
   },
   "outputs": [],
   "source": [
    "compute_call_price_jax()"
   ]
  },
  {
   "cell_type": "markdown",
   "id": "fa9efa02",
   "metadata": {},
   "source": [
    "And now let’s time it:"
   ]
  },
  {
   "cell_type": "code",
   "execution_count": null,
   "id": "fec4b1a9",
   "metadata": {
    "hide-output": false
   },
   "outputs": [],
   "source": [
    "%%time \n",
    "compute_call_price_jax().block_until_ready()"
   ]
  }
 ],
 "metadata": {
  "date": 1668508110.991209,
  "filename": "jax_intro.md",
  "kernelspec": {
   "display_name": "Python",
   "language": "python3",
   "name": "python3"
  },
  "title": "JAX"
 },
 "nbformat": 4,
 "nbformat_minor": 5
}