{
 "cells": [
  {
   "cell_type": "markdown",
   "id": "fd27e2f7",
   "metadata": {},
   "source": [
    "# JAX"
   ]
  },
  {
   "cell_type": "markdown",
   "id": "1d1aca65",
   "metadata": {},
   "source": [
    "# New website\n",
    "\n",
    "We have replaced this lecture with a new lecture series on quantitative economics using JAX:\n",
    "\n",
    "See [Quantitative Economics with JAX](https://jax.quantecon.org)"
   ]
  }
 ],
 "metadata": {
  "date": 1714691698.3801017,
  "filename": "jax_intro.md",
  "kernelspec": {
   "display_name": "Python",
   "language": "python3",
   "name": "python3"
  },
  "title": "JAX"
 },
 "nbformat": 4,
 "nbformat_minor": 5
}