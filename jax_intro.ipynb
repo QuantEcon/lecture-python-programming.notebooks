{
 "cells": [
  {
   "cell_type": "markdown",
   "id": "7c4118c7",
   "metadata": {},
   "source": [
    "# JAX\n",
    "\n",
    ">**Note**\n",
    ">\n",
    ">This lecture is built using [hardware](https://python-programming.quantecon.org/status.html#status-machine-details) that\n",
    "has access to a GPU. This means that\n",
    "\n",
    "1. the lecture might be significantly slower when running on your machine, and  \n",
    "1. the code is well-suited to execution with [Google colab](https://colab.research.google.com/github/QuantEcon/lecture-python-programming.notebooks/blob/master/jax_intro.ipynb)  \n",
    "\n",
    "\n",
    "This lecture provides a short introduction to [Google JAX](https://github.com/google/jax)."
   ]
  },
  {
   "cell_type": "markdown",
   "id": "abba813e",
   "metadata": {},
   "source": [
    "## Overview\n",
    "\n",
    "Let’s start with an overview of JAX."
   ]
  },
  {
   "cell_type": "markdown",
   "id": "78be1043",
   "metadata": {},
   "source": [
    "### Capabilities\n",
    "\n",
    "[JAX](https://github.com/google/jax) is a Python library initially developed by\n",
    "Google to support in-house artificial intelligence and machine learning.\n",
    "\n",
    "JAX provides data types, functions and a compiler for fast linear\n",
    "algebra operations and automatic differentiation.\n",
    "\n",
    "Loosely speaking, JAX is like NumPy with the addition of\n",
    "\n",
    "- automatic differentiation  \n",
    "- automated GPU/TPU support  \n",
    "- a just-in-time compiler  \n",
    "\n",
    "\n",
    "One of the great benefits of JAX is that the same code can be run either on\n",
    "the CPU or on a hardware accelerator, such as a GPU or TPU.\n",
    "\n",
    "For example, JAX automatically builds and deploys kernels on the GPU whenever\n",
    "an accessible device is detected."
   ]
  },
  {
   "cell_type": "markdown",
   "id": "0f342209",
   "metadata": {},
   "source": [
    "### History\n",
    "\n",
    "In 2015, Google open-sourced part of its AI infrastructure called TensorFlow.\n",
    "\n",
    "Around two years later, Facebook open-sourced PyTorch beta, an alternative AI\n",
    "framework which is regarded as developer-friendly and more Pythonic than\n",
    "TensorFlow.\n",
    "\n",
    "By 2019, PyTorch was surging in popularity, adopted by Uber, Airbnb, Tesla and\n",
    "many other companies.\n",
    "\n",
    "In 2020, Google launched JAX as an open-source framework, simultaneously\n",
    "beginning to shift away from TPUs to Nvidia GPUs.\n",
    "\n",
    "In the last few years, uptake of Google JAX has accelerated rapidly, bringing\n",
    "attention back to Google-based machine learning architectures."
   ]
  },
  {
   "cell_type": "markdown",
   "id": "3ae6eb12",
   "metadata": {},
   "source": [
    "### Installation\n",
    "\n",
    "JAX can be installed with or without GPU support by following [the install guide](https://github.com/google/jax).\n",
    "\n",
    "Note that JAX is pre-installed with GPU support on [Google Colab](https://colab.research.google.com/).\n",
    "\n",
    "If you do not have your own GPU, we recommend that you run this lecture on Colab."
   ]
  },
  {
   "cell_type": "markdown",
   "id": "a631df76",
   "metadata": {},
   "source": [
    "## JAX as a NumPy Replacement\n",
    "\n",
    "One way to use JAX is as a plug-in NumPy replacement. Let’s look at the similarities and differences."
   ]
  },
  {
   "cell_type": "markdown",
   "id": "728e8ea4",
   "metadata": {},
   "source": [
    "### Similarities\n",
    "\n",
    "The following import is standard, replacing `import numpy as np`:"
   ]
  },
  {
   "cell_type": "code",
   "execution_count": null,
   "id": "1b865fa1",
   "metadata": {
    "hide-output": false
   },
   "outputs": [],
   "source": [
    "import jax\n",
    "import jax.numpy as jnp"
   ]
  },
  {
   "cell_type": "markdown",
   "id": "b37c51bc",
   "metadata": {},
   "source": [
    "Now we can use `jnp` in place of `np` for the usual array operations:"
   ]
  },
  {
   "cell_type": "code",
   "execution_count": null,
   "id": "76d670e6",
   "metadata": {
    "hide-output": false
   },
   "outputs": [],
   "source": [
    "a = jnp.asarray((1.0, 3.2, -1.5))"
   ]
  },
  {
   "cell_type": "code",
   "execution_count": null,
   "id": "c79126be",
   "metadata": {
    "hide-output": false
   },
   "outputs": [],
   "source": [
    "print(a)"
   ]
  },
  {
   "cell_type": "code",
   "execution_count": null,
   "id": "c1439876",
   "metadata": {
    "hide-output": false
   },
   "outputs": [],
   "source": [
    "print(jnp.sum(a))"
   ]
  },
  {
   "cell_type": "code",
   "execution_count": null,
   "id": "c3d798a0",
   "metadata": {
    "hide-output": false
   },
   "outputs": [],
   "source": [
    "print(jnp.mean(a))"
   ]
  },
  {
   "cell_type": "code",
   "execution_count": null,
   "id": "64f1a2d9",
   "metadata": {
    "hide-output": false
   },
   "outputs": [],
   "source": [
    "print(jnp.dot(a, a))"
   ]
  },
  {
   "cell_type": "markdown",
   "id": "0d79f02b",
   "metadata": {},
   "source": [
    "However, the array object `a` is not a NumPy array:"
   ]
  },
  {
   "cell_type": "code",
   "execution_count": null,
   "id": "990b8ae1",
   "metadata": {
    "hide-output": false
   },
   "outputs": [],
   "source": [
    "a"
   ]
  },
  {
   "cell_type": "code",
   "execution_count": null,
   "id": "f81f5114",
   "metadata": {
    "hide-output": false
   },
   "outputs": [],
   "source": [
    "type(a)"
   ]
  },
  {
   "cell_type": "markdown",
   "id": "52923877",
   "metadata": {},
   "source": [
    "Even scalar-valued maps on arrays return objects of type `DeviceArray`:"
   ]
  },
  {
   "cell_type": "code",
   "execution_count": null,
   "id": "99bb071b",
   "metadata": {
    "hide-output": false
   },
   "outputs": [],
   "source": [
    "jnp.sum(a)"
   ]
  },
  {
   "cell_type": "markdown",
   "id": "b751be0b",
   "metadata": {},
   "source": [
    "The term `Device` refers to the hardware accelerator (GPU or TPU), although JAX falls back to the CPU if no accelerator is detected.\n",
    "\n",
    "(In the terminology of GPUs, the “host” is the machine that launches GPU operations, while the “device” is the GPU itself.)\n",
    "\n",
    ">**Note**\n",
    ">\n",
    ">Note that `DeviceArray` is a [*future*](https://en.wikipedia.org/wiki/Futures_and_promises); it allows Python to continue execution when the results of computation are not available immediately.\n",
    "\n",
    "This means that Python can dispatch more jobs without waiting for the computation results to be returned by the device.\n",
    "\n",
    "This feature is called [*asynchronous dispatch*](https://jax.readthedocs.io/en/latest/async_dispatch.html), which hides Python overheads and reduces wait time.\n",
    "\n",
    "Operations on higher dimensional arrays is also similar to NumPy:"
   ]
  },
  {
   "cell_type": "code",
   "execution_count": null,
   "id": "e9bd613a",
   "metadata": {
    "hide-output": false
   },
   "outputs": [],
   "source": [
    "A = jnp.ones((2, 2))\n",
    "B = jnp.identity(2)\n",
    "A @ B"
   ]
  },
  {
   "cell_type": "code",
   "execution_count": null,
   "id": "94794efb",
   "metadata": {
    "hide-output": false
   },
   "outputs": [],
   "source": [
    "from jax.numpy import linalg"
   ]
  },
  {
   "cell_type": "code",
   "execution_count": null,
   "id": "af15e0de",
   "metadata": {
    "hide-output": false
   },
   "outputs": [],
   "source": [
    "linalg.solve(B, A)"
   ]
  },
  {
   "cell_type": "code",
   "execution_count": null,
   "id": "b3d8b452",
   "metadata": {
    "hide-output": false
   },
   "outputs": [],
   "source": [
    "linalg.eigh(B)  # Computes eigenvalues and eigenvectors"
   ]
  },
  {
   "cell_type": "markdown",
   "id": "fa22864f",
   "metadata": {},
   "source": [
    "### Differences\n",
    "\n",
    "One difference between NumPy and JAX is that, when running on a GPU, JAX uses 32 bit floats by default.\n",
    "\n",
    "This is standard for GPU computing and can lead to significant speed gains with small loss of precision.\n",
    "\n",
    "However, for some calculations precision matters.  In these cases 64 bit floats can be enforced via the command"
   ]
  },
  {
   "cell_type": "code",
   "execution_count": null,
   "id": "c709e6e7",
   "metadata": {
    "hide-output": false
   },
   "outputs": [],
   "source": [
    "jax.config.update(\"jax_enable_x64\", True)"
   ]
  },
  {
   "cell_type": "markdown",
   "id": "9d11562c",
   "metadata": {},
   "source": [
    "Let’s check this works:"
   ]
  },
  {
   "cell_type": "code",
   "execution_count": null,
   "id": "f570dfb3",
   "metadata": {
    "hide-output": false
   },
   "outputs": [],
   "source": [
    "jnp.ones(3)"
   ]
  },
  {
   "cell_type": "markdown",
   "id": "0eab97cb",
   "metadata": {},
   "source": [
    "As a NumPy replacement, a more significant difference is that arrays are treated as **immutable**.\n",
    "\n",
    "For example, with NumPy we can write"
   ]
  },
  {
   "cell_type": "code",
   "execution_count": null,
   "id": "39d06bca",
   "metadata": {
    "hide-output": false
   },
   "outputs": [],
   "source": [
    "import numpy as np\n",
    "a = np.linspace(0, 1, 3)\n",
    "a"
   ]
  },
  {
   "cell_type": "markdown",
   "id": "58b1942e",
   "metadata": {},
   "source": [
    "and then mutate the data in memory:"
   ]
  },
  {
   "cell_type": "code",
   "execution_count": null,
   "id": "d259a7ed",
   "metadata": {
    "hide-output": false
   },
   "outputs": [],
   "source": [
    "a[0] = 1\n",
    "a"
   ]
  },
  {
   "cell_type": "markdown",
   "id": "9cd6e3ba",
   "metadata": {},
   "source": [
    "In JAX this fails:"
   ]
  },
  {
   "cell_type": "code",
   "execution_count": null,
   "id": "1c042578",
   "metadata": {
    "hide-output": false
   },
   "outputs": [],
   "source": [
    "a = jnp.linspace(0, 1, 3)\n",
    "a"
   ]
  },
  {
   "cell_type": "code",
   "execution_count": null,
   "id": "ffda4c68",
   "metadata": {
    "hide-output": false
   },
   "outputs": [],
   "source": [
    "a[0] = 1"
   ]
  },
  {
   "cell_type": "markdown",
   "id": "8012f4e7",
   "metadata": {},
   "source": [
    "In line with immutability, JAX does not support inplace operations:"
   ]
  },
  {
   "cell_type": "code",
   "execution_count": null,
   "id": "136bc96f",
   "metadata": {
    "hide-output": false
   },
   "outputs": [],
   "source": [
    "a = np.array((2, 1))\n",
    "a.sort()\n",
    "a"
   ]
  },
  {
   "cell_type": "code",
   "execution_count": null,
   "id": "45b27dd0",
   "metadata": {
    "hide-output": false
   },
   "outputs": [],
   "source": [
    "a = jnp.array((2, 1))\n",
    "a_new = a.sort()\n",
    "a, a_new"
   ]
  },
  {
   "cell_type": "markdown",
   "id": "efc91411",
   "metadata": {},
   "source": [
    "The designers of JAX chose to make arrays immutable because JAX uses a functional programming style.  More on this below.\n",
    "\n",
    "Note that, while mutation is discouraged, it is in fact possible with `at`, as in"
   ]
  },
  {
   "cell_type": "code",
   "execution_count": null,
   "id": "b5c93d6b",
   "metadata": {
    "hide-output": false
   },
   "outputs": [],
   "source": [
    "a = jnp.linspace(0, 1, 3)\n",
    "id(a)"
   ]
  },
  {
   "cell_type": "code",
   "execution_count": null,
   "id": "2106acd6",
   "metadata": {
    "hide-output": false
   },
   "outputs": [],
   "source": [
    "a"
   ]
  },
  {
   "cell_type": "code",
   "execution_count": null,
   "id": "3a48a613",
   "metadata": {
    "hide-output": false
   },
   "outputs": [],
   "source": [
    "a.at[0].set(1)"
   ]
  },
  {
   "cell_type": "markdown",
   "id": "e9888435",
   "metadata": {},
   "source": [
    "We can check that the array is mutated by verifying its identity is unchanged:"
   ]
  },
  {
   "cell_type": "code",
   "execution_count": null,
   "id": "856c6c3e",
   "metadata": {
    "hide-output": false
   },
   "outputs": [],
   "source": [
    "id(a)"
   ]
  },
  {
   "cell_type": "markdown",
   "id": "ed4fc5b7",
   "metadata": {},
   "source": [
    "## Random Numbers\n",
    "\n",
    "Random numbers are also a bit different in JAX, relative to NumPy.  Typically, in JAX, the state of the random number generator needs to be controlled explicitly."
   ]
  },
  {
   "cell_type": "code",
   "execution_count": null,
   "id": "a7893657",
   "metadata": {
    "hide-output": false
   },
   "outputs": [],
   "source": [
    "import jax.random as random"
   ]
  },
  {
   "cell_type": "markdown",
   "id": "0d4dd4e9",
   "metadata": {},
   "source": [
    "First we produce a key, which seeds the random number generator."
   ]
  },
  {
   "cell_type": "code",
   "execution_count": null,
   "id": "84b37bc5",
   "metadata": {
    "hide-output": false
   },
   "outputs": [],
   "source": [
    "key = random.PRNGKey(1)"
   ]
  },
  {
   "cell_type": "code",
   "execution_count": null,
   "id": "439a9998",
   "metadata": {
    "hide-output": false
   },
   "outputs": [],
   "source": [
    "type(key)"
   ]
  },
  {
   "cell_type": "code",
   "execution_count": null,
   "id": "f3b6455a",
   "metadata": {
    "hide-output": false
   },
   "outputs": [],
   "source": [
    "print(key)"
   ]
  },
  {
   "cell_type": "markdown",
   "id": "b7a29235",
   "metadata": {},
   "source": [
    "Now we can use the key to generate some random numbers:"
   ]
  },
  {
   "cell_type": "code",
   "execution_count": null,
   "id": "8281997c",
   "metadata": {
    "hide-output": false
   },
   "outputs": [],
   "source": [
    "x = random.normal(key, (3, 3))\n",
    "x"
   ]
  },
  {
   "cell_type": "markdown",
   "id": "c620a095",
   "metadata": {},
   "source": [
    "If we use the same key again, we initialize at the same seed, so the random numbers are the same:"
   ]
  },
  {
   "cell_type": "code",
   "execution_count": null,
   "id": "c50c1581",
   "metadata": {
    "hide-output": false
   },
   "outputs": [],
   "source": [
    "random.normal(key, (3, 3))"
   ]
  },
  {
   "cell_type": "markdown",
   "id": "8159b8cb",
   "metadata": {},
   "source": [
    "To produce a (quasi-) independent draw, best practice is to “split” the existing key:"
   ]
  },
  {
   "cell_type": "code",
   "execution_count": null,
   "id": "ae2f95ae",
   "metadata": {
    "hide-output": false
   },
   "outputs": [],
   "source": [
    "key, subkey = random.split(key)"
   ]
  },
  {
   "cell_type": "code",
   "execution_count": null,
   "id": "dd820608",
   "metadata": {
    "hide-output": false
   },
   "outputs": [],
   "source": [
    "random.normal(key, (3, 3))"
   ]
  },
  {
   "cell_type": "code",
   "execution_count": null,
   "id": "318af9b1",
   "metadata": {
    "hide-output": false
   },
   "outputs": [],
   "source": [
    "random.normal(subkey, (3, 3))"
   ]
  },
  {
   "cell_type": "markdown",
   "id": "c67a9ed4",
   "metadata": {},
   "source": [
    "The function below produces `k` (quasi-) independent random `n x n` matrices using this procedure."
   ]
  },
  {
   "cell_type": "code",
   "execution_count": null,
   "id": "991902be",
   "metadata": {
    "hide-output": false
   },
   "outputs": [],
   "source": [
    "def gen_random_matrices(key, n, k):\n",
    "    matrices = []\n",
    "    for _ in range(k):\n",
    "        key, subkey = random.split(key)\n",
    "        matrices.append(random.uniform(subkey, (n, n)))\n",
    "    return matrices"
   ]
  },
  {
   "cell_type": "code",
   "execution_count": null,
   "id": "fb3c3eed",
   "metadata": {
    "hide-output": false
   },
   "outputs": [],
   "source": [
    "matrices = gen_random_matrices(key, 2, 2)\n",
    "for A in matrices:\n",
    "    print(A)"
   ]
  },
  {
   "cell_type": "markdown",
   "id": "6bc6ea9c",
   "metadata": {},
   "source": [
    "One point to remember is that JAX expects tuples to describe array shapes, even for flat arrays.  Hence, to get a one-dimensional array of normal random draws we use `(len, )` for the shape, as in"
   ]
  },
  {
   "cell_type": "code",
   "execution_count": null,
   "id": "c3028f76",
   "metadata": {
    "hide-output": false
   },
   "outputs": [],
   "source": [
    "random.normal(key, (5, ))"
   ]
  },
  {
   "cell_type": "markdown",
   "id": "8a101b12",
   "metadata": {},
   "source": [
    "## JIT Compilation\n",
    "\n",
    "The JAX JIT compiler accelerates logic within functions by fusing linear\n",
    "algebra operations into a single, highly optimized kernel that the host can\n",
    "launch on the GPU / TPU (or CPU if no accelerator is detected).\n",
    "\n",
    "Consider the following pure Python function."
   ]
  },
  {
   "cell_type": "code",
   "execution_count": null,
   "id": "ba85d4ca",
   "metadata": {
    "hide-output": false
   },
   "outputs": [],
   "source": [
    "def f(x, p=1000):\n",
    "    return sum((k*x for k in range(p)))"
   ]
  },
  {
   "cell_type": "markdown",
   "id": "47438659",
   "metadata": {},
   "source": [
    "Let’s build an array to call the function on."
   ]
  },
  {
   "cell_type": "code",
   "execution_count": null,
   "id": "3a117a61",
   "metadata": {
    "hide-output": false
   },
   "outputs": [],
   "source": [
    "n = 50_000_000\n",
    "x = jnp.ones(n)"
   ]
  },
  {
   "cell_type": "markdown",
   "id": "85f21567",
   "metadata": {},
   "source": [
    "How long does the function take to execute?"
   ]
  },
  {
   "cell_type": "code",
   "execution_count": null,
   "id": "41302a18",
   "metadata": {
    "hide-output": false
   },
   "outputs": [],
   "source": [
    "%time f(x).block_until_ready()"
   ]
  },
  {
   "cell_type": "markdown",
   "id": "5197a109",
   "metadata": {},
   "source": [
    ">**Note**\n",
    ">\n",
    ">With asynchronous dispatch, the `%time` magic is only evaluating the time to dispatch by the Python interpreter, without taking into account the computation time on the device.\n",
    "\n",
    "Here, to measure the actual speed, the `block_until_ready()` method prevents asynchronous dispatch by asking Python to wait until the computation results are ready.\n",
    "\n",
    "This code is not particularly fast.\n",
    "\n",
    "While it is run on the GPU (since `x` is a `DeviceArray`), each vector `k * x` has to be instantiated before the final sum is computed.\n",
    "\n",
    "If we JIT-compile the function with JAX, then the operations are fused and no intermediate arrays are created."
   ]
  },
  {
   "cell_type": "code",
   "execution_count": null,
   "id": "879e4b6a",
   "metadata": {
    "hide-output": false
   },
   "outputs": [],
   "source": [
    "f_jit = jax.jit(f)   # target for JIT compilation"
   ]
  },
  {
   "cell_type": "markdown",
   "id": "36dc95e7",
   "metadata": {},
   "source": [
    "Let’s run once to compile it:"
   ]
  },
  {
   "cell_type": "code",
   "execution_count": null,
   "id": "9ebc9896",
   "metadata": {
    "hide-output": false
   },
   "outputs": [],
   "source": [
    "f_jit(x)"
   ]
  },
  {
   "cell_type": "markdown",
   "id": "78cac721",
   "metadata": {},
   "source": [
    "And now let’s time it."
   ]
  },
  {
   "cell_type": "code",
   "execution_count": null,
   "id": "5bd61c27",
   "metadata": {
    "hide-output": false
   },
   "outputs": [],
   "source": [
    "%time f_jit(x).block_until_ready()"
   ]
  },
  {
   "cell_type": "markdown",
   "id": "614f5033",
   "metadata": {},
   "source": [
    "## Functional Programming\n",
    "\n",
    "From JAX’s documentation:\n",
    "\n",
    "*When walking about the countryside of Italy, the people will not hesitate to tell you that JAX has “una anima di pura programmazione funzionale”.*\n",
    "\n",
    "In other words, JAX assumes a functional programming style.\n",
    "\n",
    "The major implication is that JAX functions should be pure:\n",
    "\n",
    "- no dependence on global variables  \n",
    "- no side effects  \n",
    "\n",
    "\n",
    "“A pure function will always return the same result if invoked with the same inputs.”\n",
    "\n",
    "JAX will not usually throw errors when compiling impure functions but execution becomes unpredictable.\n",
    "\n",
    "Here’s an illustration of this fact, using global variables:"
   ]
  },
  {
   "cell_type": "code",
   "execution_count": null,
   "id": "9c5025d1",
   "metadata": {
    "hide-output": false
   },
   "outputs": [],
   "source": [
    "a = 1  # global\n",
    "\n",
    "@jax.jit\n",
    "def f(x):\n",
    "    return a + x"
   ]
  },
  {
   "cell_type": "code",
   "execution_count": null,
   "id": "f0ebf3ad",
   "metadata": {
    "hide-output": false
   },
   "outputs": [],
   "source": [
    "x = jnp.ones(2)"
   ]
  },
  {
   "cell_type": "code",
   "execution_count": null,
   "id": "056bd378",
   "metadata": {
    "hide-output": false
   },
   "outputs": [],
   "source": [
    "f(x)"
   ]
  },
  {
   "cell_type": "markdown",
   "id": "e824fbfc",
   "metadata": {},
   "source": [
    "In the code above, the global value `a=1` is fused into the jitted function.\n",
    "\n",
    "Even if we change `a`, the output of `f` will not be affected — as long as the same compiled version is called."
   ]
  },
  {
   "cell_type": "code",
   "execution_count": null,
   "id": "fd22924f",
   "metadata": {
    "hide-output": false
   },
   "outputs": [],
   "source": [
    "a = 42"
   ]
  },
  {
   "cell_type": "code",
   "execution_count": null,
   "id": "11ef2867",
   "metadata": {
    "hide-output": false
   },
   "outputs": [],
   "source": [
    "f(x)"
   ]
  },
  {
   "cell_type": "markdown",
   "id": "89997f47",
   "metadata": {},
   "source": [
    "Changing the dimension of the input triggers a fresh compilation of the function, at which time the change in the value of `a` takes effect:"
   ]
  },
  {
   "cell_type": "code",
   "execution_count": null,
   "id": "a0b0a79d",
   "metadata": {
    "hide-output": false
   },
   "outputs": [],
   "source": [
    "x = np.ones(3)"
   ]
  },
  {
   "cell_type": "code",
   "execution_count": null,
   "id": "dbed2194",
   "metadata": {
    "hide-output": false
   },
   "outputs": [],
   "source": [
    "f(x)"
   ]
  },
  {
   "cell_type": "markdown",
   "id": "b5d6e867",
   "metadata": {},
   "source": [
    "Moral of the story: write pure functions when using JAX!"
   ]
  },
  {
   "cell_type": "markdown",
   "id": "fdd281c2",
   "metadata": {},
   "source": [
    "## Gradients\n",
    "\n",
    "JAX can use automatic differentiation to compute gradients.\n",
    "\n",
    "This can be extremely useful in optimization, root finding and other applications.\n",
    "\n",
    "Here’s a very simple illustration, involving the function"
   ]
  },
  {
   "cell_type": "code",
   "execution_count": null,
   "id": "2f0345b2",
   "metadata": {
    "hide-output": false
   },
   "outputs": [],
   "source": [
    "def f(x):\n",
    "    return (x**2) / 2"
   ]
  },
  {
   "cell_type": "markdown",
   "id": "afa88122",
   "metadata": {},
   "source": [
    "Let’s take the derivative:"
   ]
  },
  {
   "cell_type": "code",
   "execution_count": null,
   "id": "131e8b31",
   "metadata": {
    "hide-output": false
   },
   "outputs": [],
   "source": [
    "f_prime = jax.grad(f)"
   ]
  },
  {
   "cell_type": "code",
   "execution_count": null,
   "id": "184b9d73",
   "metadata": {
    "hide-output": false
   },
   "outputs": [],
   "source": [
    "f_prime(10.0)"
   ]
  },
  {
   "cell_type": "markdown",
   "id": "3a95316d",
   "metadata": {},
   "source": [
    "Let’s plot the function and derivative, noting that $ f'(x) = x $."
   ]
  },
  {
   "cell_type": "code",
   "execution_count": null,
   "id": "b2547b24",
   "metadata": {
    "hide-output": false
   },
   "outputs": [],
   "source": [
    "import matplotlib.pyplot as plt\n",
    "\n",
    "fig, ax = plt.subplots()\n",
    "x_grid = jnp.linspace(-4, 4, 200)\n",
    "ax.plot(x_grid, f(x_grid), label=\"$f$\")\n",
    "ax.plot(x_grid, [f_prime(x) for x in x_grid], label=\"$f'$\")\n",
    "ax.legend(loc='upper center')\n",
    "plt.show()"
   ]
  },
  {
   "cell_type": "markdown",
   "id": "686f00a4",
   "metadata": {},
   "source": [
    "## Exercises"
   ]
  },
  {
   "cell_type": "markdown",
   "id": "7831b8a2",
   "metadata": {},
   "source": [
    "## Exercise 15.1\n",
    "\n",
    "Recall that Newton’s method for solving for the root of $ f $ involves iterating on\n",
    "\n",
    "$$\n",
    "q(x) = x - \\frac{f(x)}{f'(x)}\n",
    "$$\n",
    "\n",
    "Write a function called `newton` that takes a function $ f $ plus a guess $ x_0 $ and returns an approximate fixed point.\n",
    "\n",
    "Your `newton` implementation should use automatic differentiation to calculate $ f' $.\n",
    "\n",
    "Test your `newton` method on the function shown below."
   ]
  },
  {
   "cell_type": "code",
   "execution_count": null,
   "id": "b592dc1d",
   "metadata": {
    "hide-output": false
   },
   "outputs": [],
   "source": [
    "f = lambda x: jnp.sin(4 * (x - 1/4)) + x + x**20 - 1\n",
    "x = jnp.linspace(0, 1, 100)\n",
    "\n",
    "fig, ax = plt.subplots()\n",
    "ax.plot(x, f(x), label='$f(x)$')\n",
    "ax.axhline(ls='--', c='k')\n",
    "ax.set_xlabel('$x$', fontsize=12)\n",
    "ax.set_ylabel('$f(x)$', fontsize=12)\n",
    "ax.legend(fontsize=12)\n",
    "plt.show()"
   ]
  },
  {
   "cell_type": "markdown",
   "id": "20043879",
   "metadata": {},
   "source": [
    "## Solution to[ Exercise 15.1](https://python-programming.quantecon.org/#jax_intro_ex1)\n",
    "\n",
    "Here’s a suitable function:"
   ]
  },
  {
   "cell_type": "code",
   "execution_count": null,
   "id": "a74bef7c",
   "metadata": {
    "hide-output": false
   },
   "outputs": [],
   "source": [
    "def newton(f, x_0, tol=1e-5):\n",
    "    f_prime = jax.grad(f)\n",
    "    def q(x):\n",
    "        return x - f(x) / f_prime(x)\n",
    "\n",
    "    error = tol + 1\n",
    "    x = x_0\n",
    "    while error > tol:\n",
    "        y = q(x)\n",
    "        error = abs(x - y)\n",
    "        x = y\n",
    "        \n",
    "    return x"
   ]
  },
  {
   "cell_type": "markdown",
   "id": "331eb2a5",
   "metadata": {},
   "source": [
    "Let’s try it:"
   ]
  },
  {
   "cell_type": "code",
   "execution_count": null,
   "id": "030c8816",
   "metadata": {
    "hide-output": false
   },
   "outputs": [],
   "source": [
    "newton(f, 0.2)"
   ]
  },
  {
   "cell_type": "markdown",
   "id": "a2faa8e0",
   "metadata": {},
   "source": [
    "This number looks good, given the figure."
   ]
  },
  {
   "cell_type": "markdown",
   "id": "68d714ce",
   "metadata": {},
   "source": [
    "## Exercise 15.2\n",
    "\n",
    "In [an earlier exercise on parallelization](https://python-programming.quantecon.org/parallelization.html#parallel_ex2), we used Monte\n",
    "Carlo to price a European call option.\n",
    "\n",
    "The code was accelerated by Numba-based multithreading.\n",
    "\n",
    "Try writing a version of this operation for JAX, using all the same\n",
    "parameters.\n",
    "\n",
    "If you are running your code on a GPU, you should be able to achieve\n",
    "significantly faster exection."
   ]
  },
  {
   "cell_type": "markdown",
   "id": "3bfb73fb",
   "metadata": {},
   "source": [
    "## Solution to[ Exercise 15.2](https://python-programming.quantecon.org/#jax_intro_ex2)\n",
    "\n",
    "Here is one solution:"
   ]
  },
  {
   "cell_type": "code",
   "execution_count": null,
   "id": "313de78f",
   "metadata": {
    "hide-output": false
   },
   "outputs": [],
   "source": [
    "M = 10_000_000\n",
    "\n",
    "n, β, K = 20, 0.99, 100\n",
    "μ, ρ, ν, S0, h0 = 0.0001, 0.1, 0.001, 10, 0\n",
    "\n",
    "@jax.jit\n",
    "def compute_call_price_jax(β=β,\n",
    "                           μ=μ,\n",
    "                           S0=S0,\n",
    "                           h0=h0,\n",
    "                           K=K,\n",
    "                           n=n,\n",
    "                           ρ=ρ,\n",
    "                           ν=ν,\n",
    "                           M=M,\n",
    "                           key=jax.random.PRNGKey(1)):\n",
    "\n",
    "    s = jnp.full(M, np.log(S0))\n",
    "    h = jnp.full(M, h0)\n",
    "    for t in range(n):\n",
    "        key, subkey = jax.random.split(key)\n",
    "        Z = jax.random.normal(subkey, (2, M))\n",
    "        s = s + μ + jnp.exp(h) * Z[0, :]\n",
    "        h = ρ * h + ν * Z[1, :]\n",
    "    expectation = jnp.mean(jnp.maximum(jnp.exp(s) - K, 0))\n",
    "        \n",
    "    return β**n * expectation"
   ]
  },
  {
   "cell_type": "markdown",
   "id": "3d8ad7e4",
   "metadata": {},
   "source": [
    "Let’s run it once to compile it:"
   ]
  },
  {
   "cell_type": "code",
   "execution_count": null,
   "id": "e17e7d79",
   "metadata": {
    "hide-output": false
   },
   "outputs": [],
   "source": [
    "compute_call_price_jax()"
   ]
  },
  {
   "cell_type": "markdown",
   "id": "70eb7ab9",
   "metadata": {},
   "source": [
    "And now let’s time it:"
   ]
  },
  {
   "cell_type": "code",
   "execution_count": null,
   "id": "4e48df0c",
   "metadata": {
    "hide-output": false
   },
   "outputs": [],
   "source": [
    "%%time \n",
    "compute_call_price_jax().block_until_ready()"
   ]
  }
 ],
 "metadata": {
  "date": 1679523490.7311304,
  "filename": "jax_intro.md",
  "kernelspec": {
   "display_name": "Python",
   "language": "python3",
   "name": "python3"
  },
  "title": "JAX"
 },
 "nbformat": 4,
 "nbformat_minor": 5
}