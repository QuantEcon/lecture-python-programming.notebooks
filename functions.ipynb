{
 "cells": [
  {
   "cell_type": "markdown",
   "id": "2c26dbb6",
   "metadata": {},
   "source": [
    "\n",
    "<a id='functions'></a>\n",
    "<div id=\"qe-notebook-header\" align=\"right\" style=\"text-align:right;\">\n",
    "        <a href=\"https://quantecon.org/\" title=\"quantecon.org\">\n",
    "                <img style=\"width:250px;display:inline;\" width=\"250px\" src=\"https://assets.quantecon.org/img/qe-menubar-logo.svg\" alt=\"QuantEcon\">\n",
    "        </a>\n",
    "</div>"
   ]
  },
  {
   "cell_type": "markdown",
   "id": "4d0ad1fb",
   "metadata": {},
   "source": [
    "# Functions\n",
    "\n",
    "\n",
    "<a id='index-0'></a>"
   ]
  },
  {
   "cell_type": "markdown",
   "id": "0eddfe0e",
   "metadata": {},
   "source": [
    "## Contents\n",
    "\n",
    "- [Functions](#Functions)  \n",
    "  - [Overview](#Overview)  \n",
    "  - [Function Basics](#Function-Basics)  \n",
    "  - [Defining Functions](#Defining-Functions)  \n",
    "  - [Applications](#Applications)  \n",
    "  - [Recursive Function Calls (Advanced)](#Recursive-Function-Calls-%28Advanced%29)  \n",
    "  - [Exercises](#Exercises)  \n",
    "  - [Advanced Exercises](#Advanced-Exercises)  "
   ]
  },
  {
   "cell_type": "markdown",
   "id": "2fcd4328",
   "metadata": {},
   "source": [
    "## Overview\n",
    "\n",
    "One construct that’s extremely useful and provided by almost all programming\n",
    "languages is **functions**.\n",
    "\n",
    "We have already met several functions, such as\n",
    "\n",
    "- the `sqrt()` function from NumPy and  \n",
    "- the built-in `print()` function  \n",
    "\n",
    "\n",
    "In this lecture we’ll treat functions systematically and begin to learn just how\n",
    "useful and important they are.\n",
    "\n",
    "One of the things we will learn to do is build our own user-defined functions\n",
    "\n",
    "We will use the following imports."
   ]
  },
  {
   "cell_type": "code",
   "execution_count": null,
   "id": "9e3cabc5",
   "metadata": {
    "hide-output": false
   },
   "outputs": [],
   "source": [
    "%matplotlib inline\n",
    "import numpy as np\n",
    "import matplotlib.pyplot as plt\n",
    "plt.rcParams['figure.figsize'] = (10,6)"
   ]
  },
  {
   "cell_type": "markdown",
   "id": "321f6b6b",
   "metadata": {},
   "source": [
    "## Function Basics\n",
    "\n",
    "A function is a named section of a program that implements a specific task.\n",
    "\n",
    "Many functions exist already and we can use them off the shelf.\n",
    "\n",
    "First we review these functions and then discuss how we can build our own."
   ]
  },
  {
   "cell_type": "markdown",
   "id": "43e089a2",
   "metadata": {},
   "source": [
    "### Built-In Functions\n",
    "\n",
    "Python has a number of *built-in* functions that are available without `import`.\n",
    "\n",
    "We have already met some"
   ]
  },
  {
   "cell_type": "code",
   "execution_count": null,
   "id": "7e64bb06",
   "metadata": {
    "hide-output": false
   },
   "outputs": [],
   "source": [
    "max(19, 20)"
   ]
  },
  {
   "cell_type": "code",
   "execution_count": null,
   "id": "3e69b470",
   "metadata": {
    "hide-output": false
   },
   "outputs": [],
   "source": [
    "print('foobar')"
   ]
  },
  {
   "cell_type": "code",
   "execution_count": null,
   "id": "91ba788c",
   "metadata": {
    "hide-output": false
   },
   "outputs": [],
   "source": [
    "str(22)"
   ]
  },
  {
   "cell_type": "code",
   "execution_count": null,
   "id": "6beac661",
   "metadata": {
    "hide-output": false
   },
   "outputs": [],
   "source": [
    "type(22)"
   ]
  },
  {
   "cell_type": "markdown",
   "id": "7f62a219",
   "metadata": {},
   "source": [
    "Two more useful built-in functions are `any()` and `all()`"
   ]
  },
  {
   "cell_type": "code",
   "execution_count": null,
   "id": "7dddaab8",
   "metadata": {
    "hide-output": false
   },
   "outputs": [],
   "source": [
    "bools = False, True, True\n",
    "all(bools)  # True if all are True and False otherwise"
   ]
  },
  {
   "cell_type": "code",
   "execution_count": null,
   "id": "e352e6fe",
   "metadata": {
    "hide-output": false
   },
   "outputs": [],
   "source": [
    "any(bools)  # False if all are False and True otherwise"
   ]
  },
  {
   "cell_type": "markdown",
   "id": "13f6aa68",
   "metadata": {},
   "source": [
    "The full list of Python built-ins is [here](https://docs.python.org/library/functions.html)."
   ]
  },
  {
   "cell_type": "markdown",
   "id": "4332c8ba",
   "metadata": {},
   "source": [
    "### Third Party Functions\n",
    "\n",
    "If the built-in functions don’t cover what we need, we either need to import\n",
    "functions or create our own.\n",
    "\n",
    "Examples of importing and using functions\n",
    "were given in the [previous lecture](https://python-programming.quantecon.org/python_by_example.html)\n",
    "\n",
    "Here’s another one, which tests whether a given year is a leap year:"
   ]
  },
  {
   "cell_type": "code",
   "execution_count": null,
   "id": "53438b3c",
   "metadata": {
    "hide-output": false
   },
   "outputs": [],
   "source": [
    "import calendar\n",
    "\n",
    "calendar.isleap(2020)"
   ]
  },
  {
   "cell_type": "markdown",
   "id": "2f42bb99",
   "metadata": {},
   "source": [
    "## Defining Functions\n",
    "\n",
    "In many instances, it is useful to be able to define our own functions.\n",
    "\n",
    "This will become clearer as you see more examples.\n",
    "\n",
    "Let’s start by discussing how it’s done."
   ]
  },
  {
   "cell_type": "markdown",
   "id": "b8678a24",
   "metadata": {},
   "source": [
    "### Basic Syntax\n",
    "\n",
    "Here’s a very simple Python function, that implements the mathematical function\n",
    "$ f(x) = 2 x + 1 $"
   ]
  },
  {
   "cell_type": "code",
   "execution_count": null,
   "id": "9d31095a",
   "metadata": {
    "hide-output": false
   },
   "outputs": [],
   "source": [
    "def f(x):\n",
    "    return 2 * x + 1"
   ]
  },
  {
   "cell_type": "markdown",
   "id": "7c195cfa",
   "metadata": {},
   "source": [
    "Now that we’ve *defined* this function, let’s *call* it and check whether it\n",
    "does what we expect:"
   ]
  },
  {
   "cell_type": "code",
   "execution_count": null,
   "id": "7d53f02d",
   "metadata": {
    "hide-output": false
   },
   "outputs": [],
   "source": [
    "f(1)"
   ]
  },
  {
   "cell_type": "code",
   "execution_count": null,
   "id": "9ea26041",
   "metadata": {
    "hide-output": false
   },
   "outputs": [],
   "source": [
    "f(10)"
   ]
  },
  {
   "cell_type": "markdown",
   "id": "c70b805e",
   "metadata": {},
   "source": [
    "Here’s a longer function, that computes the absolute value of a given number.\n",
    "\n",
    "(Such a function already exists as a built-in, but let’s write our own for the\n",
    "exercise.)"
   ]
  },
  {
   "cell_type": "code",
   "execution_count": null,
   "id": "5331dd10",
   "metadata": {
    "hide-output": false
   },
   "outputs": [],
   "source": [
    "def new_abs_function(x):\n",
    "\n",
    "    if x < 0:\n",
    "        abs_value = -x\n",
    "    else:\n",
    "        abs_value = x\n",
    "\n",
    "    return abs_value"
   ]
  },
  {
   "cell_type": "markdown",
   "id": "fd30b1a7",
   "metadata": {},
   "source": [
    "Let’s review the syntax here.\n",
    "\n",
    "- `def` is a Python keyword used to start function definitions.  \n",
    "- `def new_abs_function(x):` indicates that the function is called `new_abs_function` and that it has a single argument `x`.  \n",
    "- The indented code is a code block called the *function body*.  \n",
    "- The `return` keyword indicates that `abs_value` is the object that should be returned to the calling code.  \n",
    "\n",
    "\n",
    "This whole function definition is read by the Python interpreter and stored in memory.\n",
    "\n",
    "Let’s call it to check that it works:"
   ]
  },
  {
   "cell_type": "code",
   "execution_count": null,
   "id": "e8f4e7f6",
   "metadata": {
    "hide-output": false
   },
   "outputs": [],
   "source": [
    "print(new_abs_function(3))\n",
    "print(new_abs_function(-3))"
   ]
  },
  {
   "cell_type": "markdown",
   "id": "f910b6a7",
   "metadata": {},
   "source": [
    "Note that a function can have arbitrarily many `return` statements (including zero).\n",
    "\n",
    "Execution of the function terminates when the first return is hit, allowing\n",
    "code like the following example"
   ]
  },
  {
   "cell_type": "code",
   "execution_count": null,
   "id": "eb262f23",
   "metadata": {
    "hide-output": false
   },
   "outputs": [],
   "source": [
    "def f(x):\n",
    "    if x < 0:\n",
    "        return 'negative'\n",
    "    return 'nonnegative'"
   ]
  },
  {
   "cell_type": "markdown",
   "id": "d3f5f402",
   "metadata": {},
   "source": [
    "Functions without a return statement automatically return the special Python object `None`.\n",
    "\n",
    "\n",
    "<a id='pos-args'></a>"
   ]
  },
  {
   "cell_type": "markdown",
   "id": "0b54f61f",
   "metadata": {},
   "source": [
    "### Keyword Arguments\n",
    "\n",
    "\n",
    "<a id='index-1'></a>\n",
    "In a [previous lecture](https://python-programming.quantecon.org/python_by_example.html#python-by-example), you came across the statement"
   ]
  },
  {
   "cell_type": "markdown",
   "id": "7513eeea",
   "metadata": {
    "hide-output": false
   },
   "source": [
    "```python3\n",
    "plt.plot(x, 'b-', label=\"white noise\")\n",
    "```\n"
   ]
  },
  {
   "cell_type": "markdown",
   "id": "d6f7fb4a",
   "metadata": {},
   "source": [
    "In this call to Matplotlib’s `plot` function, notice that the last argument is passed in `name=argument` syntax.\n",
    "\n",
    "This is called a *keyword argument*, with `label` being the keyword.\n",
    "\n",
    "Non-keyword arguments are called *positional arguments*, since their meaning\n",
    "is determined by order\n",
    "\n",
    "- `plot(x, 'b-', label=\"white noise\")` is different from `plot('b-', x, label=\"white noise\")`  \n",
    "\n",
    "\n",
    "Keyword arguments are particularly useful when a function has a lot of arguments, in which case it’s hard to remember the right order.\n",
    "\n",
    "You can adopt keyword arguments in user-defined functions with no difficulty.\n",
    "\n",
    "The next example illustrates the syntax"
   ]
  },
  {
   "cell_type": "code",
   "execution_count": null,
   "id": "604f9cd5",
   "metadata": {
    "hide-output": false
   },
   "outputs": [],
   "source": [
    "def f(x, a=1, b=1):\n",
    "    return a + b * x"
   ]
  },
  {
   "cell_type": "markdown",
   "id": "cc87942a",
   "metadata": {},
   "source": [
    "The keyword argument values we supplied in the definition of `f` become the default values"
   ]
  },
  {
   "cell_type": "code",
   "execution_count": null,
   "id": "a4e9d353",
   "metadata": {
    "hide-output": false
   },
   "outputs": [],
   "source": [
    "f(2)"
   ]
  },
  {
   "cell_type": "markdown",
   "id": "28ed6ad0",
   "metadata": {},
   "source": [
    "They can be modified as follows"
   ]
  },
  {
   "cell_type": "code",
   "execution_count": null,
   "id": "bc05a39b",
   "metadata": {
    "hide-output": false
   },
   "outputs": [],
   "source": [
    "f(2, a=4, b=5)"
   ]
  },
  {
   "cell_type": "markdown",
   "id": "21a0c320",
   "metadata": {},
   "source": [
    "### The Flexibility of Python Functions\n",
    "\n",
    "As we discussed in the [previous lecture](https://python-programming.quantecon.org/python_by_example.html#python-by-example), Python functions are very flexible.\n",
    "\n",
    "In particular\n",
    "\n",
    "- Any number of functions can be defined in a given file.  \n",
    "- Functions can be (and often are) defined inside other functions.  \n",
    "- Any object can be passed to a function as an argument, including other functions.  \n",
    "- A function can return any kind of object, including functions.  \n",
    "\n",
    "\n",
    "We will give examples of how straightforward it is to pass a function to\n",
    "a function in the following sections."
   ]
  },
  {
   "cell_type": "markdown",
   "id": "995e6a89",
   "metadata": {},
   "source": [
    "### One-Line Functions: `lambda`\n",
    "\n",
    "\n",
    "<a id='index-2'></a>\n",
    "The `lambda` keyword is used to create simple functions on one line.\n",
    "\n",
    "For example, the definitions"
   ]
  },
  {
   "cell_type": "code",
   "execution_count": null,
   "id": "ecf3f23a",
   "metadata": {
    "hide-output": false
   },
   "outputs": [],
   "source": [
    "def f(x):\n",
    "    return x**3"
   ]
  },
  {
   "cell_type": "markdown",
   "id": "b1621730",
   "metadata": {},
   "source": [
    "and"
   ]
  },
  {
   "cell_type": "code",
   "execution_count": null,
   "id": "6ef1cb5d",
   "metadata": {
    "hide-output": false
   },
   "outputs": [],
   "source": [
    "f = lambda x: x**3"
   ]
  },
  {
   "cell_type": "markdown",
   "id": "f602e868",
   "metadata": {},
   "source": [
    "are entirely equivalent.\n",
    "\n",
    "To see why `lambda` is useful, suppose that we want to calculate $ \\int_0^2 x^3 dx $ (and have forgotten our high-school calculus).\n",
    "\n",
    "The SciPy library has a function called `quad` that will do this calculation for us.\n",
    "\n",
    "The syntax of the `quad` function is `quad(f, a, b)` where `f` is a function and `a` and `b` are numbers.\n",
    "\n",
    "To create the function $ f(x) = x^3 $ we can use `lambda` as follows"
   ]
  },
  {
   "cell_type": "code",
   "execution_count": null,
   "id": "88ab9660",
   "metadata": {
    "hide-output": false
   },
   "outputs": [],
   "source": [
    "from scipy.integrate import quad\n",
    "\n",
    "quad(lambda x: x**3, 0, 2)"
   ]
  },
  {
   "cell_type": "markdown",
   "id": "bac1011d",
   "metadata": {},
   "source": [
    "Here the function created by `lambda` is said to be *anonymous* because it was never given a name."
   ]
  },
  {
   "cell_type": "markdown",
   "id": "22356526",
   "metadata": {},
   "source": [
    "### Why Write Functions?\n",
    "\n",
    "User-defined functions are important for improving the clarity of your code by\n",
    "\n",
    "- separating different strands of logic  \n",
    "- facilitating code reuse  \n",
    "\n",
    "\n",
    "(Writing the same thing twice is [almost always a bad idea](https://en.wikipedia.org/wiki/Don%27t_repeat_yourself))\n",
    "\n",
    "We will say more about this [later](https://python-programming.quantecon.org/writing_good_code.html)."
   ]
  },
  {
   "cell_type": "markdown",
   "id": "3d7c7129",
   "metadata": {},
   "source": [
    "## Applications"
   ]
  },
  {
   "cell_type": "markdown",
   "id": "41e276d1",
   "metadata": {},
   "source": [
    "### Random Draws\n",
    "\n",
    "Consider again this code from the [previous lecture](https://python-programming.quantecon.org/python_by_example.html)"
   ]
  },
  {
   "cell_type": "code",
   "execution_count": null,
   "id": "d89de0c7",
   "metadata": {
    "hide-output": false
   },
   "outputs": [],
   "source": [
    "ts_length = 100\n",
    "ϵ_values = []   # empty list\n",
    "\n",
    "for i in range(ts_length):\n",
    "    e = np.random.randn()\n",
    "    ϵ_values.append(e)\n",
    "\n",
    "plt.plot(ϵ_values)\n",
    "plt.show()"
   ]
  },
  {
   "cell_type": "markdown",
   "id": "db43b80f",
   "metadata": {},
   "source": [
    "We will break this program into two parts:\n",
    "\n",
    "1. A user-defined function that generates a list of random variables.  \n",
    "1. The main part of the program that  \n",
    "  1. calls this function to get data  \n",
    "  1. plots the data  \n",
    "\n",
    "\n",
    "This is accomplished in the next program\n",
    "\n",
    "\n",
    "<a id='funcloopprog'></a>"
   ]
  },
  {
   "cell_type": "code",
   "execution_count": null,
   "id": "ecac005c",
   "metadata": {
    "hide-output": false
   },
   "outputs": [],
   "source": [
    "def generate_data(n):\n",
    "    ϵ_values = []\n",
    "    for i in range(n):\n",
    "        e = np.random.randn()\n",
    "        ϵ_values.append(e)\n",
    "    return ϵ_values\n",
    "\n",
    "data = generate_data(100)\n",
    "plt.plot(data)\n",
    "plt.show()"
   ]
  },
  {
   "cell_type": "markdown",
   "id": "752a40f6",
   "metadata": {},
   "source": [
    "When the interpreter gets to the expression `generate_data(100)`, it executes the function body with `n` set equal to 100.\n",
    "\n",
    "The net result is that the name `data` is *bound* to the list `ϵ_values` returned by the function."
   ]
  },
  {
   "cell_type": "markdown",
   "id": "021940bc",
   "metadata": {},
   "source": [
    "### Adding Conditions\n",
    "\n",
    "\n",
    "<a id='index-3'></a>\n",
    "Our function `generate_data()` is rather limited.\n",
    "\n",
    "Let’s make it slightly more useful by giving it the ability to return either standard normals or uniform random variables on $ (0, 1) $ as required.\n",
    "\n",
    "This is achieved in the next piece of code.\n",
    "\n",
    "\n",
    "<a id='funcloopprog2'></a>"
   ]
  },
  {
   "cell_type": "code",
   "execution_count": null,
   "id": "d6cbcebc",
   "metadata": {
    "hide-output": false
   },
   "outputs": [],
   "source": [
    "def generate_data(n, generator_type):\n",
    "    ϵ_values = []\n",
    "    for i in range(n):\n",
    "        if generator_type == 'U':\n",
    "            e = np.random.uniform(0, 1)\n",
    "        else:\n",
    "            e = np.random.randn()\n",
    "        ϵ_values.append(e)\n",
    "    return ϵ_values\n",
    "\n",
    "data = generate_data(100, 'U')\n",
    "plt.plot(data)\n",
    "plt.show()"
   ]
  },
  {
   "cell_type": "markdown",
   "id": "06585be7",
   "metadata": {},
   "source": [
    "Hopefully, the syntax of the if/else clause is self-explanatory, with indentation again delimiting the extent of the code blocks.\n",
    "\n",
    "Notes\n",
    "\n",
    "- We are passing the argument `U` as a string, which is why we write it as `'U'`.  \n",
    "- Notice that equality is tested with the `==` syntax, not `=`.  \n",
    "  - For example, the statement `a = 10` assigns the name `a` to the value `10`.  \n",
    "  - The expression `a == 10` evaluates to either `True` or `False`, depending on the value of `a`.  \n",
    "\n",
    "\n",
    "Now, there are several ways that we can simplify the code above.\n",
    "\n",
    "For example, we can get rid of the conditionals all together by just passing the desired generator type *as a function*.\n",
    "\n",
    "To understand this, consider the following version.\n",
    "\n",
    "\n",
    "<a id='test-program-6'></a>"
   ]
  },
  {
   "cell_type": "code",
   "execution_count": null,
   "id": "c84a6f65",
   "metadata": {
    "hide-output": false
   },
   "outputs": [],
   "source": [
    "def generate_data(n, generator_type):\n",
    "    ϵ_values = []\n",
    "    for i in range(n):\n",
    "        e = generator_type()\n",
    "        ϵ_values.append(e)\n",
    "    return ϵ_values\n",
    "\n",
    "data = generate_data(100, np.random.uniform)\n",
    "plt.plot(data)\n",
    "plt.show()"
   ]
  },
  {
   "cell_type": "markdown",
   "id": "5b008147",
   "metadata": {},
   "source": [
    "Now, when we call the function `generate_data()`, we pass `np.random.uniform`\n",
    "as the second argument.\n",
    "\n",
    "This object is a *function*.\n",
    "\n",
    "When the function call  `generate_data(100, np.random.uniform)` is executed, Python runs the function code block with `n` equal to 100 and the name `generator_type` “bound” to the function `np.random.uniform`.\n",
    "\n",
    "- While these lines are executed, the names `generator_type` and `np.random.uniform` are “synonyms”, and can be used in identical ways.  \n",
    "\n",
    "\n",
    "This principle works more generally—for example, consider the following piece of code"
   ]
  },
  {
   "cell_type": "code",
   "execution_count": null,
   "id": "55125a0e",
   "metadata": {
    "hide-output": false
   },
   "outputs": [],
   "source": [
    "max(7, 2, 4)   # max() is a built-in Python function"
   ]
  },
  {
   "cell_type": "code",
   "execution_count": null,
   "id": "990f8a22",
   "metadata": {
    "hide-output": false
   },
   "outputs": [],
   "source": [
    "m = max\n",
    "m(7, 2, 4)"
   ]
  },
  {
   "cell_type": "markdown",
   "id": "35aecce6",
   "metadata": {},
   "source": [
    "Here we created another name for the built-in function `max()`, which could\n",
    "then be used in identical ways.\n",
    "\n",
    "In the context of our program, the ability to bind new names to functions\n",
    "means that there is no problem *passing a function as an argument to another\n",
    "function*—as we did above.\n",
    "\n",
    "\n",
    "<a id='recursive-functions'></a>"
   ]
  },
  {
   "cell_type": "markdown",
   "id": "2a54b4b7",
   "metadata": {},
   "source": [
    "## Recursive Function Calls (Advanced)\n",
    "\n",
    "\n",
    "<a id='index-4'></a>\n",
    "This is not something that you will use every day, but it is still useful — you should learn it at some stage.\n",
    "\n",
    "Basically, a recursive function is a function that calls itself.\n",
    "\n",
    "For example, consider the problem of computing $ x_t $ for some t when\n",
    "\n",
    "\n",
    "<a id='equation-xseqdoub'></a>\n",
    "$$\n",
    "x_{t+1} = 2 x_t, \\quad x_0 = 1 \\tag{4.1}\n",
    "$$\n",
    "\n",
    "Obviously the answer is $ 2^t $.\n",
    "\n",
    "We can compute this easily enough with a loop"
   ]
  },
  {
   "cell_type": "code",
   "execution_count": null,
   "id": "9893aba2",
   "metadata": {
    "hide-output": false
   },
   "outputs": [],
   "source": [
    "def x_loop(t):\n",
    "    x = 1\n",
    "    for i in range(t):\n",
    "        x = 2 * x\n",
    "    return x"
   ]
  },
  {
   "cell_type": "markdown",
   "id": "34d4984f",
   "metadata": {},
   "source": [
    "We can also use a recursive solution, as follows"
   ]
  },
  {
   "cell_type": "code",
   "execution_count": null,
   "id": "5478c20e",
   "metadata": {
    "hide-output": false
   },
   "outputs": [],
   "source": [
    "def x(t):\n",
    "    if t == 0:\n",
    "        return 1\n",
    "    else:\n",
    "        return 2 * x(t-1)"
   ]
  },
  {
   "cell_type": "markdown",
   "id": "55fa4eb0",
   "metadata": {},
   "source": [
    "What happens here is that each successive call uses it’s own *frame* in the *stack*\n",
    "\n",
    "- a frame is where the local variables of a given function call are held  \n",
    "- stack is memory used to process function calls  \n",
    "  - a First In Last Out (FILO) queue  \n",
    "\n",
    "\n",
    "This example is somewhat contrived, since the first (iterative) solution would usually be preferred to the recursive solution.\n",
    "\n",
    "We’ll meet less contrived applications of recursion later on.\n",
    "\n",
    "\n",
    "<a id='factorial-exercise'></a>"
   ]
  },
  {
   "cell_type": "markdown",
   "id": "2f18148f",
   "metadata": {},
   "source": [
    "## Exercises"
   ]
  },
  {
   "cell_type": "markdown",
   "id": "42a1eeed",
   "metadata": {},
   "source": [
    "## Exercise 4.1\n",
    "\n",
    "Recall that $ n! $ is read as “$ n $ factorial” and defined as\n",
    "$ n! = n \\times (n - 1) \\times \\cdots \\times 2 \\times 1 $.\n",
    "\n",
    "We will only consider $ n $ as a positive integer here.\n",
    "\n",
    "There are functions to compute this in various modules, but let’s\n",
    "write our own version as an exercise.\n",
    "\n",
    "1. In particular, write a function `factorial` such that `factorial(n)` returns $ n! $\n",
    "  for any positive integer $ n $.  \n",
    "1. In addition, try to add a new argument for your function.\n",
    "  The argument takes a function `f` that transforms n to $ f(n) = n^2 + 1 $ if n is even, and $ f(n) = n^2 $ if n is odd.\n",
    "  The default value should be $ f(n) = n $.  \n",
    "\n",
    "\n",
    "For example\n",
    "\n",
    "- The default case `factorial(3)` should return $ 3! $  \n",
    "- `factorial(3,f)` should return $ 9! $  \n",
    "- `factorial(2,f)` should return $ 5! $  \n",
    "\n",
    "\n",
    "Try to use lambda expressions to define the function `f`."
   ]
  },
  {
   "cell_type": "markdown",
   "id": "3e3d4bdc",
   "metadata": {},
   "source": [
    "## Solution to[ Exercise 4.1](https://python-programming.quantecon.org/#func_ex1)\n",
    "\n",
    "Here’s one solution for part 1"
   ]
  },
  {
   "cell_type": "code",
   "execution_count": null,
   "id": "cd64142a",
   "metadata": {
    "hide-output": false
   },
   "outputs": [],
   "source": [
    "def factorial(n):\n",
    "    k = 1\n",
    "    for i in range(n):\n",
    "        k = k * (i + 1)\n",
    "    return k\n",
    "\n",
    "factorial(4)"
   ]
  },
  {
   "cell_type": "markdown",
   "id": "298bd7b0",
   "metadata": {},
   "source": [
    "Adding the lambda expression"
   ]
  },
  {
   "cell_type": "code",
   "execution_count": null,
   "id": "e8d3e376",
   "metadata": {
    "hide-output": false
   },
   "outputs": [],
   "source": [
    "def factorial(n,f = lambda x: x):\n",
    "    k = 1\n",
    "    for i in range(f(n)):\n",
    "        k = k * (i + 1)\n",
    "    return k\n",
    "\n",
    "\n",
    "factorial(9) # default"
   ]
  },
  {
   "cell_type": "code",
   "execution_count": null,
   "id": "ee5446b7",
   "metadata": {
    "hide-output": false
   },
   "outputs": [],
   "source": [
    "f = lambda x: x**2 + 1 if x % 2 == 0 else x**2\n",
    "\n",
    "factorial(3, f) # odd (equivalent to factorial(9))"
   ]
  },
  {
   "cell_type": "code",
   "execution_count": null,
   "id": "5b0123b3",
   "metadata": {
    "hide-output": false
   },
   "outputs": [],
   "source": [
    "factorial(2, f) # even (equivalent to factorial(5))"
   ]
  },
  {
   "cell_type": "markdown",
   "id": "4b6c37b7",
   "metadata": {},
   "source": [
    "## Exercise 4.2\n",
    "\n",
    "The [binomial random variable](https://en.wikipedia.org/wiki/Binomial_distribution) $ Y \\sim Bin(n, p) $ represents the number of successes in $ n $ binary trials, where each trial succeeds with probability $ p $.\n",
    "\n",
    "Without any import besides `from numpy.random import uniform`, write a function\n",
    "`binomial_rv` such that `binomial_rv(n, p)` generates one draw of $ Y $.\n",
    "\n",
    "If $ U $ is uniform on $ (0, 1) $ and $ p \\in (0,1) $, then the expression `U < p` evaluates to `True` with probability $ p $."
   ]
  },
  {
   "cell_type": "markdown",
   "id": "1a5369ae",
   "metadata": {},
   "source": [
    "## Solution to[ Exercise 4.2](https://python-programming.quantecon.org/#func_ex2)\n",
    "\n",
    "Here is one solution:"
   ]
  },
  {
   "cell_type": "code",
   "execution_count": null,
   "id": "b15cebab",
   "metadata": {
    "hide-output": false
   },
   "outputs": [],
   "source": [
    "from numpy.random import uniform\n",
    "\n",
    "def binomial_rv(n, p):\n",
    "    count = 0\n",
    "    for i in range(n):\n",
    "        U = uniform()\n",
    "        if U < p:\n",
    "            count = count + 1    # Or count += 1\n",
    "    return count\n",
    "\n",
    "binomial_rv(10, 0.5)"
   ]
  },
  {
   "cell_type": "markdown",
   "id": "67058955",
   "metadata": {},
   "source": [
    "## Exercise 4.3\n",
    "\n",
    "First, write a function that returns one realization of the following random device\n",
    "\n",
    "1. Flip an unbiased coin 10 times.  \n",
    "1. If a head occurs `k` or more times consecutively within this sequence at least once, pay one dollar.  \n",
    "1. If not, pay nothing.  \n",
    "\n",
    "\n",
    "Second, write another function that does the same task except that the second rule of the above random device becomes\n",
    "\n",
    "- If a head occurs `k` or more times within this sequence, pay one dollar.  \n",
    "\n",
    "\n",
    "Use no import besides `from numpy.random import uniform`."
   ]
  },
  {
   "cell_type": "markdown",
   "id": "9342dc29",
   "metadata": {},
   "source": [
    "## Solution to[ Exercise 4.3](https://python-programming.quantecon.org/#func_ex3)\n",
    "\n",
    "Here’s a function for the first random device."
   ]
  },
  {
   "cell_type": "code",
   "execution_count": null,
   "id": "83616cce",
   "metadata": {
    "hide-output": false
   },
   "outputs": [],
   "source": [
    "from numpy.random import uniform\n",
    "\n",
    "def draw(k):  # pays if k consecutive successes in a sequence\n",
    "\n",
    "    payoff = 0\n",
    "    count = 0\n",
    "\n",
    "    for i in range(10):\n",
    "        U = uniform()\n",
    "        count = count + 1 if U < 0.5 else 0\n",
    "        print(count)    # print counts for clarity\n",
    "        if count == k:\n",
    "            payoff = 1\n",
    "\n",
    "    return payoff\n",
    "\n",
    "draw(3)"
   ]
  },
  {
   "cell_type": "markdown",
   "id": "237bfb2b",
   "metadata": {},
   "source": [
    "Here’s another function for the second random device."
   ]
  },
  {
   "cell_type": "code",
   "execution_count": null,
   "id": "e13f6ac0",
   "metadata": {
    "hide-output": false
   },
   "outputs": [],
   "source": [
    "def draw_new(k):  # pays if k successes in a sequence\n",
    "\n",
    "    payoff = 0\n",
    "    count = 0\n",
    "\n",
    "    for i in range(10):\n",
    "        U = uniform()\n",
    "        count = count + ( 1 if U < 0.5 else 0 )\n",
    "        print(count)\n",
    "        if count == k:\n",
    "            payoff = 1\n",
    "\n",
    "    return payoff\n",
    "\n",
    "draw_new(3)"
   ]
  },
  {
   "cell_type": "markdown",
   "id": "bbc9303e",
   "metadata": {},
   "source": [
    "## Advanced Exercises\n",
    "\n",
    "In the following exercises, we will write recursive functions together.\n",
    "\n",
    "We will use more advanced syntaxes such as [list comprehensions](https://python-programming.quantecon.org/python_essentials.html#list-comprehensions) to test our solutions against a list of inputs.\n",
    "\n",
    "If you are not familiar with these concepts, feel free to come back later."
   ]
  },
  {
   "cell_type": "markdown",
   "id": "f3a8284f",
   "metadata": {},
   "source": [
    "## Exercise 4.4\n",
    "\n",
    "The Fibonacci numbers are defined by\n",
    "\n",
    "\n",
    "<a id='equation-fib'></a>\n",
    "$$\n",
    "x_{t+1} = x_t + x_{t-1}, \\quad x_0 = 0, \\; x_1 = 1 \\tag{4.2}\n",
    "$$\n",
    "\n",
    "The first few numbers in the sequence are $ 0, 1, 1, 2, 3, 5, 8, 13, 21, 34, 55 $.\n",
    "\n",
    "Write a function to recursively compute the $ t $-th Fibonacci number for any $ t $."
   ]
  },
  {
   "cell_type": "markdown",
   "id": "d475d390",
   "metadata": {},
   "source": [
    "## Solution to[ Exercise 4.4](https://python-programming.quantecon.org/#func_ex4)\n",
    "\n",
    "Here’s the standard solution"
   ]
  },
  {
   "cell_type": "code",
   "execution_count": null,
   "id": "b010871f",
   "metadata": {
    "hide-output": false
   },
   "outputs": [],
   "source": [
    "def x(t):\n",
    "    if t == 0:\n",
    "        return 0\n",
    "    if t == 1:\n",
    "        return 1\n",
    "    else:\n",
    "        return x(t-1) + x(t-2)"
   ]
  },
  {
   "cell_type": "markdown",
   "id": "aa91cee2",
   "metadata": {},
   "source": [
    "Let’s test it"
   ]
  },
  {
   "cell_type": "code",
   "execution_count": null,
   "id": "f88e5279",
   "metadata": {
    "hide-output": false
   },
   "outputs": [],
   "source": [
    "print([x(i) for i in range(10)])"
   ]
  },
  {
   "cell_type": "markdown",
   "id": "bffb5291",
   "metadata": {},
   "source": [
    "## Exercise 4.5\n",
    "\n",
    "For this exercise, rewrite the function `factorial(n)` in **[exercise 1](#factorial-exercise)** using recursion."
   ]
  },
  {
   "cell_type": "markdown",
   "id": "c7d1086c",
   "metadata": {},
   "source": [
    "## Solution to[ Exercise 4.5](https://python-programming.quantecon.org/#func_ex5)\n",
    "\n",
    "Here’s the standard solution"
   ]
  },
  {
   "cell_type": "code",
   "execution_count": null,
   "id": "7b2589be",
   "metadata": {
    "hide-output": false
   },
   "outputs": [],
   "source": [
    "def recursion_factorial(n):\n",
    "   if n == 1:\n",
    "       return n\n",
    "   else:\n",
    "       return n * recursion_factorial(n-1)"
   ]
  },
  {
   "cell_type": "markdown",
   "id": "ec742350",
   "metadata": {},
   "source": [
    "Here’s a simplified solution"
   ]
  },
  {
   "cell_type": "code",
   "execution_count": null,
   "id": "06334717",
   "metadata": {
    "hide-output": false
   },
   "outputs": [],
   "source": [
    "def recursion_factorial_simplified(n):\n",
    "    return n * recursion_factorial(n-1) if n != 1 else n"
   ]
  },
  {
   "cell_type": "markdown",
   "id": "0448d9d6",
   "metadata": {},
   "source": [
    "Let’s test them"
   ]
  },
  {
   "cell_type": "code",
   "execution_count": null,
   "id": "490b612c",
   "metadata": {
    "hide-output": false
   },
   "outputs": [],
   "source": [
    "print([recursion_factorial(i) for i in range(1, 10)])"
   ]
  },
  {
   "cell_type": "code",
   "execution_count": null,
   "id": "b46468d7",
   "metadata": {
    "hide-output": false
   },
   "outputs": [],
   "source": [
    "print([recursion_factorial_simplified(i) for i in range(1, 10)])"
   ]
  }
 ],
 "metadata": {
  "date": 1703113307.2909584,
  "filename": "functions.md",
  "kernelspec": {
   "display_name": "Python",
   "language": "python3",
   "name": "python3"
  },
  "title": "Functions"
 },
 "nbformat": 4,
 "nbformat_minor": 5
}