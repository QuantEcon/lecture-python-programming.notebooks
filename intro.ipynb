{
 "cells": [
  {
   "cell_type": "markdown",
   "id": "585b55db",
   "metadata": {},
   "source": [
    "# Python Programming for Economics and Finance\n",
    "\n",
    "This website presents a set of lectures on Python programming for economics and finance.\n",
    "\n",
    "This is the first text in the series, which focuses on programming in Python.\n",
    "\n",
    "For an overview of the series, see [this page](https://quantecon.org/python-lectures/)"
   ]
  },
  {
   "cell_type": "markdown",
   "id": "597ce66a",
   "metadata": {},
   "source": [
    "# Introduction to Python\n",
    "\n",
    "- [About Python](https://python-programming.quantecon.org/about_py.html)\n",
    "- [Getting Started](https://python-programming.quantecon.org/getting_started.html)\n",
    "- [An Introductory Example](https://python-programming.quantecon.org/python_by_example.html)\n",
    "- [Functions](https://python-programming.quantecon.org/functions.html)\n",
    "- [Python Essentials](https://python-programming.quantecon.org/python_essentials.html)\n",
    "- [OOP I: Objects and Methods](https://python-programming.quantecon.org/oop_intro.html)\n",
    "- [Names and Namespaces](https://python-programming.quantecon.org/names.html)\n",
    "- [OOP II: Building Classes](https://python-programming.quantecon.org/python_oop.html)\n",
    "- [Writing Longer Programs](https://python-programming.quantecon.org/workspace.html)"
   ]
  },
  {
   "cell_type": "markdown",
   "id": "c9d692ed",
   "metadata": {},
   "source": [
    "# The Scientific Libraries\n",
    "\n",
    "- [Python for Scientific Computing](https://python-programming.quantecon.org/need_for_speed.html)\n",
    "- [NumPy](https://python-programming.quantecon.org/numpy.html)\n",
    "- [Matplotlib](https://python-programming.quantecon.org/matplotlib.html)\n",
    "- [SciPy](https://python-programming.quantecon.org/scipy.html)\n",
    "- [Pandas](https://python-programming.quantecon.org/pandas.html)\n",
    "- [Pandas for Panel Data](https://python-programming.quantecon.org/pandas_panel.html)\n",
    "- [SymPy](https://python-programming.quantecon.org/sympy.html)"
   ]
  },
  {
   "cell_type": "markdown",
   "id": "52d68204",
   "metadata": {},
   "source": [
    "# High Performance Computing\n",
    "\n",
    "- [Numba](https://python-programming.quantecon.org/numba.html)\n",
    "- [Parallelization](https://python-programming.quantecon.org/parallelization.html)\n",
    "- [JAX](https://python-programming.quantecon.org/jax_intro.html)"
   ]
  },
  {
   "cell_type": "markdown",
   "id": "420d26b8",
   "metadata": {},
   "source": [
    "# Advanced Python Programming\n",
    "\n",
    "- [Writing Good Code](https://python-programming.quantecon.org/writing_good_code.html)\n",
    "- [More Language Features](https://python-programming.quantecon.org/python_advanced_features.html)\n",
    "- [Debugging and Handling Errors](https://python-programming.quantecon.org/debugging.html)"
   ]
  },
  {
   "cell_type": "markdown",
   "id": "42c8c60d",
   "metadata": {},
   "source": [
    "# Other\n",
    "\n",
    "- [Troubleshooting](https://python-programming.quantecon.org/troubleshooting.html)\n",
    "- [Execution Statistics](https://python-programming.quantecon.org/status.html)"
   ]
  }
 ],
 "metadata": {
  "date": 1714691698.3781364,
  "filename": "intro.md",
  "kernelspec": {
   "display_name": "Python",
   "language": "python3",
   "name": "python3"
  },
  "title": "Python Programming for Economics and Finance"
 },
 "nbformat": 4,
 "nbformat_minor": 5
}