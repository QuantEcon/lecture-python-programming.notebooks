{
 "cells": [
  {
   "cell_type": "markdown",
   "id": "a59d2ad0",
   "metadata": {},
   "source": [
    "# Python Programming for Economics and Finance\n",
    "\n",
    "These lectures are the first in [the set of lecture series](https://quantecon.org/lectures/) provided by QuantEcon.\n",
    "\n",
    "They focus on learning to program in Python, with a view to applications in\n",
    "economics and finance."
   ]
  },
  {
   "cell_type": "markdown",
   "id": "32451354",
   "metadata": {},
   "source": [
    "# Introduction to Python\n",
    "\n",
    "- [About These Lectures](https://python-programming.quantecon.org/about_py.html)\n",
    "- [Getting Started](https://python-programming.quantecon.org/getting_started.html)\n",
    "- [An Introductory Example](https://python-programming.quantecon.org/python_by_example.html)\n",
    "- [Functions](https://python-programming.quantecon.org/functions.html)\n",
    "- [Python Essentials](https://python-programming.quantecon.org/python_essentials.html)\n",
    "- [OOP I: Objects and Methods](https://python-programming.quantecon.org/oop_intro.html)\n",
    "- [Names and Namespaces](https://python-programming.quantecon.org/names.html)\n",
    "- [OOP II: Building Classes](https://python-programming.quantecon.org/python_oop.html)\n",
    "- [Writing Longer Programs](https://python-programming.quantecon.org/workspace.html)"
   ]
  },
  {
   "cell_type": "markdown",
   "id": "75d7e9be",
   "metadata": {},
   "source": [
    "# The Scientific Libraries\n",
    "\n",
    "- [Python for Scientific Computing](https://python-programming.quantecon.org/need_for_speed.html)\n",
    "- [NumPy](https://python-programming.quantecon.org/numpy.html)\n",
    "- [Matplotlib](https://python-programming.quantecon.org/matplotlib.html)\n",
    "- [SciPy](https://python-programming.quantecon.org/scipy.html)\n",
    "- [Pandas](https://python-programming.quantecon.org/pandas.html)\n",
    "- [Pandas for Panel Data](https://python-programming.quantecon.org/pandas_panel.html)\n",
    "- [SymPy](https://python-programming.quantecon.org/sympy.html)"
   ]
  },
  {
   "cell_type": "markdown",
   "id": "a8227d85",
   "metadata": {},
   "source": [
    "# High Performance Computing\n",
    "\n",
    "- [Numba](https://python-programming.quantecon.org/numba.html)\n",
    "- [Parallelization](https://python-programming.quantecon.org/parallelization.html)\n",
    "- [An Introduction to JAX](https://python-programming.quantecon.org/jax_intro.html)"
   ]
  },
  {
   "cell_type": "markdown",
   "id": "a0e2da91",
   "metadata": {},
   "source": [
    "# Advanced Python Programming\n",
    "\n",
    "- [Writing Good Code](https://python-programming.quantecon.org/writing_good_code.html)\n",
    "- [More Language Features](https://python-programming.quantecon.org/python_advanced_features.html)\n",
    "- [Debugging and Handling Errors](https://python-programming.quantecon.org/debugging.html)"
   ]
  },
  {
   "cell_type": "markdown",
   "id": "af19fb57",
   "metadata": {},
   "source": [
    "# Other\n",
    "\n",
    "- [Troubleshooting](https://python-programming.quantecon.org/troubleshooting.html)\n",
    "- [Execution Statistics](https://python-programming.quantecon.org/status.html)"
   ]
  }
 ],
 "metadata": {
  "date": 1759199056.5901823,
  "filename": "intro.md",
  "kernelspec": {
   "display_name": "Python",
   "language": "python3",
   "name": "python3"
  },
  "title": "Python Programming for Economics and Finance"
 },
 "nbformat": 4,
 "nbformat_minor": 5
}