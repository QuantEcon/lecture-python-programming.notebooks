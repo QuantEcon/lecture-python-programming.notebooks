{
 "cells": [
  {
   "cell_type": "markdown",
   "id": "c7fb11b6",
   "metadata": {},
   "source": [
    "# Python Programming for Economics and Finance\n",
    "\n",
    "This website presents a set of lectures on Python programming for economics and finance, designed and written by\n",
    "[Thomas J. Sargent](http://www.tomsargent.com/) and [John Stachurski](http://johnstachurski.net/). This is the first text in the series, which focuses on programming in Python.\n",
    "\n",
    "For an overview of the series, see [this page](https://quantecon.org/python-lectures/)"
   ]
  },
  {
   "cell_type": "markdown",
   "id": "99320dab",
   "metadata": {},
   "source": [
    "# Introduction to Python\n",
    "\n",
    "- [About Python](https://python-programming.quantecon.org/about_py.html)\n",
    "- [Setting up Your Python Environment](https://python-programming.quantecon.org/getting_started.html)\n",
    "- [An Introductory Example](https://python-programming.quantecon.org/python_by_example.html)\n",
    "- [Functions](https://python-programming.quantecon.org/functions.html)\n",
    "- [Python Essentials](https://python-programming.quantecon.org/python_essentials.html)\n",
    "- [OOP I: Introduction to Object Oriented Programming](https://python-programming.quantecon.org/oop_intro.html)\n",
    "- [OOP II: Building Classes](https://python-programming.quantecon.org/python_oop.html)"
   ]
  },
  {
   "cell_type": "markdown",
   "id": "ac1122e2",
   "metadata": {},
   "source": [
    "# The Scientific Libraries\n",
    "\n",
    "- [Python for Scientific Computing](https://python-programming.quantecon.org/need_for_speed.html)\n",
    "- [NumPy](https://python-programming.quantecon.org/numpy.html)\n",
    "- [Matplotlib](https://python-programming.quantecon.org/matplotlib.html)\n",
    "- [SciPy](https://python-programming.quantecon.org/scipy.html)\n",
    "- [Numba](https://python-programming.quantecon.org/numba.html)\n",
    "- [Parallelization](https://python-programming.quantecon.org/parallelization.html)\n",
    "- [Pandas](https://python-programming.quantecon.org/pandas.html)"
   ]
  },
  {
   "cell_type": "markdown",
   "id": "81eb666f",
   "metadata": {},
   "source": [
    "# Advanced Python Programming\n",
    "\n",
    "- [Writing Good Code](https://python-programming.quantecon.org/writing_good_code.html)\n",
    "- [More Language Features](https://python-programming.quantecon.org/python_advanced_features.html)\n",
    "- [Debugging](https://python-programming.quantecon.org/debugging.html)"
   ]
  },
  {
   "cell_type": "markdown",
   "id": "b247664e",
   "metadata": {},
   "source": [
    "# Other\n",
    "\n",
    "- [Troubleshooting](https://python-programming.quantecon.org/troubleshooting.html)\n",
    "- [Execution Statistics](https://python-programming.quantecon.org/status.html)"
   ]
  }
 ],
 "metadata": {
  "date": 1656204934.376583,
  "filename": "intro.md",
  "kernelspec": {
   "display_name": "Python",
   "language": "python3",
   "name": "python3"
  },
  "title": "Python Programming for Economics and Finance"
 },
 "nbformat": 4,
 "nbformat_minor": 5
}