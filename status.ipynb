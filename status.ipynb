{
 "cells": [
  {
   "cell_type": "markdown",
   "metadata": {},
   "source": [
    "# Execution Statistics\n",
    "\n",
    "This table contains the latest execution statistics.\n",
    "\n",
    "|Document|Modified|Method|Run Time (s)|Status|\n",
    "|:------------------:|:------------------:|:------------------:|:------------------:|:------------------:|\n",
    "|about_py|2021-06-03 01:34|cache|3.7|✅|\n",
    "|debugging|2021-06-03 01:34|cache|2.42|✅|\n",
    "|functions|2021-06-03 01:34|cache|3.02|✅|\n",
    "|getting_started|2021-06-03 01:34|cache|2.58|✅|\n",
    "|intro|2021-06-03 01:34|cache|0.9|✅|\n",
    "|matplotlib|2021-06-03 01:34|cache|4.51|✅|\n",
    "|need_for_speed|2021-06-03 01:34|cache|15.96|✅|\n",
    "|numba|2021-06-03 01:34|cache|25.91|✅|\n",
    "|numpy|2021-06-03 01:34|cache|2.2|✅|\n",
    "|oop_intro|2021-06-03 01:34|cache|1.46|✅|\n",
    "|pandas|2021-06-03 01:34|cache|14.81|✅|\n",
    "|parallelization|2021-06-03 01:34|cache|82.52|✅|\n",
    "|python_advanced_features|2021-06-03 01:34|cache|46.57|✅|\n",
    "|python_by_example|2021-06-03 01:34|cache|4.22|✅|\n",
    "|python_essentials|2021-06-03 01:34|cache|3.04|✅|\n",
    "|python_oop|2021-06-03 01:34|cache|3.42|✅|\n",
    "|scipy|2021-06-03 01:34|cache|11.8|✅|\n",
    "|status|2021-06-03 01:34|cache|0.9|✅|\n",
    "|troubleshooting|2021-06-03 01:34|cache|0.9|✅|\n",
    "|writing_good_code|2021-06-03 01:34|cache|3.83|✅|\n",
    "These lectures are built on `linux` instances through `github actions` so are\n",
    "executed using the following [hardware specifications](https://docs.github.com/en/actions/reference/specifications-for-github-hosted-runners#supported-runners-and-hardware-resources)"
   ]
  }
 ],
 "metadata": {
  "date": 1622684095.903901,
  "filename": "status.md",
  "kernelspec": {
   "display_name": "Python",
   "language": "python3",
   "name": "python3"
  },
  "title": "Execution Statistics"
 },
 "nbformat": 4,
 "nbformat_minor": 4
}