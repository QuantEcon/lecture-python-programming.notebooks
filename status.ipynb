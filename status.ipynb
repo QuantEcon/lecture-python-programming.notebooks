{
 "cells": [
  {
   "cell_type": "markdown",
   "id": "7ce122fe",
   "metadata": {},
   "source": [
    "# Execution Statistics\n",
    "\n",
    "This table contains the latest execution statistics.\n",
    "\n",
    "[](https://python-programming.quantecon.org/about_py.html)[](https://python-programming.quantecon.org/debugging.html)[](https://python-programming.quantecon.org/functions.html)[](https://python-programming.quantecon.org/getting_started.html)[](https://python-programming.quantecon.org/intro.html)[](https://python-programming.quantecon.org/jax_intro.html)[](https://python-programming.quantecon.org/matplotlib.html)[](https://python-programming.quantecon.org/need_for_speed.html)[](https://python-programming.quantecon.org/numba.html)[](https://python-programming.quantecon.org/numpy.html)[](https://python-programming.quantecon.org/oop_intro.html)[](https://python-programming.quantecon.org/pandas.html)[](https://python-programming.quantecon.org/parallelization.html)[](https://python-programming.quantecon.org/python_advanced_features.html)[](https://python-programming.quantecon.org/python_by_example.html)[](https://python-programming.quantecon.org/python_essentials.html)[](https://python-programming.quantecon.org/python_oop.html)[](https://python-programming.quantecon.org/scipy.html)[](https://python-programming.quantecon.org/.html)[](https://python-programming.quantecon.org/troubleshooting.html)[](https://python-programming.quantecon.org/writing_good_code.html)|Document|Modified|Method|Run Time (s)|Status|\n",
    "|:------------------:|:------------------:|:------------------:|:------------------:|:------------------:|\n",
    "|about_py|2023-05-18 10:27|cache|6.93|✅|\n",
    "|debugging|2023-05-18 10:28|cache|3.68|✅|\n",
    "|functions|2023-05-18 10:28|cache|3.24|✅|\n",
    "|getting_started|2023-05-18 10:28|cache|2.43|✅|\n",
    "|intro|2023-05-18 10:28|cache|1.4|✅|\n",
    "|jax_intro|2023-05-18 10:28|cache|1.4|✅|\n",
    "|matplotlib|2023-05-18 10:28|cache|8.03|✅|\n",
    "|need_for_speed|2023-05-18 10:28|cache|13.85|✅|\n",
    "|numba|2023-05-18 10:28|cache|18.02|✅|\n",
    "|numpy|2023-05-18 10:29|cache|12.99|✅|\n",
    "|oop_intro|2023-05-18 10:29|cache|2.51|✅|\n",
    "|pandas|2023-05-18 10:29|cache|22.18|✅|\n",
    "|parallelization|2023-05-18 10:30|cache|56.94|✅|\n",
    "|python_advanced_features|2023-05-18 10:31|cache|44.11|✅|\n",
    "|python_by_example|2023-05-18 10:31|cache|11.07|✅|\n",
    "|python_essentials|2023-05-18 10:31|cache|2.56|✅|\n",
    "|python_oop|2023-05-18 10:31|cache|3.66|✅|\n",
    "|scipy|2023-05-18 10:31|cache|20.32|✅|\n",
    "|status|2023-05-18 10:28|cache|1.4|✅|\n",
    "|troubleshooting|2023-05-18 10:28|cache|1.4|✅|\n",
    "|writing_good_code|2023-05-18 10:31|cache|4.7|✅|\n",
    "\n",
    "<a id='status-machine-details'></a>\n",
    "These lectures are built on `linux` instances through `github actions`  and `amazon web services (aws)` to\n",
    "enable access to a `gpu`. These lectures are built on a [p3.2xlarge](https://aws.amazon.com/ec2/instance-types/p3/)\n",
    "that has access to `8 vcpu's`, a `V100 NVIDIA Tesla GPU`, and `61 Gb` of memory."
   ]
  }
 ],
 "metadata": {
  "date": 1684407286.994497,
  "filename": "status.md",
  "kernelspec": {
   "display_name": "Python",
   "language": "python3",
   "name": "python3"
  },
  "title": "Execution Statistics"
 },
 "nbformat": 4,
 "nbformat_minor": 5
}