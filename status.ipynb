{
 "cells": [
  {
   "cell_type": "markdown",
   "id": "f6478e48",
   "metadata": {},
   "source": [
    "# Execution Statistics\n",
    "\n",
    "This table contains the latest execution statistics.\n",
    "\n",
    "|Document|Modified|Method|Run Time (s)|Status|\n",
    "|:------------------:|:------------------:|:------------------:|:------------------:|:------------------:|\n",
    "|about_py|2021-11-19 08:36|cache|8.04|✅|\n",
    "|debugging|2021-11-19 08:36|cache|2.58|✅|\n",
    "|functions|2021-11-19 08:36|cache|2.51|✅|\n",
    "|getting_started|2021-11-19 08:36|cache|3.3|✅|\n",
    "|intro|2021-11-19 08:36|cache|1.4|✅|\n",
    "|matplotlib|2021-11-19 08:36|cache|6.02|✅|\n",
    "|need_for_speed|2021-11-19 08:36|cache|18.54|✅|\n",
    "|numba|2021-11-19 08:36|cache|27.03|✅|\n",
    "|numpy|2021-11-19 08:36|cache|2.8|✅|\n",
    "|oop_intro|2021-11-19 08:36|cache|1.48|✅|\n",
    "|pandas|2021-11-19 08:36|cache|16.74|✅|\n",
    "|parallelization|2021-11-19 08:36|cache|82.59|✅|\n",
    "|python_advanced_features|2021-11-19 08:36|cache|49.82|✅|\n",
    "|python_by_example|2021-11-19 08:36|cache|4.51|✅|\n",
    "|python_essentials|2021-11-19 08:37|cache|2.46|✅|\n",
    "|python_oop|2021-11-19 08:37|cache|3.79|✅|\n",
    "|scipy|2021-11-19 08:37|cache|11.56|✅|\n",
    "|status|2021-11-19 08:37|cache|1.4|✅|\n",
    "|troubleshooting|2021-11-19 08:37|cache|1.4|✅|\n",
    "|writing_good_code|2021-11-19 08:37|cache|4.66|✅|\n",
    "These lectures are built on `linux` instances through `github actions` so are\n",
    "executed using the following [hardware specifications](https://docs.github.com/en/actions/reference/specifications-for-github-hosted-runners#supported-runners-and-hardware-resources)"
   ]
  }
 ],
 "metadata": {
  "date": 1637311026.3771725,
  "filename": "status.md",
  "kernelspec": {
   "display_name": "Python",
   "language": "python3",
   "name": "python3"
  },
  "title": "Execution Statistics"
 },
 "nbformat": 4,
 "nbformat_minor": 5
}