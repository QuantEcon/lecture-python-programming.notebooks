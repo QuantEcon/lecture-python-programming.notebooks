{
 "cells": [
  {
   "cell_type": "markdown",
   "metadata": {},
   "source": [
    "# Execution Statistics\n",
    "\n",
    "This table contains the latest execution statistics.\n",
    "\n",
    "|Document|Modified|Method|Run Time (s)|Status|\n",
    "|:------------------:|:------------------:|:------------------:|:------------------:|:------------------:|\n",
    "|about_py|2021-07-27 05:48|cache|3.42|✅|\n",
    "|debugging|2021-07-27 05:48|cache|2.4|✅|\n",
    "|functions|2021-07-27 05:48|cache|3.02|✅|\n",
    "|getting_started|2021-07-27 05:48|cache|3.02|✅|\n",
    "|intro|2021-07-27 05:48|cache|0.94|✅|\n",
    "|matplotlib|2021-07-27 05:48|cache|4.51|✅|\n",
    "|need_for_speed|2021-07-27 05:48|cache|49.1|✅|\n",
    "|numba|2021-07-27 05:48|cache|26.76|✅|\n",
    "|numpy|2021-07-27 05:48|cache|2.21|✅|\n",
    "|oop_intro|2021-07-27 05:48|cache|1.33|✅|\n",
    "|pandas|2021-07-27 05:48|cache|19.89|✅|\n",
    "|parallelization|2021-07-27 05:48|cache|59.03|✅|\n",
    "|python_advanced_features|2021-07-27 05:48|cache|51.49|✅|\n",
    "|python_by_example|2021-07-27 05:48|cache|5.02|✅|\n",
    "|python_essentials|2021-07-27 05:48|cache|1.9|✅|\n",
    "|python_oop|2021-07-27 05:49|cache|3.57|✅|\n",
    "|scipy|2021-07-27 05:49|cache|11.69|✅|\n",
    "|status|2021-07-27 05:49|cache|0.94|✅|\n",
    "|troubleshooting|2021-07-27 05:49|cache|0.94|✅|\n",
    "|writing_good_code|2021-07-27 05:49|cache|4.44|✅|\n",
    "These lectures are built on `linux` instances through `github actions` so are\n",
    "executed using the following [hardware specifications](https://docs.github.com/en/actions/reference/specifications-for-github-hosted-runners#supported-runners-and-hardware-resources)"
   ]
  }
 ],
 "metadata": {
  "date": 1627364945.3434145,
  "filename": "status.md",
  "kernelspec": {
   "display_name": "Python",
   "language": "python3",
   "name": "python3"
  },
  "title": "Execution Statistics"
 },
 "nbformat": 4,
 "nbformat_minor": 4
}