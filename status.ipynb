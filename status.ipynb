{
 "cells": [
  {
   "cell_type": "markdown",
   "metadata": {},
   "source": [
    "# Execution Statistics\n",
    "\n",
    "This table contains the latest execution statistics.\n",
    "\n",
    "|Document|Modified|Method|Run Time (s)|Status|\n",
    "|:------------------:|:------------------:|:------------------:|:------------------:|:------------------:|\n",
    "|about_py|2021-03-10 05:31|cache|4.02|✅|\n",
    "|debugging|2021-03-10 05:31|cache|2.24|✅|\n",
    "|functions|2021-03-10 05:31|cache|3.02|✅|\n",
    "|getting_started|2021-03-10 05:31|cache|2.73|✅|\n",
    "|intro|2021-03-10 05:31|cache|0.98|✅|\n",
    "|matplotlib|2021-03-10 05:31|cache|4.32|✅|\n",
    "|need_for_speed|2021-03-10 05:31|cache|40.54|✅|\n",
    "|numba|2021-03-10 05:31|cache|24.56|✅|\n",
    "|numpy|2021-03-10 05:31|cache|2.2|✅|\n",
    "|oop_intro|2021-03-10 05:31|cache|1.18|✅|\n",
    "|pandas|2021-03-10 05:31|cache|16.49|✅|\n",
    "|parallelization|2021-03-10 05:31|cache|54.33|✅|\n",
    "|python_advanced_features|2021-03-10 05:31|cache|51.92|✅|\n",
    "|python_by_example|2021-03-10 05:31|cache|4.0|✅|\n",
    "|python_essentials|2021-03-10 05:31|cache|1.92|✅|\n",
    "|python_oop|2021-03-10 05:31|cache|3.28|✅|\n",
    "|scipy|2021-03-10 05:31|cache|11.25|✅|\n",
    "|status|2021-03-10 05:31|cache|0.98|✅|\n",
    "|troubleshooting|2021-03-10 05:31|cache|0.98|✅|\n",
    "|writing_good_code|2021-03-10 05:31|cache|3.72|✅|\n",
    "These lectures are built on `linux` instances through `github actions` so are\n",
    "executed using the following [hardware specifications](https://docs.github.com/en/actions/reference/specifications-for-github-hosted-runners#supported-runners-and-hardware-resources)"
   ]
  }
 ],
 "metadata": {
  "date": 1615354324.3561444,
  "filename": "status.md",
  "kernelspec": {
   "display_name": "Python",
   "language": "python3",
   "name": "python3"
  },
  "title": "Execution Statistics"
 },
 "nbformat": 4,
 "nbformat_minor": 4
}