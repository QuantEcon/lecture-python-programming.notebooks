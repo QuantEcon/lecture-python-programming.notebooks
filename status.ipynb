{
 "cells": [
  {
   "cell_type": "markdown",
   "id": "f72462b0",
   "metadata": {},
   "source": [
    "# Execution Statistics\n",
    "\n",
    "This table contains the latest execution statistics.\n",
    "\n",
    "|Document|Modified|Method|Run Time (s)|Status|\n",
    "|:------------------:|:------------------:|:------------------:|:------------------:|:------------------:|\n",
    "|about_py|2022-08-15 10:13|cache|4.02|✅|\n",
    "|debugging|2022-08-15 10:13|cache|2.85|✅|\n",
    "|functions|2022-08-15 10:13|cache|2.54|✅|\n",
    "|getting_started|2022-08-15 10:13|cache|2.71|✅|\n",
    "|intro|2022-08-15 10:13|cache|1.16|✅|\n",
    "|matplotlib|2022-08-15 10:13|cache|3.72|✅|\n",
    "|need_for_speed|2022-08-15 10:13|cache|8.91|✅|\n",
    "|numba|2022-08-15 10:13|cache|15.02|✅|\n",
    "|numpy|2022-08-15 10:13|cache|2.41|✅|\n",
    "|oop_intro|2022-08-15 10:13|cache|1.82|✅|\n",
    "|pandas|2022-08-15 10:13|cache|13.41|✅|\n",
    "|parallelization|2022-08-15 10:13|cache|54.45|✅|\n",
    "|python_advanced_features|2022-08-15 10:13|cache|37.28|✅|\n",
    "|python_by_example|2022-08-15 10:13|cache|11.02|✅|\n",
    "|python_essentials|2022-08-15 10:13|cache|1.97|✅|\n",
    "|python_oop|2022-08-15 10:13|cache|3.18|✅|\n",
    "|scipy|2022-08-15 10:13|cache|22.22|✅|\n",
    "|status|2022-08-15 10:13|cache|1.16|✅|\n",
    "|troubleshooting|2022-08-15 10:13|cache|1.16|✅|\n",
    "|writing_good_code|2022-08-15 10:13|cache|3.61|✅|\n",
    "These lectures are built on `linux` instances through `github actions` so are\n",
    "executed using the following [hardware specifications](https://docs.github.com/en/actions/reference/specifications-for-github-hosted-runners#supported-runners-and-hardware-resources)"
   ]
  }
 ],
 "metadata": {
  "date": 1660558400.7310202,
  "filename": "status.md",
  "kernelspec": {
   "display_name": "Python",
   "language": "python3",
   "name": "python3"
  },
  "title": "Execution Statistics"
 },
 "nbformat": 4,
 "nbformat_minor": 5
}