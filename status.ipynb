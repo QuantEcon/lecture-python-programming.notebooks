{
 "cells": [
  {
   "cell_type": "markdown",
   "id": "20c9a6a7",
   "metadata": {},
   "source": [
    "# Execution Statistics\n",
    "\n",
    "This table contains the latest execution statistics.\n",
    "\n",
    "[](https://python-programming.quantecon.org/about_py.html)[](https://python-programming.quantecon.org/debugging.html)[](https://python-programming.quantecon.org/functions.html)[](https://python-programming.quantecon.org/getting_started.html)[](https://python-programming.quantecon.org/intro.html)[](https://python-programming.quantecon.org/jax_intro.html)[](https://python-programming.quantecon.org/matplotlib.html)[](https://python-programming.quantecon.org/names.html)[](https://python-programming.quantecon.org/need_for_speed.html)[](https://python-programming.quantecon.org/numba.html)[](https://python-programming.quantecon.org/numpy.html)[](https://python-programming.quantecon.org/oop_intro.html)[](https://python-programming.quantecon.org/pandas.html)[](https://python-programming.quantecon.org/pandas_panel.html)[](https://python-programming.quantecon.org/parallelization.html)[](https://python-programming.quantecon.org/python_advanced_features.html)[](https://python-programming.quantecon.org/python_by_example.html)[](https://python-programming.quantecon.org/python_essentials.html)[](https://python-programming.quantecon.org/python_oop.html)[](https://python-programming.quantecon.org/scipy.html)[](https://python-programming.quantecon.org/.html)[](https://python-programming.quantecon.org/sympy.html)[](https://python-programming.quantecon.org/troubleshooting.html)[](https://python-programming.quantecon.org/workspace.html)[](https://python-programming.quantecon.org/writing_good_code.html)|Document|Modified|Method|Run Time (s)|Status|\n",
    "|:------------------:|:------------------:|:------------------:|:------------------:|:------------------:|\n",
    "|about_py|2024-11-04 03:56|cache|2.08|✅|\n",
    "|debugging|2024-11-04 03:56|cache|2.15|✅|\n",
    "|functions|2024-11-04 03:56|cache|1.95|✅|\n",
    "|getting_started|2024-11-04 03:56|cache|1.49|✅|\n",
    "|intro|2024-11-04 03:56|cache|0.85|✅|\n",
    "|jax_intro|2024-11-04 03:56|cache|0.97|✅|\n",
    "|matplotlib|2024-11-04 03:56|cache|4.47|✅|\n",
    "|names|2024-11-04 03:56|cache|1.01|✅|\n",
    "|need_for_speed|2024-11-04 03:56|cache|9.43|✅|\n",
    "|numba|2024-11-04 03:56|cache|12.25|✅|\n",
    "|numpy|2024-11-04 03:57|cache|7.61|✅|\n",
    "|oop_intro|2024-11-04 03:57|cache|4.15|✅|\n",
    "|pandas|2024-11-04 03:57|cache|24.91|✅|\n",
    "|pandas_panel|2024-11-04 03:57|cache|6.91|✅|\n",
    "|parallelization|2024-11-04 03:58|cache|39.68|✅|\n",
    "|python_advanced_features|2024-11-04 03:58|cache|19.86|✅|\n",
    "|python_by_example|2024-11-04 03:58|cache|6.56|✅|\n",
    "|python_essentials|2024-11-04 03:58|cache|1.59|✅|\n",
    "|python_oop|2024-11-04 03:58|cache|2.24|✅|\n",
    "|scipy|2024-11-04 03:59|cache|11.01|✅|\n",
    "|status|2024-11-04 03:59|cache|4.01|✅|\n",
    "|sympy|2024-11-04 03:59|cache|6.88|✅|\n",
    "|troubleshooting|2024-11-04 03:56|cache|0.85|✅|\n",
    "|workspace|2024-11-04 03:56|cache|0.85|✅|\n",
    "|writing_good_code|2024-11-04 03:59|cache|2.64|✅|\n",
    "\n",
    "<a id='status-machine-details'></a>\n",
    "These lectures are built on `linux` instances through `github actions`.\n",
    "\n",
    "These lectures are using the following python version"
   ]
  },
  {
   "cell_type": "code",
   "execution_count": null,
   "id": "5298796f",
   "metadata": {
    "hide-output": false
   },
   "outputs": [],
   "source": [
    "!python --version"
   ]
  },
  {
   "cell_type": "markdown",
   "id": "906bceca",
   "metadata": {},
   "source": [
    "and the following package versions"
   ]
  },
  {
   "cell_type": "code",
   "execution_count": null,
   "id": "e8ea67fd",
   "metadata": {
    "hide-output": false
   },
   "outputs": [],
   "source": [
    "!conda list"
   ]
  }
 ],
 "metadata": {
  "date": 1730693315.182656,
  "filename": "status.md",
  "kernelspec": {
   "display_name": "Python",
   "language": "python3",
   "name": "python3"
  },
  "title": "Execution Statistics"
 },
 "nbformat": 4,
 "nbformat_minor": 5
}