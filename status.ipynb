{
 "cells": [
  {
   "cell_type": "markdown",
   "id": "47f81867",
   "metadata": {},
   "source": [
    "# Execution Statistics\n",
    "\n",
    "This table contains the latest execution statistics.\n",
    "\n",
    "|Document|Modified|Method|Run Time (s)|Status|\n",
    "|:------------------:|:------------------:|:------------------:|:------------------:|:------------------:|\n",
    "|about_py|2022-05-20 00:47|cache|4.63|✅|\n",
    "|debugging|2022-05-20 00:47|cache|3.78|✅|\n",
    "|functions|2022-05-20 00:47|cache|2.91|✅|\n",
    "|getting_started|2022-05-20 00:47|cache|3.51|✅|\n",
    "|intro|2022-05-20 00:47|cache|1.54|✅|\n",
    "|matplotlib|2022-05-20 00:47|cache|6.03|✅|\n",
    "|need_for_speed|2022-05-20 00:47|cache|21.03|✅|\n",
    "|numba|2022-05-20 00:47|cache|27.03|✅|\n",
    "|numpy|2022-05-20 00:47|cache|3.69|✅|\n",
    "|oop_intro|2022-05-20 00:47|cache|3.02|✅|\n",
    "|pandas|2022-05-20 00:47|cache|20.68|✅|\n",
    "|parallelization|2022-05-20 00:47|cache|61.7|✅|\n",
    "|python_advanced_features|2022-05-20 00:47|cache|44.04|✅|\n",
    "|python_by_example|2022-05-20 00:47|cache|4.85|✅|\n",
    "|python_essentials|2022-05-20 00:47|cache|4.02|✅|\n",
    "|python_oop|2022-05-20 00:47|cache|5.02|✅|\n",
    "|scipy|2022-05-20 00:47|cache|26.03|✅|\n",
    "|status|2022-05-20 00:47|cache|1.54|✅|\n",
    "|troubleshooting|2022-05-20 00:47|cache|1.54|✅|\n",
    "|writing_good_code|2022-05-20 00:47|cache|4.66|✅|\n",
    "These lectures are built on `linux` instances through `github actions` so are\n",
    "executed using the following [hardware specifications](https://docs.github.com/en/actions/reference/specifications-for-github-hosted-runners#supported-runners-and-hardware-resources)"
   ]
  }
 ],
 "metadata": {
  "date": 1653007635.3068302,
  "filename": "status.md",
  "kernelspec": {
   "display_name": "Python",
   "language": "python3",
   "name": "python3"
  },
  "title": "Execution Statistics"
 },
 "nbformat": 4,
 "nbformat_minor": 5
}