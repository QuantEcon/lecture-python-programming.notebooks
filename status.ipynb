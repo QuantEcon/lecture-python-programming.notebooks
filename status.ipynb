{
 "cells": [
  {
   "cell_type": "markdown",
   "id": "764f6f52",
   "metadata": {},
   "source": [
    "# Execution Statistics\n",
    "\n",
    "This table contains the latest execution statistics.\n",
    "\n",
    "[](https://python-programming.quantecon.org/about_py.html)[](https://python-programming.quantecon.org/debugging.html)[](https://python-programming.quantecon.org/functions.html)[](https://python-programming.quantecon.org/getting_started.html)[](https://python-programming.quantecon.org/intro.html)[](https://python-programming.quantecon.org/jax_intro.html)[](https://python-programming.quantecon.org/matplotlib.html)[](https://python-programming.quantecon.org/need_for_speed.html)[](https://python-programming.quantecon.org/numba.html)[](https://python-programming.quantecon.org/numpy.html)[](https://python-programming.quantecon.org/oop_intro.html)[](https://python-programming.quantecon.org/pandas.html)[](https://python-programming.quantecon.org/parallelization.html)[](https://python-programming.quantecon.org/python_advanced_features.html)[](https://python-programming.quantecon.org/python_by_example.html)[](https://python-programming.quantecon.org/python_essentials.html)[](https://python-programming.quantecon.org/python_oop.html)[](https://python-programming.quantecon.org/scipy.html)[](https://python-programming.quantecon.org/.html)[](https://python-programming.quantecon.org/sympy.html)[](https://python-programming.quantecon.org/troubleshooting.html)[](https://python-programming.quantecon.org/writing_good_code.html)|Document|Modified|Method|Run Time (s)|Status|\n",
    "|:------------------:|:------------------:|:------------------:|:------------------:|:------------------:|\n",
    "|about_py|2023-08-16 00:58|cache|5.22|✅|\n",
    "|debugging|2023-08-16 00:58|cache|3.89|✅|\n",
    "|functions|2023-08-16 00:59|cache|3.68|✅|\n",
    "|getting_started|2023-08-16 00:59|cache|2.64|✅|\n",
    "|intro|2023-08-16 00:59|cache|1.49|✅|\n",
    "|jax_intro|2023-08-16 00:59|cache|1.48|✅|\n",
    "|matplotlib|2023-08-16 00:59|cache|9.39|✅|\n",
    "|need_for_speed|2023-08-16 00:59|cache|15.22|✅|\n",
    "|numba|2023-08-16 00:59|cache|19.52|✅|\n",
    "|numpy|2023-08-16 01:00|cache|14.14|✅|\n",
    "|oop_intro|2023-08-16 01:00|cache|2.91|✅|\n",
    "|pandas|2023-08-16 01:00|cache|23.07|✅|\n",
    "|parallelization|2023-08-16 01:01|cache|61.52|✅|\n",
    "|python_advanced_features|2023-08-16 01:02|cache|49.77|✅|\n",
    "|python_by_example|2023-08-16 01:02|cache|11.59|✅|\n",
    "|python_essentials|2023-08-16 01:02|cache|3.02|✅|\n",
    "|python_oop|2023-08-16 01:02|cache|4.23|✅|\n",
    "|scipy|2023-08-16 01:03|cache|24.15|✅|\n",
    "|status|2023-08-16 00:59|cache|1.49|✅|\n",
    "|sympy|2023-08-16 01:03|cache|12.35|✅|\n",
    "|troubleshooting|2023-08-16 00:59|cache|1.49|✅|\n",
    "|writing_good_code|2023-08-16 01:03|cache|5.34|✅|\n",
    "\n",
    "<a id='status-machine-details'></a>\n",
    "These lectures are built on `linux` instances through `github actions`."
   ]
  }
 ],
 "metadata": {
  "date": 1692161970.797652,
  "filename": "status.md",
  "kernelspec": {
   "display_name": "Python",
   "language": "python3",
   "name": "python3"
  },
  "title": "Execution Statistics"
 },
 "nbformat": 4,
 "nbformat_minor": 5
}