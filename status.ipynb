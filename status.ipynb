{
 "cells": [
  {
   "cell_type": "markdown",
   "id": "6f0dcc08",
   "metadata": {},
   "source": [
    "# Execution Statistics\n",
    "\n",
    "This table contains the latest execution statistics.\n",
    "\n",
    "[](https://python-programming.quantecon.org/about_py.html)[](https://python-programming.quantecon.org/debugging.html)[](https://python-programming.quantecon.org/functions.html)[](https://python-programming.quantecon.org/getting_started.html)[](https://python-programming.quantecon.org/intro.html)[](https://python-programming.quantecon.org/jax_intro.html)[](https://python-programming.quantecon.org/matplotlib.html)[](https://python-programming.quantecon.org/names.html)[](https://python-programming.quantecon.org/need_for_speed.html)[](https://python-programming.quantecon.org/numba.html)[](https://python-programming.quantecon.org/numpy.html)[](https://python-programming.quantecon.org/oop_intro.html)[](https://python-programming.quantecon.org/pandas.html)[](https://python-programming.quantecon.org/pandas_panel.html)[](https://python-programming.quantecon.org/parallelization.html)[](https://python-programming.quantecon.org/python_advanced_features.html)[](https://python-programming.quantecon.org/python_by_example.html)[](https://python-programming.quantecon.org/python_essentials.html)[](https://python-programming.quantecon.org/python_oop.html)[](https://python-programming.quantecon.org/scipy.html)[](https://python-programming.quantecon.org/.html)[](https://python-programming.quantecon.org/sympy.html)[](https://python-programming.quantecon.org/troubleshooting.html)[](https://python-programming.quantecon.org/workspace.html)[](https://python-programming.quantecon.org/writing_good_code.html)|Document|Modified|Method|Run Time (s)|Status|\n",
    "|:------------------:|:------------------:|:------------------:|:------------------:|:------------------:|\n",
    "|about_py|2025-09-29 03:24|cache|3.21|✅|\n",
    "|debugging|2025-09-29 03:24|cache|2.01|✅|\n",
    "|functions|2025-09-29 03:24|cache|1.89|✅|\n",
    "|getting_started|2025-09-29 03:24|cache|1.45|✅|\n",
    "|intro|2025-09-29 03:24|cache|0.96|✅|\n",
    "|jax_intro|2025-09-29 03:25|cache|56.82|✅|\n",
    "|matplotlib|2025-09-29 03:25|cache|3.8|✅|\n",
    "|names|2025-09-29 03:25|cache|0.96|✅|\n",
    "|need_for_speed|2025-09-29 03:25|cache|1.88|✅|\n",
    "|numba|2025-09-29 03:25|cache|9.81|✅|\n",
    "|numpy|2025-09-29 03:25|cache|11.91|✅|\n",
    "|oop_intro|2025-09-29 03:25|cache|2.59|✅|\n",
    "|pandas|2025-09-29 03:26|cache|26.06|✅|\n",
    "|pandas_panel|2025-09-29 03:26|cache|4.94|✅|\n",
    "|parallelization|2025-09-29 03:26|cache|20.76|✅|\n",
    "|python_advanced_features|2025-09-29 03:26|cache|20.17|✅|\n",
    "|python_by_example|2025-09-29 03:27|cache|7.1|✅|\n",
    "|python_essentials|2025-09-29 03:27|cache|1.66|✅|\n",
    "|python_oop|2025-09-29 03:27|cache|2.29|✅|\n",
    "|scipy|2025-09-29 03:27|cache|4.08|✅|\n",
    "|status|2025-09-29 03:27|cache|4.18|✅|\n",
    "|sympy|2025-09-29 03:27|cache|7.25|✅|\n",
    "|troubleshooting|2025-09-29 03:24|cache|0.96|✅|\n",
    "|workspace|2025-09-29 03:27|cache|1.43|✅|\n",
    "|writing_good_code|2025-09-29 03:27|cache|2.56|✅|\n",
    "\n",
    "<a id='status-machine-details'></a>\n",
    "These lectures are built on `linux` instances through `github actions`.\n",
    "\n",
    "These lectures are using the following python version"
   ]
  },
  {
   "cell_type": "code",
   "execution_count": null,
   "id": "8fb0c1cb",
   "metadata": {
    "hide-output": false
   },
   "outputs": [],
   "source": [
    "!python --version"
   ]
  },
  {
   "cell_type": "markdown",
   "id": "ea8bdc63",
   "metadata": {},
   "source": [
    "and the following package versions"
   ]
  },
  {
   "cell_type": "code",
   "execution_count": null,
   "id": "70c381a0",
   "metadata": {
    "hide-output": false
   },
   "outputs": [],
   "source": [
    "!conda list"
   ]
  }
 ],
 "metadata": {
  "date": 1759199057.2537298,
  "filename": "status.md",
  "kernelspec": {
   "display_name": "Python",
   "language": "python3",
   "name": "python3"
  },
  "title": "Execution Statistics"
 },
 "nbformat": 4,
 "nbformat_minor": 5
}