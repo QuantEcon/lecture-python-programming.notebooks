{
 "cells": [
  {
   "cell_type": "markdown",
   "id": "c84d2b2f",
   "metadata": {},
   "source": [
    "# Execution Statistics\n",
    "\n",
    "This table contains the latest execution statistics.\n",
    "\n",
    "[](https://python-programming.quantecon.org/about_py.html)[](https://python-programming.quantecon.org/debugging.html)[](https://python-programming.quantecon.org/functions.html)[](https://python-programming.quantecon.org/getting_started.html)[](https://python-programming.quantecon.org/intro.html)[](https://python-programming.quantecon.org/jax_intro.html)[](https://python-programming.quantecon.org/matplotlib.html)[](https://python-programming.quantecon.org/need_for_speed.html)[](https://python-programming.quantecon.org/numba.html)[](https://python-programming.quantecon.org/numpy.html)[](https://python-programming.quantecon.org/oop_intro.html)[](https://python-programming.quantecon.org/pandas.html)[](https://python-programming.quantecon.org/parallelization.html)[](https://python-programming.quantecon.org/python_advanced_features.html)[](https://python-programming.quantecon.org/python_by_example.html)[](https://python-programming.quantecon.org/python_essentials.html)[](https://python-programming.quantecon.org/python_oop.html)[](https://python-programming.quantecon.org/scipy.html)[](https://python-programming.quantecon.org/.html)[](https://python-programming.quantecon.org/sympy.html)[](https://python-programming.quantecon.org/troubleshooting.html)[](https://python-programming.quantecon.org/writing_good_code.html)|Document|Modified|Method|Run Time (s)|Status|\n",
    "|:------------------:|:------------------:|:------------------:|:------------------:|:------------------:|\n",
    "|about_py|2023-10-11 03:26|cache|5.4|✅|\n",
    "|debugging|2023-10-11 03:26|cache|3.02|✅|\n",
    "|functions|2023-10-11 03:27|cache|2.57|✅|\n",
    "|getting_started|2023-10-11 03:27|cache|1.97|✅|\n",
    "|intro|2023-10-11 03:27|cache|1.26|✅|\n",
    "|jax_intro|2023-10-11 03:27|cache|1.01|✅|\n",
    "|matplotlib|2023-10-11 03:27|cache|6.0|✅|\n",
    "|need_for_speed|2023-10-11 03:27|cache|12.31|✅|\n",
    "|numba|2023-10-11 03:27|cache|15.34|✅|\n",
    "|numpy|2023-10-11 03:27|cache|10.83|✅|\n",
    "|oop_intro|2023-10-11 03:27|cache|2.29|✅|\n",
    "|pandas|2023-10-11 03:28|cache|36.61|✅|\n",
    "|parallelization|2023-10-11 03:29|cache|44.02|✅|\n",
    "|python_advanced_features|2023-10-11 03:29|cache|27.41|✅|\n",
    "|python_by_example|2023-10-11 03:29|cache|8.37|✅|\n",
    "|python_essentials|2023-10-11 03:29|cache|2.32|✅|\n",
    "|python_oop|2023-10-11 03:29|cache|3.13|✅|\n",
    "|scipy|2023-10-11 03:30|cache|13.67|✅|\n",
    "|status|2023-10-11 03:27|cache|1.26|✅|\n",
    "|sympy|2023-10-11 03:30|cache|8.47|✅|\n",
    "|troubleshooting|2023-10-11 03:27|cache|1.26|✅|\n",
    "|writing_good_code|2023-10-11 03:30|cache|4.05|✅|\n",
    "\n",
    "<a id='status-machine-details'></a>\n",
    "These lectures are built on `linux` instances through `github actions`."
   ]
  }
 ],
 "metadata": {
  "date": 1696995756.1309707,
  "filename": "status.md",
  "kernelspec": {
   "display_name": "Python",
   "language": "python3",
   "name": "python3"
  },
  "title": "Execution Statistics"
 },
 "nbformat": 4,
 "nbformat_minor": 5
}