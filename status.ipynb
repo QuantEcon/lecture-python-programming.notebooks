{
 "cells": [
  {
   "cell_type": "markdown",
   "id": "ae4dd642",
   "metadata": {},
   "source": [
    "# Execution Statistics\n",
    "\n",
    "This table contains the latest execution statistics.\n",
    "\n",
    "[](https://python-programming.quantecon.org/about_py.html)[](https://python-programming.quantecon.org/debugging.html)[](https://python-programming.quantecon.org/functions.html)[](https://python-programming.quantecon.org/getting_started.html)[](https://python-programming.quantecon.org/intro.html)[](https://python-programming.quantecon.org/jax_intro.html)[](https://python-programming.quantecon.org/matplotlib.html)[](https://python-programming.quantecon.org/names.html)[](https://python-programming.quantecon.org/need_for_speed.html)[](https://python-programming.quantecon.org/numba.html)[](https://python-programming.quantecon.org/numpy.html)[](https://python-programming.quantecon.org/oop_intro.html)[](https://python-programming.quantecon.org/pandas.html)[](https://python-programming.quantecon.org/pandas_panel.html)[](https://python-programming.quantecon.org/parallelization.html)[](https://python-programming.quantecon.org/python_advanced_features.html)[](https://python-programming.quantecon.org/python_by_example.html)[](https://python-programming.quantecon.org/python_essentials.html)[](https://python-programming.quantecon.org/python_oop.html)[](https://python-programming.quantecon.org/scipy.html)[](https://python-programming.quantecon.org/.html)[](https://python-programming.quantecon.org/sympy.html)[](https://python-programming.quantecon.org/troubleshooting.html)[](https://python-programming.quantecon.org/workspace.html)[](https://python-programming.quantecon.org/writing_good_code.html)|Document|Modified|Method|Run Time (s)|Status|\n",
    "|:------------------:|:------------------:|:------------------:|:------------------:|:------------------:|\n",
    "|about_py|2025-10-27 03:33|cache|3.0|✅|\n",
    "|debugging|2025-10-27 03:33|cache|2.12|✅|\n",
    "|functions|2025-10-27 03:33|cache|1.91|✅|\n",
    "|getting_started|2025-10-27 03:33|cache|1.49|✅|\n",
    "|intro|2025-10-27 03:33|cache|0.83|✅|\n",
    "|jax_intro|2025-10-27 03:34|cache|57.06|✅|\n",
    "|matplotlib|2025-10-27 03:34|cache|4.38|✅|\n",
    "|names|2025-10-27 03:34|cache|1.25|✅|\n",
    "|need_for_speed|2025-10-27 03:34|cache|1.92|✅|\n",
    "|numba|2025-10-27 03:35|cache|10.18|✅|\n",
    "|numpy|2025-10-27 03:35|cache|12.32|✅|\n",
    "|oop_intro|2025-10-27 03:35|cache|2.93|✅|\n",
    "|pandas|2025-10-27 03:35|cache|24.74|✅|\n",
    "|pandas_panel|2025-10-27 03:35|cache|5.01|✅|\n",
    "|parallelization|2025-10-27 03:36|cache|21.43|✅|\n",
    "|python_advanced_features|2025-10-27 03:36|cache|19.94|✅|\n",
    "|python_by_example|2025-10-27 03:36|cache|6.98|✅|\n",
    "|python_essentials|2025-10-27 03:36|cache|1.46|✅|\n",
    "|python_oop|2025-10-27 03:36|cache|2.2|✅|\n",
    "|scipy|2025-10-27 03:36|cache|4.2|✅|\n",
    "|status|2025-10-27 03:36|cache|4.21|✅|\n",
    "|sympy|2025-10-27 03:36|cache|7.23|✅|\n",
    "|troubleshooting|2025-10-27 03:33|cache|0.83|✅|\n",
    "|workspace|2025-10-27 03:36|cache|1.39|✅|\n",
    "|writing_good_code|2025-10-27 03:37|cache|2.59|✅|\n",
    "\n",
    "<a id='status-machine-details'></a>\n",
    "These lectures are built on `linux` instances through `github actions`.\n",
    "\n",
    "These lectures are using the following python version"
   ]
  },
  {
   "cell_type": "code",
   "execution_count": null,
   "id": "78912a11",
   "metadata": {
    "hide-output": false
   },
   "outputs": [],
   "source": [
    "!python --version"
   ]
  },
  {
   "cell_type": "markdown",
   "id": "49c81bc0",
   "metadata": {},
   "source": [
    "and the following package versions"
   ]
  },
  {
   "cell_type": "code",
   "execution_count": null,
   "id": "fba8b55c",
   "metadata": {
    "hide-output": false
   },
   "outputs": [],
   "source": [
    "!conda list"
   ]
  }
 ],
 "metadata": {
  "date": 1761794273.3027098,
  "filename": "status.md",
  "kernelspec": {
   "display_name": "Python",
   "language": "python3",
   "name": "python3"
  },
  "title": "Execution Statistics"
 },
 "nbformat": 4,
 "nbformat_minor": 5
}