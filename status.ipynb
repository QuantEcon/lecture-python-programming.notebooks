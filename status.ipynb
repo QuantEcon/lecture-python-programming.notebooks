{
 "cells": [
  {
   "cell_type": "markdown",
   "id": "abc8fa39",
   "metadata": {},
   "source": [
    "# Execution Statistics\n",
    "\n",
    "This table contains the latest execution statistics.\n",
    "\n",
    "|Document|Modified|Method|Run Time (s)|Status|\n",
    "|:------------------:|:------------------:|:------------------:|:------------------:|:------------------:|\n",
    "|about_py|2021-10-18 06:15|cache|2.63|✅|\n",
    "|debugging|2021-10-18 06:15|cache|1.78|✅|\n",
    "|functions|2021-10-18 06:15|cache|1.86|✅|\n",
    "|getting_started|2021-10-18 06:15|cache|2.34|✅|\n",
    "|intro|2021-10-18 06:15|cache|2.02|✅|\n",
    "|matplotlib|2021-10-18 06:15|cache|3.6|✅|\n",
    "|need_for_speed|2021-10-18 06:15|cache|14.58|✅|\n",
    "|numba|2021-10-18 06:15|cache|19.75|✅|\n",
    "|numpy|2021-10-18 06:15|cache|1.82|✅|\n",
    "|oop_intro|2021-10-18 06:15|cache|1.19|✅|\n",
    "|pandas|2021-10-18 06:15|cache|15.92|✅|\n",
    "|parallelization|2021-10-18 06:15|cache|73.75|✅|\n",
    "|python_advanced_features|2021-10-18 06:15|cache|41.52|✅|\n",
    "|python_by_example|2021-10-18 06:15|cache|3.63|✅|\n",
    "|python_essentials|2021-10-18 06:15|cache|1.58|✅|\n",
    "|python_oop|2021-10-18 06:15|cache|2.8|✅|\n",
    "|scipy|2021-10-18 06:15|cache|19.66|✅|\n",
    "|status|2021-10-18 06:15|cache|2.02|✅|\n",
    "|troubleshooting|2021-10-18 06:15|cache|2.02|✅|\n",
    "|writing_good_code|2021-10-18 06:15|cache|3.29|✅|\n",
    "These lectures are built on `linux` instances through `github actions` so are\n",
    "executed using the following [hardware specifications](https://docs.github.com/en/actions/reference/specifications-for-github-hosted-runners#supported-runners-and-hardware-resources)"
   ]
  }
 ],
 "metadata": {
  "date": 1634537732.853082,
  "filename": "status.md",
  "kernelspec": {
   "display_name": "Python",
   "language": "python3",
   "name": "python3"
  },
  "title": "Execution Statistics"
 },
 "nbformat": 4,
 "nbformat_minor": 5
}