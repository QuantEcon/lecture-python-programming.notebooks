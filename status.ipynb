{
 "cells": [
  {
   "cell_type": "markdown",
   "id": "41458f0c",
   "metadata": {},
   "source": [
    "# Execution Statistics\n",
    "\n",
    "This table contains the latest execution statistics.\n",
    "\n",
    "|Document|Modified|Method|Run Time (s)|Status|\n",
    "|:------------------:|:------------------:|:------------------:|:------------------:|:------------------:|\n",
    "|about_py|2022-05-09 02:05|cache|4.02|✅|\n",
    "|debugging|2022-05-09 02:05|cache|1.91|✅|\n",
    "|functions|2022-05-09 02:05|cache|1.97|✅|\n",
    "|getting_started|2022-05-09 02:05|cache|2.3|✅|\n",
    "|intro|2022-05-09 02:05|cache|1.11|✅|\n",
    "|matplotlib|2022-05-09 02:05|cache|3.81|✅|\n",
    "|need_for_speed|2022-05-09 02:05|cache|13.58|✅|\n",
    "|numba|2022-05-09 02:05|cache|20.02|✅|\n",
    "|numpy|2022-05-09 02:05|cache|4.02|✅|\n",
    "|oop_intro|2022-05-09 02:05|cache|1.11|✅|\n",
    "|pandas|2022-05-09 02:05|cache|16.69|✅|\n",
    "|parallelization|2022-05-09 02:05|cache|48.03|✅|\n",
    "|python_advanced_features|2022-05-09 02:05|cache|39.62|✅|\n",
    "|python_by_example|2022-05-09 02:05|cache|3.51|✅|\n",
    "|python_essentials|2022-05-09 02:05|cache|1.69|✅|\n",
    "|python_oop|2022-05-09 02:05|cache|2.92|✅|\n",
    "|scipy|2022-05-09 02:05|cache|19.47|✅|\n",
    "|status|2022-05-09 02:05|cache|1.11|✅|\n",
    "|troubleshooting|2022-05-09 02:05|cache|1.11|✅|\n",
    "|writing_good_code|2022-05-09 02:05|cache|3.17|✅|\n",
    "These lectures are built on `linux` instances through `github actions` so are\n",
    "executed using the following [hardware specifications](https://docs.github.com/en/actions/reference/specifications-for-github-hosted-runners#supported-runners-and-hardware-resources)"
   ]
  }
 ],
 "metadata": {
  "date": 1652061919.4865727,
  "filename": "status.md",
  "kernelspec": {
   "display_name": "Python",
   "language": "python3",
   "name": "python3"
  },
  "title": "Execution Statistics"
 },
 "nbformat": 4,
 "nbformat_minor": 5
}