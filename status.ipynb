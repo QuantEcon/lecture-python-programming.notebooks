{
 "cells": [
  {
   "cell_type": "markdown",
   "metadata": {},
   "source": [
    "# Execution Statistics\n",
    "\n",
    "This table contains the latest execution statistics.\n",
    "\n",
    "|Document|Modified|Method|Run Time (s)|Status|\n",
    "|:------------------:|:------------------:|:------------------:|:------------------:|:------------------:|\n",
    "|about_py|2021-09-17 01:45|cache|4.02|✅|\n",
    "|debugging|2021-09-17 01:45|cache|2.27|✅|\n",
    "|functions|2021-09-17 01:45|cache|1.93|✅|\n",
    "|getting_started|2021-09-17 01:45|cache|2.49|✅|\n",
    "|intro|2021-09-17 01:45|cache|0.88|✅|\n",
    "|matplotlib|2021-09-17 01:45|cache|5.02|✅|\n",
    "|need_for_speed|2021-09-17 01:45|cache|15.87|✅|\n",
    "|numba|2021-09-17 01:45|cache|52.03|✅|\n",
    "|numpy|2021-09-17 01:45|cache|3.02|✅|\n",
    "|oop_intro|2021-09-17 01:45|cache|1.23|✅|\n",
    "|pandas|2021-09-17 01:45|cache|17.61|✅|\n",
    "|parallelization|2021-09-17 01:45|cache|50.03|✅|\n",
    "|python_advanced_features|2021-09-17 01:45|cache|46.62|✅|\n",
    "|python_by_example|2021-09-17 01:45|cache|3.94|✅|\n",
    "|python_essentials|2021-09-17 01:45|cache|1.96|✅|\n",
    "|python_oop|2021-09-17 01:45|cache|3.38|✅|\n",
    "|scipy|2021-09-17 01:45|cache|17.02|✅|\n",
    "|status|2021-09-17 01:45|cache|0.88|✅|\n",
    "|troubleshooting|2021-09-17 01:45|cache|0.88|✅|\n",
    "|writing_good_code|2021-09-17 01:45|cache|3.64|✅|\n",
    "These lectures are built on `linux` instances through `github actions` so are\n",
    "executed using the following [hardware specifications](https://docs.github.com/en/actions/reference/specifications-for-github-hosted-runners#supported-runners-and-hardware-resources)"
   ]
  }
 ],
 "metadata": {
  "date": 1631843156.7682269,
  "filename": "status.md",
  "kernelspec": {
   "display_name": "Python",
   "language": "python3",
   "name": "python3"
  },
  "title": "Execution Statistics"
 },
 "nbformat": 4,
 "nbformat_minor": 4
}