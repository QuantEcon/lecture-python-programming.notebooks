{
 "cells": [
  {
   "cell_type": "markdown",
   "id": "20fe8afc",
   "metadata": {},
   "source": [
    "# Execution Statistics\n",
    "\n",
    "This table contains the latest execution statistics.\n",
    "\n",
    "[](https://python-programming.quantecon.org/about_py.html)[](https://python-programming.quantecon.org/debugging.html)[](https://python-programming.quantecon.org/functions.html)[](https://python-programming.quantecon.org/getting_started.html)[](https://python-programming.quantecon.org/intro.html)[](https://python-programming.quantecon.org/jax_intro.html)[](https://python-programming.quantecon.org/matplotlib.html)[](https://python-programming.quantecon.org/names.html)[](https://python-programming.quantecon.org/need_for_speed.html)[](https://python-programming.quantecon.org/numba.html)[](https://python-programming.quantecon.org/numpy.html)[](https://python-programming.quantecon.org/oop_intro.html)[](https://python-programming.quantecon.org/pandas.html)[](https://python-programming.quantecon.org/pandas_panel.html)[](https://python-programming.quantecon.org/parallelization.html)[](https://python-programming.quantecon.org/python_advanced_features.html)[](https://python-programming.quantecon.org/python_by_example.html)[](https://python-programming.quantecon.org/python_essentials.html)[](https://python-programming.quantecon.org/python_oop.html)[](https://python-programming.quantecon.org/scipy.html)[](https://python-programming.quantecon.org/.html)[](https://python-programming.quantecon.org/sympy.html)[](https://python-programming.quantecon.org/troubleshooting.html)[](https://python-programming.quantecon.org/workspace.html)[](https://python-programming.quantecon.org/writing_good_code.html)|Document|Modified|Method|Run Time (s)|Status|\n",
    "|:------------------:|:------------------:|:------------------:|:------------------:|:------------------:|\n",
    "|about_py|2025-06-05 03:58|cache|2.03|✅|\n",
    "|debugging|2025-06-05 03:58|cache|2.04|✅|\n",
    "|functions|2025-06-05 03:58|cache|1.76|✅|\n",
    "|getting_started|2025-06-05 03:58|cache|1.59|✅|\n",
    "|intro|2025-06-05 03:58|cache|0.86|✅|\n",
    "|jax_intro|2025-06-05 03:58|cache|0.83|✅|\n",
    "|matplotlib|2025-06-05 03:58|cache|3.9|✅|\n",
    "|names|2025-06-05 03:58|cache|1.07|✅|\n",
    "|need_for_speed|2025-06-05 03:58|cache|2.29|✅|\n",
    "|numba|2025-06-05 03:58|cache|12.07|✅|\n",
    "|numpy|2025-06-05 03:58|cache|10.31|✅|\n",
    "|oop_intro|2025-06-05 03:58|cache|2.41|✅|\n",
    "|pandas|2025-06-05 03:59|cache|21.69|✅|\n",
    "|pandas_panel|2025-06-05 03:59|cache|4.98|✅|\n",
    "|parallelization|2025-06-05 03:59|cache|36.29|✅|\n",
    "|python_advanced_features|2025-06-05 04:00|cache|19.88|✅|\n",
    "|python_by_example|2025-06-05 04:00|cache|6.76|✅|\n",
    "|python_essentials|2025-06-05 04:00|cache|1.58|✅|\n",
    "|python_oop|2025-06-05 04:00|cache|2.18|✅|\n",
    "|scipy|2025-06-05 04:00|cache|11.11|✅|\n",
    "|status|2025-06-05 04:00|cache|3.99|✅|\n",
    "|sympy|2025-06-05 04:00|cache|6.87|✅|\n",
    "|troubleshooting|2025-06-05 03:58|cache|0.86|✅|\n",
    "|workspace|2025-06-05 03:58|cache|0.86|✅|\n",
    "|writing_good_code|2025-06-05 04:00|cache|2.5|✅|\n",
    "\n",
    "<a id='status-machine-details'></a>\n",
    "These lectures are built on `linux` instances through `github actions`.\n",
    "\n",
    "These lectures are using the following python version"
   ]
  },
  {
   "cell_type": "code",
   "execution_count": null,
   "id": "7d038f87",
   "metadata": {
    "hide-output": false
   },
   "outputs": [],
   "source": [
    "!python --version"
   ]
  },
  {
   "cell_type": "markdown",
   "id": "2cbceebd",
   "metadata": {},
   "source": [
    "and the following package versions"
   ]
  },
  {
   "cell_type": "code",
   "execution_count": null,
   "id": "334e2199",
   "metadata": {
    "hide-output": false
   },
   "outputs": [],
   "source": [
    "!conda list"
   ]
  }
 ],
 "metadata": {
  "date": 1749096282.6325278,
  "filename": "status.md",
  "kernelspec": {
   "display_name": "Python",
   "language": "python3",
   "name": "python3"
  },
  "title": "Execution Statistics"
 },
 "nbformat": 4,
 "nbformat_minor": 5
}