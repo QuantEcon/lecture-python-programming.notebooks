{
 "cells": [
  {
   "cell_type": "markdown",
   "id": "0148a281",
   "metadata": {},
   "source": [
    "# Execution Statistics\n",
    "\n",
    "This table contains the latest execution statistics.\n",
    "\n",
    "|Document|Modified|Method|Run Time (s)|Status|\n",
    "|:------------------:|:------------------:|:------------------:|:------------------:|:------------------:|\n",
    "|about_py|2022-12-13 10:40|cache|3.76|✅|\n",
    "|debugging|2022-12-13 10:40|cache|3.11|✅|\n",
    "|functions|2022-12-13 10:40|cache|3.17|✅|\n",
    "|getting_started|2022-12-13 10:40|cache|3.14|✅|\n",
    "|intro|2022-12-13 10:40|cache|1.24|✅|\n",
    "|jax_intro|2022-12-13 10:40|cache|35.93|✅|\n",
    "|matplotlib|2022-12-13 10:40|cache|7.17|✅|\n",
    "|need_for_speed|2022-12-13 10:40|cache|11.23|✅|\n",
    "|numba|2022-12-13 10:40|cache|17.73|✅|\n",
    "|numpy|2022-12-13 10:40|cache|12.11|✅|\n",
    "|oop_intro|2022-12-13 10:40|cache|2.13|✅|\n",
    "|pandas|2022-12-13 10:40|cache|18.97|✅|\n",
    "|parallelization|2022-12-13 10:40|cache|58.64|✅|\n",
    "|python_advanced_features|2022-12-13 10:40|cache|44.76|✅|\n",
    "|python_by_example|2022-12-13 10:40|cache|10.53|✅|\n",
    "|python_essentials|2022-12-13 10:40|cache|2.27|✅|\n",
    "|python_oop|2022-12-13 10:40|cache|3.79|✅|\n",
    "|scipy|2022-12-13 10:40|cache|23.95|✅|\n",
    "|status|2022-12-13 10:40|cache|1.24|✅|\n",
    "|troubleshooting|2022-12-13 10:40|cache|1.24|✅|\n",
    "|writing_good_code|2022-12-13 10:40|cache|4.63|✅|\n",
    "\n",
    "<a id='status-machine-details'></a>\n",
    "These lectures are built on `linux` instances through `github actions`  and `amazon web services (aws)` to\n",
    "enable access to a `gpu`. These lectures are built on a [p3.2xlarge](https://aws.amazon.com/ec2/instance-types/p3/)\n",
    "that has access to `8 vcpu's`, a `V100 NVIDIA Tesla GPU`, and `61 Gb` of memory."
   ]
  }
 ],
 "metadata": {
  "date": 1670928034.786739,
  "filename": "status.md",
  "kernelspec": {
   "display_name": "Python",
   "language": "python3",
   "name": "python3"
  },
  "title": "Execution Statistics"
 },
 "nbformat": 4,
 "nbformat_minor": 5
}