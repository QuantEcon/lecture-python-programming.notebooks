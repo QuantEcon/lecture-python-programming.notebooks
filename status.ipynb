{
 "cells": [
  {
   "cell_type": "markdown",
   "id": "82599d10",
   "metadata": {},
   "source": [
    "# Execution Statistics\n",
    "\n",
    "This table contains the latest execution statistics.\n",
    "\n",
    "|Document|Modified|Method|Run Time (s)|Status|\n",
    "|:------------------:|:------------------:|:------------------:|:------------------:|:------------------:|\n",
    "|about_py|2022-06-26 00:55|cache|3.85|✅|\n",
    "|debugging|2022-06-26 00:55|cache|4.02|✅|\n",
    "|functions|2022-06-26 00:55|cache|2.56|✅|\n",
    "|getting_started|2022-06-26 00:55|cache|2.9|✅|\n",
    "|intro|2022-06-26 00:55|cache|1.23|✅|\n",
    "|matplotlib|2022-06-26 00:55|cache|5.0|✅|\n",
    "|need_for_speed|2022-06-26 00:55|cache|10.02|✅|\n",
    "|numba|2022-06-26 00:55|cache|16.02|✅|\n",
    "|numpy|2022-06-26 00:55|cache|2.61|✅|\n",
    "|oop_intro|2022-06-26 00:55|cache|1.99|✅|\n",
    "|pandas|2022-06-26 00:55|cache|21.73|✅|\n",
    "|parallelization|2022-06-26 00:55|cache|42.03|✅|\n",
    "|python_advanced_features|2022-06-26 00:55|cache|36.34|✅|\n",
    "|python_by_example|2022-06-26 00:55|cache|5.02|✅|\n",
    "|python_essentials|2022-06-26 00:55|cache|2.3|✅|\n",
    "|python_oop|2022-06-26 00:55|cache|3.35|✅|\n",
    "|scipy|2022-06-26 00:55|cache|20.42|✅|\n",
    "|status|2022-06-26 00:55|cache|1.23|✅|\n",
    "|troubleshooting|2022-06-26 00:55|cache|1.23|✅|\n",
    "|writing_good_code|2022-06-26 00:55|cache|3.93|✅|\n",
    "These lectures are built on `linux` instances through `github actions` so are\n",
    "executed using the following [hardware specifications](https://docs.github.com/en/actions/reference/specifications-for-github-hosted-runners#supported-runners-and-hardware-resources)"
   ]
  }
 ],
 "metadata": {
  "date": 1656204935.616286,
  "filename": "status.md",
  "kernelspec": {
   "display_name": "Python",
   "language": "python3",
   "name": "python3"
  },
  "title": "Execution Statistics"
 },
 "nbformat": 4,
 "nbformat_minor": 5
}