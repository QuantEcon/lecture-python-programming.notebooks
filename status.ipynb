{
 "cells": [
  {
   "cell_type": "markdown",
   "id": "c1f347c7",
   "metadata": {},
   "source": [
    "# Execution Statistics\n",
    "\n",
    "This table contains the latest execution statistics.\n",
    "\n",
    "|Document|Modified|Method|Run Time (s)|Status|\n",
    "|:------------------:|:------------------:|:------------------:|:------------------:|:------------------:|\n",
    "|about_py|2022-08-31 04:05|cache|5.02|✅|\n",
    "|debugging|2022-08-31 04:05|cache|3.65|✅|\n",
    "|functions|2022-08-31 04:05|cache|3.38|✅|\n",
    "|getting_started|2022-08-31 04:05|cache|3.54|✅|\n",
    "|intro|2022-08-31 04:05|cache|1.28|✅|\n",
    "|matplotlib|2022-08-31 04:05|cache|6.62|✅|\n",
    "|need_for_speed|2022-08-31 04:05|cache|12.03|✅|\n",
    "|numba|2022-08-31 04:05|cache|17.65|✅|\n",
    "|numpy|2022-08-31 04:05|cache|4.02|✅|\n",
    "|oop_intro|2022-08-31 04:05|cache|3.02|✅|\n",
    "|pandas|2022-08-31 04:05|cache|18.64|✅|\n",
    "|parallelization|2022-08-31 04:05|cache|49.69|✅|\n",
    "|python_advanced_features|2022-08-31 04:05|cache|43.0|✅|\n",
    "|python_by_example|2022-08-31 04:05|cache|10.93|✅|\n",
    "|python_essentials|2022-08-31 04:05|cache|2.6|✅|\n",
    "|python_oop|2022-08-31 04:05|cache|5.02|✅|\n",
    "|scipy|2022-08-31 04:05|cache|12.03|✅|\n",
    "|status|2022-08-31 04:05|cache|1.28|✅|\n",
    "|troubleshooting|2022-08-31 04:05|cache|1.28|✅|\n",
    "|writing_good_code|2022-08-31 04:05|cache|4.69|✅|\n",
    "These lectures are built on `linux` instances through `github actions` so are\n",
    "executed using the following [hardware specifications](https://docs.github.com/en/actions/reference/specifications-for-github-hosted-runners#supported-runners-and-hardware-resources)"
   ]
  }
 ],
 "metadata": {
  "date": 1661918734.84954,
  "filename": "status.md",
  "kernelspec": {
   "display_name": "Python",
   "language": "python3",
   "name": "python3"
  },
  "title": "Execution Statistics"
 },
 "nbformat": 4,
 "nbformat_minor": 5
}