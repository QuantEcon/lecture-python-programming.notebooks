{
 "cells": [
  {
   "cell_type": "markdown",
   "id": "91c351f4",
   "metadata": {},
   "source": [
    "# Execution Statistics\n",
    "\n",
    "This table contains the latest execution statistics.\n",
    "\n",
    "[](https://python-programming.quantecon.org/about_py.html)[](https://python-programming.quantecon.org/debugging.html)[](https://python-programming.quantecon.org/functions.html)[](https://python-programming.quantecon.org/getting_started.html)[](https://python-programming.quantecon.org/intro.html)[](https://python-programming.quantecon.org/jax_intro.html)[](https://python-programming.quantecon.org/matplotlib.html)[](https://python-programming.quantecon.org/names.html)[](https://python-programming.quantecon.org/need_for_speed.html)[](https://python-programming.quantecon.org/numba.html)[](https://python-programming.quantecon.org/numpy.html)[](https://python-programming.quantecon.org/oop_intro.html)[](https://python-programming.quantecon.org/pandas.html)[](https://python-programming.quantecon.org/parallelization.html)[](https://python-programming.quantecon.org/python_advanced_features.html)[](https://python-programming.quantecon.org/python_by_example.html)[](https://python-programming.quantecon.org/python_essentials.html)[](https://python-programming.quantecon.org/python_oop.html)[](https://python-programming.quantecon.org/scipy.html)[](https://python-programming.quantecon.org/.html)[](https://python-programming.quantecon.org/sympy.html)[](https://python-programming.quantecon.org/troubleshooting.html)[](https://python-programming.quantecon.org/workspace.html)[](https://python-programming.quantecon.org/writing_good_code.html)|Document|Modified|Method|Run Time (s)|Status|\n",
    "|:------------------:|:------------------:|:------------------:|:------------------:|:------------------:|\n",
    "|about_py|2024-03-07 23:08|cache|1.8|✅|\n",
    "|debugging|2024-03-07 23:08|cache|2.15|✅|\n",
    "|functions|2024-03-07 23:08|cache|1.93|✅|\n",
    "|getting_started|2024-03-07 23:08|cache|1.56|✅|\n",
    "|intro|2024-03-07 23:08|cache|0.8|✅|\n",
    "|jax_intro|2024-03-07 23:08|cache|0.83|✅|\n",
    "|matplotlib|2024-03-07 23:08|cache|4.16|✅|\n",
    "|names|2024-03-07 23:08|cache|1.06|✅|\n",
    "|need_for_speed|2024-03-07 23:09|cache|9.18|✅|\n",
    "|numba|2024-03-07 23:09|cache|11.9|✅|\n",
    "|numpy|2024-03-07 23:09|cache|7.58|✅|\n",
    "|oop_intro|2024-03-07 23:09|cache|4.08|✅|\n",
    "|pandas|2024-03-07 23:09|cache|26.23|✅|\n",
    "|parallelization|2024-03-07 23:10|cache|39.93|✅|\n",
    "|python_advanced_features|2024-03-07 23:10|cache|18.65|✅|\n",
    "|python_by_example|2024-03-07 23:11|cache|6.29|✅|\n",
    "|python_essentials|2024-03-07 23:11|cache|1.61|✅|\n",
    "|python_oop|2024-03-07 23:11|cache|2.06|✅|\n",
    "|scipy|2024-03-07 23:11|cache|24.85|✅|\n",
    "|status|2024-03-07 23:11|cache|4.91|✅|\n",
    "|sympy|2024-03-07 23:11|cache|6.75|✅|\n",
    "|troubleshooting|2024-03-07 23:08|cache|0.8|✅|\n",
    "|workspace|2024-03-07 23:08|cache|0.8|✅|\n",
    "|writing_good_code|2024-03-07 23:11|cache|2.51|✅|\n",
    "\n",
    "<a id='status-machine-details'></a>\n",
    "These lectures are built on `linux` instances through `github actions`.\n",
    "\n",
    "These lectures are using the following python version"
   ]
  },
  {
   "cell_type": "code",
   "execution_count": null,
   "id": "b2ef2263",
   "metadata": {
    "hide-output": false
   },
   "outputs": [],
   "source": [
    "!python --version"
   ]
  },
  {
   "cell_type": "markdown",
   "id": "74f845b2",
   "metadata": {},
   "source": [
    "and the following package versions"
   ]
  },
  {
   "cell_type": "code",
   "execution_count": null,
   "id": "cd8eaca4",
   "metadata": {
    "hide-output": false
   },
   "outputs": [],
   "source": [
    "!conda list"
   ]
  }
 ],
 "metadata": {
  "date": 1710455932.885895,
  "filename": "status.md",
  "kernelspec": {
   "display_name": "Python",
   "language": "python3",
   "name": "python3"
  },
  "title": "Execution Statistics"
 },
 "nbformat": 4,
 "nbformat_minor": 5
}