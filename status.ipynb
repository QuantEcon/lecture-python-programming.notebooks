{
 "cells": [
  {
   "cell_type": "markdown",
   "id": "1a9ff483",
   "metadata": {},
   "source": [
    "# Execution Statistics\n",
    "\n",
    "This table contains the latest execution statistics.\n",
    "\n",
    "|Document|Modified|Method|Run Time (s)|Status|\n",
    "|:------------------:|:------------------:|:------------------:|:------------------:|:------------------:|\n",
    "|about_py|2022-09-28 03:45|cache|4.82|✅|\n",
    "|debugging|2022-09-28 03:45|cache|5.02|✅|\n",
    "|functions|2022-09-28 03:45|cache|5.11|✅|\n",
    "|getting_started|2022-09-28 03:45|cache|3.89|✅|\n",
    "|intro|2022-09-28 03:45|cache|1.48|✅|\n",
    "|matplotlib|2022-09-28 03:45|cache|7.82|✅|\n",
    "|need_for_speed|2022-09-28 03:45|cache|11.53|✅|\n",
    "|numba|2022-09-28 03:45|cache|19.96|✅|\n",
    "|numpy|2022-09-28 03:45|cache|6.02|✅|\n",
    "|oop_intro|2022-09-28 03:45|cache|2.62|✅|\n",
    "|pandas|2022-09-28 03:45|cache|17.9|✅|\n",
    "|parallelization|2022-09-28 03:45|cache|53.74|✅|\n",
    "|python_advanced_features|2022-09-28 03:45|cache|47.81|✅|\n",
    "|python_by_example|2022-09-28 03:45|cache|10.78|✅|\n",
    "|python_essentials|2022-09-28 03:45|cache|2.75|✅|\n",
    "|python_oop|2022-09-28 03:45|cache|4.57|✅|\n",
    "|scipy|2022-09-28 03:45|cache|23.86|✅|\n",
    "|status|2022-09-28 03:45|cache|1.48|✅|\n",
    "|troubleshooting|2022-09-28 03:45|cache|1.48|✅|\n",
    "|writing_good_code|2022-09-28 03:45|cache|4.97|✅|\n",
    "These lectures are built on `linux` instances through `github actions` so are\n",
    "executed using the following [hardware specifications](https://docs.github.com/en/actions/reference/specifications-for-github-hosted-runners#supported-runners-and-hardware-resources)"
   ]
  }
 ],
 "metadata": {
  "date": 1664336738.1224034,
  "filename": "status.md",
  "kernelspec": {
   "display_name": "Python",
   "language": "python3",
   "name": "python3"
  },
  "title": "Execution Statistics"
 },
 "nbformat": 4,
 "nbformat_minor": 5
}