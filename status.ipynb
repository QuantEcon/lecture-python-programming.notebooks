{
 "cells": [
  {
   "cell_type": "markdown",
   "id": "d5a02f9e",
   "metadata": {},
   "source": [
    "# Execution Statistics\n",
    "\n",
    "This table contains the latest execution statistics.\n",
    "\n",
    "[](https://python-programming.quantecon.org/about_py.html)[](https://python-programming.quantecon.org/debugging.html)[](https://python-programming.quantecon.org/functions.html)[](https://python-programming.quantecon.org/getting_started.html)[](https://python-programming.quantecon.org/intro.html)[](https://python-programming.quantecon.org/jax_intro.html)[](https://python-programming.quantecon.org/matplotlib.html)[](https://python-programming.quantecon.org/names.html)[](https://python-programming.quantecon.org/need_for_speed.html)[](https://python-programming.quantecon.org/numba.html)[](https://python-programming.quantecon.org/numpy.html)[](https://python-programming.quantecon.org/oop_intro.html)[](https://python-programming.quantecon.org/pandas.html)[](https://python-programming.quantecon.org/pandas_panel.html)[](https://python-programming.quantecon.org/parallelization.html)[](https://python-programming.quantecon.org/python_advanced_features.html)[](https://python-programming.quantecon.org/python_by_example.html)[](https://python-programming.quantecon.org/python_essentials.html)[](https://python-programming.quantecon.org/python_oop.html)[](https://python-programming.quantecon.org/scipy.html)[](https://python-programming.quantecon.org/.html)[](https://python-programming.quantecon.org/sympy.html)[](https://python-programming.quantecon.org/troubleshooting.html)[](https://python-programming.quantecon.org/workspace.html)[](https://python-programming.quantecon.org/writing_good_code.html)|Document|Modified|Method|Run Time (s)|Status|\n",
    "|:------------------:|:------------------:|:------------------:|:------------------:|:------------------:|\n",
    "|about_py|2025-06-28 03:50|cache|2.02|✅|\n",
    "|debugging|2025-06-28 03:50|cache|2.16|✅|\n",
    "|functions|2025-06-28 03:50|cache|1.95|✅|\n",
    "|getting_started|2025-06-28 03:50|cache|1.55|✅|\n",
    "|intro|2025-06-28 03:50|cache|1.0|✅|\n",
    "|jax_intro|2025-06-28 03:50|cache|0.97|✅|\n",
    "|matplotlib|2025-06-28 03:51|cache|4.09|✅|\n",
    "|names|2025-06-28 03:51|cache|1.01|✅|\n",
    "|need_for_speed|2025-06-28 03:51|cache|2.23|✅|\n",
    "|numba|2025-06-28 03:51|cache|11.97|✅|\n",
    "|numpy|2025-06-28 03:51|cache|10.74|✅|\n",
    "|oop_intro|2025-06-28 03:51|cache|2.38|✅|\n",
    "|pandas|2025-06-28 03:51|cache|22.76|✅|\n",
    "|pandas_panel|2025-06-28 03:51|cache|4.83|✅|\n",
    "|parallelization|2025-06-28 03:52|cache|36.81|✅|\n",
    "|python_advanced_features|2025-06-28 03:52|cache|20.19|✅|\n",
    "|python_by_example|2025-06-28 03:53|cache|6.48|✅|\n",
    "|python_essentials|2025-06-28 03:53|cache|1.76|✅|\n",
    "|python_oop|2025-06-28 03:53|cache|2.25|✅|\n",
    "|scipy|2025-06-28 03:53|cache|11.13|✅|\n",
    "|status|2025-06-28 03:53|cache|4.12|✅|\n",
    "|sympy|2025-06-28 03:53|cache|6.7|✅|\n",
    "|troubleshooting|2025-06-28 03:50|cache|1.0|✅|\n",
    "|workspace|2025-06-28 03:50|cache|1.0|✅|\n",
    "|writing_good_code|2025-06-28 03:53|cache|2.51|✅|\n",
    "\n",
    "<a id='status-machine-details'></a>\n",
    "These lectures are built on `linux` instances through `github actions`.\n",
    "\n",
    "These lectures are using the following python version"
   ]
  },
  {
   "cell_type": "code",
   "execution_count": null,
   "id": "6c32275a",
   "metadata": {
    "hide-output": false
   },
   "outputs": [],
   "source": [
    "!python --version"
   ]
  },
  {
   "cell_type": "markdown",
   "id": "88114e1e",
   "metadata": {},
   "source": [
    "and the following package versions"
   ]
  },
  {
   "cell_type": "code",
   "execution_count": null,
   "id": "a1ee910e",
   "metadata": {
    "hide-output": false
   },
   "outputs": [],
   "source": [
    "!conda list"
   ]
  }
 ],
 "metadata": {
  "date": 1751083655.2521014,
  "filename": "status.md",
  "kernelspec": {
   "display_name": "Python",
   "language": "python3",
   "name": "python3"
  },
  "title": "Execution Statistics"
 },
 "nbformat": 4,
 "nbformat_minor": 5
}