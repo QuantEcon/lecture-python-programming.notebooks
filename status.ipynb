{
 "cells": [
  {
   "cell_type": "markdown",
   "id": "ec248deb",
   "metadata": {},
   "source": [
    "# Execution Statistics\n",
    "\n",
    "This table contains the latest execution statistics.\n",
    "\n",
    "|Document|Modified|Method|Run Time (s)|Status|\n",
    "|:------------------:|:------------------:|:------------------:|:------------------:|:------------------:|\n",
    "|about_py|2021-10-18 06:00|cache|2.94|✅|\n",
    "|debugging|2021-10-18 06:00|cache|1.76|✅|\n",
    "|functions|2021-10-18 06:00|cache|1.81|✅|\n",
    "|getting_started|2021-10-18 06:00|cache|2.4|✅|\n",
    "|intro|2021-10-18 06:00|cache|0.88|✅|\n",
    "|matplotlib|2021-10-18 06:00|cache|3.74|✅|\n",
    "|need_for_speed|2021-10-18 06:00|cache|41.57|✅|\n",
    "|numba|2021-10-18 06:00|cache|20.02|✅|\n",
    "|numpy|2021-10-18 06:00|cache|2.32|✅|\n",
    "|oop_intro|2021-10-18 06:00|cache|1.12|✅|\n",
    "|pandas|2021-10-18 06:00|cache|21.71|✅|\n",
    "|parallelization|2021-10-18 06:00|cache|43.99|✅|\n",
    "|python_advanced_features|2021-10-18 06:00|cache|42.81|✅|\n",
    "|python_by_example|2021-10-18 06:00|cache|3.37|✅|\n",
    "|python_essentials|2021-10-18 06:00|cache|1.9|✅|\n",
    "|python_oop|2021-10-18 06:00|cache|7.2|✅|\n",
    "|scipy|2021-10-18 06:00|cache|19.83|✅|\n",
    "|status|2021-10-18 06:00|cache|0.88|✅|\n",
    "|troubleshooting|2021-10-18 06:00|cache|0.88|✅|\n",
    "|writing_good_code|2021-10-18 06:00|cache|3.52|✅|\n",
    "These lectures are built on `linux` instances through `github actions` so are\n",
    "executed using the following [hardware specifications](https://docs.github.com/en/actions/reference/specifications-for-github-hosted-runners#supported-runners-and-hardware-resources)"
   ]
  }
 ],
 "metadata": {
  "date": 1634536851.7918103,
  "filename": "status.md",
  "kernelspec": {
   "display_name": "Python",
   "language": "python3",
   "name": "python3"
  },
  "title": "Execution Statistics"
 },
 "nbformat": 4,
 "nbformat_minor": 5
}