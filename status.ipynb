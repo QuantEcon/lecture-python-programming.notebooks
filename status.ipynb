{
 "cells": [
  {
   "cell_type": "markdown",
   "id": "a4d31e25",
   "metadata": {},
   "source": [
    "# Execution Statistics\n",
    "\n",
    "This table contains the latest execution statistics.\n",
    "\n",
    "[](https://python-programming.quantecon.org/about_py.html)[](https://python-programming.quantecon.org/debugging.html)[](https://python-programming.quantecon.org/functions.html)[](https://python-programming.quantecon.org/getting_started.html)[](https://python-programming.quantecon.org/intro.html)[](https://python-programming.quantecon.org/jax_intro.html)[](https://python-programming.quantecon.org/matplotlib.html)[](https://python-programming.quantecon.org/names.html)[](https://python-programming.quantecon.org/need_for_speed.html)[](https://python-programming.quantecon.org/numba.html)[](https://python-programming.quantecon.org/numpy.html)[](https://python-programming.quantecon.org/oop_intro.html)[](https://python-programming.quantecon.org/pandas.html)[](https://python-programming.quantecon.org/pandas_panel.html)[](https://python-programming.quantecon.org/parallelization.html)[](https://python-programming.quantecon.org/python_advanced_features.html)[](https://python-programming.quantecon.org/python_by_example.html)[](https://python-programming.quantecon.org/python_essentials.html)[](https://python-programming.quantecon.org/python_oop.html)[](https://python-programming.quantecon.org/scipy.html)[](https://python-programming.quantecon.org/.html)[](https://python-programming.quantecon.org/sympy.html)[](https://python-programming.quantecon.org/troubleshooting.html)[](https://python-programming.quantecon.org/workspace.html)[](https://python-programming.quantecon.org/writing_good_code.html)|Document|Modified|Method|Run Time (s)|Status|\n",
    "|:------------------:|:------------------:|:------------------:|:------------------:|:------------------:|\n",
    "|about_py|2025-08-25 03:29|cache|2.73|✅|\n",
    "|debugging|2025-08-25 03:29|cache|2.17|✅|\n",
    "|functions|2025-08-25 03:29|cache|1.85|✅|\n",
    "|getting_started|2025-08-25 03:29|cache|1.24|✅|\n",
    "|intro|2025-08-25 03:29|cache|0.78|✅|\n",
    "|jax_intro|2025-08-28 06:24|cache|59.81|✅|\n",
    "|matplotlib|2025-08-25 03:30|cache|3.9|✅|\n",
    "|names|2025-08-25 03:30|cache|0.93|✅|\n",
    "|need_for_speed|2025-08-25 03:30|cache|2.06|✅|\n",
    "|numba|2025-08-28 06:24|cache|10.53|✅|\n",
    "|numpy|2025-08-28 06:24|cache|12.17|✅|\n",
    "|oop_intro|2025-08-25 03:30|cache|2.47|✅|\n",
    "|pandas|2025-08-25 03:31|cache|24.27|✅|\n",
    "|pandas_panel|2025-08-25 03:31|cache|4.96|✅|\n",
    "|parallelization|2025-08-28 06:24|cache|20.9|✅|\n",
    "|python_advanced_features|2025-08-25 03:32|cache|20.67|✅|\n",
    "|python_by_example|2025-08-25 03:32|cache|6.78|✅|\n",
    "|python_essentials|2025-08-25 03:32|cache|1.65|✅|\n",
    "|python_oop|2025-08-25 03:32|cache|2.24|✅|\n",
    "|scipy|2025-08-28 06:24|cache|3.04|✅|\n",
    "|status|2025-08-25 03:32|cache|3.99|✅|\n",
    "|sympy|2025-08-25 03:32|cache|7.17|✅|\n",
    "|troubleshooting|2025-08-25 03:29|cache|0.78|✅|\n",
    "|workspace|2025-08-25 03:32|cache|1.31|✅|\n",
    "|writing_good_code|2025-08-25 03:33|cache|2.49|✅|\n",
    "\n",
    "<a id='status-machine-details'></a>\n",
    "These lectures are built on `linux` instances through `github actions`.\n",
    "\n",
    "These lectures are using the following python version"
   ]
  },
  {
   "cell_type": "code",
   "execution_count": null,
   "id": "efe942b2",
   "metadata": {
    "hide-output": false
   },
   "outputs": [],
   "source": [
    "!python --version"
   ]
  },
  {
   "cell_type": "markdown",
   "id": "28bee0cd",
   "metadata": {},
   "source": [
    "and the following package versions"
   ]
  },
  {
   "cell_type": "code",
   "execution_count": null,
   "id": "6b42d425",
   "metadata": {
    "hide-output": false
   },
   "outputs": [],
   "source": [
    "!conda list"
   ]
  }
 ],
 "metadata": {
  "date": 1756362394.0057967,
  "filename": "status.md",
  "kernelspec": {
   "display_name": "Python",
   "language": "python3",
   "name": "python3"
  },
  "title": "Execution Statistics"
 },
 "nbformat": 4,
 "nbformat_minor": 5
}