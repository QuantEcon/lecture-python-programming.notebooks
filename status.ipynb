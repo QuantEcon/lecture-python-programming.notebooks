{
 "cells": [
  {
   "cell_type": "markdown",
   "metadata": {},
   "source": [
    "# Execution Statistics\n",
    "\n",
    "This table contains the latest execution statistics.\n",
    "\n",
    "|Document|Modified|Method|Run Time (s)|Status|\n",
    "|:------------------:|:------------------:|:------------------:|:------------------:|:------------------:|\n",
    "|about_py|2021-05-17 04:16|cache|4.02|✅|\n",
    "|debugging|2021-05-17 04:16|cache|1.97|✅|\n",
    "|functions|2021-05-17 04:16|cache|1.63|✅|\n",
    "|getting_started|2021-05-17 04:16|cache|5.79|✅|\n",
    "|intro|2021-05-17 04:16|cache|0.8|✅|\n",
    "|matplotlib|2021-05-17 04:16|cache|3.68|✅|\n",
    "|need_for_speed|2021-05-17 04:16|cache|34.96|✅|\n",
    "|numba|2021-05-17 04:16|cache|20.02|✅|\n",
    "|numpy|2021-05-17 04:16|cache|1.72|✅|\n",
    "|oop_intro|2021-05-17 04:16|cache|2.03|✅|\n",
    "|pandas|2021-05-17 04:16|cache|12.67|✅|\n",
    "|parallelization|2021-05-17 04:16|cache|40.98|✅|\n",
    "|python_advanced_features|2021-05-17 04:16|cache|35.41|✅|\n",
    "|python_by_example|2021-05-17 04:16|cache|4.02|✅|\n",
    "|python_essentials|2021-05-17 04:17|cache|1.68|✅|\n",
    "|python_oop|2021-05-17 04:17|cache|2.61|✅|\n",
    "|scipy|2021-05-17 04:17|cache|21.24|✅|\n",
    "|status|2021-05-17 04:17|cache|0.8|✅|\n",
    "|troubleshooting|2021-05-17 04:17|cache|0.8|✅|\n",
    "|writing_good_code|2021-05-17 04:17|cache|4.02|✅|\n",
    "These lectures are built on `linux` instances through `github actions` so are\n",
    "executed using the following [hardware specifications](https://docs.github.com/en/actions/reference/specifications-for-github-hosted-runners#supported-runners-and-hardware-resources)"
   ]
  }
 ],
 "metadata": {
  "date": 1621225024.313753,
  "filename": "status.md",
  "kernelspec": {
   "display_name": "Python",
   "language": "python3",
   "name": "python3"
  },
  "title": "Execution Statistics"
 },
 "nbformat": 4,
 "nbformat_minor": 4
}