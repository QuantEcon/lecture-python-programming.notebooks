{
 "cells": [
  {
   "cell_type": "markdown",
   "id": "deb2f50a",
   "metadata": {},
   "source": [
    "# Execution Statistics\n",
    "\n",
    "This table contains the latest execution statistics.\n",
    "\n",
    "|Document|Modified|Method|Run Time (s)|Status|\n",
    "|:------------------:|:------------------:|:------------------:|:------------------:|:------------------:|\n",
    "|about_py|2022-08-23 00:00|cache|3.77|✅|\n",
    "|debugging|2022-08-23 00:00|cache|2.97|✅|\n",
    "|functions|2022-08-23 00:00|cache|2.66|✅|\n",
    "|getting_started|2022-08-23 00:00|cache|3.01|✅|\n",
    "|intro|2022-08-23 00:00|cache|1.31|✅|\n",
    "|matplotlib|2022-08-23 00:00|cache|4.39|✅|\n",
    "|need_for_speed|2022-08-23 00:00|cache|10.02|✅|\n",
    "|numba|2022-08-23 00:00|cache|15.02|✅|\n",
    "|numpy|2022-08-23 00:00|cache|2.85|✅|\n",
    "|oop_intro|2022-08-23 00:00|cache|1.98|✅|\n",
    "|pandas|2022-08-23 00:00|cache|15.55|✅|\n",
    "|parallelization|2022-08-23 00:01|cache|42.03|✅|\n",
    "|python_advanced_features|2022-08-23 00:01|cache|37.03|✅|\n",
    "|python_by_example|2022-08-23 00:01|cache|10.02|✅|\n",
    "|python_essentials|2022-08-23 00:01|cache|2.37|✅|\n",
    "|python_oop|2022-08-23 00:01|cache|3.3|✅|\n",
    "|scipy|2022-08-23 00:01|cache|22.02|✅|\n",
    "|status|2022-08-23 00:01|cache|1.31|✅|\n",
    "|troubleshooting|2022-08-23 00:01|cache|1.31|✅|\n",
    "|writing_good_code|2022-08-23 00:01|cache|6.09|✅|\n",
    "These lectures are built on `linux` instances through `github actions` so are\n",
    "executed using the following [hardware specifications](https://docs.github.com/en/actions/reference/specifications-for-github-hosted-runners#supported-runners-and-hardware-resources)"
   ]
  }
 ],
 "metadata": {
  "date": 1661212865.8542688,
  "filename": "status.md",
  "kernelspec": {
   "display_name": "Python",
   "language": "python3",
   "name": "python3"
  },
  "title": "Execution Statistics"
 },
 "nbformat": 4,
 "nbformat_minor": 5
}