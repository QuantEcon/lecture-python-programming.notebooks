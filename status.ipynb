{
 "cells": [
  {
   "cell_type": "markdown",
   "id": "c7b352d5",
   "metadata": {},
   "source": [
    "# Execution Statistics\n",
    "\n",
    "This table contains the latest execution statistics.\n",
    "\n",
    "|Document|Modified|Method|Run Time (s)|Status|\n",
    "|:------------------:|:------------------:|:------------------:|:------------------:|:------------------:|\n",
    "|about_py|2022-12-03 05:58|cache|3.91|✅|\n",
    "|debugging|2022-12-03 05:58|cache|3.01|✅|\n",
    "|functions|2022-12-03 05:58|cache|2.98|✅|\n",
    "|getting_started|2022-12-03 05:58|cache|3.36|✅|\n",
    "|intro|2022-12-03 05:58|cache|4.03|✅|\n",
    "|jax_intro|2022-12-03 05:58|cache|34.67|✅|\n",
    "|matplotlib|2022-12-03 05:58|cache|7.27|✅|\n",
    "|need_for_speed|2022-12-03 05:58|cache|11.27|✅|\n",
    "|numba|2022-12-03 05:58|cache|19.17|✅|\n",
    "|numpy|2022-12-03 05:58|cache|12.23|✅|\n",
    "|oop_intro|2022-12-03 05:58|cache|2.09|✅|\n",
    "|pandas|2022-12-03 05:58|cache|19.59|✅|\n",
    "|parallelization|2022-12-03 05:58|cache|53.7|✅|\n",
    "|python_advanced_features|2022-12-03 05:58|cache|46.44|✅|\n",
    "|python_by_example|2022-12-03 05:58|cache|10.36|✅|\n",
    "|python_essentials|2022-12-03 05:58|cache|2.32|✅|\n",
    "|python_oop|2022-12-03 05:58|cache|3.67|✅|\n",
    "|scipy|2022-12-03 05:58|cache|23.8|✅|\n",
    "|status|2022-12-03 05:58|cache|4.03|✅|\n",
    "|troubleshooting|2022-12-03 05:58|cache|4.03|✅|\n",
    "|writing_good_code|2022-12-03 05:58|cache|4.14|✅|\n",
    "\n",
    "<a id='status-machine-details'></a>\n",
    "These lectures are built on `linux` instances through `github actions`  and `amazon web services (aws)` to\n",
    "enable access to a `gpu`. These lectures are built on a [p3.2xlarge](https://aws.amazon.com/ec2/instance-types/p3/)\n",
    "that has access to `8 vcpu's`, a `V100 NVIDIA Tesla GPU`, and `61 Gb` of memory."
   ]
  }
 ],
 "metadata": {
  "date": 1670047129.7455463,
  "filename": "status.md",
  "kernelspec": {
   "display_name": "Python",
   "language": "python3",
   "name": "python3"
  },
  "title": "Execution Statistics"
 },
 "nbformat": 4,
 "nbformat_minor": 5
}