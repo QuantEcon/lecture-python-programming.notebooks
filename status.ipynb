{
 "cells": [
  {
   "cell_type": "markdown",
   "metadata": {},
   "source": [
    "# Execution Statistics\n",
    "\n",
    "This table contains the latest execution statistics.\n",
    "\n",
    "|Document|Modified|Method|Run Time (s)|Status|\n",
    "|:------------------:|:------------------:|:------------------:|:------------------:|:------------------:|\n",
    "|about_py|2021-06-03 06:02|cache|7.03|✅|\n",
    "|debugging|2021-06-03 06:02|cache|1.98|✅|\n",
    "|functions|2021-06-03 06:02|cache|1.9|✅|\n",
    "|getting_started|2021-06-03 06:02|cache|2.43|✅|\n",
    "|intro|2021-06-03 06:02|cache|0.84|✅|\n",
    "|matplotlib|2021-06-03 06:02|cache|5.02|✅|\n",
    "|need_for_speed|2021-06-03 06:02|cache|14.02|✅|\n",
    "|numba|2021-06-03 06:02|cache|20.96|✅|\n",
    "|numpy|2021-06-03 06:02|cache|1.81|✅|\n",
    "|oop_intro|2021-06-03 06:02|cache|1.13|✅|\n",
    "|pandas|2021-06-03 06:02|cache|13.56|✅|\n",
    "|parallelization|2021-06-03 06:02|cache|73.63|✅|\n",
    "|python_advanced_features|2021-06-03 06:02|cache|44.12|✅|\n",
    "|python_by_example|2021-06-03 06:02|cache|3.52|✅|\n",
    "|python_essentials|2021-06-03 06:02|cache|1.68|✅|\n",
    "|python_oop|2021-06-03 06:02|cache|4.01|✅|\n",
    "|scipy|2021-06-03 06:02|cache|22.84|✅|\n",
    "|status|2021-06-03 06:02|cache|0.84|✅|\n",
    "|troubleshooting|2021-06-03 06:02|cache|0.84|✅|\n",
    "|writing_good_code|2021-06-03 06:02|cache|3.6|✅|\n",
    "These lectures are built on `linux` instances through `github actions` so are\n",
    "executed using the following [hardware specifications](https://docs.github.com/en/actions/reference/specifications-for-github-hosted-runners#supported-runners-and-hardware-resources)"
   ]
  }
 ],
 "metadata": {
  "date": 1622700145.3687408,
  "filename": "status.md",
  "kernelspec": {
   "display_name": "Python",
   "language": "python3",
   "name": "python3"
  },
  "title": "Execution Statistics"
 },
 "nbformat": 4,
 "nbformat_minor": 4
}