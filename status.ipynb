{
 "cells": [
  {
   "cell_type": "markdown",
   "id": "031bdbfe",
   "metadata": {},
   "source": [
    "# Execution Statistics\n",
    "\n",
    "This table contains the latest execution statistics.\n",
    "\n",
    "|Document|Modified|Method|Run Time (s)|Status|\n",
    "|:------------------:|:------------------:|:------------------:|:------------------:|:------------------:|\n",
    "|about_py|2022-08-11 01:36|cache|5.69|✅|\n",
    "|debugging|2022-08-11 01:36|cache|3.41|✅|\n",
    "|functions|2022-08-11 01:36|cache|4.02|✅|\n",
    "|getting_started|2022-08-11 01:36|cache|3.38|✅|\n",
    "|intro|2022-08-11 01:36|cache|1.52|✅|\n",
    "|matplotlib|2022-08-11 01:36|cache|6.02|✅|\n",
    "|need_for_speed|2022-08-11 01:36|cache|12.55|✅|\n",
    "|numba|2022-08-11 01:36|cache|18.02|✅|\n",
    "|numpy|2022-08-11 01:36|cache|4.02|✅|\n",
    "|oop_intro|2022-08-11 01:36|cache|1.9|✅|\n",
    "|pandas|2022-08-11 01:36|cache|20.5|✅|\n",
    "|parallelization|2022-08-11 01:36|cache|50.75|✅|\n",
    "|python_advanced_features|2022-08-11 01:36|cache|43.84|✅|\n",
    "|python_by_example|2022-08-11 01:36|cache|10.23|✅|\n",
    "|python_essentials|2022-08-11 01:36|cache|2.69|✅|\n",
    "|python_oop|2022-08-11 01:36|cache|3.94|✅|\n",
    "|scipy|2022-08-11 01:36|cache|22.42|✅|\n",
    "|status|2022-08-11 01:36|cache|1.52|✅|\n",
    "|troubleshooting|2022-08-11 01:36|cache|1.52|✅|\n",
    "|writing_good_code|2022-08-11 01:36|cache|4.67|✅|\n",
    "These lectures are built on `linux` instances through `github actions` so are\n",
    "executed using the following [hardware specifications](https://docs.github.com/en/actions/reference/specifications-for-github-hosted-runners#supported-runners-and-hardware-resources)"
   ]
  }
 ],
 "metadata": {
  "date": 1660181781.5527425,
  "filename": "status.md",
  "kernelspec": {
   "display_name": "Python",
   "language": "python3",
   "name": "python3"
  },
  "title": "Execution Statistics"
 },
 "nbformat": 4,
 "nbformat_minor": 5
}