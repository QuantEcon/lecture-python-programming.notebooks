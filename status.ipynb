{
 "cells": [
  {
   "cell_type": "markdown",
   "id": "6d0b8974",
   "metadata": {},
   "source": [
    "# Execution Statistics\n",
    "\n",
    "This table contains the latest execution statistics.\n",
    "\n",
    "|Document|Modified|Method|Run Time (s)|Status|\n",
    "|:------------------:|:------------------:|:------------------:|:------------------:|:------------------:|\n",
    "|about_py|2023-01-25 23:34|cache|4.26|✅|\n",
    "|debugging|2023-01-25 23:35|cache|2.85|✅|\n",
    "|functions|2023-01-25 23:35|cache|3.2|✅|\n",
    "|getting_started|2023-01-25 23:35|cache|3.19|✅|\n",
    "|intro|2023-01-25 23:35|cache|1.39|✅|\n",
    "|jax_intro|2023-01-25 23:35|cache|36.8|✅|\n",
    "|matplotlib|2023-01-25 23:35|cache|7.48|✅|\n",
    "|need_for_speed|2023-01-25 23:35|cache|16.82|✅|\n",
    "|numba|2023-01-25 23:35|cache|18.02|✅|\n",
    "|numpy|2023-01-25 23:35|cache|12.41|✅|\n",
    "|oop_intro|2023-01-25 23:35|cache|2.17|✅|\n",
    "|pandas|2023-01-25 23:35|cache|21.21|✅|\n",
    "|parallelization|2023-01-25 23:35|cache|53.68|✅|\n",
    "|python_advanced_features|2023-01-25 23:35|cache|46.15|✅|\n",
    "|python_by_example|2023-01-25 23:35|cache|11.57|✅|\n",
    "|python_essentials|2023-01-25 23:35|cache|2.35|✅|\n",
    "|python_oop|2023-01-25 23:35|cache|4.06|✅|\n",
    "|scipy|2023-01-25 23:35|cache|23.78|✅|\n",
    "|status|2023-01-25 23:35|cache|1.39|✅|\n",
    "|troubleshooting|2023-01-25 23:35|cache|1.39|✅|\n",
    "|writing_good_code|2023-01-25 23:35|cache|4.76|✅|\n",
    "\n",
    "<a id='status-machine-details'></a>\n",
    "These lectures are built on `linux` instances through `github actions`  and `amazon web services (aws)` to\n",
    "enable access to a `gpu`. These lectures are built on a [p3.2xlarge](https://aws.amazon.com/ec2/instance-types/p3/)\n",
    "that has access to `8 vcpu's`, a `V100 NVIDIA Tesla GPU`, and `61 Gb` of memory."
   ]
  }
 ],
 "metadata": {
  "date": 1674689715.9079595,
  "filename": "status.md",
  "kernelspec": {
   "display_name": "Python",
   "language": "python3",
   "name": "python3"
  },
  "title": "Execution Statistics"
 },
 "nbformat": 4,
 "nbformat_minor": 5
}