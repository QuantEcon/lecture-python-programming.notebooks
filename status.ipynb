{
 "cells": [
  {
   "cell_type": "markdown",
   "id": "d0b98c32",
   "metadata": {},
   "source": [
    "# Execution Statistics\n",
    "\n",
    "This table contains the latest execution statistics.\n",
    "\n",
    "|Document|Modified|Method|Run Time (s)|Status|\n",
    "|:------------------:|:------------------:|:------------------:|:------------------:|:------------------:|\n",
    "|about_py|2022-10-26 03:22|cache|3.49|✅|\n",
    "|debugging|2022-10-26 03:22|cache|4.02|✅|\n",
    "|functions|2022-10-26 03:22|cache|2.72|✅|\n",
    "|getting_started|2022-10-26 03:22|cache|3.91|✅|\n",
    "|intro|2022-10-26 03:22|cache|2.01|✅|\n",
    "|matplotlib|2022-10-26 03:22|cache|5.43|✅|\n",
    "|need_for_speed|2022-10-26 03:22|cache|10.02|✅|\n",
    "|numba|2022-10-26 03:22|cache|15.02|✅|\n",
    "|numpy|2022-10-26 03:22|cache|12.58|✅|\n",
    "|oop_intro|2022-10-26 03:22|cache|3.02|✅|\n",
    "|pandas|2022-10-26 03:22|cache|34.36|✅|\n",
    "|parallelization|2022-10-26 03:22|cache|52.44|✅|\n",
    "|python_advanced_features|2022-10-26 03:22|cache|36.89|✅|\n",
    "|python_by_example|2022-10-26 03:22|cache|9.36|✅|\n",
    "|python_essentials|2022-10-26 03:22|cache|2.0|✅|\n",
    "|python_oop|2022-10-26 03:22|cache|4.02|✅|\n",
    "|scipy|2022-10-26 03:22|cache|22.57|✅|\n",
    "|status|2022-10-26 03:23|cache|2.01|✅|\n",
    "|troubleshooting|2022-10-26 03:23|cache|2.01|✅|\n",
    "|writing_good_code|2022-10-26 03:23|cache|3.65|✅|\n",
    "These lectures are built on `linux` instances through `github actions` so are\n",
    "executed using the following [hardware specifications](https://docs.github.com/en/actions/reference/specifications-for-github-hosted-runners#supported-runners-and-hardware-resources)"
   ]
  }
 ],
 "metadata": {
  "date": 1666754583.8424368,
  "filename": "status.md",
  "kernelspec": {
   "display_name": "Python",
   "language": "python3",
   "name": "python3"
  },
  "title": "Execution Statistics"
 },
 "nbformat": 4,
 "nbformat_minor": 5
}