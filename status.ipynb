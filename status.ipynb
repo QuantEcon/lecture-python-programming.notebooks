{
 "cells": [
  {
   "cell_type": "markdown",
   "metadata": {},
   "source": [
    "# Execution Statistics\n",
    "\n",
    "This table contains the latest execution statistics.\n",
    "\n",
    "|Document|Modified|Method|Run Time (s)|Status|\n",
    "|:------------------:|:------------------:|:------------------:|:------------------:|:------------------:|\n",
    "|about_py|2021-04-13 05:06|cache|4.02|✅|\n",
    "|debugging|2021-04-13 05:06|cache|2.19|✅|\n",
    "|functions|2021-04-13 05:06|cache|3.02|✅|\n",
    "|getting_started|2021-04-13 05:06|cache|2.58|✅|\n",
    "|intro|2021-04-13 05:06|cache|0.92|✅|\n",
    "|matplotlib|2021-04-13 05:06|cache|5.02|✅|\n",
    "|need_for_speed|2021-04-13 05:06|cache|31.03|✅|\n",
    "|numba|2021-04-13 05:06|cache|25.41|✅|\n",
    "|numpy|2021-04-13 05:06|cache|3.02|✅|\n",
    "|oop_intro|2021-04-13 05:06|cache|1.23|✅|\n",
    "|pandas|2021-04-13 05:06|cache|-|❌|\n",
    "|parallelization|2021-04-13 05:06|cache|50.3|✅|\n",
    "|python_advanced_features|2021-04-13 05:06|cache|47.71|✅|\n",
    "|python_by_example|2021-04-13 05:06|cache|5.2|✅|\n",
    "|python_essentials|2021-04-13 05:06|cache|1.92|✅|\n",
    "|python_oop|2021-04-13 05:06|cache|3.28|✅|\n",
    "|scipy|2021-04-13 05:06|cache|11.47|✅|\n",
    "|status|2021-04-13 05:06|cache|0.92|✅|\n",
    "|troubleshooting|2021-04-13 05:06|cache|0.92|✅|\n",
    "|writing_good_code|2021-04-13 05:06|cache|3.61|✅|\n",
    "These lectures are built on `linux` instances through `github actions` so are\n",
    "executed using the following [hardware specifications](https://docs.github.com/en/actions/reference/specifications-for-github-hosted-runners#supported-runners-and-hardware-resources)"
   ]
  }
 ],
 "metadata": {
  "date": 1618290392.672058,
  "filename": "status.md",
  "kernelspec": {
   "display_name": "Python",
   "language": "python3",
   "name": "python3"
  },
  "title": "Execution Statistics"
 },
 "nbformat": 4,
 "nbformat_minor": 4
}