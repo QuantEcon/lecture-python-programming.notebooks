{
 "cells": [
  {
   "cell_type": "markdown",
   "metadata": {},
   "source": [
    "# Execution Statistics\n",
    "\n",
    "This table contains the latest execution statistics.\n",
    "\n",
    "|Document|Modified|Method|Run Time (s)|Status|\n",
    "|:------------------:|:------------------:|:------------------:|:------------------:|:------------------:|\n",
    "|about_py|2021-03-10 05:21|cache|4.02|✅|\n",
    "|debugging|2021-03-10 05:21|cache|2.34|✅|\n",
    "|functions|2021-03-10 05:21|cache|3.1|✅|\n",
    "|getting_started|2021-03-10 05:21|cache|2.88|✅|\n",
    "|intro|2021-03-10 05:21|cache|0.92|✅|\n",
    "|matplotlib|2021-03-10 05:21|cache|4.59|✅|\n",
    "|need_for_speed|2021-03-10 05:21|cache|16.32|✅|\n",
    "|numba|2021-03-10 05:21|cache|25.52|✅|\n",
    "|numpy|2021-03-10 05:21|cache|2.56|✅|\n",
    "|oop_intro|2021-03-10 05:21|cache|1.22|✅|\n",
    "|pandas|2021-03-10 05:21|cache|16.48|✅|\n",
    "|parallelization|2021-03-10 05:21|cache|84.03|✅|\n",
    "|python_advanced_features|2021-03-10 05:21|cache|49.81|✅|\n",
    "|python_by_example|2021-03-10 05:22|cache|5.02|✅|\n",
    "|python_essentials|2021-03-10 05:22|cache|1.95|✅|\n",
    "|python_oop|2021-03-10 05:22|cache|3.34|✅|\n",
    "|scipy|2021-03-10 05:22|cache|12.02|✅|\n",
    "|status|2021-03-10 05:22|cache|0.92|✅|\n",
    "|troubleshooting|2021-03-10 05:22|cache|0.92|✅|\n",
    "|writing_good_code|2021-03-10 05:22|cache|4.2|✅|\n",
    "These lectures are built on `linux` instances through `github actions` so are\n",
    "executed using the following [hardware specifications](https://docs.github.com/en/actions/reference/specifications-for-github-hosted-runners#supported-runners-and-hardware-resources)"
   ]
  }
 ],
 "metadata": {
  "date": 1615353735.0209105,
  "filename": "status.md",
  "kernelspec": {
   "display_name": "Python",
   "language": "python3",
   "name": "python3"
  },
  "title": "Execution Statistics"
 },
 "nbformat": 4,
 "nbformat_minor": 4
}