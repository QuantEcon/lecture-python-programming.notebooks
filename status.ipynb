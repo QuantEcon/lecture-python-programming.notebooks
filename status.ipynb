{
 "cells": [
  {
   "cell_type": "markdown",
   "metadata": {},
   "source": [
    "# Execution Statistics\n",
    "\n",
    "This table contains the latest execution statistics.\n",
    "\n",
    "|Document|Modified|Method|Run Time (s)|Status|\n",
    "|:------------------:|:------------------:|:------------------:|:------------------:|:------------------:|\n",
    "|about_py|2021-07-15 00:17|cache|3.0|✅|\n",
    "|debugging|2021-07-15 00:17|cache|1.96|✅|\n",
    "|functions|2021-07-15 00:17|cache|1.72|✅|\n",
    "|getting_started|2021-07-15 00:17|cache|3.02|✅|\n",
    "|intro|2021-07-15 00:17|cache|0.89|✅|\n",
    "|matplotlib|2021-07-15 00:17|cache|3.51|✅|\n",
    "|need_for_speed|2021-07-15 00:17|cache|12.71|✅|\n",
    "|numba|2021-07-15 00:17|cache|20.02|✅|\n",
    "|numpy|2021-07-15 00:17|cache|1.79|✅|\n",
    "|oop_intro|2021-07-15 00:17|cache|2.02|✅|\n",
    "|pandas|2021-07-15 00:17|cache|14.7|✅|\n",
    "|parallelization|2021-07-15 00:17|cache|68.75|✅|\n",
    "|python_advanced_features|2021-07-15 00:17|cache|35.37|✅|\n",
    "|python_by_example|2021-07-15 00:17|cache|3.19|✅|\n",
    "|python_essentials|2021-07-15 00:17|cache|1.66|✅|\n",
    "|python_oop|2021-07-15 00:17|cache|2.77|✅|\n",
    "|scipy|2021-07-15 00:17|cache|22.02|✅|\n",
    "|status|2021-07-15 00:17|cache|0.89|✅|\n",
    "|troubleshooting|2021-07-15 00:17|cache|0.89|✅|\n",
    "|writing_good_code|2021-07-15 00:17|cache|4.02|✅|\n",
    "These lectures are built on `linux` instances through `github actions` so are\n",
    "executed using the following [hardware specifications](https://docs.github.com/en/actions/reference/specifications-for-github-hosted-runners#supported-runners-and-hardware-resources)"
   ]
  }
 ],
 "metadata": {
  "date": 1626308237.8907065,
  "filename": "status.md",
  "kernelspec": {
   "display_name": "Python",
   "language": "python3",
   "name": "python3"
  },
  "title": "Execution Statistics"
 },
 "nbformat": 4,
 "nbformat_minor": 4
}