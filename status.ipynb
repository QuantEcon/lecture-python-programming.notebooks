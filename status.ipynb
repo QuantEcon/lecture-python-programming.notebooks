{
 "cells": [
  {
   "cell_type": "markdown",
   "id": "d042e1f0",
   "metadata": {},
   "source": [
    "# Execution Statistics\n",
    "\n",
    "This table contains the latest execution statistics.\n",
    "\n",
    "[](https://python-programming.quantecon.org/about_py.html)[](https://python-programming.quantecon.org/debugging.html)[](https://python-programming.quantecon.org/functions.html)[](https://python-programming.quantecon.org/getting_started.html)[](https://python-programming.quantecon.org/intro.html)[](https://python-programming.quantecon.org/jax_intro.html)[](https://python-programming.quantecon.org/matplotlib.html)[](https://python-programming.quantecon.org/need_for_speed.html)[](https://python-programming.quantecon.org/numba.html)[](https://python-programming.quantecon.org/numpy.html)[](https://python-programming.quantecon.org/oop_intro.html)[](https://python-programming.quantecon.org/pandas.html)[](https://python-programming.quantecon.org/parallelization.html)[](https://python-programming.quantecon.org/python_advanced_features.html)[](https://python-programming.quantecon.org/python_by_example.html)[](https://python-programming.quantecon.org/python_essentials.html)[](https://python-programming.quantecon.org/python_oop.html)[](https://python-programming.quantecon.org/scipy.html)[](https://python-programming.quantecon.org/.html)[](https://python-programming.quantecon.org/sympy.html)[](https://python-programming.quantecon.org/troubleshooting.html)[](https://python-programming.quantecon.org/workspace.html)[](https://python-programming.quantecon.org/writing_good_code.html)|Document|Modified|Method|Run Time (s)|Status|\n",
    "|:------------------:|:------------------:|:------------------:|:------------------:|:------------------:|\n",
    "|about_py|2023-12-14 03:45|cache|2.85|✅|\n",
    "|debugging|2023-12-14 03:45|cache|2.09|✅|\n",
    "|functions|2023-12-14 03:45|cache|2.04|✅|\n",
    "|getting_started|2023-12-14 03:45|cache|1.38|✅|\n",
    "|intro|2023-12-14 03:45|cache|1.0|✅|\n",
    "|jax_intro|2023-12-14 03:45|cache|1.0|✅|\n",
    "|matplotlib|2023-12-14 03:45|cache|4.37|✅|\n",
    "|need_for_speed|2023-12-14 03:45|cache|10.33|✅|\n",
    "|numba|2023-12-14 03:46|cache|12.73|✅|\n",
    "|numpy|2023-12-14 03:46|cache|7.66|✅|\n",
    "|oop_intro|2023-12-14 03:46|cache|1.63|✅|\n",
    "|pandas|2023-12-14 03:46|cache|41.84|✅|\n",
    "|parallelization|2023-12-14 03:47|cache|40.35|✅|\n",
    "|python_advanced_features|2023-12-14 03:47|cache|18.05|✅|\n",
    "|python_by_example|2023-12-14 03:48|cache|6.55|✅|\n",
    "|python_essentials|2023-12-14 03:48|cache|1.61|✅|\n",
    "|python_oop|2023-12-14 03:48|cache|2.33|✅|\n",
    "|scipy|2023-12-14 03:48|cache|10.58|✅|\n",
    "|status|2023-12-14 03:45|cache|1.0|✅|\n",
    "|sympy|2023-12-14 03:48|cache|5.99|✅|\n",
    "|troubleshooting|2023-12-14 03:45|cache|1.0|✅|\n",
    "|workspace|2023-12-14 03:45|cache|1.0|✅|\n",
    "|writing_good_code|2023-12-14 03:48|cache|2.92|✅|\n",
    "\n",
    "<a id='status-machine-details'></a>\n",
    "These lectures are built on `linux` instances through `github actions`."
   ]
  }
 ],
 "metadata": {
  "date": 1702956203.1824121,
  "filename": "status.md",
  "kernelspec": {
   "display_name": "Python",
   "language": "python3",
   "name": "python3"
  },
  "title": "Execution Statistics"
 },
 "nbformat": 4,
 "nbformat_minor": 5
}