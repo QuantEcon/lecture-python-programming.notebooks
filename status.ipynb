{
 "cells": [
  {
   "cell_type": "markdown",
   "metadata": {},
   "source": [
    "# Execution Statistics\n",
    "\n",
    "This table contains the latest execution statistics.\n",
    "\n",
    "|Document|Modified|Method|Run Time (s)|Status|\n",
    "|:------------------:|:------------------:|:------------------:|:------------------:|:------------------:|\n",
    "|about_py|2021-04-13 00:39|cache|4.02|✅|\n",
    "|debugging|2021-04-13 00:39|cache|2.32|✅|\n",
    "|functions|2021-04-13 00:39|cache|2.8|✅|\n",
    "|getting_started|2021-04-13 00:39|cache|2.83|✅|\n",
    "|intro|2021-04-13 00:39|cache|0.98|✅|\n",
    "|matplotlib|2021-04-13 00:39|cache|4.72|✅|\n",
    "|need_for_speed|2021-04-13 00:39|cache|45.39|✅|\n",
    "|numba|2021-04-13 00:39|cache|25.91|✅|\n",
    "|numpy|2021-04-13 00:39|cache|2.28|✅|\n",
    "|oop_intro|2021-04-13 00:39|cache|1.25|✅|\n",
    "|pandas|2021-04-13 00:39|cache|-|❌|\n",
    "|parallelization|2021-04-13 00:39|cache|56.37|✅|\n",
    "|python_advanced_features|2021-04-13 00:39|cache|50.97|✅|\n",
    "|python_by_example|2021-04-13 00:39|cache|5.02|✅|\n",
    "|python_essentials|2021-04-13 00:39|cache|3.02|✅|\n",
    "|python_oop|2021-04-13 00:39|cache|3.27|✅|\n",
    "|scipy|2021-04-13 00:39|cache|11.26|✅|\n",
    "|status|2021-04-13 00:39|cache|0.98|✅|\n",
    "|troubleshooting|2021-04-13 00:39|cache|0.98|✅|\n",
    "|writing_good_code|2021-04-13 00:39|cache|3.95|✅|\n",
    "These lectures are built on `linux` instances through `github actions` so are\n",
    "executed using the following [hardware specifications](https://docs.github.com/en/actions/reference/specifications-for-github-hosted-runners#supported-runners-and-hardware-resources)"
   ]
  }
 ],
 "metadata": {
  "date": 1618274393.6400058,
  "filename": "status.md",
  "kernelspec": {
   "display_name": "Python",
   "language": "python3",
   "name": "python3"
  },
  "title": "Execution Statistics"
 },
 "nbformat": 4,
 "nbformat_minor": 4
}