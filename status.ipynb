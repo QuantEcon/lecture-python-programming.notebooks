{
 "cells": [
  {
   "cell_type": "markdown",
   "id": "4d3da620",
   "metadata": {},
   "source": [
    "# Execution Statistics\n",
    "\n",
    "This table contains the latest execution statistics.\n",
    "\n",
    "[](https://python-programming.quantecon.org/about_py.html)[](https://python-programming.quantecon.org/debugging.html)[](https://python-programming.quantecon.org/functions.html)[](https://python-programming.quantecon.org/getting_started.html)[](https://python-programming.quantecon.org/intro.html)[](https://python-programming.quantecon.org/jax_intro.html)[](https://python-programming.quantecon.org/matplotlib.html)[](https://python-programming.quantecon.org/names.html)[](https://python-programming.quantecon.org/need_for_speed.html)[](https://python-programming.quantecon.org/numba.html)[](https://python-programming.quantecon.org/numpy.html)[](https://python-programming.quantecon.org/oop_intro.html)[](https://python-programming.quantecon.org/pandas.html)[](https://python-programming.quantecon.org/pandas_panel.html)[](https://python-programming.quantecon.org/parallelization.html)[](https://python-programming.quantecon.org/python_advanced_features.html)[](https://python-programming.quantecon.org/python_by_example.html)[](https://python-programming.quantecon.org/python_essentials.html)[](https://python-programming.quantecon.org/python_oop.html)[](https://python-programming.quantecon.org/scipy.html)[](https://python-programming.quantecon.org/.html)[](https://python-programming.quantecon.org/sympy.html)[](https://python-programming.quantecon.org/troubleshooting.html)[](https://python-programming.quantecon.org/workspace.html)[](https://python-programming.quantecon.org/writing_good_code.html)|Document|Modified|Method|Run Time (s)|Status|\n",
    "|:------------------:|:------------------:|:------------------:|:------------------:|:------------------:|\n",
    "|about_py|2025-08-01 01:11|cache|2.76|✅|\n",
    "|debugging|2025-08-01 01:11|cache|2.01|✅|\n",
    "|functions|2025-08-01 01:11|cache|1.88|✅|\n",
    "|getting_started|2025-08-01 01:11|cache|1.48|✅|\n",
    "|intro|2025-08-01 01:12|cache|0.79|✅|\n",
    "|jax_intro|2025-08-01 01:12|cache|39.93|✅|\n",
    "|matplotlib|2025-08-01 01:12|cache|4.08|✅|\n",
    "|names|2025-08-01 01:12|cache|1.08|✅|\n",
    "|need_for_speed|2025-08-01 01:12|cache|2.32|✅|\n",
    "|numba|2025-08-01 01:13|cache|12.15|✅|\n",
    "|numpy|2025-08-01 01:13|cache|11.05|✅|\n",
    "|oop_intro|2025-08-01 01:13|cache|2.58|✅|\n",
    "|pandas|2025-08-01 01:13|cache|24.06|✅|\n",
    "|pandas_panel|2025-08-01 01:13|cache|4.96|✅|\n",
    "|parallelization|2025-08-01 01:14|cache|36.71|✅|\n",
    "|python_advanced_features|2025-08-01 01:14|cache|19.71|✅|\n",
    "|python_by_example|2025-08-01 01:14|cache|7.24|✅|\n",
    "|python_essentials|2025-08-01 01:14|cache|1.57|✅|\n",
    "|python_oop|2025-08-01 01:14|cache|2.37|✅|\n",
    "|scipy|2025-08-01 01:15|cache|11.57|✅|\n",
    "|status|2025-08-01 01:15|cache|4.33|✅|\n",
    "|sympy|2025-08-01 01:15|cache|7.45|✅|\n",
    "|troubleshooting|2025-08-01 01:12|cache|0.79|✅|\n",
    "|workspace|2025-08-01 01:15|cache|1.34|✅|\n",
    "|writing_good_code|2025-08-01 01:15|cache|2.64|✅|\n",
    "\n",
    "<a id='status-machine-details'></a>\n",
    "These lectures are built on `linux` instances through `github actions`.\n",
    "\n",
    "These lectures are using the following python version"
   ]
  },
  {
   "cell_type": "code",
   "execution_count": null,
   "id": "938c907c",
   "metadata": {
    "hide-output": false
   },
   "outputs": [],
   "source": [
    "!python --version"
   ]
  },
  {
   "cell_type": "markdown",
   "id": "fd6f04bf",
   "metadata": {},
   "source": [
    "and the following package versions"
   ]
  },
  {
   "cell_type": "code",
   "execution_count": null,
   "id": "2175946f",
   "metadata": {
    "hide-output": false
   },
   "outputs": [],
   "source": [
    "!conda list"
   ]
  }
 ],
 "metadata": {
  "date": 1754012528.22503,
  "filename": "status.md",
  "kernelspec": {
   "display_name": "Python",
   "language": "python3",
   "name": "python3"
  },
  "title": "Execution Statistics"
 },
 "nbformat": 4,
 "nbformat_minor": 5
}