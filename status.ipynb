{
 "cells": [
  {
   "cell_type": "markdown",
   "id": "32eb7f50",
   "metadata": {},
   "source": [
    "# Execution Statistics\n",
    "\n",
    "This table contains the latest execution statistics.\n",
    "\n",
    "|Document|Modified|Method|Run Time (s)|Status|\n",
    "|:------------------:|:------------------:|:------------------:|:------------------:|:------------------:|\n",
    "|about_py|2022-11-02 03:53|cache|4.46|✅|\n",
    "|debugging|2022-11-02 03:53|cache|3.63|✅|\n",
    "|functions|2022-11-02 03:53|cache|4.02|✅|\n",
    "|getting_started|2022-11-02 03:53|cache|3.53|✅|\n",
    "|intro|2022-11-02 03:53|cache|1.31|✅|\n",
    "|matplotlib|2022-11-02 03:53|cache|7.47|✅|\n",
    "|need_for_speed|2022-11-02 03:53|cache|11.6|✅|\n",
    "|numba|2022-11-02 03:53|cache|19.71|✅|\n",
    "|numpy|2022-11-02 03:53|cache|13.02|✅|\n",
    "|oop_intro|2022-11-02 03:53|cache|2.61|✅|\n",
    "|pandas|2022-11-02 03:53|cache|20.54|✅|\n",
    "|parallelization|2022-11-02 03:53|cache|55.03|✅|\n",
    "|python_advanced_features|2022-11-02 03:53|cache|44.58|✅|\n",
    "|python_by_example|2022-11-02 03:53|cache|10.56|✅|\n",
    "|python_essentials|2022-11-02 03:53|cache|2.67|✅|\n",
    "|python_oop|2022-11-02 03:53|cache|5.02|✅|\n",
    "|scipy|2022-11-02 03:53|cache|26.02|✅|\n",
    "|status|2022-11-02 03:53|cache|1.31|✅|\n",
    "|troubleshooting|2022-11-02 03:53|cache|1.31|✅|\n",
    "|writing_good_code|2022-11-02 03:53|cache|4.47|✅|\n",
    "These lectures are built on `linux` instances through `github actions` so are\n",
    "executed using the following [hardware specifications](https://docs.github.com/en/actions/reference/specifications-for-github-hosted-runners#supported-runners-and-hardware-resources)"
   ]
  }
 ],
 "metadata": {
  "date": 1667361213.6128051,
  "filename": "status.md",
  "kernelspec": {
   "display_name": "Python",
   "language": "python3",
   "name": "python3"
  },
  "title": "Execution Statistics"
 },
 "nbformat": 4,
 "nbformat_minor": 5
}