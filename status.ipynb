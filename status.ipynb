{
 "cells": [
  {
   "cell_type": "markdown",
   "id": "77b8b1bc",
   "metadata": {},
   "source": [
    "# Execution Statistics\n",
    "\n",
    "This table contains the latest execution statistics.\n",
    "\n",
    "|Document|Modified|Method|Run Time (s)|Status|\n",
    "|:------------------:|:------------------:|:------------------:|:------------------:|:------------------:|\n",
    "|about_py|2022-02-23 03:42|cache|2.96|✅|\n",
    "|debugging|2022-02-23 03:42|cache|1.82|✅|\n",
    "|functions|2022-02-23 03:42|cache|1.96|✅|\n",
    "|getting_started|2022-02-23 03:42|cache|2.25|✅|\n",
    "|intro|2022-02-23 03:42|cache|1.22|✅|\n",
    "|matplotlib|2022-02-23 03:42|cache|3.55|✅|\n",
    "|need_for_speed|2022-02-23 03:42|cache|16.54|✅|\n",
    "|numba|2022-02-23 03:42|cache|18.58|✅|\n",
    "|numpy|2022-02-23 03:42|cache|3.02|✅|\n",
    "|oop_intro|2022-02-23 03:42|cache|1.29|✅|\n",
    "|pandas|2022-02-23 03:42|cache|17.02|✅|\n",
    "|parallelization|2022-02-23 03:42|cache|43.03|✅|\n",
    "|python_advanced_features|2022-02-23 03:42|cache|33.01|✅|\n",
    "|python_by_example|2022-02-23 03:42|cache|3.87|✅|\n",
    "|python_essentials|2022-02-23 03:42|cache|1.87|✅|\n",
    "|python_oop|2022-02-23 03:42|cache|2.58|✅|\n",
    "|scipy|2022-02-23 03:42|cache|19.54|✅|\n",
    "|status|2022-02-23 03:42|cache|1.22|✅|\n",
    "|troubleshooting|2022-02-23 03:42|cache|1.22|✅|\n",
    "|writing_good_code|2022-02-23 03:42|cache|4.02|✅|\n",
    "These lectures are built on `linux` instances through `github actions` so are\n",
    "executed using the following [hardware specifications](https://docs.github.com/en/actions/reference/specifications-for-github-hosted-runners#supported-runners-and-hardware-resources)"
   ]
  }
 ],
 "metadata": {
  "date": 1645587746.2552662,
  "filename": "status.md",
  "kernelspec": {
   "display_name": "Python",
   "language": "python3",
   "name": "python3"
  },
  "title": "Execution Statistics"
 },
 "nbformat": 4,
 "nbformat_minor": 5
}