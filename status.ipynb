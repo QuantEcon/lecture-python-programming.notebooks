{
 "cells": [
  {
   "cell_type": "markdown",
   "metadata": {},
   "source": [
    "# Execution Statistics\n",
    "\n",
    "This table contains the latest execution statistics.\n",
    "\n",
    "|Document|Modified|Method|Run Time (s)|Status|\n",
    "|:------------------:|:------------------:|:------------------:|:------------------:|:------------------:|\n",
    "|about_py|2021-07-09 03:51|cache|3.36|✅|\n",
    "|debugging|2021-07-09 03:51|cache|5.47|✅|\n",
    "|functions|2021-07-09 03:51|cache|3.02|✅|\n",
    "|getting_started|2021-07-09 03:51|cache|2.74|✅|\n",
    "|intro|2021-07-09 03:51|cache|0.91|✅|\n",
    "|matplotlib|2021-07-09 03:51|cache|4.69|✅|\n",
    "|need_for_speed|2021-07-09 03:51|cache|41.99|✅|\n",
    "|numba|2021-07-09 03:51|cache|23.6|✅|\n",
    "|numpy|2021-07-09 03:51|cache|3.02|✅|\n",
    "|oop_intro|2021-07-09 03:51|cache|1.3|✅|\n",
    "|pandas|2021-07-09 03:51|cache|16.48|✅|\n",
    "|parallelization|2021-07-09 03:51|cache|53.35|✅|\n",
    "|python_advanced_features|2021-07-09 03:51|cache|44.38|✅|\n",
    "|python_by_example|2021-07-09 03:51|cache|3.78|✅|\n",
    "|python_essentials|2021-07-09 03:51|cache|1.82|✅|\n",
    "|python_oop|2021-07-09 03:51|cache|3.38|✅|\n",
    "|scipy|2021-07-09 03:51|cache|27.02|✅|\n",
    "|status|2021-07-09 03:51|cache|0.91|✅|\n",
    "|troubleshooting|2021-07-09 03:51|cache|0.91|✅|\n",
    "|writing_good_code|2021-07-09 03:51|cache|3.88|✅|\n",
    "These lectures are built on `linux` instances through `github actions` so are\n",
    "executed using the following [hardware specifications](https://docs.github.com/en/actions/reference/specifications-for-github-hosted-runners#supported-runners-and-hardware-resources)"
   ]
  }
 ],
 "metadata": {
  "date": 1625802690.222694,
  "filename": "status.md",
  "kernelspec": {
   "display_name": "Python",
   "language": "python3",
   "name": "python3"
  },
  "title": "Execution Statistics"
 },
 "nbformat": 4,
 "nbformat_minor": 4
}