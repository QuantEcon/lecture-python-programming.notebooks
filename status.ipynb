{
 "cells": [
  {
   "cell_type": "markdown",
   "metadata": {},
   "source": [
    "# Execution Statistics\n",
    "\n",
    "This table contains the latest execution statistics.\n",
    "\n",
    "|Document|Modified|Method|Run Time (s)|Status|\n",
    "|:------------------:|:------------------:|:------------------:|:------------------:|:------------------:|\n",
    "|about_py|2021-04-13 10:46|cache|3.44|✅|\n",
    "|debugging|2021-04-13 10:46|cache|2.25|✅|\n",
    "|functions|2021-04-13 10:46|cache|1.96|✅|\n",
    "|getting_started|2021-04-13 10:46|cache|2.44|✅|\n",
    "|intro|2021-04-13 10:46|cache|0.98|✅|\n",
    "|matplotlib|2021-04-13 10:46|cache|4.02|✅|\n",
    "|need_for_speed|2021-04-13 10:46|cache|15.61|✅|\n",
    "|numba|2021-04-13 10:46|cache|25.49|✅|\n",
    "|numpy|2021-04-13 10:46|cache|3.02|✅|\n",
    "|oop_intro|2021-04-13 10:46|cache|1.19|✅|\n",
    "|pandas|2021-04-13 10:46|cache|16.59|✅|\n",
    "|parallelization|2021-04-13 10:46|cache|64.03|✅|\n",
    "|python_advanced_features|2021-04-13 10:46|cache|46.8|✅|\n",
    "|python_by_example|2021-04-13 10:46|cache|3.95|✅|\n",
    "|python_essentials|2021-04-13 10:46|cache|2.01|✅|\n",
    "|python_oop|2021-04-13 10:46|cache|4.02|✅|\n",
    "|scipy|2021-04-13 10:46|cache|11.35|✅|\n",
    "|status|2021-04-13 10:46|cache|0.98|✅|\n",
    "|troubleshooting|2021-04-13 10:46|cache|0.98|✅|\n",
    "|writing_good_code|2021-04-13 10:46|cache|3.6|✅|\n",
    "These lectures are built on `linux` instances through `github actions` so are\n",
    "executed using the following [hardware specifications](https://docs.github.com/en/actions/reference/specifications-for-github-hosted-runners#supported-runners-and-hardware-resources)"
   ]
  }
 ],
 "metadata": {
  "date": 1618310800.9029276,
  "filename": "status.md",
  "kernelspec": {
   "display_name": "Python",
   "language": "python3",
   "name": "python3"
  },
  "title": "Execution Statistics"
 },
 "nbformat": 4,
 "nbformat_minor": 4
}