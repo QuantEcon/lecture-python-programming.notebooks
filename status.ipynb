{
 "cells": [
  {
   "cell_type": "markdown",
   "id": "a2698c33",
   "metadata": {},
   "source": [
    "# Execution Statistics\n",
    "\n",
    "This table contains the latest execution statistics.\n",
    "\n",
    "[](https://python-programming.quantecon.org/about_py.html)[](https://python-programming.quantecon.org/debugging.html)[](https://python-programming.quantecon.org/functions.html)[](https://python-programming.quantecon.org/getting_started.html)[](https://python-programming.quantecon.org/intro.html)[](https://python-programming.quantecon.org/jax_intro.html)[](https://python-programming.quantecon.org/matplotlib.html)[](https://python-programming.quantecon.org/names.html)[](https://python-programming.quantecon.org/need_for_speed.html)[](https://python-programming.quantecon.org/numba.html)[](https://python-programming.quantecon.org/numpy.html)[](https://python-programming.quantecon.org/oop_intro.html)[](https://python-programming.quantecon.org/pandas.html)[](https://python-programming.quantecon.org/pandas_panel.html)[](https://python-programming.quantecon.org/parallelization.html)[](https://python-programming.quantecon.org/python_advanced_features.html)[](https://python-programming.quantecon.org/python_by_example.html)[](https://python-programming.quantecon.org/python_essentials.html)[](https://python-programming.quantecon.org/python_oop.html)[](https://python-programming.quantecon.org/scipy.html)[](https://python-programming.quantecon.org/.html)[](https://python-programming.quantecon.org/sympy.html)[](https://python-programming.quantecon.org/troubleshooting.html)[](https://python-programming.quantecon.org/workspace.html)[](https://python-programming.quantecon.org/writing_good_code.html)|Document|Modified|Method|Run Time (s)|Status|\n",
    "|:------------------:|:------------------:|:------------------:|:------------------:|:------------------:|\n",
    "|about_py|2024-10-17 09:49|cache|4.43|✅|\n",
    "|debugging|2024-10-17 09:49|cache|2.26|✅|\n",
    "|functions|2024-10-17 09:49|cache|1.95|✅|\n",
    "|getting_started|2024-10-17 09:49|cache|1.63|✅|\n",
    "|intro|2024-10-17 09:50|cache|4.02|✅|\n",
    "|jax_intro|2024-10-17 09:50|cache|0.99|✅|\n",
    "|matplotlib|2024-10-17 09:50|cache|4.41|✅|\n",
    "|names|2024-10-17 09:50|cache|1.2|✅|\n",
    "|need_for_speed|2024-10-17 09:50|cache|9.65|✅|\n",
    "|numba|2024-10-17 09:50|cache|12.22|✅|\n",
    "|numpy|2024-10-17 09:50|cache|7.64|✅|\n",
    "|oop_intro|2024-10-17 09:50|cache|4.04|✅|\n",
    "|pandas|2024-10-17 09:51|cache|25.2|✅|\n",
    "|pandas_panel|2024-10-17 09:51|cache|7.19|✅|\n",
    "|parallelization|2024-10-17 09:51|cache|40.04|✅|\n",
    "|python_advanced_features|2024-10-17 09:52|cache|19.99|✅|\n",
    "|python_by_example|2024-10-17 09:52|cache|6.8|✅|\n",
    "|python_essentials|2024-10-17 09:52|cache|1.64|✅|\n",
    "|python_oop|2024-10-17 09:52|cache|2.38|✅|\n",
    "|scipy|2024-10-17 09:52|cache|11.31|✅|\n",
    "|status|2024-10-17 09:52|cache|4.25|✅|\n",
    "|sympy|2024-10-17 09:52|cache|7.13|✅|\n",
    "|troubleshooting|2024-10-17 09:50|cache|4.02|✅|\n",
    "|workspace|2024-10-17 09:50|cache|4.02|✅|\n",
    "|writing_good_code|2024-10-17 09:52|cache|3.05|✅|\n",
    "\n",
    "<a id='status-machine-details'></a>\n",
    "These lectures are built on `linux` instances through `github actions`.\n",
    "\n",
    "These lectures are using the following python version"
   ]
  },
  {
   "cell_type": "code",
   "execution_count": null,
   "id": "8254da2f",
   "metadata": {
    "hide-output": false
   },
   "outputs": [],
   "source": [
    "!python --version"
   ]
  },
  {
   "cell_type": "markdown",
   "id": "a5392ff4",
   "metadata": {},
   "source": [
    "and the following package versions"
   ]
  },
  {
   "cell_type": "code",
   "execution_count": null,
   "id": "99b84628",
   "metadata": {
    "hide-output": false
   },
   "outputs": [],
   "source": [
    "!conda list"
   ]
  }
 ],
 "metadata": {
  "date": 1729158862.5593755,
  "filename": "status.md",
  "kernelspec": {
   "display_name": "Python",
   "language": "python3",
   "name": "python3"
  },
  "title": "Execution Statistics"
 },
 "nbformat": 4,
 "nbformat_minor": 5
}