{
 "cells": [
  {
   "cell_type": "markdown",
   "metadata": {},
   "source": [
    "# Execution Statistics\n",
    "\n",
    "This table contains the latest execution statistics.\n",
    "\n",
    "|Document|Modified|Method|Run Time (s)|Status|\n",
    "|:------------------:|:------------------:|:------------------:|:------------------:|:------------------:|\n",
    "|about_py|2021-05-11 01:07|cache|3.38|✅|\n",
    "|debugging|2021-05-11 01:07|cache|2.19|✅|\n",
    "|functions|2021-05-11 01:07|cache|1.97|✅|\n",
    "|getting_started|2021-05-11 01:07|cache|2.5|✅|\n",
    "|intro|2021-05-11 01:07|cache|1.02|✅|\n",
    "|matplotlib|2021-05-11 01:07|cache|5.02|✅|\n",
    "|need_for_speed|2021-05-11 01:07|cache|35.34|✅|\n",
    "|numba|2021-05-11 01:07|cache|23.99|✅|\n",
    "|numpy|2021-05-11 01:07|cache|3.02|✅|\n",
    "|oop_intro|2021-05-11 01:07|cache|1.24|✅|\n",
    "|pandas|2021-05-11 01:07|cache|20.35|✅|\n",
    "|parallelization|2021-05-11 01:07|cache|50.03|✅|\n",
    "|python_advanced_features|2021-05-11 01:07|cache|47.61|✅|\n",
    "|python_by_example|2021-05-11 01:07|cache|3.87|✅|\n",
    "|python_essentials|2021-05-11 01:07|cache|2.0|✅|\n",
    "|python_oop|2021-05-11 01:07|cache|4.02|✅|\n",
    "|scipy|2021-05-11 01:07|cache|11.87|✅|\n",
    "|status|2021-05-11 01:07|cache|1.02|✅|\n",
    "|troubleshooting|2021-05-11 01:07|cache|1.02|✅|\n",
    "|writing_good_code|2021-05-11 01:07|cache|3.73|✅|\n",
    "These lectures are built on `linux` instances through `github actions` so are\n",
    "executed using the following [hardware specifications](https://docs.github.com/en/actions/reference/specifications-for-github-hosted-runners#supported-runners-and-hardware-resources)"
   ]
  }
 ],
 "metadata": {
  "date": 1620695236.8601468,
  "filename": "status.md",
  "kernelspec": {
   "display_name": "Python",
   "language": "python3",
   "name": "python3"
  },
  "title": "Execution Statistics"
 },
 "nbformat": 4,
 "nbformat_minor": 4
}