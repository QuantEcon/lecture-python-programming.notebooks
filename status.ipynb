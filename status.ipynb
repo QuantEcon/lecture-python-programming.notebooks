{
 "cells": [
  {
   "cell_type": "markdown",
   "id": "e573ae2c",
   "metadata": {},
   "source": [
    "# Execution Statistics\n",
    "\n",
    "This table contains the latest execution statistics.\n",
    "\n",
    "[](https://python-programming.quantecon.org/about_py.html)[](https://python-programming.quantecon.org/debugging.html)[](https://python-programming.quantecon.org/functions.html)[](https://python-programming.quantecon.org/getting_started.html)[](https://python-programming.quantecon.org/intro.html)[](https://python-programming.quantecon.org/jax_intro.html)[](https://python-programming.quantecon.org/matplotlib.html)[](https://python-programming.quantecon.org/names.html)[](https://python-programming.quantecon.org/need_for_speed.html)[](https://python-programming.quantecon.org/numba.html)[](https://python-programming.quantecon.org/numpy.html)[](https://python-programming.quantecon.org/oop_intro.html)[](https://python-programming.quantecon.org/pandas.html)[](https://python-programming.quantecon.org/pandas_panel.html)[](https://python-programming.quantecon.org/parallelization.html)[](https://python-programming.quantecon.org/python_advanced_features.html)[](https://python-programming.quantecon.org/python_by_example.html)[](https://python-programming.quantecon.org/python_essentials.html)[](https://python-programming.quantecon.org/python_oop.html)[](https://python-programming.quantecon.org/scipy.html)[](https://python-programming.quantecon.org/.html)[](https://python-programming.quantecon.org/sympy.html)[](https://python-programming.quantecon.org/troubleshooting.html)[](https://python-programming.quantecon.org/workspace.html)[](https://python-programming.quantecon.org/writing_good_code.html)|Document|Modified|Method|Run Time (s)|Status|\n",
    "|:------------------:|:------------------:|:------------------:|:------------------:|:------------------:|\n",
    "|about_py|2024-05-02 06:10|cache|1.81|✅|\n",
    "|debugging|2024-05-02 06:10|cache|2.35|✅|\n",
    "|functions|2024-05-02 06:10|cache|1.93|✅|\n",
    "|getting_started|2024-05-02 06:10|cache|1.43|✅|\n",
    "|intro|2024-05-02 06:10|cache|0.94|✅|\n",
    "|jax_intro|2024-05-02 06:10|cache|0.87|✅|\n",
    "|matplotlib|2024-05-02 06:10|cache|4.24|✅|\n",
    "|names|2024-05-02 06:10|cache|0.98|✅|\n",
    "|need_for_speed|2024-05-02 06:10|cache|9.25|✅|\n",
    "|numba|2024-05-02 06:11|cache|12.08|✅|\n",
    "|numpy|2024-05-02 06:11|cache|7.8|✅|\n",
    "|oop_intro|2024-05-02 06:11|cache|4.1|✅|\n",
    "|pandas|2024-05-02 06:11|cache|26.58|✅|\n",
    "|pandas_panel|2024-05-02 06:11|cache|7.19|✅|\n",
    "|parallelization|2024-05-02 06:12|cache|39.99|✅|\n",
    "|python_advanced_features|2024-05-02 06:12|cache|18.85|✅|\n",
    "|python_by_example|2024-05-02 06:12|cache|6.34|✅|\n",
    "|python_essentials|2024-05-02 06:13|cache|1.75|✅|\n",
    "|python_oop|2024-05-02 06:13|cache|2.03|✅|\n",
    "|scipy|2024-05-02 06:13|cache|10.41|✅|\n",
    "|status|2024-05-02 06:13|cache|4.87|✅|\n",
    "|sympy|2024-05-02 06:13|cache|7.32|✅|\n",
    "|troubleshooting|2024-05-02 06:10|cache|0.94|✅|\n",
    "|workspace|2024-05-02 06:10|cache|0.94|✅|\n",
    "|writing_good_code|2024-05-02 06:13|cache|2.93|✅|\n",
    "\n",
    "<a id='status-machine-details'></a>\n",
    "These lectures are built on `linux` instances through `github actions`.\n",
    "\n",
    "These lectures are using the following python version"
   ]
  },
  {
   "cell_type": "code",
   "execution_count": null,
   "id": "7248b80b",
   "metadata": {
    "hide-output": false
   },
   "outputs": [],
   "source": [
    "!python --version"
   ]
  },
  {
   "cell_type": "markdown",
   "id": "8dda8326",
   "metadata": {},
   "source": [
    "and the following package versions"
   ]
  },
  {
   "cell_type": "code",
   "execution_count": null,
   "id": "c1c89704",
   "metadata": {
    "hide-output": false
   },
   "outputs": [],
   "source": [
    "!conda list"
   ]
  }
 ],
 "metadata": {
  "date": 1714691699.2629786,
  "filename": "status.md",
  "kernelspec": {
   "display_name": "Python",
   "language": "python3",
   "name": "python3"
  },
  "title": "Execution Statistics"
 },
 "nbformat": 4,
 "nbformat_minor": 5
}