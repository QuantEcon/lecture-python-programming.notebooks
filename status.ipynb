{
 "cells": [
  {
   "cell_type": "markdown",
   "id": "b78503d9",
   "metadata": {},
   "source": [
    "# Execution Statistics\n",
    "\n",
    "This table contains the latest execution statistics.\n",
    "\n",
    "|Document|Modified|Method|Run Time (s)|Status|\n",
    "|:------------------:|:------------------:|:------------------:|:------------------:|:------------------:|\n",
    "|about_py|2022-06-16 10:00|cache|3.52|✅|\n",
    "|debugging|2022-06-16 10:00|cache|4.02|✅|\n",
    "|functions|2022-06-16 10:00|cache|2.69|✅|\n",
    "|getting_started|2022-06-16 10:00|cache|2.84|✅|\n",
    "|intro|2022-06-16 10:00|cache|2.02|✅|\n",
    "|matplotlib|2022-06-16 10:00|cache|4.35|✅|\n",
    "|need_for_speed|2022-06-16 10:00|cache|24.02|✅|\n",
    "|numba|2022-06-16 10:00|cache|24.02|✅|\n",
    "|numpy|2022-06-16 10:00|cache|2.62|✅|\n",
    "|oop_intro|2022-06-16 10:00|cache|1.96|✅|\n",
    "|pandas|2022-06-16 10:00|cache|20.02|✅|\n",
    "|parallelization|2022-06-16 10:00|cache|49.03|✅|\n",
    "|python_advanced_features|2022-06-16 10:00|cache|36.47|✅|\n",
    "|python_by_example|2022-06-16 10:00|cache|5.02|✅|\n",
    "|python_essentials|2022-06-16 10:00|cache|2.5|✅|\n",
    "|python_oop|2022-06-16 10:00|cache|3.44|✅|\n",
    "|scipy|2022-06-16 10:00|cache|20.87|✅|\n",
    "|status|2022-06-16 10:00|cache|2.02|✅|\n",
    "|troubleshooting|2022-06-16 10:00|cache|2.02|✅|\n",
    "|writing_good_code|2022-06-16 10:00|cache|6.12|✅|\n",
    "These lectures are built on `linux` instances through `github actions` so are\n",
    "executed using the following [hardware specifications](https://docs.github.com/en/actions/reference/specifications-for-github-hosted-runners#supported-runners-and-hardware-resources)"
   ]
  }
 ],
 "metadata": {
  "date": 1655373652.262478,
  "filename": "status.md",
  "kernelspec": {
   "display_name": "Python",
   "language": "python3",
   "name": "python3"
  },
  "title": "Execution Statistics"
 },
 "nbformat": 4,
 "nbformat_minor": 5
}