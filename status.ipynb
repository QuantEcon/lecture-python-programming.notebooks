{
 "cells": [
  {
   "cell_type": "markdown",
   "id": "ca529d2b",
   "metadata": {},
   "source": [
    "# Execution Statistics\n",
    "\n",
    "This table contains the latest execution statistics.\n",
    "\n",
    "|Document|Modified|Method|Run Time (s)|Status|\n",
    "|:------------------:|:------------------:|:------------------:|:------------------:|:------------------:|\n",
    "|about_py|2022-03-18 02:26|cache|4.11|✅|\n",
    "|debugging|2022-03-18 02:26|cache|1.92|✅|\n",
    "|functions|2022-03-18 02:26|cache|3.02|✅|\n",
    "|getting_started|2022-03-18 02:26|cache|2.24|✅|\n",
    "|intro|2022-03-18 02:26|cache|1.2|✅|\n",
    "|matplotlib|2022-03-18 02:26|cache|3.65|✅|\n",
    "|need_for_speed|2022-03-18 02:26|cache|13.91|✅|\n",
    "|numba|2022-03-18 02:26|cache|23.02|✅|\n",
    "|numpy|2022-03-18 02:26|cache|3.02|✅|\n",
    "|oop_intro|2022-03-18 02:26|cache|1.22|✅|\n",
    "|pandas|2022-03-18 02:26|cache|19.02|✅|\n",
    "|parallelization|2022-03-18 02:26|cache|42.59|✅|\n",
    "|python_advanced_features|2022-03-18 02:26|cache|33.67|✅|\n",
    "|python_by_example|2022-03-18 02:26|cache|3.58|✅|\n",
    "|python_essentials|2022-03-18 02:27|cache|1.9|✅|\n",
    "|python_oop|2022-03-18 02:27|cache|2.98|✅|\n",
    "|scipy|2022-03-18 02:27|cache|20.77|✅|\n",
    "|status|2022-03-18 02:27|cache|1.2|✅|\n",
    "|troubleshooting|2022-03-18 02:27|cache|1.2|✅|\n",
    "|writing_good_code|2022-03-18 02:27|cache|4.02|✅|\n",
    "These lectures are built on `linux` instances through `github actions` so are\n",
    "executed using the following [hardware specifications](https://docs.github.com/en/actions/reference/specifications-for-github-hosted-runners#supported-runners-and-hardware-resources)"
   ]
  }
 ],
 "metadata": {
  "date": 1647570424.9521952,
  "filename": "status.md",
  "kernelspec": {
   "display_name": "Python",
   "language": "python3",
   "name": "python3"
  },
  "title": "Execution Statistics"
 },
 "nbformat": 4,
 "nbformat_minor": 5
}