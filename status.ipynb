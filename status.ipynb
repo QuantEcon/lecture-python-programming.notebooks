{
 "cells": [
  {
   "cell_type": "markdown",
   "id": "3c5f40dd",
   "metadata": {},
   "source": [
    "# Execution Statistics\n",
    "\n",
    "This table contains the latest execution statistics.\n",
    "\n",
    "[](https://python-programming.quantecon.org/about_py.html)[](https://python-programming.quantecon.org/debugging.html)[](https://python-programming.quantecon.org/functions.html)[](https://python-programming.quantecon.org/getting_started.html)[](https://python-programming.quantecon.org/intro.html)[](https://python-programming.quantecon.org/jax_intro.html)[](https://python-programming.quantecon.org/matplotlib.html)[](https://python-programming.quantecon.org/names.html)[](https://python-programming.quantecon.org/need_for_speed.html)[](https://python-programming.quantecon.org/numba.html)[](https://python-programming.quantecon.org/numpy.html)[](https://python-programming.quantecon.org/oop_intro.html)[](https://python-programming.quantecon.org/pandas.html)[](https://python-programming.quantecon.org/pandas_panel.html)[](https://python-programming.quantecon.org/parallelization.html)[](https://python-programming.quantecon.org/python_advanced_features.html)[](https://python-programming.quantecon.org/python_by_example.html)[](https://python-programming.quantecon.org/python_essentials.html)[](https://python-programming.quantecon.org/python_oop.html)[](https://python-programming.quantecon.org/scipy.html)[](https://python-programming.quantecon.org/.html)[](https://python-programming.quantecon.org/sympy.html)[](https://python-programming.quantecon.org/troubleshooting.html)[](https://python-programming.quantecon.org/workspace.html)[](https://python-programming.quantecon.org/writing_good_code.html)|Document|Modified|Method|Run Time (s)|Status|\n",
    "|:------------------:|:------------------:|:------------------:|:------------------:|:------------------:|\n",
    "|about_py|2024-07-30 03:10|cache|3.3|✅|\n",
    "|debugging|2024-07-30 03:10|cache|2.17|✅|\n",
    "|functions|2024-07-30 03:10|cache|1.89|✅|\n",
    "|getting_started|2024-07-30 03:10|cache|1.39|✅|\n",
    "|intro|2024-07-30 03:10|cache|0.96|✅|\n",
    "|jax_intro|2024-07-30 03:10|cache|0.96|✅|\n",
    "|matplotlib|2024-07-30 03:10|cache|4.07|✅|\n",
    "|names|2024-07-30 03:10|cache|0.97|✅|\n",
    "|need_for_speed|2024-07-30 03:11|cache|9.21|✅|\n",
    "|numba|2024-07-30 03:11|cache|11.97|✅|\n",
    "|numpy|2024-07-30 03:11|cache|7.75|✅|\n",
    "|oop_intro|2024-07-30 03:11|cache|4.14|✅|\n",
    "|pandas|2024-07-30 03:11|cache|21.07|✅|\n",
    "|pandas_panel|2024-07-30 03:11|cache|6.95|✅|\n",
    "|parallelization|2024-07-30 03:12|cache|39.66|✅|\n",
    "|python_advanced_features|2024-07-30 03:12|cache|18.34|✅|\n",
    "|python_by_example|2024-07-30 03:13|cache|6.29|✅|\n",
    "|python_essentials|2024-07-30 03:13|cache|1.78|✅|\n",
    "|python_oop|2024-07-30 03:13|cache|2.01|✅|\n",
    "|scipy|2024-07-30 03:13|cache|24.98|✅|\n",
    "|status|2024-07-30 03:13|cache|3.89|✅|\n",
    "|sympy|2024-07-30 03:13|cache|6.85|✅|\n",
    "|troubleshooting|2024-07-30 03:10|cache|0.96|✅|\n",
    "|workspace|2024-07-30 03:10|cache|0.96|✅|\n",
    "|writing_good_code|2024-07-30 03:13|cache|2.54|✅|\n",
    "\n",
    "<a id='status-machine-details'></a>\n",
    "These lectures are built on `linux` instances through `github actions`.\n",
    "\n",
    "These lectures are using the following python version"
   ]
  },
  {
   "cell_type": "code",
   "execution_count": null,
   "id": "b0067df4",
   "metadata": {
    "hide-output": false
   },
   "outputs": [],
   "source": [
    "!python --version"
   ]
  },
  {
   "cell_type": "markdown",
   "id": "c26c29e7",
   "metadata": {},
   "source": [
    "and the following package versions"
   ]
  },
  {
   "cell_type": "code",
   "execution_count": null,
   "id": "59c7a189",
   "metadata": {
    "hide-output": false
   },
   "outputs": [],
   "source": [
    "!conda list"
   ]
  }
 ],
 "metadata": {
  "date": 1722309856.9771326,
  "filename": "status.md",
  "kernelspec": {
   "display_name": "Python",
   "language": "python3",
   "name": "python3"
  },
  "title": "Execution Statistics"
 },
 "nbformat": 4,
 "nbformat_minor": 5
}