{
 "cells": [
  {
   "cell_type": "markdown",
   "metadata": {},
   "source": [
    "# Execution Statistics\n",
    "\n",
    "This table contains the latest execution statistics.\n",
    "\n",
    "|Document|Modified|Method|Run Time (s)|Status|\n",
    "|:------------------:|:------------------:|:------------------:|:------------------:|:------------------:|\n",
    "|about_py|2021-03-10 03:23|cache|2.79|✅|\n",
    "|debugging|2021-03-10 03:23|cache|1.83|✅|\n",
    "|functions|2021-03-10 03:23|cache|1.86|✅|\n",
    "|getting_started|2021-03-10 03:23|cache|1.46|✅|\n",
    "|intro|2021-03-10 03:23|cache|0.88|✅|\n",
    "|matplotlib|2021-03-10 03:23|cache|3.48|✅|\n",
    "|need_for_speed|2021-03-10 03:23|cache|34.37|✅|\n",
    "|numba|2021-03-10 03:23|cache|21.95|✅|\n",
    "|numpy|2021-03-10 03:23|cache|1.91|✅|\n",
    "|oop_intro|2021-03-10 03:23|cache|2.02|✅|\n",
    "|pandas|2021-03-10 03:23|cache|18.62|✅|\n",
    "|parallelization|2021-03-10 03:23|cache|46.04|✅|\n",
    "|python_advanced_features|2021-03-10 03:23|cache|43.03|✅|\n",
    "|python_by_example|2021-03-10 03:23|cache|3.65|✅|\n",
    "|python_essentials|2021-03-10 03:23|cache|1.51|✅|\n",
    "|python_oop|2021-03-10 03:23|cache|2.71|✅|\n",
    "|scipy|2021-03-10 03:23|cache|25.03|✅|\n",
    "|status|2021-03-10 03:23|cache|0.88|✅|\n",
    "|troubleshooting|2021-03-10 03:23|cache|0.88|✅|\n",
    "|writing_good_code|2021-03-10 03:23|cache|4.02|✅|\n",
    "These lectures are built on `linux` instances through `github actions` so are\n",
    "executed using the following [hardware specifications](https://docs.github.com/en/actions/reference/specifications-for-github-hosted-runners#supported-runners-and-hardware-resources)"
   ]
  }
 ],
 "metadata": {
  "date": 1615346625.023803,
  "filename": "status.md",
  "kernelspec": {
   "display_name": "Python",
   "language": "python3",
   "name": "python3"
  },
  "title": "Execution Statistics"
 },
 "nbformat": 4,
 "nbformat_minor": 4
}