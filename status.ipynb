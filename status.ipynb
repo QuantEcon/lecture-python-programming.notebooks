{
 "cells": [
  {
   "cell_type": "markdown",
   "id": "6a94f798",
   "metadata": {},
   "source": [
    "# Execution Statistics\n",
    "\n",
    "This table contains the latest execution statistics.\n",
    "\n",
    "|Document|Modified|Method|Run Time (s)|Status|\n",
    "|:------------------:|:------------------:|:------------------:|:------------------:|:------------------:|\n",
    "|about_py|2022-09-05 01:00|cache|3.53|✅|\n",
    "|debugging|2022-09-05 01:00|cache|2.85|✅|\n",
    "|functions|2022-09-05 01:00|cache|2.64|✅|\n",
    "|getting_started|2022-09-05 01:00|cache|2.79|✅|\n",
    "|intro|2022-09-05 01:00|cache|2.02|✅|\n",
    "|matplotlib|2022-09-05 01:00|cache|6.02|✅|\n",
    "|need_for_speed|2022-09-05 01:00|cache|9.27|✅|\n",
    "|numba|2022-09-05 01:00|cache|17.09|✅|\n",
    "|numpy|2022-09-05 01:00|cache|2.62|✅|\n",
    "|oop_intro|2022-09-05 01:00|cache|1.86|✅|\n",
    "|pandas|2022-09-05 01:00|cache|18.89|✅|\n",
    "|parallelization|2022-09-05 01:00|cache|53.03|✅|\n",
    "|python_advanced_features|2022-09-05 01:00|cache|38.48|✅|\n",
    "|python_by_example|2022-09-05 01:00|cache|9.48|✅|\n",
    "|python_essentials|2022-09-05 01:00|cache|3.02|✅|\n",
    "|python_oop|2022-09-05 01:00|cache|3.22|✅|\n",
    "|scipy|2022-09-05 01:00|cache|22.49|✅|\n",
    "|status|2022-09-05 01:00|cache|2.02|✅|\n",
    "|troubleshooting|2022-09-05 01:00|cache|2.02|✅|\n",
    "|writing_good_code|2022-09-05 01:00|cache|3.63|✅|\n",
    "These lectures are built on `linux` instances through `github actions` so are\n",
    "executed using the following [hardware specifications](https://docs.github.com/en/actions/reference/specifications-for-github-hosted-runners#supported-runners-and-hardware-resources)"
   ]
  }
 ],
 "metadata": {
  "date": 1662339644.3914473,
  "filename": "status.md",
  "kernelspec": {
   "display_name": "Python",
   "language": "python3",
   "name": "python3"
  },
  "title": "Execution Statistics"
 },
 "nbformat": 4,
 "nbformat_minor": 5
}