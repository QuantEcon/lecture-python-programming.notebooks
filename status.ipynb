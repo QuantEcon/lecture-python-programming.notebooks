{
 "cells": [
  {
   "cell_type": "markdown",
   "id": "6ac69d8e",
   "metadata": {},
   "source": [
    "# Execution Statistics\n",
    "\n",
    "This table contains the latest execution statistics.\n",
    "\n",
    "|Document|Modified|Method|Run Time (s)|Status|\n",
    "|:------------------:|:------------------:|:------------------:|:------------------:|:------------------:|\n",
    "|about_py|2021-10-20 02:23|cache|4.01|✅|\n",
    "|debugging|2021-10-20 02:23|cache|3.02|✅|\n",
    "|functions|2021-10-20 02:23|cache|1.97|✅|\n",
    "|getting_started|2021-10-20 02:23|cache|2.61|✅|\n",
    "|intro|2021-10-20 02:23|cache|2.02|✅|\n",
    "|matplotlib|2021-10-20 02:23|cache|5.01|✅|\n",
    "|need_for_speed|2021-10-20 02:23|cache|15.52|✅|\n",
    "|numba|2021-10-20 02:23|cache|47.72|✅|\n",
    "|numpy|2021-10-20 02:23|cache|1.97|✅|\n",
    "|oop_intro|2021-10-20 02:23|cache|1.27|✅|\n",
    "|pandas|2021-10-20 02:23|cache|16.98|✅|\n",
    "|parallelization|2021-10-20 02:23|cache|52.95|✅|\n",
    "|python_advanced_features|2021-10-20 02:23|cache|40.86|✅|\n",
    "|python_by_example|2021-10-20 02:23|cache|8.2|✅|\n",
    "|python_essentials|2021-10-20 02:23|cache|1.63|✅|\n",
    "|python_oop|2021-10-20 02:23|cache|3.3|✅|\n",
    "|scipy|2021-10-20 02:23|cache|21.53|✅|\n",
    "|status|2021-10-20 02:23|cache|2.02|✅|\n",
    "|troubleshooting|2021-10-20 02:23|cache|2.02|✅|\n",
    "|writing_good_code|2021-10-20 02:23|cache|3.99|✅|\n",
    "These lectures are built on `linux` instances through `github actions` so are\n",
    "executed using the following [hardware specifications](https://docs.github.com/en/actions/reference/specifications-for-github-hosted-runners#supported-runners-and-hardware-resources)"
   ]
  }
 ],
 "metadata": {
  "date": 1634696603.8390603,
  "filename": "status.md",
  "kernelspec": {
   "display_name": "Python",
   "language": "python3",
   "name": "python3"
  },
  "title": "Execution Statistics"
 },
 "nbformat": 4,
 "nbformat_minor": 5
}