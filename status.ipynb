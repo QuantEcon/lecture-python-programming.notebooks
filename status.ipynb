{
 "cells": [
  {
   "cell_type": "markdown",
   "id": "2c04115c",
   "metadata": {},
   "source": [
    "# Execution Statistics\n",
    "\n",
    "This table contains the latest execution statistics.\n",
    "\n",
    "[](https://python-programming.quantecon.org/about_py.html)[](https://python-programming.quantecon.org/debugging.html)[](https://python-programming.quantecon.org/functions.html)[](https://python-programming.quantecon.org/getting_started.html)[](https://python-programming.quantecon.org/intro.html)[](https://python-programming.quantecon.org/jax_intro.html)[](https://python-programming.quantecon.org/matplotlib.html)[](https://python-programming.quantecon.org/need_for_speed.html)[](https://python-programming.quantecon.org/numba.html)[](https://python-programming.quantecon.org/numpy.html)[](https://python-programming.quantecon.org/oop_intro.html)[](https://python-programming.quantecon.org/pandas.html)[](https://python-programming.quantecon.org/parallelization.html)[](https://python-programming.quantecon.org/python_advanced_features.html)[](https://python-programming.quantecon.org/python_by_example.html)[](https://python-programming.quantecon.org/python_essentials.html)[](https://python-programming.quantecon.org/python_oop.html)[](https://python-programming.quantecon.org/scipy.html)[](https://python-programming.quantecon.org/.html)[](https://python-programming.quantecon.org/sympy.html)[](https://python-programming.quantecon.org/troubleshooting.html)[](https://python-programming.quantecon.org/workspace.html)[](https://python-programming.quantecon.org/writing_good_code.html)|Document|Modified|Method|Run Time (s)|Status|\n",
    "|:------------------:|:------------------:|:------------------:|:------------------:|:------------------:|\n",
    "|about_py|2023-12-20 22:51|cache|2.91|✅|\n",
    "|debugging|2023-12-20 22:51|cache|2.25|✅|\n",
    "|functions|2023-12-20 22:51|cache|1.89|✅|\n",
    "|getting_started|2023-12-20 22:51|cache|1.56|✅|\n",
    "|intro|2023-12-20 22:51|cache|0.93|✅|\n",
    "|jax_intro|2023-12-20 22:51|cache|0.84|✅|\n",
    "|matplotlib|2023-12-20 22:51|cache|4.72|✅|\n",
    "|need_for_speed|2023-12-20 22:51|cache|10.09|✅|\n",
    "|numba|2023-12-20 22:52|cache|12.9|✅|\n",
    "|numpy|2023-12-20 22:52|cache|7.7|✅|\n",
    "|oop_intro|2023-12-20 22:52|cache|1.7|✅|\n",
    "|pandas|2023-12-20 22:53|cache|41.49|✅|\n",
    "|parallelization|2023-12-20 22:53|cache|41.0|✅|\n",
    "|python_advanced_features|2023-12-20 22:54|cache|17.68|✅|\n",
    "|python_by_example|2023-12-20 22:54|cache|6.79|✅|\n",
    "|python_essentials|2023-12-20 22:54|cache|1.74|✅|\n",
    "|python_oop|2023-12-20 22:54|cache|2.41|✅|\n",
    "|scipy|2023-12-20 22:54|cache|10.87|✅|\n",
    "|status|2023-12-20 22:51|cache|0.93|✅|\n",
    "|sympy|2023-12-20 22:54|cache|6.19|✅|\n",
    "|troubleshooting|2023-12-20 22:51|cache|0.93|✅|\n",
    "|workspace|2023-12-20 22:51|cache|0.93|✅|\n",
    "|writing_good_code|2023-12-20 22:54|cache|2.73|✅|\n",
    "\n",
    "<a id='status-machine-details'></a>\n",
    "These lectures are built on `linux` instances through `github actions`."
   ]
  }
 ],
 "metadata": {
  "date": 1703113308.439477,
  "filename": "status.md",
  "kernelspec": {
   "display_name": "Python",
   "language": "python3",
   "name": "python3"
  },
  "title": "Execution Statistics"
 },
 "nbformat": 4,
 "nbformat_minor": 5
}