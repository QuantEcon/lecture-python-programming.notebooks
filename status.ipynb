{
 "cells": [
  {
   "cell_type": "markdown",
   "id": "843ce9aa",
   "metadata": {},
   "source": [
    "# Execution Statistics\n",
    "\n",
    "This table contains the latest execution statistics.\n",
    "\n",
    "|Document|Modified|Method|Run Time (s)|Status|\n",
    "|:------------------:|:------------------:|:------------------:|:------------------:|:------------------:|\n",
    "|about_py|2022-11-15 10:28|cache|4.21|✅|\n",
    "|debugging|2022-11-15 10:28|cache|2.85|✅|\n",
    "|functions|2022-11-15 10:28|cache|3.25|✅|\n",
    "|getting_started|2022-11-15 10:28|cache|3.16|✅|\n",
    "|intro|2022-11-15 10:28|cache|1.27|✅|\n",
    "|jax_intro|2022-11-15 10:28|cache|33.69|✅|\n",
    "|matplotlib|2022-11-15 10:28|cache|7.04|✅|\n",
    "|need_for_speed|2022-11-15 10:28|cache|13.13|✅|\n",
    "|numba|2022-11-15 10:28|cache|17.29|✅|\n",
    "|numpy|2022-11-15 10:28|cache|12.02|✅|\n",
    "|oop_intro|2022-11-15 10:28|cache|2.13|✅|\n",
    "|pandas|2022-11-15 10:28|cache|19.3|✅|\n",
    "|parallelization|2022-11-15 10:28|cache|53.5|✅|\n",
    "|python_advanced_features|2022-11-15 10:28|cache|44.22|✅|\n",
    "|python_by_example|2022-11-15 10:28|cache|10.61|✅|\n",
    "|python_essentials|2022-11-15 10:28|cache|2.04|✅|\n",
    "|python_oop|2022-11-15 10:28|cache|4.33|✅|\n",
    "|scipy|2022-11-15 10:28|cache|26.11|✅|\n",
    "|status|2022-11-15 10:28|cache|1.27|✅|\n",
    "|troubleshooting|2022-11-15 10:28|cache|1.27|✅|\n",
    "|writing_good_code|2022-11-15 10:28|cache|4.46|✅|\n",
    "\n",
    "<a id='status-machine-details'></a>\n",
    "These lectures are built on `linux` instances through `github actions`  and `amazon web services (aws)` to\n",
    "enable access to a `gpu`. These lectures are built on a [p3.2xlarge](https://aws.amazon.com/ec2/instance-types/p3/)\n",
    "that has access to `8 vcpu's`, a `V100 NVIDIA Tesla GPU`, and `61 Gb` of memory."
   ]
  }
 ],
 "metadata": {
  "date": 1668508112.421235,
  "filename": "status.md",
  "kernelspec": {
   "display_name": "Python",
   "language": "python3",
   "name": "python3"
  },
  "title": "Execution Statistics"
 },
 "nbformat": 4,
 "nbformat_minor": 5
}