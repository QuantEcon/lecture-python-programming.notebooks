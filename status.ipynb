{
 "cells": [
  {
   "cell_type": "markdown",
   "id": "f5450587",
   "metadata": {},
   "source": [
    "# Execution Statistics\n",
    "\n",
    "This table contains the latest execution statistics.\n",
    "\n",
    "[](https://python-programming.quantecon.org/about_py.html)[](https://python-programming.quantecon.org/debugging.html)[](https://python-programming.quantecon.org/functions.html)[](https://python-programming.quantecon.org/getting_started.html)[](https://python-programming.quantecon.org/intro.html)[](https://python-programming.quantecon.org/jax_intro.html)[](https://python-programming.quantecon.org/matplotlib.html)[](https://python-programming.quantecon.org/names.html)[](https://python-programming.quantecon.org/need_for_speed.html)[](https://python-programming.quantecon.org/numba.html)[](https://python-programming.quantecon.org/numpy.html)[](https://python-programming.quantecon.org/oop_intro.html)[](https://python-programming.quantecon.org/pandas.html)[](https://python-programming.quantecon.org/pandas_panel.html)[](https://python-programming.quantecon.org/parallelization.html)[](https://python-programming.quantecon.org/python_advanced_features.html)[](https://python-programming.quantecon.org/python_by_example.html)[](https://python-programming.quantecon.org/python_essentials.html)[](https://python-programming.quantecon.org/python_oop.html)[](https://python-programming.quantecon.org/scipy.html)[](https://python-programming.quantecon.org/.html)[](https://python-programming.quantecon.org/sympy.html)[](https://python-programming.quantecon.org/troubleshooting.html)[](https://python-programming.quantecon.org/workspace.html)[](https://python-programming.quantecon.org/writing_good_code.html)|Document|Modified|Method|Run Time (s)|Status|\n",
    "|:------------------:|:------------------:|:------------------:|:------------------:|:------------------:|\n",
    "|about_py|2024-11-30 02:57|cache|1.99|✅|\n",
    "|debugging|2024-11-30 02:57|cache|2.26|✅|\n",
    "|functions|2024-11-30 02:57|cache|1.78|✅|\n",
    "|getting_started|2024-11-30 02:57|cache|1.41|✅|\n",
    "|intro|2024-11-30 02:57|cache|0.79|✅|\n",
    "|jax_intro|2024-11-30 02:57|cache|0.83|✅|\n",
    "|matplotlib|2024-11-30 02:57|cache|3.93|✅|\n",
    "|names|2024-11-30 02:57|cache|1.07|✅|\n",
    "|need_for_speed|2024-11-30 02:57|cache|7.62|✅|\n",
    "|numba|2024-11-30 02:57|cache|10.71|✅|\n",
    "|numpy|2024-11-30 02:57|cache|7.51|✅|\n",
    "|oop_intro|2024-11-30 02:57|cache|2.28|✅|\n",
    "|pandas|2024-11-30 02:58|cache|19.01|✅|\n",
    "|pandas_panel|2024-11-30 02:58|cache|4.71|✅|\n",
    "|parallelization|2024-11-30 02:58|cache|38.04|✅|\n",
    "|python_advanced_features|2024-11-30 02:59|cache|19.69|✅|\n",
    "|python_by_example|2024-11-30 02:59|cache|6.52|✅|\n",
    "|python_essentials|2024-11-30 02:59|cache|1.86|✅|\n",
    "|python_oop|2024-11-30 02:59|cache|2.29|✅|\n",
    "|scipy|2024-11-30 02:59|cache|11.09|✅|\n",
    "|status|2024-11-30 02:59|cache|3.9|✅|\n",
    "|sympy|2024-11-30 02:59|cache|6.62|✅|\n",
    "|troubleshooting|2024-11-30 02:57|cache|0.79|✅|\n",
    "|workspace|2024-11-30 02:57|cache|0.79|✅|\n",
    "|writing_good_code|2024-11-30 02:59|cache|2.7|✅|\n",
    "\n",
    "<a id='status-machine-details'></a>\n",
    "These lectures are built on `linux` instances through `github actions`.\n",
    "\n",
    "These lectures are using the following python version"
   ]
  },
  {
   "cell_type": "code",
   "execution_count": null,
   "id": "3a077ba7",
   "metadata": {
    "hide-output": false
   },
   "outputs": [],
   "source": [
    "!python --version"
   ]
  },
  {
   "cell_type": "markdown",
   "id": "3e97fc81",
   "metadata": {},
   "source": [
    "and the following package versions"
   ]
  },
  {
   "cell_type": "code",
   "execution_count": null,
   "id": "4f3ff3e1",
   "metadata": {
    "hide-output": false
   },
   "outputs": [],
   "source": [
    "!conda list"
   ]
  }
 ],
 "metadata": {
  "date": 1732936632.1829948,
  "filename": "status.md",
  "kernelspec": {
   "display_name": "Python",
   "language": "python3",
   "name": "python3"
  },
  "title": "Execution Statistics"
 },
 "nbformat": 4,
 "nbformat_minor": 5
}