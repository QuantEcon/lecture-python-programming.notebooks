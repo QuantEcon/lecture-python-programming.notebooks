{
 "cells": [
  {
   "cell_type": "markdown",
   "id": "b035ab02",
   "metadata": {},
   "source": [
    "# Execution Statistics\n",
    "\n",
    "This table contains the latest execution statistics.\n",
    "\n",
    "|Document|Modified|Method|Run Time (s)|Status|\n",
    "|:------------------:|:------------------:|:------------------:|:------------------:|:------------------:|\n",
    "|about_py|2022-12-12 02:32|cache|4.43|✅|\n",
    "|debugging|2022-12-12 02:32|cache|3.05|✅|\n",
    "|functions|2022-12-12 02:32|cache|3.1|✅|\n",
    "|getting_started|2022-12-12 02:32|cache|3.56|✅|\n",
    "|intro|2022-12-12 02:32|cache|1.3|✅|\n",
    "|jax_intro|2022-12-12 02:32|cache|36.55|✅|\n",
    "|matplotlib|2022-12-12 02:32|cache|7.72|✅|\n",
    "|need_for_speed|2022-12-12 02:32|cache|13.55|✅|\n",
    "|numba|2022-12-12 02:32|cache|17.66|✅|\n",
    "|numpy|2022-12-12 02:32|cache|12.73|✅|\n",
    "|oop_intro|2022-12-12 02:33|cache|2.06|✅|\n",
    "|pandas|2022-12-12 02:33|cache|20.1|✅|\n",
    "|parallelization|2022-12-12 02:33|cache|56.72|✅|\n",
    "|python_advanced_features|2022-12-12 02:33|cache|44.83|✅|\n",
    "|python_by_example|2022-12-12 02:33|cache|11.2|✅|\n",
    "|python_essentials|2022-12-12 02:33|cache|2.39|✅|\n",
    "|python_oop|2022-12-12 02:33|cache|7.15|✅|\n",
    "|scipy|2022-12-12 02:33|cache|24.34|✅|\n",
    "|status|2022-12-12 02:33|cache|1.3|✅|\n",
    "|troubleshooting|2022-12-12 02:33|cache|1.3|✅|\n",
    "|writing_good_code|2022-12-12 02:33|cache|4.73|✅|\n",
    "\n",
    "<a id='status-machine-details'></a>\n",
    "These lectures are built on `linux` instances through `github actions`  and `amazon web services (aws)` to\n",
    "enable access to a `gpu`. These lectures are built on a [p3.2xlarge](https://aws.amazon.com/ec2/instance-types/p3/)\n",
    "that has access to `8 vcpu's`, a `V100 NVIDIA Tesla GPU`, and `61 Gb` of memory."
   ]
  }
 ],
 "metadata": {
  "date": 1670812389.5093782,
  "filename": "status.md",
  "kernelspec": {
   "display_name": "Python",
   "language": "python3",
   "name": "python3"
  },
  "title": "Execution Statistics"
 },
 "nbformat": 4,
 "nbformat_minor": 5
}