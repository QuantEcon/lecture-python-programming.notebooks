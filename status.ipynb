{
 "cells": [
  {
   "cell_type": "markdown",
   "id": "caa0c38a",
   "metadata": {},
   "source": [
    "# Execution Statistics\n",
    "\n",
    "This table contains the latest execution statistics.\n",
    "\n",
    "[](https://python-programming.quantecon.org/about_py.html)[](https://python-programming.quantecon.org/debugging.html)[](https://python-programming.quantecon.org/functions.html)[](https://python-programming.quantecon.org/getting_started.html)[](https://python-programming.quantecon.org/intro.html)[](https://python-programming.quantecon.org/jax_intro.html)[](https://python-programming.quantecon.org/matplotlib.html)[](https://python-programming.quantecon.org/names.html)[](https://python-programming.quantecon.org/need_for_speed.html)[](https://python-programming.quantecon.org/numba.html)[](https://python-programming.quantecon.org/numpy.html)[](https://python-programming.quantecon.org/oop_intro.html)[](https://python-programming.quantecon.org/pandas.html)[](https://python-programming.quantecon.org/pandas_panel.html)[](https://python-programming.quantecon.org/parallelization.html)[](https://python-programming.quantecon.org/python_advanced_features.html)[](https://python-programming.quantecon.org/python_by_example.html)[](https://python-programming.quantecon.org/python_essentials.html)[](https://python-programming.quantecon.org/python_oop.html)[](https://python-programming.quantecon.org/scipy.html)[](https://python-programming.quantecon.org/.html)[](https://python-programming.quantecon.org/sympy.html)[](https://python-programming.quantecon.org/troubleshooting.html)[](https://python-programming.quantecon.org/workspace.html)[](https://python-programming.quantecon.org/writing_good_code.html)|Document|Modified|Method|Run Time (s)|Status|\n",
    "|:------------------:|:------------------:|:------------------:|:------------------:|:------------------:|\n",
    "|about_py|2024-06-12 03:57|cache|2.23|✅|\n",
    "|debugging|2024-06-12 03:57|cache|2.18|✅|\n",
    "|functions|2024-06-12 03:57|cache|1.89|✅|\n",
    "|getting_started|2024-06-12 03:58|cache|1.37|✅|\n",
    "|intro|2024-06-12 03:58|cache|0.97|✅|\n",
    "|jax_intro|2024-06-12 03:58|cache|0.8|✅|\n",
    "|matplotlib|2024-06-12 03:58|cache|4.12|✅|\n",
    "|names|2024-06-12 03:58|cache|0.98|✅|\n",
    "|need_for_speed|2024-06-12 03:58|cache|9.06|✅|\n",
    "|numba|2024-06-12 03:58|cache|11.86|✅|\n",
    "|numpy|2024-06-12 03:58|cache|7.69|✅|\n",
    "|oop_intro|2024-06-12 03:58|cache|3.88|✅|\n",
    "|pandas|2024-06-12 03:59|cache|21.93|✅|\n",
    "|pandas_panel|2024-06-12 03:59|cache|7.13|✅|\n",
    "|parallelization|2024-06-12 03:59|cache|39.51|✅|\n",
    "|python_advanced_features|2024-06-12 04:00|cache|18.66|✅|\n",
    "|python_by_example|2024-06-12 04:00|cache|6.37|✅|\n",
    "|python_essentials|2024-06-12 04:00|cache|1.61|✅|\n",
    "|python_oop|2024-06-12 04:00|cache|2.07|✅|\n",
    "|scipy|2024-06-12 04:00|cache|24.38|✅|\n",
    "|status|2024-06-12 04:00|cache|4.55|✅|\n",
    "|sympy|2024-06-12 04:00|cache|7.05|✅|\n",
    "|troubleshooting|2024-06-12 03:58|cache|0.97|✅|\n",
    "|workspace|2024-06-12 03:58|cache|0.97|✅|\n",
    "|writing_good_code|2024-06-12 04:00|cache|2.65|✅|\n",
    "\n",
    "<a id='status-machine-details'></a>\n",
    "These lectures are built on `linux` instances through `github actions`.\n",
    "\n",
    "These lectures are using the following python version"
   ]
  },
  {
   "cell_type": "code",
   "execution_count": null,
   "id": "dea19aaa",
   "metadata": {
    "hide-output": false
   },
   "outputs": [],
   "source": [
    "!python --version"
   ]
  },
  {
   "cell_type": "markdown",
   "id": "4b5d77e3",
   "metadata": {},
   "source": [
    "and the following package versions"
   ]
  },
  {
   "cell_type": "code",
   "execution_count": null,
   "id": "629c0a8e",
   "metadata": {
    "hide-output": false
   },
   "outputs": [],
   "source": [
    "!conda list"
   ]
  }
 ],
 "metadata": {
  "date": 1718235143.3132384,
  "filename": "status.md",
  "kernelspec": {
   "display_name": "Python",
   "language": "python3",
   "name": "python3"
  },
  "title": "Execution Statistics"
 },
 "nbformat": 4,
 "nbformat_minor": 5
}