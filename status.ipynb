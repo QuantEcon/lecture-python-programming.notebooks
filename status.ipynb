{
 "cells": [
  {
   "cell_type": "markdown",
   "id": "9b9ee4cd",
   "metadata": {},
   "source": [
    "# Execution Statistics\n",
    "\n",
    "This table contains the latest execution statistics.\n",
    "\n",
    "|Document|Modified|Method|Run Time (s)|Status|\n",
    "|:------------------:|:------------------:|:------------------:|:------------------:|:------------------:|\n",
    "|about_py|2022-09-06 02:02|cache|3.78|✅|\n",
    "|debugging|2022-09-06 02:02|cache|2.94|✅|\n",
    "|functions|2022-09-06 02:02|cache|2.94|✅|\n",
    "|getting_started|2022-09-06 02:02|cache|2.94|✅|\n",
    "|intro|2022-09-06 02:02|cache|1.32|✅|\n",
    "|matplotlib|2022-09-06 02:02|cache|5.66|✅|\n",
    "|need_for_speed|2022-09-06 02:02|cache|12.02|✅|\n",
    "|numba|2022-09-06 02:02|cache|15.02|✅|\n",
    "|numpy|2022-09-06 02:02|cache|2.68|✅|\n",
    "|oop_intro|2022-09-06 02:02|cache|1.78|✅|\n",
    "|pandas|2022-09-06 02:02|cache|15.65|✅|\n",
    "|parallelization|2022-09-06 02:02|cache|40.03|✅|\n",
    "|python_advanced_features|2022-09-06 02:02|cache|36.74|✅|\n",
    "|python_by_example|2022-09-06 02:02|cache|10.02|✅|\n",
    "|python_essentials|2022-09-06 02:02|cache|2.34|✅|\n",
    "|python_oop|2022-09-06 02:02|cache|4.89|✅|\n",
    "|scipy|2022-09-06 02:02|cache|20.75|✅|\n",
    "|status|2022-09-06 02:02|cache|1.32|✅|\n",
    "|troubleshooting|2022-09-06 02:02|cache|1.32|✅|\n",
    "|writing_good_code|2022-09-06 02:02|cache|3.65|✅|\n",
    "These lectures are built on `linux` instances through `github actions` so are\n",
    "executed using the following [hardware specifications](https://docs.github.com/en/actions/reference/specifications-for-github-hosted-runners#supported-runners-and-hardware-resources)"
   ]
  }
 ],
 "metadata": {
  "date": 1662429780.0482473,
  "filename": "status.md",
  "kernelspec": {
   "display_name": "Python",
   "language": "python3",
   "name": "python3"
  },
  "title": "Execution Statistics"
 },
 "nbformat": 4,
 "nbformat_minor": 5
}