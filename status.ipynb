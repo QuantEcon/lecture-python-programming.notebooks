{
 "cells": [
  {
   "cell_type": "markdown",
   "id": "dca628d5",
   "metadata": {},
   "source": [
    "# Execution Statistics\n",
    "\n",
    "This table contains the latest execution statistics.\n",
    "\n",
    "[](https://python-programming.quantecon.org/about_py.html)[](https://python-programming.quantecon.org/debugging.html)[](https://python-programming.quantecon.org/functions.html)[](https://python-programming.quantecon.org/getting_started.html)[](https://python-programming.quantecon.org/intro.html)[](https://python-programming.quantecon.org/jax_intro.html)[](https://python-programming.quantecon.org/matplotlib.html)[](https://python-programming.quantecon.org/need_for_speed.html)[](https://python-programming.quantecon.org/numba.html)[](https://python-programming.quantecon.org/numpy.html)[](https://python-programming.quantecon.org/oop_intro.html)[](https://python-programming.quantecon.org/pandas.html)[](https://python-programming.quantecon.org/parallelization.html)[](https://python-programming.quantecon.org/python_advanced_features.html)[](https://python-programming.quantecon.org/python_by_example.html)[](https://python-programming.quantecon.org/python_essentials.html)[](https://python-programming.quantecon.org/python_oop.html)[](https://python-programming.quantecon.org/scipy.html)[](https://python-programming.quantecon.org/.html)[](https://python-programming.quantecon.org/sympy.html)[](https://python-programming.quantecon.org/troubleshooting.html)[](https://python-programming.quantecon.org/writing_good_code.html)|Document|Modified|Method|Run Time (s)|Status|\n",
    "|:------------------:|:------------------:|:------------------:|:------------------:|:------------------:|\n",
    "|about_py|2023-09-19 06:40|cache|5.1|✅|\n",
    "|debugging|2023-09-19 06:40|cache|3.24|✅|\n",
    "|functions|2023-09-19 06:41|cache|2.85|✅|\n",
    "|getting_started|2023-09-19 06:41|cache|2.13|✅|\n",
    "|intro|2023-09-19 06:41|cache|1.05|✅|\n",
    "|jax_intro|2023-09-19 06:41|cache|1.23|✅|\n",
    "|matplotlib|2023-09-19 06:41|cache|7.75|✅|\n",
    "|need_for_speed|2023-09-19 06:41|cache|12.19|✅|\n",
    "|numba|2023-09-19 06:41|cache|15.32|✅|\n",
    "|numpy|2023-09-19 06:41|cache|11.36|✅|\n",
    "|oop_intro|2023-09-19 06:41|cache|2.22|✅|\n",
    "|pandas|2023-09-19 06:42|cache|20.08|✅|\n",
    "|parallelization|2023-09-19 06:43|cache|50.27|✅|\n",
    "|python_advanced_features|2023-09-19 06:43|cache|39.2|✅|\n",
    "|python_by_example|2023-09-19 06:43|cache|8.89|✅|\n",
    "|python_essentials|2023-09-19 06:44|cache|2.36|✅|\n",
    "|python_oop|2023-09-19 06:44|cache|3.42|✅|\n",
    "|scipy|2023-09-19 06:44|cache|18.26|✅|\n",
    "|status|2023-09-19 06:41|cache|1.05|✅|\n",
    "|sympy|2023-09-19 06:44|cache|10.09|✅|\n",
    "|troubleshooting|2023-09-19 06:41|cache|1.05|✅|\n",
    "|writing_good_code|2023-09-19 06:44|cache|4.3|✅|\n",
    "\n",
    "<a id='status-machine-details'></a>\n",
    "These lectures are built on `linux` instances through `github actions`."
   ]
  }
 ],
 "metadata": {
  "date": 1695106394.733471,
  "filename": "status.md",
  "kernelspec": {
   "display_name": "Python",
   "language": "python3",
   "name": "python3"
  },
  "title": "Execution Statistics"
 },
 "nbformat": 4,
 "nbformat_minor": 5
}