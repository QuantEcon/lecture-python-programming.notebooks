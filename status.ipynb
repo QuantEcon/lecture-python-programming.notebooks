{
 "cells": [
  {
   "cell_type": "markdown",
   "id": "7ec2d8c9",
   "metadata": {},
   "source": [
    "# Execution Statistics\n",
    "\n",
    "This table contains the latest execution statistics.\n",
    "\n",
    "[](https://python-programming.quantecon.org/about_py.html)[](https://python-programming.quantecon.org/debugging.html)[](https://python-programming.quantecon.org/functions.html)[](https://python-programming.quantecon.org/getting_started.html)[](https://python-programming.quantecon.org/intro.html)[](https://python-programming.quantecon.org/jax_intro.html)[](https://python-programming.quantecon.org/matplotlib.html)[](https://python-programming.quantecon.org/need_for_speed.html)[](https://python-programming.quantecon.org/numba.html)[](https://python-programming.quantecon.org/numpy.html)[](https://python-programming.quantecon.org/oop_intro.html)[](https://python-programming.quantecon.org/pandas.html)[](https://python-programming.quantecon.org/parallelization.html)[](https://python-programming.quantecon.org/python_advanced_features.html)[](https://python-programming.quantecon.org/python_by_example.html)[](https://python-programming.quantecon.org/python_essentials.html)[](https://python-programming.quantecon.org/python_oop.html)[](https://python-programming.quantecon.org/scipy.html)[](https://python-programming.quantecon.org/.html)[](https://python-programming.quantecon.org/troubleshooting.html)[](https://python-programming.quantecon.org/writing_good_code.html)|Document|Modified|Method|Run Time (s)|Status|\n",
    "|:------------------:|:------------------:|:------------------:|:------------------:|:------------------:|\n",
    "|about_py|2023-04-14 07:20|cache|6.87|✅|\n",
    "|debugging|2023-04-14 07:20|cache|3.65|✅|\n",
    "|functions|2023-04-14 07:20|cache|3.15|✅|\n",
    "|getting_started|2023-04-14 07:20|cache|2.34|✅|\n",
    "|intro|2023-04-14 07:20|cache|1.27|✅|\n",
    "|jax_intro|2023-04-14 07:21|cache|37.57|✅|\n",
    "|matplotlib|2023-04-14 07:21|cache|8.16|✅|\n",
    "|need_for_speed|2023-04-14 07:21|cache|15.23|✅|\n",
    "|numba|2023-04-14 07:21|cache|17.69|✅|\n",
    "|numpy|2023-04-14 07:21|cache|12.68|✅|\n",
    "|oop_intro|2023-04-14 07:22|cache|2.51|✅|\n",
    "|pandas|2023-04-14 07:22|cache|21.99|✅|\n",
    "|parallelization|2023-04-14 07:23|cache|57.83|✅|\n",
    "|python_advanced_features|2023-04-14 07:24|cache|45.49|✅|\n",
    "|python_by_example|2023-04-14 07:24|cache|10.16|✅|\n",
    "|python_essentials|2023-04-14 07:24|cache|2.47|✅|\n",
    "|python_oop|2023-04-14 07:24|cache|3.8|✅|\n",
    "|scipy|2023-04-14 07:24|cache|20.79|✅|\n",
    "|status|2023-04-14 07:20|cache|1.27|✅|\n",
    "|troubleshooting|2023-04-14 07:20|cache|1.27|✅|\n",
    "|writing_good_code|2023-04-14 07:24|cache|4.7|✅|\n",
    "\n",
    "<a id='status-machine-details'></a>\n",
    "These lectures are built on `linux` instances through `github actions`  and `amazon web services (aws)` to\n",
    "enable access to a `gpu`. These lectures are built on a [p3.2xlarge](https://aws.amazon.com/ec2/instance-types/p3/)\n",
    "that has access to `8 vcpu's`, a `V100 NVIDIA Tesla GPU`, and `61 Gb` of memory."
   ]
  }
 ],
 "metadata": {
  "date": 1681688958.6906285,
  "filename": "status.md",
  "kernelspec": {
   "display_name": "Python",
   "language": "python3",
   "name": "python3"
  },
  "title": "Execution Statistics"
 },
 "nbformat": 4,
 "nbformat_minor": 5
}