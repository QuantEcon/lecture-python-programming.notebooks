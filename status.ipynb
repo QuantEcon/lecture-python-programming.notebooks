{
 "cells": [
  {
   "cell_type": "markdown",
   "id": "f27122e8",
   "metadata": {},
   "source": [
    "# Execution Statistics\n",
    "\n",
    "This table contains the latest execution statistics.\n",
    "\n",
    "[](https://python-programming.quantecon.org/about_py.html)[](https://python-programming.quantecon.org/debugging.html)[](https://python-programming.quantecon.org/functions.html)[](https://python-programming.quantecon.org/getting_started.html)[](https://python-programming.quantecon.org/intro.html)[](https://python-programming.quantecon.org/jax_intro.html)[](https://python-programming.quantecon.org/matplotlib.html)[](https://python-programming.quantecon.org/names.html)[](https://python-programming.quantecon.org/need_for_speed.html)[](https://python-programming.quantecon.org/numba.html)[](https://python-programming.quantecon.org/numpy.html)[](https://python-programming.quantecon.org/oop_intro.html)[](https://python-programming.quantecon.org/pandas.html)[](https://python-programming.quantecon.org/pandas_panel.html)[](https://python-programming.quantecon.org/parallelization.html)[](https://python-programming.quantecon.org/python_advanced_features.html)[](https://python-programming.quantecon.org/python_by_example.html)[](https://python-programming.quantecon.org/python_essentials.html)[](https://python-programming.quantecon.org/python_oop.html)[](https://python-programming.quantecon.org/scipy.html)[](https://python-programming.quantecon.org/.html)[](https://python-programming.quantecon.org/sympy.html)[](https://python-programming.quantecon.org/troubleshooting.html)[](https://python-programming.quantecon.org/workspace.html)[](https://python-programming.quantecon.org/writing_good_code.html)|Document|Modified|Method|Run Time (s)|Status|\n",
    "|:------------------:|:------------------:|:------------------:|:------------------:|:------------------:|\n",
    "|about_py|2025-06-14 01:05|cache|2.43|✅|\n",
    "|debugging|2025-06-14 01:05|cache|2.03|✅|\n",
    "|functions|2025-06-14 01:05|cache|1.76|✅|\n",
    "|getting_started|2025-06-14 01:05|cache|1.59|✅|\n",
    "|intro|2025-06-14 01:05|cache|0.86|✅|\n",
    "|jax_intro|2025-06-14 01:06|cache|0.83|✅|\n",
    "|matplotlib|2025-06-14 01:06|cache|3.93|✅|\n",
    "|names|2025-06-14 01:06|cache|1.07|✅|\n",
    "|need_for_speed|2025-06-14 01:06|cache|2.29|✅|\n",
    "|numba|2025-06-14 01:06|cache|12.17|✅|\n",
    "|numpy|2025-06-14 01:06|cache|10.69|✅|\n",
    "|oop_intro|2025-06-14 01:06|cache|2.33|✅|\n",
    "|pandas|2025-06-14 01:06|cache|23.75|✅|\n",
    "|pandas_panel|2025-06-14 01:07|cache|5.05|✅|\n",
    "|parallelization|2025-06-14 01:07|cache|36.23|✅|\n",
    "|python_advanced_features|2025-06-14 01:07|cache|20.12|✅|\n",
    "|python_by_example|2025-06-14 01:08|cache|6.49|✅|\n",
    "|python_essentials|2025-06-14 01:08|cache|1.7|✅|\n",
    "|python_oop|2025-06-14 01:08|cache|2.39|✅|\n",
    "|scipy|2025-06-14 01:08|cache|10.96|✅|\n",
    "|status|2025-06-14 01:08|cache|4.16|✅|\n",
    "|sympy|2025-06-14 01:08|cache|6.55|✅|\n",
    "|troubleshooting|2025-06-14 01:05|cache|0.86|✅|\n",
    "|workspace|2025-06-14 01:05|cache|0.86|✅|\n",
    "|writing_good_code|2025-06-14 01:08|cache|2.49|✅|\n",
    "\n",
    "<a id='status-machine-details'></a>\n",
    "These lectures are built on `linux` instances through `github actions`.\n",
    "\n",
    "These lectures are using the following python version"
   ]
  },
  {
   "cell_type": "code",
   "execution_count": null,
   "id": "7da676c3",
   "metadata": {
    "hide-output": false
   },
   "outputs": [],
   "source": [
    "!python --version"
   ]
  },
  {
   "cell_type": "markdown",
   "id": "4d025a86",
   "metadata": {},
   "source": [
    "and the following package versions"
   ]
  },
  {
   "cell_type": "code",
   "execution_count": null,
   "id": "ef768758",
   "metadata": {
    "hide-output": false
   },
   "outputs": [],
   "source": [
    "!conda list"
   ]
  }
 ],
 "metadata": {
  "date": 1749863506.1895368,
  "filename": "status.md",
  "kernelspec": {
   "display_name": "Python",
   "language": "python3",
   "name": "python3"
  },
  "title": "Execution Statistics"
 },
 "nbformat": 4,
 "nbformat_minor": 5
}