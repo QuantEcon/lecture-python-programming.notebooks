{
 "cells": [
  {
   "cell_type": "markdown",
   "id": "8a9b6807",
   "metadata": {},
   "source": [
    "# Execution Statistics\n",
    "\n",
    "This table contains the latest execution statistics.\n",
    "\n",
    "[](https://python-programming.quantecon.org/about_py.html)[](https://python-programming.quantecon.org/debugging.html)[](https://python-programming.quantecon.org/functions.html)[](https://python-programming.quantecon.org/getting_started.html)[](https://python-programming.quantecon.org/intro.html)[](https://python-programming.quantecon.org/jax_intro.html)[](https://python-programming.quantecon.org/matplotlib.html)[](https://python-programming.quantecon.org/need_for_speed.html)[](https://python-programming.quantecon.org/numba.html)[](https://python-programming.quantecon.org/numpy.html)[](https://python-programming.quantecon.org/oop_intro.html)[](https://python-programming.quantecon.org/pandas.html)[](https://python-programming.quantecon.org/parallelization.html)[](https://python-programming.quantecon.org/python_advanced_features.html)[](https://python-programming.quantecon.org/python_by_example.html)[](https://python-programming.quantecon.org/python_essentials.html)[](https://python-programming.quantecon.org/python_oop.html)[](https://python-programming.quantecon.org/scipy.html)[](https://python-programming.quantecon.org/.html)[](https://python-programming.quantecon.org/troubleshooting.html)[](https://python-programming.quantecon.org/writing_good_code.html)|Document|Modified|Method|Run Time (s)|Status|\n",
    "|:------------------:|:------------------:|:------------------:|:------------------:|:------------------:|\n",
    "|about_py|2023-04-05 05:21|cache|6.83|✅|\n",
    "|debugging|2023-04-05 05:21|cache|3.43|✅|\n",
    "|functions|2023-04-05 05:21|cache|3.1|✅|\n",
    "|getting_started|2023-04-05 05:21|cache|2.39|✅|\n",
    "|intro|2023-04-05 05:21|cache|1.37|✅|\n",
    "|jax_intro|2023-04-05 05:21|cache|37.02|✅|\n",
    "|matplotlib|2023-04-05 05:22|cache|7.71|✅|\n",
    "|need_for_speed|2023-04-05 05:22|cache|13.77|✅|\n",
    "|numba|2023-04-05 05:22|cache|17.43|✅|\n",
    "|numpy|2023-04-05 05:22|cache|12.13|✅|\n",
    "|oop_intro|2023-04-05 05:22|cache|2.28|✅|\n",
    "|pandas|2023-04-05 05:23|cache|22.34|✅|\n",
    "|parallelization|2023-04-05 05:24|cache|56.25|✅|\n",
    "|python_advanced_features|2023-04-05 05:24|cache|45.66|✅|\n",
    "|python_by_example|2023-04-05 05:25|cache|10.51|✅|\n",
    "|python_essentials|2023-04-05 05:25|cache|2.34|✅|\n",
    "|python_oop|2023-04-05 05:25|cache|3.85|✅|\n",
    "|scipy|2023-04-05 05:25|cache|20.1|✅|\n",
    "|status|2023-04-05 05:21|cache|1.37|✅|\n",
    "|troubleshooting|2023-04-05 05:21|cache|1.37|✅|\n",
    "|writing_good_code|2023-04-05 05:25|cache|4.71|✅|\n",
    "\n",
    "<a id='status-machine-details'></a>\n",
    "These lectures are built on `linux` instances through `github actions`  and `amazon web services (aws)` to\n",
    "enable access to a `gpu`. These lectures are built on a [p3.2xlarge](https://aws.amazon.com/ec2/instance-types/p3/)\n",
    "that has access to `8 vcpu's`, a `V100 NVIDIA Tesla GPU`, and `61 Gb` of memory."
   ]
  }
 ],
 "metadata": {
  "date": 1680677740.6184027,
  "filename": "status.md",
  "kernelspec": {
   "display_name": "Python",
   "language": "python3",
   "name": "python3"
  },
  "title": "Execution Statistics"
 },
 "nbformat": 4,
 "nbformat_minor": 5
}