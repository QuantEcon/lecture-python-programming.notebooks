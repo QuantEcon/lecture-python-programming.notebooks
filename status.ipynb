{
 "cells": [
  {
   "cell_type": "markdown",
   "id": "6f436d15",
   "metadata": {},
   "source": [
    "# Execution Statistics\n",
    "\n",
    "This table contains the latest execution statistics.\n",
    "\n",
    "[](https://python-programming.quantecon.org/about_py.html)[](https://python-programming.quantecon.org/debugging.html)[](https://python-programming.quantecon.org/functions.html)[](https://python-programming.quantecon.org/getting_started.html)[](https://python-programming.quantecon.org/intro.html)[](https://python-programming.quantecon.org/jax_intro.html)[](https://python-programming.quantecon.org/matplotlib.html)[](https://python-programming.quantecon.org/names.html)[](https://python-programming.quantecon.org/need_for_speed.html)[](https://python-programming.quantecon.org/numba.html)[](https://python-programming.quantecon.org/numpy.html)[](https://python-programming.quantecon.org/oop_intro.html)[](https://python-programming.quantecon.org/pandas.html)[](https://python-programming.quantecon.org/pandas_panel.html)[](https://python-programming.quantecon.org/parallelization.html)[](https://python-programming.quantecon.org/python_advanced_features.html)[](https://python-programming.quantecon.org/python_by_example.html)[](https://python-programming.quantecon.org/python_essentials.html)[](https://python-programming.quantecon.org/python_oop.html)[](https://python-programming.quantecon.org/scipy.html)[](https://python-programming.quantecon.org/.html)[](https://python-programming.quantecon.org/sympy.html)[](https://python-programming.quantecon.org/troubleshooting.html)[](https://python-programming.quantecon.org/workspace.html)[](https://python-programming.quantecon.org/writing_good_code.html)|Document|Modified|Method|Run Time (s)|Status|\n",
    "|:------------------:|:------------------:|:------------------:|:------------------:|:------------------:|\n",
    "|about_py|2025-03-11 04:00|cache|2.13|✅|\n",
    "|debugging|2025-03-11 04:00|cache|2.17|✅|\n",
    "|functions|2025-03-11 04:01|cache|1.94|✅|\n",
    "|getting_started|2025-03-11 04:01|cache|1.5|✅|\n",
    "|intro|2025-03-11 04:01|cache|0.85|✅|\n",
    "|jax_intro|2025-03-11 04:01|cache|0.97|✅|\n",
    "|matplotlib|2025-03-11 04:01|cache|4.09|✅|\n",
    "|names|2025-03-11 04:01|cache|1.0|✅|\n",
    "|need_for_speed|2025-03-11 04:01|cache|7.58|✅|\n",
    "|numba|2025-03-11 04:01|cache|10.13|✅|\n",
    "|numpy|2025-03-11 04:01|cache|8.62|✅|\n",
    "|oop_intro|2025-03-11 04:01|cache|2.4|✅|\n",
    "|pandas|2025-03-11 04:02|cache|25.03|✅|\n",
    "|pandas_panel|2025-03-11 04:02|cache|4.99|✅|\n",
    "|parallelization|2025-03-11 04:02|cache|36.93|✅|\n",
    "|python_advanced_features|2025-03-11 04:03|cache|21.06|✅|\n",
    "|python_by_example|2025-03-11 04:03|cache|6.66|✅|\n",
    "|python_essentials|2025-03-11 04:03|cache|1.96|✅|\n",
    "|python_oop|2025-03-11 04:03|cache|2.49|✅|\n",
    "|scipy|2025-03-11 04:03|cache|11.79|✅|\n",
    "|status|2025-03-11 04:03|cache|4.44|✅|\n",
    "|sympy|2025-03-11 04:03|cache|7.3|✅|\n",
    "|troubleshooting|2025-03-11 04:01|cache|0.85|✅|\n",
    "|workspace|2025-03-11 04:01|cache|0.85|✅|\n",
    "|writing_good_code|2025-03-11 04:03|cache|2.64|✅|\n",
    "\n",
    "<a id='status-machine-details'></a>\n",
    "These lectures are built on `linux` instances through `github actions`.\n",
    "\n",
    "These lectures are using the following python version"
   ]
  },
  {
   "cell_type": "code",
   "execution_count": null,
   "id": "0c3bdf66",
   "metadata": {
    "hide-output": false
   },
   "outputs": [],
   "source": [
    "!python --version"
   ]
  },
  {
   "cell_type": "markdown",
   "id": "3f40e569",
   "metadata": {},
   "source": [
    "and the following package versions"
   ]
  },
  {
   "cell_type": "code",
   "execution_count": null,
   "id": "39c99711",
   "metadata": {
    "hide-output": false
   },
   "outputs": [],
   "source": [
    "!conda list"
   ]
  }
 ],
 "metadata": {
  "date": 1741668127.0678792,
  "filename": "status.md",
  "kernelspec": {
   "display_name": "Python",
   "language": "python3",
   "name": "python3"
  },
  "title": "Execution Statistics"
 },
 "nbformat": 4,
 "nbformat_minor": 5
}