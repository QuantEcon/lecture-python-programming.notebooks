{
 "cells": [
  {
   "cell_type": "markdown",
   "metadata": {},
   "source": [
    "# Execution Statistics\n",
    "\n",
    "This table contains the latest execution statistics.\n",
    "\n",
    "|Document|Modified|Method|Run Time (s)|Status|\n",
    "|:------------------:|:------------------:|:------------------:|:------------------:|:------------------:|\n",
    "|about_py|2021-04-09 01:59|cache|4.02|✅|\n",
    "|debugging|2021-04-09 01:59|cache|2.34|✅|\n",
    "|functions|2021-04-09 01:59|cache|3.02|✅|\n",
    "|getting_started|2021-04-09 01:59|cache|2.77|✅|\n",
    "|intro|2021-04-09 01:59|cache|0.98|✅|\n",
    "|matplotlib|2021-04-09 01:59|cache|4.47|✅|\n",
    "|need_for_speed|2021-04-09 01:59|cache|44.48|✅|\n",
    "|numba|2021-04-09 01:59|cache|25.9|✅|\n",
    "|numpy|2021-04-09 01:59|cache|3.02|✅|\n",
    "|oop_intro|2021-04-09 01:59|cache|1.24|✅|\n",
    "|pandas|2021-04-09 01:59|cache|-|❌|\n",
    "|parallelization|2021-04-09 01:59|cache|55.78|✅|\n",
    "|python_advanced_features|2021-04-09 01:59|cache|52.03|✅|\n",
    "|python_by_example|2021-04-09 01:59|cache|4.0|✅|\n",
    "|python_essentials|2021-04-09 01:59|cache|1.82|✅|\n",
    "|python_oop|2021-04-09 01:59|cache|3.27|✅|\n",
    "|scipy|2021-04-09 01:59|cache|11.21|✅|\n",
    "|status|2021-04-09 01:59|cache|0.98|✅|\n",
    "|troubleshooting|2021-04-09 01:59|cache|0.98|✅|\n",
    "|writing_good_code|2021-04-09 01:59|cache|3.84|✅|\n",
    "These lectures are built on `linux` instances through `github actions` so are\n",
    "executed using the following [hardware specifications](https://docs.github.com/en/actions/reference/specifications-for-github-hosted-runners#supported-runners-and-hardware-resources)"
   ]
  }
 ],
 "metadata": {
  "date": 1617933569.3467588,
  "filename": "status.md",
  "kernelspec": {
   "display_name": "Python",
   "language": "python3",
   "name": "python3"
  },
  "title": "Execution Statistics"
 },
 "nbformat": 4,
 "nbformat_minor": 4
}