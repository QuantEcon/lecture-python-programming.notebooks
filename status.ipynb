{
 "cells": [
  {
   "cell_type": "markdown",
   "metadata": {},
   "source": [
    "# Execution Statistics\n",
    "\n",
    "This table contains the latest execution statistics.\n",
    "\n",
    "|Document|Modified|Method|Run Time (s)|Status|\n",
    "|:------------------:|:------------------:|:------------------:|:------------------:|:------------------:|\n",
    "|about_py|2021-06-07 05:46|cache|3.28|✅|\n",
    "|debugging|2021-06-07 05:46|cache|2.25|✅|\n",
    "|functions|2021-06-07 05:46|cache|5.97|✅|\n",
    "|getting_started|2021-06-07 05:46|cache|2.71|✅|\n",
    "|intro|2021-06-07 05:46|cache|0.89|✅|\n",
    "|matplotlib|2021-06-07 05:46|cache|4.51|✅|\n",
    "|need_for_speed|2021-06-07 05:46|cache|15.67|✅|\n",
    "|numba|2021-06-07 05:46|cache|50.67|✅|\n",
    "|numpy|2021-06-07 05:46|cache|3.03|✅|\n",
    "|oop_intro|2021-06-07 05:46|cache|1.2|✅|\n",
    "|pandas|2021-06-07 05:46|cache|15.38|✅|\n",
    "|parallelization|2021-06-07 05:46|cache|56.47|✅|\n",
    "|python_advanced_features|2021-06-07 05:46|cache|47.65|✅|\n",
    "|python_by_example|2021-06-07 05:46|cache|5.02|✅|\n",
    "|python_essentials|2021-06-07 05:46|cache|1.87|✅|\n",
    "|python_oop|2021-06-07 05:46|cache|3.35|✅|\n",
    "|scipy|2021-06-07 05:46|cache|10.81|✅|\n",
    "|status|2021-06-07 05:46|cache|0.89|✅|\n",
    "|troubleshooting|2021-06-07 05:46|cache|0.89|✅|\n",
    "|writing_good_code|2021-06-07 05:46|cache|5.02|✅|\n",
    "These lectures are built on `linux` instances through `github actions` so are\n",
    "executed using the following [hardware specifications](https://docs.github.com/en/actions/reference/specifications-for-github-hosted-runners#supported-runners-and-hardware-resources)"
   ]
  }
 ],
 "metadata": {
  "date": 1623044807.6343832,
  "filename": "status.md",
  "kernelspec": {
   "display_name": "Python",
   "language": "python3",
   "name": "python3"
  },
  "title": "Execution Statistics"
 },
 "nbformat": 4,
 "nbformat_minor": 4
}