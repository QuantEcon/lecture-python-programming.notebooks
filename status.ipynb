{
 "cells": [
  {
   "cell_type": "markdown",
   "id": "53131160",
   "metadata": {},
   "source": [
    "# Execution Statistics\n",
    "\n",
    "This table contains the latest execution statistics.\n",
    "\n",
    "|Document|Modified|Method|Run Time (s)|Status|\n",
    "|:------------------:|:------------------:|:------------------:|:------------------:|:------------------:|\n",
    "|about_py|2022-09-04 23:34|cache|5.02|✅|\n",
    "|debugging|2022-09-04 23:34|cache|3.83|✅|\n",
    "|functions|2022-09-04 23:34|cache|3.48|✅|\n",
    "|getting_started|2022-09-04 23:34|cache|3.91|✅|\n",
    "|intro|2022-09-04 23:34|cache|1.41|✅|\n",
    "|matplotlib|2022-09-04 23:34|cache|7.65|✅|\n",
    "|need_for_speed|2022-09-04 23:34|cache|11.66|✅|\n",
    "|numba|2022-09-04 23:34|cache|22.76|✅|\n",
    "|numpy|2022-09-04 23:34|cache|3.36|✅|\n",
    "|oop_intro|2022-09-04 23:34|cache|2.31|✅|\n",
    "|pandas|2022-09-04 23:34|cache|23.67|✅|\n",
    "|parallelization|2022-09-04 23:34|cache|55.04|✅|\n",
    "|python_advanced_features|2022-09-04 23:34|cache|48.97|✅|\n",
    "|python_by_example|2022-09-04 23:34|cache|12.02|✅|\n",
    "|python_essentials|2022-09-04 23:34|cache|2.8|✅|\n",
    "|python_oop|2022-09-04 23:34|cache|4.46|✅|\n",
    "|scipy|2022-09-04 23:34|cache|25.47|✅|\n",
    "|status|2022-09-04 23:34|cache|1.41|✅|\n",
    "|troubleshooting|2022-09-04 23:34|cache|1.41|✅|\n",
    "|writing_good_code|2022-09-04 23:34|cache|4.82|✅|\n",
    "These lectures are built on `linux` instances through `github actions` so are\n",
    "executed using the following [hardware specifications](https://docs.github.com/en/actions/reference/specifications-for-github-hosted-runners#supported-runners-and-hardware-resources)"
   ]
  }
 ],
 "metadata": {
  "date": 1662334486.2398238,
  "filename": "status.md",
  "kernelspec": {
   "display_name": "Python",
   "language": "python3",
   "name": "python3"
  },
  "title": "Execution Statistics"
 },
 "nbformat": 4,
 "nbformat_minor": 5
}