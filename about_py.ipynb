{
 "cells": [
  {
   "cell_type": "markdown",
   "id": "b87b96ff",
   "metadata": {},
   "source": [
    "\n",
    "<a id='about-py'></a>\n",
    "<div id=\"qe-notebook-header\" align=\"right\" style=\"text-align:right;\">\n",
    "        <a href=\"https://quantecon.org/\" title=\"quantecon.org\">\n",
    "                <img style=\"width:250px;display:inline;\" width=\"250px\" src=\"https://assets.quantecon.org/img/qe-menubar-logo.svg\" alt=\"QuantEcon\">\n",
    "        </a>\n",
    "</div>\n",
    "\n",
    "\n",
    "<a id='index-0'></a>"
   ]
  },
  {
   "cell_type": "markdown",
   "id": "e4c055a3",
   "metadata": {},
   "source": [
    "# About Python"
   ]
  },
  {
   "cell_type": "markdown",
   "id": "5ab56a38",
   "metadata": {},
   "source": [
    "## Contents\n",
    "\n",
    "- [About Python](#About-Python)  \n",
    "  - [Overview](#Overview)  \n",
    "  - [What’s Python?](#What’s-Python?)  \n",
    "  - [Scientific Programming](#Scientific-Programming)  \n",
    "  - [Learn More](#Learn-More)  "
   ]
  },
  {
   "cell_type": "markdown",
   "id": "f9d3817c",
   "metadata": {},
   "source": [
    "> “Python has gotten sufficiently weapons grade that we don’t descend into R\n",
    "> anymore. Sorry, R people. I used to be one of you but we no longer descend\n",
    "> into R.” – Chris Wiggins"
   ]
  },
  {
   "cell_type": "markdown",
   "id": "0b771734",
   "metadata": {},
   "source": [
    "## Overview\n",
    "\n",
    "In this lecture we will\n",
    "\n",
    "- outline what Python is  \n",
    "- compare it to some other languages  \n",
    "- showcase some of its abilities.  \n",
    "\n",
    "\n",
    "At this stage, it’s **not** our intention that you try to replicate all you see.\n",
    "\n",
    "We will work through what follows at a slow pace later in the lecture series.\n",
    "\n",
    "Our only objective for this lecture is to give you some feel of what Python is, and what it can do."
   ]
  },
  {
   "cell_type": "markdown",
   "id": "2deee1e7",
   "metadata": {},
   "source": [
    "## What’s Python?\n",
    "\n",
    "[Python](https://www.python.org) is a general-purpose programming language conceived in 1989 by Dutch programmer [Guido van Rossum](https://en.wikipedia.org/wiki/Guido_van_Rossum).\n",
    "\n",
    "Python is free and open source, with development coordinated through the [Python Software Foundation](https://www.python.org/psf/).\n",
    "\n",
    "Python has experienced rapid adoption in the last decade and is now one of the most popular programming languages."
   ]
  },
  {
   "cell_type": "markdown",
   "id": "7bcf9f5f",
   "metadata": {},
   "source": [
    "### Common Uses\n",
    "\n",
    "Python is a general-purpose language used in almost all application domains such as\n",
    "\n",
    "- communications  \n",
    "- web development  \n",
    "- CGI and graphical user interfaces  \n",
    "- game development  \n",
    "- resource planning  \n",
    "- multimedia, data science, security, etc., etc., etc.  \n",
    "\n",
    "\n",
    "Used and supported extensively by Internet services and high-tech companies including\n",
    "\n",
    "- [Google](https://www.google.com/)  \n",
    "- [Netflix](https://www.netflix.com/)  \n",
    "- [Meta](https://opensource.fb.com/)  \n",
    "- [Dropbox](https://www.dropbox.com/)  \n",
    "- [Amazon](https://www.amazon.com/)  \n",
    "- [Reddit](https://www.reddit.com/)  \n",
    "\n",
    "\n",
    "For reasons we will discuss, Python is particularly popular within the scientific community and behind many scientific achievements in\n",
    "\n",
    "- [Space Science](https://code.nasa.gov/?q=python)  \n",
    "- [Particle Physics](https://home.cern/news/news/physics/speeding-machine-learning-particle-physics)  \n",
    "- [Genetics](https://github.com/deepmind/alphafold)  \n",
    "\n",
    "\n",
    "and practically all branches of academia.\n",
    "\n",
    "Meanwhile, Python is also very beginner-friendly and is found to be suitable for students learning programming and recommended to introduce computational methods to students in [fields other than computer science](https://www.sciencedirect.com/science/article/pii/S1477388021000177).\n",
    "\n",
    "Python is also [replacing familiar tools like Excel as an essential skill](https://www.efinancialcareers.com.au/news/2021/08/python-for-banking-jobs) in the fields of finance and banking."
   ]
  },
  {
   "cell_type": "markdown",
   "id": "d60f0826",
   "metadata": {},
   "source": [
    "### Relative Popularity\n",
    "\n",
    "The following chart, produced using Stack Overflow Trends, shows one measure of the relative popularity of Python\n",
    "\n",
    "![https://python-programming.quantecon.org/_static/lecture_specific/about_py/python_vs_matlab.png](https://python-programming.quantecon.org/_static/lecture_specific/about_py/python_vs_matlab.png)\n",
    "\n",
    "  \n",
    "The figure indicates not only that Python is widely used but also that adoption of Python has accelerated significantly since 2012.\n",
    "\n",
    "We suspect this is driven at least in part by uptake in the scientific\n",
    "domain, particularly in rapidly growing fields like data science.\n",
    "\n",
    "For example, the popularity of [pandas](http://pandas.pydata.org/), a library for data analysis with Python has exploded, as seen here.\n",
    "\n",
    "(The corresponding time path for MATLAB is shown for comparison)\n",
    "\n",
    "![https://python-programming.quantecon.org/_static/lecture_specific/about_py/pandas_vs_matlab.png](https://python-programming.quantecon.org/_static/lecture_specific/about_py/pandas_vs_matlab.png)\n",
    "\n",
    "  \n",
    "Note that pandas takes off in 2012, which is the same year that we see\n",
    "Python’s popularity begin to spike in the first figure.\n",
    "\n",
    "Overall, it’s clear that\n",
    "\n",
    "- Python is [one of the most popular programming languages worldwide](https://spectrum.ieee.org/top-programming-languages-2021).  \n",
    "- Python is a major tool for scientific computing, accounting for a rapidly rising share of scientific work around the globe.  "
   ]
  },
  {
   "cell_type": "markdown",
   "id": "3ceb7943",
   "metadata": {},
   "source": [
    "### Features\n",
    "\n",
    "Python is a [high-level language](https://en.wikipedia.org/wiki/High-level_programming_language) suitable for rapid development.\n",
    "\n",
    "It has a relatively small core language supported by many libraries.\n",
    "\n",
    "Other features of Python:\n",
    "\n",
    "- multiple programming styles are supported (procedural, object-oriented, functional, etc.)  \n",
    "- it is interpreted rather than compiled.  "
   ]
  },
  {
   "cell_type": "markdown",
   "id": "441ca873",
   "metadata": {},
   "source": [
    "### Syntax and Design\n",
    "\n",
    "\n",
    "<a id='index-2'></a>\n",
    "One nice feature of Python is its elegant syntax — we’ll see many examples later on.\n",
    "\n",
    "Elegant code might sound superfluous but in fact it’s highly beneficial because it makes the syntax easy to read and easy to remember.\n",
    "\n",
    "Remembering how to read from files, sort dictionaries and other such routine tasks means that you don’t need to break your flow in order to hunt down correct syntax.\n",
    "\n",
    "Closely related to elegant syntax is an elegant design.\n",
    "\n",
    "Features like iterators, generators, decorators and list comprehensions make Python highly expressive, allowing you to get more done with less code.\n",
    "\n",
    "[Namespaces](https://en.wikipedia.org/wiki/Namespace) improve productivity by cutting down on bugs and syntax errors."
   ]
  },
  {
   "cell_type": "markdown",
   "id": "b555e115",
   "metadata": {},
   "source": [
    "## Scientific Programming\n",
    "\n",
    "\n",
    "<a id='index-3'></a>\n",
    "Python has become one of the core languages of scientific computing.\n",
    "\n",
    "It’s either the dominant player or a major player in\n",
    "\n",
    "- [machine learning and data science](https://github.com/ml-tooling/best-of-ml-python)  \n",
    "- [astronomy](http://www.astropy.org/)  \n",
    "- [chemistry](http://chemlab.github.io/chemlab/)  \n",
    "- [computational biology](http://biopython.org/wiki/Main_Page)  \n",
    "- [meteorology](https://pypi.org/project/meteorology/)  \n",
    "- [natural language processing](https://www.nltk.org/)  \n",
    "\n",
    "\n",
    "Its popularity in economics is also beginning to rise.\n",
    "\n",
    "This section briefly showcases some examples of Python for scientific programming.\n",
    "\n",
    "- All of these topics below will be covered in detail later on.  "
   ]
  },
  {
   "cell_type": "markdown",
   "id": "6ad911c8",
   "metadata": {},
   "source": [
    "### Numerical Programming\n",
    "\n",
    "\n",
    "<a id='index-4'></a>\n",
    "Fundamental matrix and array processing capabilities are provided by the excellent [NumPy](http://www.numpy.org/) library.\n",
    "\n",
    "NumPy provides the basic array data type plus some simple processing operations.\n",
    "\n",
    "For example, let’s build some arrays"
   ]
  },
  {
   "cell_type": "code",
   "execution_count": null,
   "id": "16290ae3",
   "metadata": {
    "hide-output": false
   },
   "outputs": [],
   "source": [
    "import numpy as np                     # Load the library\n",
    "\n",
    "a = np.linspace(-np.pi, np.pi, 100)    # Create even grid from -π to π\n",
    "b = np.cos(a)                          # Apply cosine to each element of a\n",
    "c = np.sin(a)                          # Apply sin to each element of a"
   ]
  },
  {
   "cell_type": "markdown",
   "id": "91b919de",
   "metadata": {},
   "source": [
    "Now let’s take the inner product"
   ]
  },
  {
   "cell_type": "code",
   "execution_count": null,
   "id": "4b5fc60f",
   "metadata": {
    "hide-output": false
   },
   "outputs": [],
   "source": [
    "b @ c"
   ]
  },
  {
   "cell_type": "markdown",
   "id": "4a9f4701",
   "metadata": {},
   "source": [
    "The number you see here might vary slightly but it’s essentially zero.\n",
    "\n",
    "(For older versions of Python and NumPy you need to use the [np.dot](http://docs.scipy.org/doc/numpy/reference/generated/numpy.dot.html) function)\n",
    "\n",
    "The [SciPy](http://www.scipy.org) library is built on top of NumPy and provides additional functionality.\n",
    "\n",
    "\n",
    "<a id='tuple-unpacking-example'></a>\n",
    "For example, let’s calculate $ \\int_{-2}^2 \\phi(z) dz $ where $ \\phi $ is the standard normal density."
   ]
  },
  {
   "cell_type": "code",
   "execution_count": null,
   "id": "7a29b800",
   "metadata": {
    "hide-output": false
   },
   "outputs": [],
   "source": [
    "from scipy.stats import norm\n",
    "from scipy.integrate import quad\n",
    "\n",
    "ϕ = norm()\n",
    "value, error = quad(ϕ.pdf, -2, 2)  # Integrate using Gaussian quadrature\n",
    "value"
   ]
  },
  {
   "cell_type": "markdown",
   "id": "be7321ed",
   "metadata": {},
   "source": [
    "SciPy includes many of the standard routines used in\n",
    "\n",
    "- [linear algebra](http://docs.scipy.org/doc/scipy/reference/linalg.html)  \n",
    "- [integration](http://docs.scipy.org/doc/scipy/reference/integrate.html)  \n",
    "- [interpolation](http://docs.scipy.org/doc/scipy/reference/interpolate.html)  \n",
    "- [optimization](http://docs.scipy.org/doc/scipy/reference/optimize.html)  \n",
    "- [distributions and statistical techniques](http://docs.scipy.org/doc/scipy/reference/stats.html)  \n",
    "- [signal processing](http://docs.scipy.org/doc/scipy/reference/signal.html)  \n",
    "\n",
    "\n",
    "See them all [here](http://docs.scipy.org/doc/scipy/reference/index.html)."
   ]
  },
  {
   "cell_type": "markdown",
   "id": "9969fad5",
   "metadata": {},
   "source": [
    "### Graphics\n",
    "\n",
    "\n",
    "<a id='index-5'></a>\n",
    "The most popular and comprehensive Python library for creating figures and graphs is [Matplotlib](http://matplotlib.org/), with functionality including\n",
    "\n",
    "- plots, histograms, contour images, 3D graphs, bar charts etc.  \n",
    "- output in many formats (PDF, PNG, EPS, etc.)  \n",
    "- LaTeX integration  \n",
    "\n",
    "\n",
    "Example 2D plot with embedded LaTeX annotations\n",
    "\n",
    "![https://python-programming.quantecon.org/_static/lecture_specific/about_py/qs.png](https://python-programming.quantecon.org/_static/lecture_specific/about_py/qs.png)\n",
    "\n",
    "  \n",
    "Example contour plot\n",
    "\n",
    "![https://python-programming.quantecon.org/_static/lecture_specific/about_py/bn_density1.png](https://python-programming.quantecon.org/_static/lecture_specific/about_py/bn_density1.png)\n",
    "\n",
    "  \n",
    "Example 3D plot\n",
    "\n",
    "![https://python-programming.quantecon.org/_static/lecture_specific/about_py/career_vf.png](https://python-programming.quantecon.org/_static/lecture_specific/about_py/career_vf.png)\n",
    "\n",
    "  \n",
    "More examples can be found in the [Matplotlib thumbnail gallery](https://matplotlib.org/stable/gallery/index.html).\n",
    "\n",
    "Other graphics libraries include\n",
    "\n",
    "- [Plotly](https://plot.ly/python/)  \n",
    "- [seaborn](https://seaborn.pydata.org/) — a high-level interface for matplotlib  \n",
    "- [Altair](https://altair-viz.github.io/)  \n",
    "- [Bokeh](http://bokeh.pydata.org/en/latest/)  \n",
    "\n",
    "\n",
    "You can visit the [Python Graph Gallery](https://www.python-graph-gallery.com/) for more example plots drawn using a variety of libraries."
   ]
  },
  {
   "cell_type": "markdown",
   "id": "63e55282",
   "metadata": {},
   "source": [
    "### Symbolic Algebra\n",
    "\n",
    "It’s useful to be able to manipulate symbolic expressions, as in Mathematica or Maple.\n",
    "\n",
    "\n",
    "<a id='index-6'></a>\n",
    "The [SymPy](http://www.sympy.org/) library provides this functionality from within the Python shell."
   ]
  },
  {
   "cell_type": "code",
   "execution_count": null,
   "id": "0ea432de",
   "metadata": {
    "hide-output": false
   },
   "outputs": [],
   "source": [
    "from sympy import Symbol\n",
    "\n",
    "x, y = Symbol('x'), Symbol('y')  # Treat 'x' and 'y' as algebraic symbols\n",
    "x + x + x + y"
   ]
  },
  {
   "cell_type": "markdown",
   "id": "e33104c7",
   "metadata": {},
   "source": [
    "We can manipulate expressions"
   ]
  },
  {
   "cell_type": "code",
   "execution_count": null,
   "id": "8502ae69",
   "metadata": {
    "hide-output": false
   },
   "outputs": [],
   "source": [
    "expression = (x + y)**2\n",
    "expression.expand()"
   ]
  },
  {
   "cell_type": "markdown",
   "id": "3d01c0e2",
   "metadata": {},
   "source": [
    "solve polynomials"
   ]
  },
  {
   "cell_type": "code",
   "execution_count": null,
   "id": "41847890",
   "metadata": {
    "hide-output": false
   },
   "outputs": [],
   "source": [
    "from sympy import solve\n",
    "\n",
    "solve(x**2 + x + 2)"
   ]
  },
  {
   "cell_type": "markdown",
   "id": "c5cfe3cb",
   "metadata": {},
   "source": [
    "and calculate limits, derivatives and integrals"
   ]
  },
  {
   "cell_type": "code",
   "execution_count": null,
   "id": "41afa327",
   "metadata": {
    "hide-output": false
   },
   "outputs": [],
   "source": [
    "from sympy import limit, sin, diff, integrate\n",
    "\n",
    "limit(1 / x, x, 0)"
   ]
  },
  {
   "cell_type": "code",
   "execution_count": null,
   "id": "72217a51",
   "metadata": {
    "hide-output": false
   },
   "outputs": [],
   "source": [
    "limit(sin(x) / x, x, 0)"
   ]
  },
  {
   "cell_type": "code",
   "execution_count": null,
   "id": "03513a8e",
   "metadata": {
    "hide-output": false
   },
   "outputs": [],
   "source": [
    "diff(sin(x), x)"
   ]
  },
  {
   "cell_type": "code",
   "execution_count": null,
   "id": "9d14d416",
   "metadata": {
    "hide-output": false
   },
   "outputs": [],
   "source": [
    "integrate(sin(x) * x, x)"
   ]
  },
  {
   "cell_type": "markdown",
   "id": "24be1ff2",
   "metadata": {},
   "source": [
    "The beauty of importing this functionality into Python is that we are working within a fully fledged programming language.\n",
    "\n",
    "We can easily create tables of derivatives, generate LaTeX output, add that output to figures and so on."
   ]
  },
  {
   "cell_type": "markdown",
   "id": "66ee4e50",
   "metadata": {},
   "source": [
    "### Statistics\n",
    "\n",
    "Python’s data manipulation and statistics libraries have improved rapidly over\n",
    "the last few years to tackle\n",
    "[specific problems in data science](https://ieeexplore.ieee.org/document/8757088)."
   ]
  },
  {
   "cell_type": "markdown",
   "id": "4e31435b",
   "metadata": {},
   "source": [
    "#### Pandas\n",
    "\n",
    "\n",
    "<a id='index-7'></a>\n",
    "One of the most popular libraries for working with data is [pandas](http://pandas.pydata.org/).\n",
    "\n",
    "Pandas is fast, efficient, flexible and well designed.\n",
    "\n",
    "Here’s a simple example, using some dummy data generated with Numpy’s excellent\n",
    "`random` functionality."
   ]
  },
  {
   "cell_type": "code",
   "execution_count": null,
   "id": "7e714da2",
   "metadata": {
    "hide-output": false
   },
   "outputs": [],
   "source": [
    "import pandas as pd\n",
    "np.random.seed(1234)\n",
    "\n",
    "data = np.random.randn(5, 2)  # 5x2 matrix of N(0, 1) random draws\n",
    "dates = pd.date_range('2010-12-28', periods=5)\n",
    "\n",
    "df = pd.DataFrame(data, columns=('price', 'weight'), index=dates)\n",
    "print(df)"
   ]
  },
  {
   "cell_type": "code",
   "execution_count": null,
   "id": "272a3914",
   "metadata": {
    "hide-output": false
   },
   "outputs": [],
   "source": [
    "df.mean()"
   ]
  },
  {
   "cell_type": "markdown",
   "id": "b4197b3b",
   "metadata": {},
   "source": [
    "#### Other Useful Statistics and Data Science Libraries\n",
    "\n",
    "\n",
    "<a id='index-8'></a>\n",
    "- [statsmodels](http://statsmodels.sourceforge.net/) — various statistical routines  \n",
    "\n",
    "\n",
    "\n",
    "<a id='index-9'></a>\n",
    "- [scikit-learn](http://scikit-learn.org/) — Machine Learning in Python  \n",
    "\n",
    "\n",
    "\n",
    "<a id='index-10'></a>\n",
    "- [PyTorch](https://pytorch.org/) — Deep learning framework in Python and other major competitors in the field including [TensorFlow](https://www.tensorflow.org/overview) and [Keras](https://keras.io/)  \n",
    "\n",
    "\n",
    "\n",
    "<a id='index-11'></a>\n",
    "- [Pyro](https://pyro.ai/) and [PyStan](https://pystan.readthedocs.org/en/latest/) — for Bayesian data analysis building on [Pytorch](https://pytorch.org/) and [stan](http://mc-stan.org/) respectively  \n",
    "\n",
    "\n",
    "\n",
    "<a id='index-12'></a>\n",
    "- [lifelines](https://lifelines.readthedocs.io/en/latest/) — for survival analysis  \n",
    "\n",
    "\n",
    "\n",
    "<a id='index-13'></a>\n",
    "- [GeoPandas](https://geopandas.org/en/stable/) — for spatial data analysis  "
   ]
  },
  {
   "cell_type": "markdown",
   "id": "c86871d0",
   "metadata": {},
   "source": [
    "### Networks and Graphs\n",
    "\n",
    "Python has many libraries for studying graphs.\n",
    "\n",
    "\n",
    "<a id='index-14'></a>\n",
    "One well-known example is [NetworkX](http://networkx.github.io/).\n",
    "Its features include, among many other things:\n",
    "\n",
    "- standard graph algorithms for analyzing networks  \n",
    "- plotting routines  \n",
    "\n",
    "\n",
    "Here’s some example code that generates and plots a random graph, with node color determined by the shortest path length from a central node."
   ]
  },
  {
   "cell_type": "code",
   "execution_count": null,
   "id": "cd2da0e1",
   "metadata": {
    "hide-output": false
   },
   "outputs": [],
   "source": [
    "%matplotlib inline\n",
    "import networkx as nx\n",
    "import matplotlib.pyplot as plt\n",
    "plt.rcParams['figure.figsize'] = (10,6)\n",
    "np.random.seed(1234)\n",
    "\n",
    "# Generate a random graph\n",
    "p = dict((i, (np.random.uniform(0, 1), np.random.uniform(0, 1)))\n",
    "         for i in range(200))\n",
    "g = nx.random_geometric_graph(200, 0.12, pos=p)\n",
    "pos = nx.get_node_attributes(g, 'pos')\n",
    "\n",
    "# Find node nearest the center point (0.5, 0.5)\n",
    "dists = [(x - 0.5)**2 + (y - 0.5)**2 for x, y in list(pos.values())]\n",
    "ncenter = np.argmin(dists)\n",
    "\n",
    "# Plot graph, coloring by path length from central node\n",
    "p = nx.single_source_shortest_path_length(g, ncenter)\n",
    "plt.figure()\n",
    "nx.draw_networkx_edges(g, pos, alpha=0.4)\n",
    "nx.draw_networkx_nodes(g,\n",
    "                       pos,\n",
    "                       nodelist=list(p.keys()),\n",
    "                       node_size=120, alpha=0.5,\n",
    "                       node_color=list(p.values()),\n",
    "                       cmap=plt.cm.jet_r)\n",
    "plt.show()"
   ]
  },
  {
   "cell_type": "markdown",
   "id": "6ff65e70",
   "metadata": {},
   "source": [
    "### Cloud Computing\n",
    "\n",
    "\n",
    "<a id='index-15'></a>\n",
    "Running your Python code on massive servers in the cloud is becoming easier and easier.\n",
    "\n",
    "\n",
    "<a id='index-16'></a>\n",
    "An excellent example of the portability of python in a cloud computing environment is [Google Colab](https://colab.research.google.com/). It hosts the Jupyter notebook on cloud servers with no pre-configuration necessary to run Python code using cloud servers.\n",
    "\n",
    "There are also commercial applications of cloud computing using Python:\n",
    "\n",
    "\n",
    "<a id='index-17'></a>\n",
    "- [Anaconda Enterprise](https://www.anaconda.com/enterprise/)  \n",
    "\n",
    "\n",
    "\n",
    "<a id='index-18'></a>\n",
    "- [Amazon Web Services](https://aws.amazon.com/developer/language/python/?nc1=f_dr)  \n",
    "\n",
    "\n",
    "\n",
    "<a id='index-19'></a>\n",
    "- [Google Cloud](https://cloud.google.com/)  \n",
    "\n",
    "\n",
    "\n",
    "<a id='index-20'></a>\n",
    "- [Digital Ocean](https://www.digitalocean.com/)  "
   ]
  },
  {
   "cell_type": "markdown",
   "id": "d8cc7883",
   "metadata": {},
   "source": [
    "### Parallel Processing\n",
    "\n",
    "\n",
    "<a id='index-21'></a>\n",
    "Apart from the cloud computing options listed above, you might like to consider\n",
    "\n",
    "\n",
    "<a id='index-22'></a>\n",
    "- [Parallel computing through IPython clusters](https://ipyparallel.readthedocs.io/en/latest/).  \n",
    "\n",
    "\n",
    "\n",
    "<a id='index-23'></a>\n",
    "- [Dask](https://www.dask.org/) parallelises PyData and Machine Learning in Python.  \n",
    "\n",
    "\n",
    "\n",
    "<a id='index-24'></a>\n",
    "- GPU programming through [JAX](https://jax.readthedocs.io/en/latest/notebooks/quickstart.html), [PyCuda](https://wiki.tiker.net/PyCuda), [PyOpenCL](https://documen.tician.de/pyopencl/), [Rapids](https://rapids.ai/), etc.  \n",
    "\n",
    "\n",
    "Here is more about [recent developments](https://pasc22.pasc-conference.org/program/papers/) in high-performance computing (HPC) in scientific computing and [how HPC helps researchers in different fields](https://pasc22.pasc-conference.org/program/keynote-presentations/).\n",
    "\n",
    "\n",
    "<a id='intfc'></a>"
   ]
  },
  {
   "cell_type": "markdown",
   "id": "fa54e5ea",
   "metadata": {},
   "source": [
    "### Other Developments\n",
    "\n",
    "There are many other interesting developments with scientific programming in Python.\n",
    "\n",
    "Some representative examples include\n",
    "\n",
    "\n",
    "<a id='index-25'></a>\n",
    "- [Jupyter](http://jupyter.org/) — Python in your browser with interactive code cells,  embedded images and other useful features.  \n",
    "\n",
    "\n",
    "\n",
    "<a id='index-26'></a>\n",
    "- [Numba](http://numba.pydata.org/) — make Python run at the same speed as native machine code!  \n",
    "\n",
    "\n",
    "\n",
    "<a id='index-27'></a>\n",
    "- [CVXPY](https://www.cvxpy.org/) — convex optimization in Python.  \n",
    "\n",
    "\n",
    "\n",
    "<a id='index-28'></a>\n",
    "- [PyTables](http://www.pytables.org) — manage large data sets.  \n",
    "\n",
    "\n",
    "\n",
    "<a id='index-29'></a>\n",
    "- [scikit-image](https://scikit-image.org/) and [OpenCV](https://opencv.org/) — process and analyse scientific image data.  \n",
    "\n",
    "\n",
    "\n",
    "<a id='index-30'></a>\n",
    "- [FLAML](https://mlflow.org/docs/latest/index.html) — automate machine learning and hyperparameter tuning.  \n",
    "\n",
    "\n",
    "\n",
    "<a id='index-31'></a>\n",
    "- [BeautifulSoup](https://www.crummy.com/software/BeautifulSoup/bs4/doc/) — extract data from HTML and XML files.  \n",
    "\n",
    "\n",
    "\n",
    "<a id='index-32'></a>\n",
    "- [PyInstaller](https://pyinstaller.org/en/stable/) — create packaged app from python script.  "
   ]
  },
  {
   "cell_type": "markdown",
   "id": "cffcfb00",
   "metadata": {},
   "source": [
    "## Learn More\n",
    "\n",
    "- Browse some Python projects on [GitHub](https://github.com/trending?l=python).  \n",
    "- Read more about [Python’s history and rise in popularity](https://www.welcometothejungle.com/en/articles/btc-python-popular) and [version history](https://www.python.org/doc/versions/).  \n",
    "- Have a look at [some of the Jupyter notebooks](http://nbviewer.jupyter.org/) people have shared on various scientific topics.  \n",
    "\n",
    "\n",
    "\n",
    "<a id='index-33'></a>\n",
    "- Visit the [Python Package Index](https://pypi.org/).  \n",
    "- View some of the questions people are asking about Python on [Stackoverflow](http://stackoverflow.com/questions/tagged/python).  \n",
    "- Keep up to date on what’s happening in the Python community with the [Python subreddit](https://www.reddit.com:443/r/Python/).  "
   ]
  }
 ],
 "metadata": {
  "date": 1662334484.4236236,
  "filename": "about_py.md",
  "kernelspec": {
   "display_name": "Python",
   "language": "python3",
   "name": "python3"
  },
  "title": "About Python"
 },
 "nbformat": 4,
 "nbformat_minor": 5
}