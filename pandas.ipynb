{
 "cells": [
  {
   "cell_type": "markdown",
   "id": "c4ee4b0c",
   "metadata": {},
   "source": [
    "\n",
    "<a id='pd'></a>\n",
    "<div id=\"qe-notebook-header\" align=\"right\" style=\"text-align:right;\">\n",
    "        <a href=\"https://quantecon.org/\" title=\"quantecon.org\">\n",
    "                <img style=\"width:250px;display:inline;\" width=\"250px\" src=\"https://assets.quantecon.org/img/qe-menubar-logo.svg\" alt=\"QuantEcon\">\n",
    "        </a>\n",
    "</div>"
   ]
  },
  {
   "cell_type": "markdown",
   "id": "8354735c",
   "metadata": {},
   "source": [
    "# Pandas\n",
    "\n",
    "\n",
    "<a id='index-1'></a>\n",
    "In addition to what’s in Anaconda, this lecture will need the following libraries:"
   ]
  },
  {
   "cell_type": "code",
   "execution_count": null,
   "id": "4c8e0bf2",
   "metadata": {
    "hide-output": false
   },
   "outputs": [],
   "source": [
    "!pip install --upgrade wbgapi\n",
    "!pip install --upgrade yfinance"
   ]
  },
  {
   "cell_type": "markdown",
   "id": "7228a52c",
   "metadata": {},
   "source": [
    "## Overview\n",
    "\n",
    "[Pandas](http://pandas.pydata.org/) is a package of fast, efficient data analysis tools for Python.\n",
    "\n",
    "Its popularity has surged in recent years, coincident with the rise\n",
    "of fields such as data science and machine learning.\n",
    "\n",
    "Here’s a popularity comparison over time against Matlab and STATA courtesy of Stack Overflow Trends\n",
    "\n",
    "![https://python-programming.quantecon.org/_static/lecture_specific/pandas/pandas_vs_rest.png](https://python-programming.quantecon.org/_static/lecture_specific/pandas/pandas_vs_rest.png)\n",
    "\n",
    "  \n",
    "Just as [NumPy](http://www.numpy.org/) provides the basic array data type plus core array operations, pandas\n",
    "\n",
    "1. defines fundamental structures for working with data and  \n",
    "1. endows them with methods that facilitate operations such as  \n",
    "  - reading in data  \n",
    "  - adjusting indices  \n",
    "  - working with dates and time series  \n",
    "  - sorting, grouping, re-ordering and general data munging <sup><a href=#mung id=mung-link>[1]</a></sup>  \n",
    "  - dealing with missing values, etc., etc.  \n",
    "\n",
    "\n",
    "More sophisticated statistical functionality is left to other packages, such\n",
    "as [statsmodels](http://www.statsmodels.org/) and [scikit-learn](http://scikit-learn.org/), which are built on top of pandas.\n",
    "\n",
    "This lecture will provide a basic introduction to pandas.\n",
    "\n",
    "Throughout the lecture, we will assume that the following imports have taken\n",
    "place"
   ]
  },
  {
   "cell_type": "code",
   "execution_count": null,
   "id": "68990d75",
   "metadata": {
    "hide-output": false
   },
   "outputs": [],
   "source": [
    "import pandas as pd\n",
    "import numpy as np\n",
    "import matplotlib.pyplot as plt\n",
    "import requests"
   ]
  },
  {
   "cell_type": "markdown",
   "id": "f2773f63",
   "metadata": {},
   "source": [
    "Two important data types defined by pandas are  `Series` and `DataFrame`.\n",
    "\n",
    "You can think of a `Series` as a “column” of data, such as a collection of observations on a single variable.\n",
    "\n",
    "A `DataFrame` is a two-dimensional object for storing related columns of data."
   ]
  },
  {
   "cell_type": "markdown",
   "id": "527cffb4",
   "metadata": {},
   "source": [
    "## Series\n",
    "\n",
    "\n",
    "<a id='index-2'></a>\n",
    "Let’s start with Series.\n",
    "\n",
    "We begin by creating a series of four random observations"
   ]
  },
  {
   "cell_type": "code",
   "execution_count": null,
   "id": "6a36f44d",
   "metadata": {
    "hide-output": false
   },
   "outputs": [],
   "source": [
    "s = pd.Series(np.random.randn(4), name='daily returns')\n",
    "s"
   ]
  },
  {
   "cell_type": "markdown",
   "id": "5e8875df",
   "metadata": {},
   "source": [
    "Here you can imagine the indices `0, 1, 2, 3` as indexing four listed\n",
    "companies, and the values being daily returns on their shares.\n",
    "\n",
    "Pandas `Series` are built on top of NumPy arrays and support many similar\n",
    "operations"
   ]
  },
  {
   "cell_type": "code",
   "execution_count": null,
   "id": "65114cad",
   "metadata": {
    "hide-output": false
   },
   "outputs": [],
   "source": [
    "s * 100"
   ]
  },
  {
   "cell_type": "code",
   "execution_count": null,
   "id": "95cd33e1",
   "metadata": {
    "hide-output": false
   },
   "outputs": [],
   "source": [
    "np.abs(s)"
   ]
  },
  {
   "cell_type": "markdown",
   "id": "5226d2d8",
   "metadata": {},
   "source": [
    "But `Series` provide more than NumPy arrays.\n",
    "\n",
    "Not only do they have some additional (statistically oriented) methods"
   ]
  },
  {
   "cell_type": "code",
   "execution_count": null,
   "id": "0c952918",
   "metadata": {
    "hide-output": false
   },
   "outputs": [],
   "source": [
    "s.describe()"
   ]
  },
  {
   "cell_type": "markdown",
   "id": "ac0a1317",
   "metadata": {},
   "source": [
    "But their indices are more flexible"
   ]
  },
  {
   "cell_type": "code",
   "execution_count": null,
   "id": "2ad6eed1",
   "metadata": {
    "hide-output": false
   },
   "outputs": [],
   "source": [
    "s.index = ['AMZN', 'AAPL', 'MSFT', 'GOOG']\n",
    "s"
   ]
  },
  {
   "cell_type": "markdown",
   "id": "08b0f369",
   "metadata": {},
   "source": [
    "Viewed in this way, `Series` are like fast, efficient Python dictionaries\n",
    "(with the restriction that the items in the dictionary all have the same\n",
    "type—in this case, floats).\n",
    "\n",
    "In fact, you can use much of the same syntax as Python dictionaries"
   ]
  },
  {
   "cell_type": "code",
   "execution_count": null,
   "id": "7ccbac54",
   "metadata": {
    "hide-output": false
   },
   "outputs": [],
   "source": [
    "s['AMZN']"
   ]
  },
  {
   "cell_type": "code",
   "execution_count": null,
   "id": "3435b33a",
   "metadata": {
    "hide-output": false
   },
   "outputs": [],
   "source": [
    "s['AMZN'] = 0\n",
    "s"
   ]
  },
  {
   "cell_type": "code",
   "execution_count": null,
   "id": "b54a1bb8",
   "metadata": {
    "hide-output": false
   },
   "outputs": [],
   "source": [
    "'AAPL' in s"
   ]
  },
  {
   "cell_type": "markdown",
   "id": "5e25b85a",
   "metadata": {},
   "source": [
    "## DataFrames\n",
    "\n",
    "\n",
    "<a id='index-3'></a>\n",
    "While a `Series` is a single column of data, a `DataFrame` is several columns, one for each variable.\n",
    "\n",
    "In essence, a `DataFrame` in pandas is analogous to a (highly optimized) Excel spreadsheet.\n",
    "\n",
    "Thus, it is a powerful tool for representing and analyzing data that are naturally organized into rows and columns, often with descriptive indexes for individual rows and individual columns.\n",
    "\n",
    "Let’s look at an example that reads data from the CSV file `pandas/data/test_pwt.csv`, which is taken from the [Penn World Tables](https://www.rug.nl/ggdc/productivity/pwt/pwt-releases/pwt-7.0).\n",
    "\n",
    "The dataset contains the following indicators\n",
    "\n",
    "|Variable Name|Description|\n",
    "|:------------------------------------------------:|:------------------------------------------------:|\n",
    "|POP|Population (in thousands)|\n",
    "|XRAT|Exchange Rate to US Dollar|\n",
    "|tcgdp|Total PPP Converted GDP (in million international dollar)|\n",
    "|cc|Consumption Share of PPP Converted GDP Per Capita (%)|\n",
    "|cg|Government Consumption Share of PPP Converted GDP Per Capita (%)|\n",
    "We’ll read this in from a URL using the `pandas` function `read_csv`."
   ]
  },
  {
   "cell_type": "code",
   "execution_count": null,
   "id": "5052a24d",
   "metadata": {
    "hide-output": false
   },
   "outputs": [],
   "source": [
    "df = pd.read_csv('https://raw.githubusercontent.com/QuantEcon/lecture-python-programming/master/source/_static/lecture_specific/pandas/data/test_pwt.csv')\n",
    "type(df)"
   ]
  },
  {
   "cell_type": "markdown",
   "id": "412ed46c",
   "metadata": {},
   "source": [
    "Here’s the content of `test_pwt.csv`"
   ]
  },
  {
   "cell_type": "code",
   "execution_count": null,
   "id": "a2d4216d",
   "metadata": {
    "hide-output": false
   },
   "outputs": [],
   "source": [
    "df"
   ]
  },
  {
   "cell_type": "markdown",
   "id": "97791ee6",
   "metadata": {},
   "source": [
    "### Select Data by Position\n",
    "\n",
    "In practice, one thing that we do all the time is to find, select and work with a subset of the data of our interests.\n",
    "\n",
    "We can select particular rows using standard Python array slicing notation"
   ]
  },
  {
   "cell_type": "code",
   "execution_count": null,
   "id": "766b2ad5",
   "metadata": {
    "hide-output": false
   },
   "outputs": [],
   "source": [
    "df[2:5]"
   ]
  },
  {
   "cell_type": "markdown",
   "id": "8fa352c3",
   "metadata": {},
   "source": [
    "To select columns, we can pass a list containing the names of the desired columns represented as strings"
   ]
  },
  {
   "cell_type": "code",
   "execution_count": null,
   "id": "407fd0ca",
   "metadata": {
    "hide-output": false
   },
   "outputs": [],
   "source": [
    "df[['country', 'tcgdp']]"
   ]
  },
  {
   "cell_type": "markdown",
   "id": "4a4f8449",
   "metadata": {},
   "source": [
    "To select both rows and columns using integers, the `iloc` attribute should be used with the format `.iloc[rows, columns]`."
   ]
  },
  {
   "cell_type": "code",
   "execution_count": null,
   "id": "23aa7a5c",
   "metadata": {
    "hide-output": false
   },
   "outputs": [],
   "source": [
    "df.iloc[2:5, 0:4]"
   ]
  },
  {
   "cell_type": "markdown",
   "id": "5b6b0544",
   "metadata": {},
   "source": [
    "To select rows and columns using a mixture of integers and labels, the `loc` attribute can be used in a similar way"
   ]
  },
  {
   "cell_type": "code",
   "execution_count": null,
   "id": "426b00e2",
   "metadata": {
    "hide-output": false
   },
   "outputs": [],
   "source": [
    "df.loc[df.index[2:5], ['country', 'tcgdp']]"
   ]
  },
  {
   "cell_type": "markdown",
   "id": "8dd5ace3",
   "metadata": {},
   "source": [
    "### Select Data by Conditions\n",
    "\n",
    "Instead of indexing rows and columns using integers and names, we can also obtain a sub-dataframe of our interests that satisfies certain (potentially complicated) conditions.\n",
    "\n",
    "This section demonstrates various ways to do that.\n",
    "\n",
    "The most straightforward way is with the `[]` operator."
   ]
  },
  {
   "cell_type": "code",
   "execution_count": null,
   "id": "c665bde5",
   "metadata": {
    "hide-output": false
   },
   "outputs": [],
   "source": [
    "df[df.POP >= 20000]"
   ]
  },
  {
   "cell_type": "markdown",
   "id": "52787fd0",
   "metadata": {},
   "source": [
    "To understand what is going on here, notice that `df.POP >= 20000` returns a series of boolean values."
   ]
  },
  {
   "cell_type": "code",
   "execution_count": null,
   "id": "5edfff5b",
   "metadata": {
    "hide-output": false
   },
   "outputs": [],
   "source": [
    "df.POP >= 20000"
   ]
  },
  {
   "cell_type": "markdown",
   "id": "d4c1d57b",
   "metadata": {},
   "source": [
    "In this case, `df[___]` takes a series of boolean values and only returns rows with the `True` values.\n",
    "\n",
    "Take one more example,"
   ]
  },
  {
   "cell_type": "code",
   "execution_count": null,
   "id": "c964c9f5",
   "metadata": {
    "hide-output": false
   },
   "outputs": [],
   "source": [
    "df[(df.country.isin(['Argentina', 'India', 'South Africa'])) & (df.POP > 40000)]"
   ]
  },
  {
   "cell_type": "markdown",
   "id": "98419bd4",
   "metadata": {},
   "source": [
    "However, there is another way of doing the same thing, which can be slightly faster for large dataframes, with more natural syntax."
   ]
  },
  {
   "cell_type": "code",
   "execution_count": null,
   "id": "bdf4b244",
   "metadata": {
    "hide-output": false
   },
   "outputs": [],
   "source": [
    "# the above is equivalent to \n",
    "df.query(\"POP >= 20000\")"
   ]
  },
  {
   "cell_type": "code",
   "execution_count": null,
   "id": "e5512c01",
   "metadata": {
    "hide-output": false
   },
   "outputs": [],
   "source": [
    "df.query(\"country in ['Argentina', 'India', 'South Africa'] and POP > 40000\")"
   ]
  },
  {
   "cell_type": "markdown",
   "id": "5d964baa",
   "metadata": {},
   "source": [
    "We can also allow arithmetic operations between different columns."
   ]
  },
  {
   "cell_type": "code",
   "execution_count": null,
   "id": "31199c7b",
   "metadata": {
    "hide-output": false
   },
   "outputs": [],
   "source": [
    "df[(df.cc + df.cg >= 80) & (df.POP <= 20000)]"
   ]
  },
  {
   "cell_type": "code",
   "execution_count": null,
   "id": "c43088ea",
   "metadata": {
    "hide-output": false
   },
   "outputs": [],
   "source": [
    "# the above is equivalent to \n",
    "df.query(\"cc + cg >= 80 & POP <= 20000\")"
   ]
  },
  {
   "cell_type": "markdown",
   "id": "7846d56e",
   "metadata": {},
   "source": [
    "For example, we can use the conditioning to select the country with the largest household consumption - gdp share `cc`."
   ]
  },
  {
   "cell_type": "code",
   "execution_count": null,
   "id": "5d8fa374",
   "metadata": {
    "hide-output": false
   },
   "outputs": [],
   "source": [
    "df.loc[df.cc == max(df.cc)]"
   ]
  },
  {
   "cell_type": "markdown",
   "id": "a2dc8cc0",
   "metadata": {},
   "source": [
    "When we only want to look at certain columns of a selected sub-dataframe, we can use the above conditions with the `.loc[__ , __]` command.\n",
    "\n",
    "The first argument takes the condition, while the second argument takes a list of columns we want to return."
   ]
  },
  {
   "cell_type": "code",
   "execution_count": null,
   "id": "f6b7f707",
   "metadata": {
    "hide-output": false
   },
   "outputs": [],
   "source": [
    "df.loc[(df.cc + df.cg >= 80) & (df.POP <= 20000), ['country', 'year', 'POP']]"
   ]
  },
  {
   "cell_type": "markdown",
   "id": "360f1c91",
   "metadata": {},
   "source": [
    "**Application: Subsetting Dataframe**\n",
    "\n",
    "Real-world datasets can be [enormous](https://developers.google.com/machine-learning/data-prep/construct/collect/data-size-quality).\n",
    "\n",
    "It is sometimes desirable to work with a subset of data to enhance computational efficiency and reduce redundancy.\n",
    "\n",
    "Let’s imagine that we’re only interested in the population (`POP`) and total GDP (`tcgdp`).\n",
    "\n",
    "One way to strip the data frame `df` down to only these variables is to overwrite the dataframe using the selection method described above"
   ]
  },
  {
   "cell_type": "code",
   "execution_count": null,
   "id": "0415d9c2",
   "metadata": {
    "hide-output": false
   },
   "outputs": [],
   "source": [
    "df_subset = df[['country', 'POP', 'tcgdp']]\n",
    "df_subset"
   ]
  },
  {
   "cell_type": "markdown",
   "id": "34d0830c",
   "metadata": {},
   "source": [
    "We can then save the smaller dataset for further analysis."
   ]
  },
  {
   "cell_type": "markdown",
   "id": "c5a6e07a",
   "metadata": {
    "hide-output": false
   },
   "source": [
    "```python3\n",
    "df_subset.to_csv('pwt_subset.csv', index=False)\n",
    "```\n"
   ]
  },
  {
   "cell_type": "markdown",
   "id": "5bdc4354",
   "metadata": {},
   "source": [
    "### Apply Method\n",
    "\n",
    "Another widely used Pandas method is `df.apply()`.\n",
    "\n",
    "It applies a function to each row/column and returns a series.\n",
    "\n",
    "This function can be some built-in functions like the `max` function, a `lambda` function, or a user-defined function.\n",
    "\n",
    "Here is an example using the `max` function"
   ]
  },
  {
   "cell_type": "code",
   "execution_count": null,
   "id": "6d7b74d1",
   "metadata": {
    "hide-output": false
   },
   "outputs": [],
   "source": [
    "df[['year', 'POP', 'XRAT', 'tcgdp', 'cc', 'cg']].apply(max)"
   ]
  },
  {
   "cell_type": "markdown",
   "id": "ca8a401f",
   "metadata": {},
   "source": [
    "This line of code applies the `max` function to all selected columns.\n",
    "\n",
    "`lambda` function is often used with `df.apply()` method\n",
    "\n",
    "A trivial example is to return itself for each row in the dataframe"
   ]
  },
  {
   "cell_type": "code",
   "execution_count": null,
   "id": "93b84953",
   "metadata": {
    "hide-output": false
   },
   "outputs": [],
   "source": [
    "df.apply(lambda row: row, axis=1)"
   ]
  },
  {
   "cell_type": "markdown",
   "id": "a8499ac0",
   "metadata": {},
   "source": [
    ">**Note**\n",
    ">\n",
    ">For the `.apply()` method\n",
    "\n",
    "- axis = 0 – apply function to each column (variables)  \n",
    "- axis = 1 – apply function to each row (observations)  \n",
    "- axis = 0 is the default parameter  \n",
    "\n",
    "\n",
    "We can use it together with `.loc[]` to do some more advanced selection."
   ]
  },
  {
   "cell_type": "code",
   "execution_count": null,
   "id": "157cbb96",
   "metadata": {
    "hide-output": false
   },
   "outputs": [],
   "source": [
    "complexCondition = df.apply(\n",
    "    lambda row: row.POP > 40000 if row.country in ['Argentina', 'India', 'South Africa'] else row.POP < 20000, \n",
    "    axis=1), ['country', 'year', 'POP', 'XRAT', 'tcgdp']"
   ]
  },
  {
   "cell_type": "markdown",
   "id": "82d32c75",
   "metadata": {},
   "source": [
    "`df.apply()` here returns a series of boolean values rows that satisfies the condition specified in the if-else statement.\n",
    "\n",
    "In addition, it also defines a subset of variables of interest."
   ]
  },
  {
   "cell_type": "code",
   "execution_count": null,
   "id": "9da6945e",
   "metadata": {
    "hide-output": false
   },
   "outputs": [],
   "source": [
    "complexCondition"
   ]
  },
  {
   "cell_type": "markdown",
   "id": "8c0349d7",
   "metadata": {},
   "source": [
    "When we apply this condition to the dataframe, the result will be"
   ]
  },
  {
   "cell_type": "code",
   "execution_count": null,
   "id": "4973ad04",
   "metadata": {
    "hide-output": false
   },
   "outputs": [],
   "source": [
    "df.loc[complexCondition]"
   ]
  },
  {
   "cell_type": "markdown",
   "id": "971baf19",
   "metadata": {},
   "source": [
    "### Make Changes in DataFrames\n",
    "\n",
    "The ability to make changes in dataframes is important to generate a clean dataset for future analysis.\n",
    "\n",
    "**1.** We can use `df.where()` conveniently to “keep” the rows we have selected and replace the rest rows with any other values"
   ]
  },
  {
   "cell_type": "code",
   "execution_count": null,
   "id": "92b9c5b9",
   "metadata": {
    "hide-output": false
   },
   "outputs": [],
   "source": [
    "df.where(df.POP >= 20000, False)"
   ]
  },
  {
   "cell_type": "markdown",
   "id": "e2b0419c",
   "metadata": {},
   "source": [
    "**2.** We can simply use `.loc[]` to specify the column that we want to modify, and assign values"
   ]
  },
  {
   "cell_type": "code",
   "execution_count": null,
   "id": "ed503b93",
   "metadata": {
    "hide-output": false
   },
   "outputs": [],
   "source": [
    "df.loc[df.cg == max(df.cg), 'cg'] = np.nan\n",
    "df"
   ]
  },
  {
   "cell_type": "markdown",
   "id": "f037d0be",
   "metadata": {},
   "source": [
    "**3.** We can use the `.apply()` method to modify *rows/columns as a whole*"
   ]
  },
  {
   "cell_type": "code",
   "execution_count": null,
   "id": "5bc4d0b3",
   "metadata": {
    "hide-output": false
   },
   "outputs": [],
   "source": [
    "def update_row(row):\n",
    "    # modify POP\n",
    "    row.POP = np.nan if row.POP<= 10000 else row.POP\n",
    "\n",
    "    # modify XRAT\n",
    "    row.XRAT = row.XRAT / 10\n",
    "    return row\n",
    "\n",
    "df.apply(update_row, axis=1)"
   ]
  },
  {
   "cell_type": "markdown",
   "id": "8720666b",
   "metadata": {},
   "source": [
    "**4.** We can use the `.map()` method to modify all *individual entries* in the dataframe altogether."
   ]
  },
  {
   "cell_type": "code",
   "execution_count": null,
   "id": "e28e4b23",
   "metadata": {
    "hide-output": false
   },
   "outputs": [],
   "source": [
    "# Round all decimal numbers to 2 decimal places\n",
    "df.map(lambda x : round(x,2) if type(x)!=str else x)"
   ]
  },
  {
   "cell_type": "markdown",
   "id": "f7f3ba24",
   "metadata": {},
   "source": [
    "**Application: Missing Value Imputation**\n",
    "\n",
    "Replacing missing values is an important step in data munging.\n",
    "\n",
    "Let’s randomly insert some NaN values"
   ]
  },
  {
   "cell_type": "code",
   "execution_count": null,
   "id": "08d3bc7a",
   "metadata": {
    "hide-output": false
   },
   "outputs": [],
   "source": [
    "for idx in list(zip([0, 3, 5, 6], [3, 4, 6, 2])):\n",
    "    df.iloc[idx] = np.nan\n",
    "\n",
    "df"
   ]
  },
  {
   "cell_type": "markdown",
   "id": "65ef9e8b",
   "metadata": {},
   "source": [
    "The `zip()` function here creates pairs of values from the two lists (i.e. [0,3], [3,4] …)\n",
    "\n",
    "We can use the `.map()` method again to replace all missing values with 0"
   ]
  },
  {
   "cell_type": "code",
   "execution_count": null,
   "id": "e065c421",
   "metadata": {
    "hide-output": false
   },
   "outputs": [],
   "source": [
    "# replace all NaN values by 0\n",
    "def replace_nan(x):\n",
    "    if type(x)!=str:\n",
    "        return  0 if np.isnan(x) else x\n",
    "    else:\n",
    "        return x\n",
    "\n",
    "df.map(replace_nan)"
   ]
  },
  {
   "cell_type": "markdown",
   "id": "cc5d0348",
   "metadata": {},
   "source": [
    "Pandas also provides us with convenient methods to replace missing values.\n",
    "\n",
    "For example, single imputation using variable means can be easily done in pandas"
   ]
  },
  {
   "cell_type": "code",
   "execution_count": null,
   "id": "465e28ab",
   "metadata": {
    "hide-output": false
   },
   "outputs": [],
   "source": [
    "df = df.fillna(df.iloc[:,2:8].mean())\n",
    "df"
   ]
  },
  {
   "cell_type": "markdown",
   "id": "a92a1edd",
   "metadata": {},
   "source": [
    "Missing value imputation is a big area in data science involving various machine learning techniques.\n",
    "\n",
    "There are also more [advanced tools](https://scikit-learn.org/stable/modules/impute.html) in python to impute missing values."
   ]
  },
  {
   "cell_type": "markdown",
   "id": "3708acf6",
   "metadata": {},
   "source": [
    "### Standardization and Visualization\n",
    "\n",
    "Let’s imagine that we’re only interested in the population (`POP`) and total GDP (`tcgdp`).\n",
    "\n",
    "One way to strip the data frame `df` down to only these variables is to overwrite the dataframe using the selection method described above"
   ]
  },
  {
   "cell_type": "code",
   "execution_count": null,
   "id": "1c5d9a89",
   "metadata": {
    "hide-output": false
   },
   "outputs": [],
   "source": [
    "df = df[['country', 'POP', 'tcgdp']]\n",
    "df"
   ]
  },
  {
   "cell_type": "markdown",
   "id": "5cd3a042",
   "metadata": {},
   "source": [
    "Here the index `0, 1,..., 7` is redundant because we can use the country names as an index.\n",
    "\n",
    "To do this, we set the index to be the `country` variable in the dataframe"
   ]
  },
  {
   "cell_type": "code",
   "execution_count": null,
   "id": "a7d459a5",
   "metadata": {
    "hide-output": false
   },
   "outputs": [],
   "source": [
    "df = df.set_index('country')\n",
    "df"
   ]
  },
  {
   "cell_type": "markdown",
   "id": "09df9528",
   "metadata": {},
   "source": [
    "Let’s give the columns slightly better names"
   ]
  },
  {
   "cell_type": "code",
   "execution_count": null,
   "id": "aa12ab93",
   "metadata": {
    "hide-output": false
   },
   "outputs": [],
   "source": [
    "df.columns = 'population', 'total GDP'\n",
    "df"
   ]
  },
  {
   "cell_type": "markdown",
   "id": "439519f5",
   "metadata": {},
   "source": [
    "The `population` variable is in thousands, let’s revert to single units"
   ]
  },
  {
   "cell_type": "code",
   "execution_count": null,
   "id": "6f576949",
   "metadata": {
    "hide-output": false
   },
   "outputs": [],
   "source": [
    "df['population'] = df['population'] * 1e3\n",
    "df"
   ]
  },
  {
   "cell_type": "markdown",
   "id": "368c5e94",
   "metadata": {},
   "source": [
    "Next, we’re going to add a column showing real GDP per capita, multiplying by 1,000,000 as we go because total GDP is in millions"
   ]
  },
  {
   "cell_type": "code",
   "execution_count": null,
   "id": "0d8bf986",
   "metadata": {
    "hide-output": false
   },
   "outputs": [],
   "source": [
    "df['GDP percap'] = df['total GDP'] * 1e6 / df['population']\n",
    "df"
   ]
  },
  {
   "cell_type": "markdown",
   "id": "6b663b09",
   "metadata": {},
   "source": [
    "One of the nice things about pandas `DataFrame` and `Series` objects is that they have methods for plotting and visualization that work through Matplotlib.\n",
    "\n",
    "For example, we can easily generate a bar plot of GDP per capita"
   ]
  },
  {
   "cell_type": "code",
   "execution_count": null,
   "id": "df764da1",
   "metadata": {
    "hide-output": false
   },
   "outputs": [],
   "source": [
    "ax = df['GDP percap'].plot(kind='bar')\n",
    "ax.set_xlabel('country', fontsize=12)\n",
    "ax.set_ylabel('GDP per capita', fontsize=12)\n",
    "plt.show()"
   ]
  },
  {
   "cell_type": "markdown",
   "id": "389fbd82",
   "metadata": {},
   "source": [
    "At the moment the data frame is ordered alphabetically on the countries—let’s change it to GDP per capita"
   ]
  },
  {
   "cell_type": "code",
   "execution_count": null,
   "id": "0e371f7a",
   "metadata": {
    "hide-output": false
   },
   "outputs": [],
   "source": [
    "df = df.sort_values(by='GDP percap', ascending=False)\n",
    "df"
   ]
  },
  {
   "cell_type": "markdown",
   "id": "5f7a3fa9",
   "metadata": {},
   "source": [
    "Plotting as before now yields"
   ]
  },
  {
   "cell_type": "code",
   "execution_count": null,
   "id": "1e9a0b87",
   "metadata": {
    "hide-output": false
   },
   "outputs": [],
   "source": [
    "ax = df['GDP percap'].plot(kind='bar')\n",
    "ax.set_xlabel('country', fontsize=12)\n",
    "ax.set_ylabel('GDP per capita', fontsize=12)\n",
    "plt.show()"
   ]
  },
  {
   "cell_type": "markdown",
   "id": "6f08173a",
   "metadata": {},
   "source": [
    "## On-Line Data Sources\n",
    "\n",
    "\n",
    "<a id='index-4'></a>\n",
    "Python makes it straightforward to query online databases programmatically.\n",
    "\n",
    "An important database for economists is [FRED](https://research.stlouisfed.org/fred2/) — a vast collection of time series data maintained by the St. Louis Fed.\n",
    "\n",
    "For example, suppose that we are interested in the [unemployment rate](https://research.stlouisfed.org/fred2/series/UNRATE).\n",
    "\n",
    "(To download the data as a csv, click on the top right `Download` and select the `CSV (data)` option).\n",
    "\n",
    "Alternatively, we can access the CSV file from within a Python program.\n",
    "\n",
    "This can be done with a variety of methods.\n",
    "\n",
    "We start with a relatively low-level method and then return to pandas."
   ]
  },
  {
   "cell_type": "markdown",
   "id": "ced21df3",
   "metadata": {},
   "source": [
    "### Accessing Data with requests\n",
    "\n",
    "\n",
    "<a id='index-6'></a>\n",
    "One option is to use [requests](https://requests.readthedocs.io/en/master/), a standard Python library for requesting data over the Internet.\n",
    "\n",
    "To begin, try the following code on your computer"
   ]
  },
  {
   "cell_type": "code",
   "execution_count": null,
   "id": "e430bc35",
   "metadata": {
    "hide-output": false
   },
   "outputs": [],
   "source": [
    "r = requests.get('https://fred.stlouisfed.org/graph/fredgraph.csv?bgcolor=%23e1e9f0&chart_type=line&drp=0&fo=open%20sans&graph_bgcolor=%23ffffff&height=450&mode=fred&recession_bars=on&txtcolor=%23444444&ts=12&tts=12&width=1318&nt=0&thu=0&trc=0&show_legend=yes&show_axis_titles=yes&show_tooltip=yes&id=UNRATE&scale=left&cosd=1948-01-01&coed=2024-06-01&line_color=%234572a7&link_values=false&line_style=solid&mark_type=none&mw=3&lw=2&ost=-99999&oet=99999&mma=0&fml=a&fq=Monthly&fam=avg&fgst=lin&fgsnd=2020-02-01&line_index=1&transformation=lin&vintage_date=2024-07-29&revision_date=2024-07-29&nd=1948-01-01')"
   ]
  },
  {
   "cell_type": "markdown",
   "id": "fe83cc4d",
   "metadata": {},
   "source": [
    "If there’s no error message, then the call has succeeded.\n",
    "\n",
    "If you do get an error, then there are two likely causes\n",
    "\n",
    "1. You are not connected to the Internet — hopefully, this isn’t the case.  \n",
    "1. Your machine is accessing the Internet through a proxy server, and Python isn’t aware of this.  \n",
    "\n",
    "\n",
    "In the second case, you can either\n",
    "\n",
    "- switch to another machine  \n",
    "- solve your proxy problem by reading [the documentation](https://requests.readthedocs.io/en/master/)  \n",
    "\n",
    "\n",
    "Assuming that all is working, you can now proceed to use the `source` object returned by the call `requests.get('http://research.stlouisfed.org/fred2/series/UNRATE/downloaddata/UNRATE.csv')`"
   ]
  },
  {
   "cell_type": "code",
   "execution_count": null,
   "id": "73d43f72",
   "metadata": {
    "hide-output": false
   },
   "outputs": [],
   "source": [
    "url = 'https://fred.stlouisfed.org/graph/fredgraph.csv?bgcolor=%23e1e9f0&chart_type=line&drp=0&fo=open%20sans&graph_bgcolor=%23ffffff&height=450&mode=fred&recession_bars=on&txtcolor=%23444444&ts=12&tts=12&width=1318&nt=0&thu=0&trc=0&show_legend=yes&show_axis_titles=yes&show_tooltip=yes&id=UNRATE&scale=left&cosd=1948-01-01&coed=2024-06-01&line_color=%234572a7&link_values=false&line_style=solid&mark_type=none&mw=3&lw=2&ost=-99999&oet=99999&mma=0&fml=a&fq=Monthly&fam=avg&fgst=lin&fgsnd=2020-02-01&line_index=1&transformation=lin&vintage_date=2024-07-29&revision_date=2024-07-29&nd=1948-01-01'\n",
    "source = requests.get(url).content.decode().split(\"\\n\")\n",
    "source[0]"
   ]
  },
  {
   "cell_type": "code",
   "execution_count": null,
   "id": "930dcc93",
   "metadata": {
    "hide-output": false
   },
   "outputs": [],
   "source": [
    "source[1]"
   ]
  },
  {
   "cell_type": "code",
   "execution_count": null,
   "id": "30ecc7af",
   "metadata": {
    "hide-output": false
   },
   "outputs": [],
   "source": [
    "source[2]"
   ]
  },
  {
   "cell_type": "markdown",
   "id": "722ee198",
   "metadata": {},
   "source": [
    "We could now write some additional code to parse this text and store it as an array.\n",
    "\n",
    "But this is unnecessary — pandas’ `read_csv` function can handle the task for us.\n",
    "\n",
    "We use `parse_dates=True` so that pandas recognizes our dates column, allowing for simple date filtering"
   ]
  },
  {
   "cell_type": "code",
   "execution_count": null,
   "id": "b1df742f",
   "metadata": {
    "hide-output": false
   },
   "outputs": [],
   "source": [
    "data = pd.read_csv(url, index_col=0, parse_dates=True)"
   ]
  },
  {
   "cell_type": "markdown",
   "id": "b9714b55",
   "metadata": {},
   "source": [
    "The data has been read into a pandas DataFrame called `data` that we can now manipulate in the usual way"
   ]
  },
  {
   "cell_type": "code",
   "execution_count": null,
   "id": "26a2024e",
   "metadata": {
    "hide-output": false
   },
   "outputs": [],
   "source": [
    "type(data)"
   ]
  },
  {
   "cell_type": "code",
   "execution_count": null,
   "id": "2d996a6d",
   "metadata": {
    "hide-output": false
   },
   "outputs": [],
   "source": [
    "data.head()  # A useful method to get a quick look at a data frame"
   ]
  },
  {
   "cell_type": "code",
   "execution_count": null,
   "id": "8c5fe0ff",
   "metadata": {
    "hide-output": false
   },
   "outputs": [],
   "source": [
    "pd.set_option('display.precision', 1)\n",
    "data.describe()  # Your output might differ slightly"
   ]
  },
  {
   "cell_type": "markdown",
   "id": "31518f5d",
   "metadata": {},
   "source": [
    "We can also plot the unemployment rate from 2006 to 2012 as follows"
   ]
  },
  {
   "cell_type": "code",
   "execution_count": null,
   "id": "e3d8dbbf",
   "metadata": {
    "hide-output": false
   },
   "outputs": [],
   "source": [
    "ax = data['2006':'2012'].plot(title='US Unemployment Rate', legend=False)\n",
    "ax.set_xlabel('year', fontsize=12)\n",
    "ax.set_ylabel('%', fontsize=12)\n",
    "plt.show()"
   ]
  },
  {
   "cell_type": "markdown",
   "id": "a6ebb964",
   "metadata": {},
   "source": [
    "Note that pandas offers many other file type alternatives.\n",
    "\n",
    "Pandas has [a wide variety](https://pandas.pydata.org/pandas-docs/stable/user_guide/io.html) of top-level methods that we can use to read, excel, json, parquet or plug straight into a database server."
   ]
  },
  {
   "cell_type": "markdown",
   "id": "9b6045b9",
   "metadata": {},
   "source": [
    "### Using wbgapi and yfinance to Access Data\n",
    "\n",
    "The [wbgapi](https://pypi.org/project/wbgapi/) python library can be used to fetch data from the many databases published by the World Bank.\n",
    "\n",
    ">**Note**\n",
    ">\n",
    ">You can find some useful information about the [wbgapi](https://pypi.org/project/wbgapi/) package in this [world bank blog post](https://blogs.worldbank.org/en/opendata/introducing-wbgapi-new-python-package-accessing-world-bank-data), in addition to this [tutorial](https://github.com/tgherzog/wbgapi/blob/master/examples/wbgapi-quickstart.ipynb)\n",
    "\n",
    "We will also use [yfinance](https://pypi.org/project/yfinance/) to fetch data from Yahoo finance\n",
    "in the exercises.\n",
    "\n",
    "For now let’s work through one example of downloading and plotting data — this\n",
    "time from the World Bank.\n",
    "\n",
    "The World Bank [collects and organizes data](http://data.worldbank.org/indicator) on a huge range of indicators.\n",
    "\n",
    "For example, [here’s](http://data.worldbank.org/indicator/GC.DOD.TOTL.GD.ZS/countries) some data on government debt as a ratio to GDP.\n",
    "\n",
    "The next code example fetches the data for you and plots time series for the US and Australia"
   ]
  },
  {
   "cell_type": "code",
   "execution_count": null,
   "id": "2e91e107",
   "metadata": {
    "hide-output": false
   },
   "outputs": [],
   "source": [
    "import wbgapi as wb\n",
    "wb.series.info('GC.DOD.TOTL.GD.ZS')"
   ]
  },
  {
   "cell_type": "code",
   "execution_count": null,
   "id": "afeaa030",
   "metadata": {
    "hide-output": false
   },
   "outputs": [],
   "source": [
    "govt_debt = wb.data.DataFrame('GC.DOD.TOTL.GD.ZS', economy=['USA','AUS'], time=range(2005,2016))\n",
    "govt_debt = govt_debt.T    # move years from columns to rows for plotting"
   ]
  },
  {
   "cell_type": "code",
   "execution_count": null,
   "id": "6bde69f8",
   "metadata": {
    "hide-output": false
   },
   "outputs": [],
   "source": [
    "govt_debt.plot(xlabel='year', ylabel='Government debt (% of GDP)');"
   ]
  },
  {
   "cell_type": "markdown",
   "id": "9a5cd4d7",
   "metadata": {},
   "source": [
    "## Exercises"
   ]
  },
  {
   "cell_type": "markdown",
   "id": "223817a6",
   "metadata": {},
   "source": [
    "## Exercise 14.1\n",
    "\n",
    "With these imports:"
   ]
  },
  {
   "cell_type": "code",
   "execution_count": null,
   "id": "e681f5dd",
   "metadata": {
    "hide-output": false
   },
   "outputs": [],
   "source": [
    "import datetime as dt\n",
    "import yfinance as yf"
   ]
  },
  {
   "cell_type": "markdown",
   "id": "e2fb5b33",
   "metadata": {},
   "source": [
    "Write a program to calculate the percentage price change over 2021 for the following shares:"
   ]
  },
  {
   "cell_type": "code",
   "execution_count": null,
   "id": "9f5706be",
   "metadata": {
    "hide-output": false
   },
   "outputs": [],
   "source": [
    "ticker_list = {'INTC': 'Intel',\n",
    "               'MSFT': 'Microsoft',\n",
    "               'IBM': 'IBM',\n",
    "               'BHP': 'BHP',\n",
    "               'TM': 'Toyota',\n",
    "               'AAPL': 'Apple',\n",
    "               'AMZN': 'Amazon',\n",
    "               'C': 'Citigroup',\n",
    "               'QCOM': 'Qualcomm',\n",
    "               'KO': 'Coca-Cola',\n",
    "               'GOOG': 'Google'}"
   ]
  },
  {
   "cell_type": "markdown",
   "id": "01376f09",
   "metadata": {},
   "source": [
    "Here’s the first part of the program"
   ]
  },
  {
   "cell_type": "code",
   "execution_count": null,
   "id": "0c513482",
   "metadata": {
    "hide-output": false
   },
   "outputs": [],
   "source": [
    "def read_data(ticker_list,\n",
    "          start=dt.datetime(2021, 1, 1),\n",
    "          end=dt.datetime(2021, 12, 31)):\n",
    "    \"\"\"\n",
    "    This function reads in closing price data from Yahoo\n",
    "    for each tick in the ticker_list.\n",
    "    \"\"\"\n",
    "    ticker = pd.DataFrame()\n",
    "\n",
    "    for tick in ticker_list:\n",
    "        stock = yf.Ticker(tick)\n",
    "        prices = stock.history(start=start, end=end)\n",
    "\n",
    "        # Change the index to date-only\n",
    "        prices.index = pd.to_datetime(prices.index.date)\n",
    "        \n",
    "        closing_prices = prices['Close']\n",
    "        ticker[tick] = closing_prices\n",
    "\n",
    "    return ticker\n",
    "\n",
    "ticker = read_data(ticker_list)"
   ]
  },
  {
   "cell_type": "markdown",
   "id": "8fabfe39",
   "metadata": {},
   "source": [
    "Complete the program to plot the result as a bar graph like this one:\n",
    "\n",
    "![https://python-programming.quantecon.org/_static/lecture_specific/pandas/pandas_share_prices.png](https://python-programming.quantecon.org/_static/lecture_specific/pandas/pandas_share_prices.png)"
   ]
  },
  {
   "cell_type": "markdown",
   "id": "a4b5e6ba",
   "metadata": {},
   "source": [
    "## Solution to[ Exercise 14.1](https://python-programming.quantecon.org/#pd_ex1)\n",
    "\n",
    "There are a few ways to approach this problem using Pandas to calculate\n",
    "the percentage change.\n",
    "\n",
    "First, you can extract the data and perform the calculation such as:"
   ]
  },
  {
   "cell_type": "code",
   "execution_count": null,
   "id": "97cd18d8",
   "metadata": {
    "hide-output": false
   },
   "outputs": [],
   "source": [
    "p1 = ticker.iloc[0]    #Get the first set of prices as a Series\n",
    "p2 = ticker.iloc[-1]   #Get the last set of prices as a Series\n",
    "price_change = (p2 - p1) / p1 * 100\n",
    "price_change"
   ]
  },
  {
   "cell_type": "markdown",
   "id": "da54398e",
   "metadata": {},
   "source": [
    "Alternatively you can use an inbuilt method `pct_change` and configure it to\n",
    "perform the correct calculation using `periods` argument."
   ]
  },
  {
   "cell_type": "code",
   "execution_count": null,
   "id": "539081b4",
   "metadata": {
    "hide-output": false
   },
   "outputs": [],
   "source": [
    "change = ticker.pct_change(periods=len(ticker)-1, axis='rows')*100\n",
    "price_change = change.iloc[-1]\n",
    "price_change"
   ]
  },
  {
   "cell_type": "markdown",
   "id": "a0d67120",
   "metadata": {},
   "source": [
    "Then to plot the chart"
   ]
  },
  {
   "cell_type": "code",
   "execution_count": null,
   "id": "eb5c9ef5",
   "metadata": {
    "hide-output": false
   },
   "outputs": [],
   "source": [
    "price_change.sort_values(inplace=True)\n",
    "price_change.rename(index=ticker_list, inplace=True)"
   ]
  },
  {
   "cell_type": "code",
   "execution_count": null,
   "id": "6dfcc2a2",
   "metadata": {
    "hide-output": false
   },
   "outputs": [],
   "source": [
    "fig, ax = plt.subplots(figsize=(10,8))\n",
    "ax.set_xlabel('stock', fontsize=12)\n",
    "ax.set_ylabel('percentage change in price', fontsize=12)\n",
    "price_change.plot(kind='bar', ax=ax)\n",
    "plt.show()"
   ]
  },
  {
   "cell_type": "markdown",
   "id": "c247d104",
   "metadata": {},
   "source": [
    "## Exercise 14.2\n",
    "\n",
    "Using the method `read_data` introduced in Exercise 14.1, write a program to obtain year-on-year percentage change for the following indices:"
   ]
  },
  {
   "cell_type": "code",
   "execution_count": null,
   "id": "5549d808",
   "metadata": {
    "hide-output": false
   },
   "outputs": [],
   "source": [
    "indices_list = {'^GSPC': 'S&P 500',\n",
    "               '^IXIC': 'NASDAQ',\n",
    "               '^DJI': 'Dow Jones',\n",
    "               '^N225': 'Nikkei'}"
   ]
  },
  {
   "cell_type": "markdown",
   "id": "c0587146",
   "metadata": {},
   "source": [
    "Complete the program to show summary statistics and plot the result as a time series graph like this one:\n",
    "\n",
    "![https://python-programming.quantecon.org/_static/lecture_specific/pandas/pandas_indices_pctchange.png](https://python-programming.quantecon.org/_static/lecture_specific/pandas/pandas_indices_pctchange.png)"
   ]
  },
  {
   "cell_type": "markdown",
   "id": "ad1b1730",
   "metadata": {},
   "source": [
    "## Solution to[ Exercise 14.2](https://python-programming.quantecon.org/#pd_ex2)\n",
    "\n",
    "Following the work you did in Exercise 14.1, you can query the data using `read_data` by updating the start and end dates accordingly."
   ]
  },
  {
   "cell_type": "code",
   "execution_count": null,
   "id": "ed11fc5a",
   "metadata": {
    "hide-output": false
   },
   "outputs": [],
   "source": [
    "indices_data = read_data(\n",
    "        indices_list,\n",
    "        start=dt.datetime(1971, 1, 1),  #Common Start Date\n",
    "        end=dt.datetime(2021, 12, 31)\n",
    ")"
   ]
  },
  {
   "cell_type": "markdown",
   "id": "f7bbac57",
   "metadata": {},
   "source": [
    "Then, extract the first and last set of prices per year as DataFrames and calculate the yearly returns such as:"
   ]
  },
  {
   "cell_type": "code",
   "execution_count": null,
   "id": "20614848",
   "metadata": {
    "hide-output": false
   },
   "outputs": [],
   "source": [
    "yearly_returns = pd.DataFrame()\n",
    "\n",
    "for index, name in indices_list.items():\n",
    "    p1 = indices_data.groupby(indices_data.index.year)[index].first()  # Get the first set of returns as a DataFrame\n",
    "    p2 = indices_data.groupby(indices_data.index.year)[index].last()   # Get the last set of returns as a DataFrame\n",
    "    returns = (p2 - p1) / p1\n",
    "    yearly_returns[name] = returns\n",
    "\n",
    "yearly_returns"
   ]
  },
  {
   "cell_type": "markdown",
   "id": "6bd5da1e",
   "metadata": {},
   "source": [
    "Next, you can obtain summary statistics by using the method `describe`."
   ]
  },
  {
   "cell_type": "code",
   "execution_count": null,
   "id": "bea8def0",
   "metadata": {
    "hide-output": false
   },
   "outputs": [],
   "source": [
    "yearly_returns.describe()"
   ]
  },
  {
   "cell_type": "markdown",
   "id": "668c236a",
   "metadata": {},
   "source": [
    "Then, to plot the chart"
   ]
  },
  {
   "cell_type": "code",
   "execution_count": null,
   "id": "b56c9330",
   "metadata": {
    "hide-output": false
   },
   "outputs": [],
   "source": [
    "fig, axes = plt.subplots(2, 2, figsize=(10, 8))\n",
    "\n",
    "for iter_, ax in enumerate(axes.flatten()):            # Flatten 2-D array to 1-D array\n",
    "    index_name = yearly_returns.columns[iter_]         # Get index name per iteration\n",
    "    ax.plot(yearly_returns[index_name])                # Plot pct change of yearly returns per index\n",
    "    ax.set_ylabel(\"percent change\", fontsize = 12)\n",
    "    ax.set_title(index_name)\n",
    "\n",
    "plt.tight_layout()"
   ]
  },
  {
   "cell_type": "markdown",
   "id": "848365e3",
   "metadata": {},
   "source": [
    "<p><a id=mung href=#mung-link><strong>[1]</strong></a> Wikipedia defines munging as cleaning data from one raw form into a structured, purged one."
   ]
  }
 ],
 "metadata": {
  "date": 1749188460.4030724,
  "filename": "pandas.md",
  "kernelspec": {
   "display_name": "Python",
   "language": "python3",
   "name": "python3"
  },
  "title": "Pandas"
 },
 "nbformat": 4,
 "nbformat_minor": 5
}