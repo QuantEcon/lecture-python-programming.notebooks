{
 "cells": [
  {
   "cell_type": "markdown",
   "id": "ac99dbc3",
   "metadata": {},
   "source": [
    "\n",
    "<a id='oop-intro'></a>\n",
    "<div id=\"qe-notebook-header\" align=\"right\" style=\"text-align:right;\">\n",
    "        <a href=\"https://quantecon.org/\" title=\"quantecon.org\">\n",
    "                <img style=\"width:250px;display:inline;\" width=\"250px\" src=\"https://assets.quantecon.org/img/qe-menubar-logo.svg\" alt=\"QuantEcon\">\n",
    "        </a>\n",
    "</div>"
   ]
  },
  {
   "cell_type": "markdown",
   "id": "dd030c1e",
   "metadata": {},
   "source": [
    "# OOP I: Objects and Methods"
   ]
  },
  {
   "cell_type": "markdown",
   "id": "58122135",
   "metadata": {},
   "source": [
    "## Overview\n",
    "\n",
    "The traditional programming paradigm (think Fortran, C, MATLAB, etc.) is called [procedural](https://en.wikipedia.org/wiki/Procedural_programming).\n",
    "\n",
    "It works as follows\n",
    "\n",
    "- The program has a state corresponding to the values of its variables.  \n",
    "- Functions are called to act on and transform the state.  \n",
    "- Final outputs are produced via a sequence of function calls.  \n",
    "\n",
    "\n",
    "Two other important paradigms are [object-oriented programming](https://en.wikipedia.org/wiki/Object-oriented_programming) (OOP) and [functional programming](https://en.wikipedia.org/wiki/Functional_programming).\n",
    "\n",
    "In the OOP paradigm, data and functions are bundled together into “objects” — and functions in this context are referred to as **methods**.\n",
    "\n",
    "Methods are called on to transform the data contained in the object.\n",
    "\n",
    "- Think of a Python list that contains data and has methods such as `append()` and `pop()` that transform the data.  \n",
    "\n",
    "\n",
    "Functional programming languages are built on the idea of composing functions.\n",
    "\n",
    "- Influential examples include [Lisp](https://en.wikipedia.org/wiki/Common_Lisp), [Haskell](https://en.wikipedia.org/wiki/Haskell) and [Elixir](https://en.wikipedia.org/wiki/Elixir_%28programming_language%29).  \n",
    "\n",
    "\n",
    "So which of these categories does Python fit into?\n",
    "\n",
    "Actually Python is a pragmatic language that blends object-oriented, functional and procedural styles, rather than taking a purist approach.\n",
    "\n",
    "On one hand, this allows Python and its users to cherry pick nice aspects of different paradigms.\n",
    "\n",
    "On the other hand, the lack of purity might at times lead to some confusion.\n",
    "\n",
    "Fortunately this confusion is minimized if you understand that, at a foundational level, Python *is* object-oriented.\n",
    "\n",
    "By this we mean that, in Python, *everything is an object*.\n",
    "\n",
    "In this lecture, we explain what that statement means and why it matters.\n",
    "\n",
    "We’ll make use of the following third party library"
   ]
  },
  {
   "cell_type": "code",
   "execution_count": null,
   "id": "390b247a",
   "metadata": {
    "hide-output": false
   },
   "outputs": [],
   "source": [
    "!pip install rich"
   ]
  },
  {
   "cell_type": "markdown",
   "id": "064a2abf",
   "metadata": {},
   "source": [
    "## Objects\n",
    "\n",
    "\n",
    "<a id='index-0'></a>\n",
    "In Python, an *object* is a collection of data and instructions held in computer memory that consists of\n",
    "\n",
    "1. a type  \n",
    "1. a unique identity  \n",
    "1. data (i.e., content)  \n",
    "1. methods  \n",
    "\n",
    "\n",
    "These concepts are defined and discussed sequentially below.\n",
    "\n",
    "\n",
    "<a id='type'></a>"
   ]
  },
  {
   "cell_type": "markdown",
   "id": "92de838e",
   "metadata": {},
   "source": [
    "### Type\n",
    "\n",
    "\n",
    "<a id='index-1'></a>\n",
    "Python provides for different types of objects, to accommodate different categories of data.\n",
    "\n",
    "For example"
   ]
  },
  {
   "cell_type": "code",
   "execution_count": null,
   "id": "3dd7317c",
   "metadata": {
    "hide-output": false
   },
   "outputs": [],
   "source": [
    "s = 'This is a string'\n",
    "type(s)"
   ]
  },
  {
   "cell_type": "code",
   "execution_count": null,
   "id": "f12f59e5",
   "metadata": {
    "hide-output": false
   },
   "outputs": [],
   "source": [
    "x = 42   # Now let's create an integer\n",
    "type(x)"
   ]
  },
  {
   "cell_type": "markdown",
   "id": "9ec20ef7",
   "metadata": {},
   "source": [
    "The type of an object matters for many expressions.\n",
    "\n",
    "For example, the addition operator between two strings means concatenation"
   ]
  },
  {
   "cell_type": "code",
   "execution_count": null,
   "id": "b99649be",
   "metadata": {
    "hide-output": false
   },
   "outputs": [],
   "source": [
    "'300' + 'cc'"
   ]
  },
  {
   "cell_type": "markdown",
   "id": "f6e42dfc",
   "metadata": {},
   "source": [
    "On the other hand, between two numbers it means ordinary addition"
   ]
  },
  {
   "cell_type": "code",
   "execution_count": null,
   "id": "f957b9ba",
   "metadata": {
    "hide-output": false
   },
   "outputs": [],
   "source": [
    "300 + 400"
   ]
  },
  {
   "cell_type": "markdown",
   "id": "613c9868",
   "metadata": {},
   "source": [
    "Consider the following expression"
   ]
  },
  {
   "cell_type": "code",
   "execution_count": null,
   "id": "463292bd",
   "metadata": {
    "hide-output": false
   },
   "outputs": [],
   "source": [
    "'300' + 400"
   ]
  },
  {
   "cell_type": "markdown",
   "id": "1c1ad8ae",
   "metadata": {},
   "source": [
    "Here we are mixing types, and it’s unclear to Python whether the user wants to\n",
    "\n",
    "- convert `'300'` to an integer and then add it to `400`, or  \n",
    "- convert `400` to string and then concatenate it with `'300'`  \n",
    "\n",
    "\n",
    "Some languages might try to guess but Python is *strongly typed*\n",
    "\n",
    "- Type is important, and implicit type conversion is rare.  \n",
    "- Python will respond instead by raising a `TypeError`.  \n",
    "\n",
    "\n",
    "To avoid the error, you need to clarify by changing the relevant type.\n",
    "\n",
    "For example,"
   ]
  },
  {
   "cell_type": "code",
   "execution_count": null,
   "id": "0d39b991",
   "metadata": {
    "hide-output": false
   },
   "outputs": [],
   "source": [
    "int('300') + 400   # To add as numbers, change the string to an integer"
   ]
  },
  {
   "cell_type": "markdown",
   "id": "50418dbb",
   "metadata": {},
   "source": [
    "\n",
    "<a id='identity'></a>"
   ]
  },
  {
   "cell_type": "markdown",
   "id": "de43edfa",
   "metadata": {},
   "source": [
    "### Identity\n",
    "\n",
    "\n",
    "<a id='index-2'></a>\n",
    "In Python, each object has a unique identifier, which helps Python (and us) keep track of the object.\n",
    "\n",
    "The identity of an object can be obtained via the `id()` function"
   ]
  },
  {
   "cell_type": "code",
   "execution_count": null,
   "id": "71199dab",
   "metadata": {
    "hide-output": false
   },
   "outputs": [],
   "source": [
    "y = 2.5\n",
    "z = 2.5\n",
    "id(y)"
   ]
  },
  {
   "cell_type": "code",
   "execution_count": null,
   "id": "a0c0f45b",
   "metadata": {
    "hide-output": false
   },
   "outputs": [],
   "source": [
    "id(z)"
   ]
  },
  {
   "cell_type": "markdown",
   "id": "62cdd18d",
   "metadata": {},
   "source": [
    "In this example, `y` and `z` happen to have the same value (i.e., `2.5`), but they are not the same object.\n",
    "\n",
    "The identity of an object is in fact just the address of the object in memory."
   ]
  },
  {
   "cell_type": "markdown",
   "id": "d5d78444",
   "metadata": {},
   "source": [
    "### Object Content: Data and Attributes\n",
    "\n",
    "\n",
    "<a id='index-3'></a>\n",
    "If we set `x = 42` then we create an object of type `int` that contains\n",
    "the data `42`.\n",
    "\n",
    "In fact, it contains more, as the following example shows"
   ]
  },
  {
   "cell_type": "code",
   "execution_count": null,
   "id": "b8a02168",
   "metadata": {
    "hide-output": false
   },
   "outputs": [],
   "source": [
    "x = 42\n",
    "x"
   ]
  },
  {
   "cell_type": "code",
   "execution_count": null,
   "id": "7af4e87c",
   "metadata": {
    "hide-output": false
   },
   "outputs": [],
   "source": [
    "x.imag"
   ]
  },
  {
   "cell_type": "code",
   "execution_count": null,
   "id": "7eb17b0f",
   "metadata": {
    "hide-output": false
   },
   "outputs": [],
   "source": [
    "x.__class__"
   ]
  },
  {
   "cell_type": "markdown",
   "id": "d3cdf65d",
   "metadata": {},
   "source": [
    "When Python creates this integer object, it stores with it various auxiliary information, such as the imaginary part, and the type.\n",
    "\n",
    "Any name following a dot is called an *attribute* of the object to the left of the dot.\n",
    "\n",
    "- e.g.,`imag` and `__class__` are attributes of `x`.  \n",
    "\n",
    "\n",
    "We see from this example that objects have attributes that contain auxiliary information.\n",
    "\n",
    "They also have attributes that act like functions, called *methods*.\n",
    "\n",
    "These attributes are important, so let’s discuss them in-depth.\n",
    "\n",
    "\n",
    "<a id='methods'></a>"
   ]
  },
  {
   "cell_type": "markdown",
   "id": "6f47c5cc",
   "metadata": {},
   "source": [
    "### Methods\n",
    "\n",
    "\n",
    "<a id='index-4'></a>\n",
    "Methods are *functions that are bundled with objects*.\n",
    "\n",
    "Formally, methods are attributes of objects that are **callable** – i.e., attributes that can be called as functions"
   ]
  },
  {
   "cell_type": "code",
   "execution_count": null,
   "id": "ed534221",
   "metadata": {
    "hide-output": false
   },
   "outputs": [],
   "source": [
    "x = ['foo', 'bar']\n",
    "callable(x.append)"
   ]
  },
  {
   "cell_type": "code",
   "execution_count": null,
   "id": "b3bf37e7",
   "metadata": {
    "hide-output": false
   },
   "outputs": [],
   "source": [
    "callable(x.__doc__)"
   ]
  },
  {
   "cell_type": "markdown",
   "id": "a5caaeac",
   "metadata": {},
   "source": [
    "Methods typically act on the data contained in the object they belong to, or combine that data with other data"
   ]
  },
  {
   "cell_type": "code",
   "execution_count": null,
   "id": "f652768e",
   "metadata": {
    "hide-output": false
   },
   "outputs": [],
   "source": [
    "x = ['a', 'b']\n",
    "x.append('c')\n",
    "s = 'This is a string'\n",
    "s.upper()"
   ]
  },
  {
   "cell_type": "code",
   "execution_count": null,
   "id": "44a41e97",
   "metadata": {
    "hide-output": false
   },
   "outputs": [],
   "source": [
    "s.lower()"
   ]
  },
  {
   "cell_type": "code",
   "execution_count": null,
   "id": "c85dd971",
   "metadata": {
    "hide-output": false
   },
   "outputs": [],
   "source": [
    "s.replace('This', 'That')"
   ]
  },
  {
   "cell_type": "markdown",
   "id": "bf58d4c0",
   "metadata": {},
   "source": [
    "A great deal of Python functionality is organized around method calls.\n",
    "\n",
    "For example, consider the following piece of code"
   ]
  },
  {
   "cell_type": "code",
   "execution_count": null,
   "id": "75de66e8",
   "metadata": {
    "hide-output": false
   },
   "outputs": [],
   "source": [
    "x = ['a', 'b']\n",
    "x[0] = 'aa'  # Item assignment using square bracket notation\n",
    "x"
   ]
  },
  {
   "cell_type": "markdown",
   "id": "48646a00",
   "metadata": {},
   "source": [
    "It doesn’t look like there are any methods used here, but in fact the square bracket assignment notation is just a convenient interface to a method call.\n",
    "\n",
    "What actually happens is that Python calls the `__setitem__` method, as follows"
   ]
  },
  {
   "cell_type": "code",
   "execution_count": null,
   "id": "dd163bfc",
   "metadata": {
    "hide-output": false
   },
   "outputs": [],
   "source": [
    "x = ['a', 'b']\n",
    "x.__setitem__(0, 'aa')  # Equivalent to x[0] = 'aa'\n",
    "x"
   ]
  },
  {
   "cell_type": "markdown",
   "id": "eb30674d",
   "metadata": {},
   "source": [
    "(If you wanted to you could modify the `__setitem__` method, so that square bracket assignment does something totally different)"
   ]
  },
  {
   "cell_type": "markdown",
   "id": "bf73a698",
   "metadata": {},
   "source": [
    "## Inspection Using Rich\n",
    "\n",
    "There’s a nice package called [rich](https://github.com/Textualize/rich) that\n",
    "helps us view the contents of an object.\n",
    "\n",
    "For example,"
   ]
  },
  {
   "cell_type": "code",
   "execution_count": null,
   "id": "271c6b2c",
   "metadata": {
    "hide-output": false
   },
   "outputs": [],
   "source": [
    "from rich import inspect\n",
    "x = 10\n",
    "inspect(10)"
   ]
  },
  {
   "cell_type": "markdown",
   "id": "43545101",
   "metadata": {},
   "source": [
    "If we want to see the methods as well, we can use"
   ]
  },
  {
   "cell_type": "code",
   "execution_count": null,
   "id": "674c1733",
   "metadata": {
    "hide-output": false
   },
   "outputs": [],
   "source": [
    "inspect(10, methods=True)"
   ]
  },
  {
   "cell_type": "markdown",
   "id": "0523c347",
   "metadata": {},
   "source": [
    "In fact there are still more methods, as you can see if you execute `inspect(10, all=True)`."
   ]
  },
  {
   "cell_type": "markdown",
   "id": "9bae9348",
   "metadata": {},
   "source": [
    "## A Little Mystery\n",
    "\n",
    "In this lecture we claimed that Python is, at heart, an object oriented language.\n",
    "\n",
    "But here’s an example that looks more procedural."
   ]
  },
  {
   "cell_type": "code",
   "execution_count": null,
   "id": "50c217cb",
   "metadata": {
    "hide-output": false
   },
   "outputs": [],
   "source": [
    "x = ['a', 'b']\n",
    "m = len(x)\n",
    "m"
   ]
  },
  {
   "cell_type": "markdown",
   "id": "82627220",
   "metadata": {},
   "source": [
    "If Python is object oriented, why don’t we use `x.len()`?\n",
    "\n",
    "The answer is related to the fact that Python aims for readability and consistent style.\n",
    "\n",
    "In Python, it is common for users to build custom objects — we discuss how to\n",
    "do this [later](https://python-programming.quantecon.org/python_oop.html).\n",
    "\n",
    "It’s quite common for users to add methods to their that measure the length of\n",
    "the object, suitably defined.\n",
    "\n",
    "When naming such a method, natural choices are `len()` and `length()`.\n",
    "\n",
    "If some users choose `len()` and others choose `length()`, then the style will\n",
    "be inconsistent and harder to remember.\n",
    "\n",
    "To avoid this, the creator of Python chose to add\n",
    "`len()` as a built-in function, to help emphasize that `len()` is the convention.\n",
    "\n",
    "Now, having said all of this, Python *is* still object oriented under the hood.\n",
    "\n",
    "In fact, the list `x` discussed above has a method called `__len__()`.\n",
    "\n",
    "All that the function `len()` does is call this method.\n",
    "\n",
    "In other words, the following code is equivalent:"
   ]
  },
  {
   "cell_type": "code",
   "execution_count": null,
   "id": "f158e470",
   "metadata": {
    "hide-output": false
   },
   "outputs": [],
   "source": [
    "x = ['a', 'b']\n",
    "len(x)"
   ]
  },
  {
   "cell_type": "markdown",
   "id": "5e2d1a22",
   "metadata": {},
   "source": [
    "and"
   ]
  },
  {
   "cell_type": "code",
   "execution_count": null,
   "id": "53152153",
   "metadata": {
    "hide-output": false
   },
   "outputs": [],
   "source": [
    "x = ['a', 'b']\n",
    "x.__len__()"
   ]
  },
  {
   "cell_type": "markdown",
   "id": "459d25ff",
   "metadata": {},
   "source": [
    "## Summary\n",
    "\n",
    "The message in this lecture is clear:\n",
    "\n",
    "- In Python, *everything in memory is treated as an object*.  \n",
    "\n",
    "\n",
    "This includes not just lists, strings, etc., but also less obvious things, such as\n",
    "\n",
    "- functions (once they have been read into memory)  \n",
    "- modules  (ditto)  \n",
    "- files opened for reading or writing  \n",
    "- integers, etc.  \n",
    "\n",
    "\n",
    "Remember that everything is an object will help you interact with your programs\n",
    "and write clear Pythonic code."
   ]
  },
  {
   "cell_type": "markdown",
   "id": "7b25494d",
   "metadata": {},
   "source": [
    "## Exercises"
   ]
  },
  {
   "cell_type": "markdown",
   "id": "db8881f3",
   "metadata": {},
   "source": [
    "## Exercise 6.1\n",
    "\n",
    "We have met the [boolean data type](https://python-programming.quantecon.org/python_essentials.html#boolean) previously.\n",
    "\n",
    "Using what we have learnt in this lecture, print a list of methods of the\n",
    "boolean object `True`.\n",
    "\n",
    "You can use `callable()` to test whether an attribute of an object can be called as a function"
   ]
  },
  {
   "cell_type": "markdown",
   "id": "531dc562",
   "metadata": {},
   "source": [
    "## Solution to[ Exercise 6.1](https://python-programming.quantecon.org/#oop_intro_ex1)\n",
    "\n",
    "Firstly, we need to find all attributes of `True`, which can be done via"
   ]
  },
  {
   "cell_type": "code",
   "execution_count": null,
   "id": "558b77eb",
   "metadata": {
    "hide-output": false
   },
   "outputs": [],
   "source": [
    "print(sorted(True.__dir__()))"
   ]
  },
  {
   "cell_type": "markdown",
   "id": "a14c22d2",
   "metadata": {},
   "source": [
    "or"
   ]
  },
  {
   "cell_type": "code",
   "execution_count": null,
   "id": "71622321",
   "metadata": {
    "hide-output": false
   },
   "outputs": [],
   "source": [
    "print(sorted(dir(True)))"
   ]
  },
  {
   "cell_type": "markdown",
   "id": "017f7182",
   "metadata": {},
   "source": [
    "Since the boolean data type is a primitive type, you can also find it in the built-in namespace"
   ]
  },
  {
   "cell_type": "code",
   "execution_count": null,
   "id": "eefded6f",
   "metadata": {
    "hide-output": false
   },
   "outputs": [],
   "source": [
    "print(dir(__builtins__.bool))"
   ]
  },
  {
   "cell_type": "markdown",
   "id": "9653f270",
   "metadata": {},
   "source": [
    "Here we use a `for` loop to filter out attributes that are callable"
   ]
  },
  {
   "cell_type": "code",
   "execution_count": null,
   "id": "965210c0",
   "metadata": {
    "hide-output": false
   },
   "outputs": [],
   "source": [
    "attributes = dir(__builtins__.bool)\n",
    "callablels = []\n",
    "\n",
    "for attribute in attributes:\n",
    "  # Use eval() to evaluate a string as an expression\n",
    "  if callable(eval(f'True.{attribute}')):\n",
    "    callablels.append(attribute)\n",
    "print(callablels)"
   ]
  }
 ],
 "metadata": {
  "date": 1730693314.649662,
  "filename": "oop_intro.md",
  "kernelspec": {
   "display_name": "Python",
   "language": "python3",
   "name": "python3"
  },
  "title": "OOP I: Objects and Methods"
 },
 "nbformat": 4,
 "nbformat_minor": 5
}