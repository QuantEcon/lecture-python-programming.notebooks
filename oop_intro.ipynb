{
 "cells": [
  {
   "cell_type": "markdown",
   "id": "616559b1",
   "metadata": {},
   "source": [
    "\n",
    "<a id='oop-intro'></a>\n",
    "<div id=\"qe-notebook-header\" align=\"right\" style=\"text-align:right;\">\n",
    "        <a href=\"https://quantecon.org/\" title=\"quantecon.org\">\n",
    "                <img style=\"width:250px;display:inline;\" width=\"250px\" src=\"https://assets.quantecon.org/img/qe-menubar-logo.svg\" alt=\"QuantEcon\">\n",
    "        </a>\n",
    "</div>"
   ]
  },
  {
   "cell_type": "markdown",
   "id": "aa422b28",
   "metadata": {},
   "source": [
    "# OOP I: Objects and Names"
   ]
  },
  {
   "cell_type": "markdown",
   "id": "5c0b2c12",
   "metadata": {},
   "source": [
    "## Contents\n",
    "\n",
    "- [OOP I: Objects and Names](#OOP-I:-Objects-and-Names)  \n",
    "  - [Overview](#Overview)  \n",
    "  - [Objects](#Objects)  \n",
    "  - [Names and Name Resolution](#Names-and-Name-Resolution)  \n",
    "  - [Summary](#Summary)  \n",
    "  - [Exercises](#Exercises)  "
   ]
  },
  {
   "cell_type": "markdown",
   "id": "4fbcf555",
   "metadata": {},
   "source": [
    "## Overview\n",
    "\n",
    "[Object-oriented programming](https://en.wikipedia.org/wiki/Object-oriented_programming) (OOP) is one of the major paradigms in programming.\n",
    "\n",
    "The traditional programming paradigm (think Fortran, C, MATLAB, etc.) is called *procedural*.\n",
    "\n",
    "It works as follows\n",
    "\n",
    "- The program has a state corresponding to the values of its variables.  \n",
    "- Functions are called to act on these data.  \n",
    "- Data are passed back and forth via function calls.  \n",
    "\n",
    "\n",
    "In contrast, in the OOP paradigm\n",
    "\n",
    "- data and functions are “bundled together” into “objects”  \n",
    "\n",
    "\n",
    "(Functions in this context are referred to as **methods**)"
   ]
  },
  {
   "cell_type": "markdown",
   "id": "1329dfe7",
   "metadata": {},
   "source": [
    "### Python and OOP\n",
    "\n",
    "Python is a pragmatic language that blends object-oriented and procedural styles, rather than taking a purist approach.\n",
    "\n",
    "However, at a foundational level, Python *is* object-oriented.\n",
    "\n",
    "In particular, in Python, *everything is an object*.\n",
    "\n",
    "In this lecture, we explain what that statement means and why it matters."
   ]
  },
  {
   "cell_type": "markdown",
   "id": "65f0e834",
   "metadata": {},
   "source": [
    "## Objects\n",
    "\n",
    "\n",
    "<a id='index-0'></a>\n",
    "In Python, an *object* is a collection of data and instructions held in computer memory that consists of\n",
    "\n",
    "1. a type  \n",
    "1. a unique identity  \n",
    "1. data (i.e., content)  \n",
    "1. methods  \n",
    "\n",
    "\n",
    "These concepts are defined and discussed sequentially below.\n",
    "\n",
    "\n",
    "<a id='type'></a>"
   ]
  },
  {
   "cell_type": "markdown",
   "id": "ed11dc39",
   "metadata": {},
   "source": [
    "### Type\n",
    "\n",
    "\n",
    "<a id='index-1'></a>\n",
    "Python provides for different types of objects, to accommodate different categories of data.\n",
    "\n",
    "For example"
   ]
  },
  {
   "cell_type": "code",
   "execution_count": null,
   "id": "a7dc7021",
   "metadata": {
    "hide-output": false
   },
   "outputs": [],
   "source": [
    "s = 'This is a string'\n",
    "type(s)"
   ]
  },
  {
   "cell_type": "code",
   "execution_count": null,
   "id": "7112e490",
   "metadata": {
    "hide-output": false
   },
   "outputs": [],
   "source": [
    "x = 42   # Now let's create an integer\n",
    "type(x)"
   ]
  },
  {
   "cell_type": "markdown",
   "id": "5e75cc23",
   "metadata": {},
   "source": [
    "The type of an object matters for many expressions.\n",
    "\n",
    "For example, the addition operator between two strings means concatenation"
   ]
  },
  {
   "cell_type": "code",
   "execution_count": null,
   "id": "bbeca050",
   "metadata": {
    "hide-output": false
   },
   "outputs": [],
   "source": [
    "'300' + 'cc'"
   ]
  },
  {
   "cell_type": "markdown",
   "id": "6fbf4d38",
   "metadata": {},
   "source": [
    "On the other hand, between two numbers it means ordinary addition"
   ]
  },
  {
   "cell_type": "code",
   "execution_count": null,
   "id": "a8bb670d",
   "metadata": {
    "hide-output": false
   },
   "outputs": [],
   "source": [
    "300 + 400"
   ]
  },
  {
   "cell_type": "markdown",
   "id": "47f820fb",
   "metadata": {},
   "source": [
    "Consider the following expression"
   ]
  },
  {
   "cell_type": "code",
   "execution_count": null,
   "id": "02020719",
   "metadata": {
    "hide-output": false
   },
   "outputs": [],
   "source": [
    "'300' + 400"
   ]
  },
  {
   "cell_type": "markdown",
   "id": "e0aac454",
   "metadata": {},
   "source": [
    "Here we are mixing types, and it’s unclear to Python whether the user wants to\n",
    "\n",
    "- convert `'300'` to an integer and then add it to `400`, or  \n",
    "- convert `400` to string and then concatenate it with `'300'`  \n",
    "\n",
    "\n",
    "Some languages might try to guess but Python is *strongly typed*\n",
    "\n",
    "- Type is important, and implicit type conversion is rare.  \n",
    "- Python will respond instead by raising a `TypeError`.  \n",
    "\n",
    "\n",
    "To avoid the error, you need to clarify by changing the relevant type.\n",
    "\n",
    "For example,"
   ]
  },
  {
   "cell_type": "code",
   "execution_count": null,
   "id": "d600d6c9",
   "metadata": {
    "hide-output": false
   },
   "outputs": [],
   "source": [
    "int('300') + 400   # To add as numbers, change the string to an integer"
   ]
  },
  {
   "cell_type": "markdown",
   "id": "8aa2de2f",
   "metadata": {},
   "source": [
    "\n",
    "<a id='identity'></a>"
   ]
  },
  {
   "cell_type": "markdown",
   "id": "0675bc73",
   "metadata": {},
   "source": [
    "### Identity\n",
    "\n",
    "\n",
    "<a id='index-2'></a>\n",
    "In Python, each object has a unique identifier, which helps Python (and us) keep track of the object.\n",
    "\n",
    "The identity of an object can be obtained via the `id()` function"
   ]
  },
  {
   "cell_type": "code",
   "execution_count": null,
   "id": "9647f496",
   "metadata": {
    "hide-output": false
   },
   "outputs": [],
   "source": [
    "y = 2.5\n",
    "z = 2.5\n",
    "id(y)"
   ]
  },
  {
   "cell_type": "code",
   "execution_count": null,
   "id": "a36e668f",
   "metadata": {
    "hide-output": false
   },
   "outputs": [],
   "source": [
    "id(z)"
   ]
  },
  {
   "cell_type": "markdown",
   "id": "b08668c9",
   "metadata": {},
   "source": [
    "In this example, `y` and `z` happen to have the same value (i.e., `2.5`), but they are not the same object.\n",
    "\n",
    "The identity of an object is in fact just the address of the object in memory."
   ]
  },
  {
   "cell_type": "markdown",
   "id": "4b78c2b4",
   "metadata": {},
   "source": [
    "### Object Content: Data and Attributes\n",
    "\n",
    "\n",
    "<a id='index-3'></a>\n",
    "If we set `x = 42` then we create an object of type `int` that contains\n",
    "the data `42`.\n",
    "\n",
    "In fact, it contains more, as the following example shows"
   ]
  },
  {
   "cell_type": "code",
   "execution_count": null,
   "id": "082e0015",
   "metadata": {
    "hide-output": false
   },
   "outputs": [],
   "source": [
    "x = 42\n",
    "x"
   ]
  },
  {
   "cell_type": "code",
   "execution_count": null,
   "id": "7c5e4a47",
   "metadata": {
    "hide-output": false
   },
   "outputs": [],
   "source": [
    "x.imag"
   ]
  },
  {
   "cell_type": "code",
   "execution_count": null,
   "id": "c95ba874",
   "metadata": {
    "hide-output": false
   },
   "outputs": [],
   "source": [
    "x.__class__"
   ]
  },
  {
   "cell_type": "markdown",
   "id": "448ecc5c",
   "metadata": {},
   "source": [
    "When Python creates this integer object, it stores with it various auxiliary information, such as the imaginary part, and the type.\n",
    "\n",
    "Any name following a dot is called an *attribute* of the object to the left of the dot.\n",
    "\n",
    "- e.g.,`imag` and `__class__` are attributes of `x`.  \n",
    "\n",
    "\n",
    "We see from this example that objects have attributes that contain auxiliary information.\n",
    "\n",
    "They also have attributes that act like functions, called *methods*.\n",
    "\n",
    "These attributes are important, so let’s discuss them in-depth.\n",
    "\n",
    "\n",
    "<a id='methods'></a>"
   ]
  },
  {
   "cell_type": "markdown",
   "id": "2956c7c0",
   "metadata": {},
   "source": [
    "### Methods\n",
    "\n",
    "\n",
    "<a id='index-4'></a>\n",
    "Methods are *functions that are bundled with objects*.\n",
    "\n",
    "Formally, methods are attributes of objects that are callable (i.e., can be called as functions)"
   ]
  },
  {
   "cell_type": "code",
   "execution_count": null,
   "id": "766639dc",
   "metadata": {
    "hide-output": false
   },
   "outputs": [],
   "source": [
    "x = ['foo', 'bar']\n",
    "callable(x.append)"
   ]
  },
  {
   "cell_type": "code",
   "execution_count": null,
   "id": "1bc650c9",
   "metadata": {
    "hide-output": false
   },
   "outputs": [],
   "source": [
    "callable(x.__doc__)"
   ]
  },
  {
   "cell_type": "markdown",
   "id": "35a0f8c5",
   "metadata": {},
   "source": [
    "Methods typically act on the data contained in the object they belong to, or combine that data with other data"
   ]
  },
  {
   "cell_type": "code",
   "execution_count": null,
   "id": "fb14b895",
   "metadata": {
    "hide-output": false
   },
   "outputs": [],
   "source": [
    "x = ['a', 'b']\n",
    "x.append('c')\n",
    "s = 'This is a string'\n",
    "s.upper()"
   ]
  },
  {
   "cell_type": "code",
   "execution_count": null,
   "id": "c0eb30c7",
   "metadata": {
    "hide-output": false
   },
   "outputs": [],
   "source": [
    "s.lower()"
   ]
  },
  {
   "cell_type": "code",
   "execution_count": null,
   "id": "55f2e7fb",
   "metadata": {
    "hide-output": false
   },
   "outputs": [],
   "source": [
    "s.replace('This', 'That')"
   ]
  },
  {
   "cell_type": "markdown",
   "id": "465e803b",
   "metadata": {},
   "source": [
    "A great deal of Python functionality is organized around method calls.\n",
    "\n",
    "For example, consider the following piece of code"
   ]
  },
  {
   "cell_type": "code",
   "execution_count": null,
   "id": "62d8e14c",
   "metadata": {
    "hide-output": false
   },
   "outputs": [],
   "source": [
    "x = ['a', 'b']\n",
    "x[0] = 'aa'  # Item assignment using square bracket notation\n",
    "x"
   ]
  },
  {
   "cell_type": "markdown",
   "id": "bf785086",
   "metadata": {},
   "source": [
    "It doesn’t look like there are any methods used here, but in fact the square bracket assignment notation is just a convenient interface to a method call.\n",
    "\n",
    "What actually happens is that Python calls the `__setitem__` method, as follows"
   ]
  },
  {
   "cell_type": "code",
   "execution_count": null,
   "id": "262dcb92",
   "metadata": {
    "hide-output": false
   },
   "outputs": [],
   "source": [
    "x = ['a', 'b']\n",
    "x.__setitem__(0, 'aa')  # Equivalent to x[0] = 'aa'\n",
    "x"
   ]
  },
  {
   "cell_type": "markdown",
   "id": "f0fd9a4b",
   "metadata": {},
   "source": [
    "(If you wanted to you could modify the `__setitem__` method, so that square bracket assignment does something totally different)\n",
    "\n",
    "\n",
    "<a id='name-res'></a>"
   ]
  },
  {
   "cell_type": "markdown",
   "id": "df5fa6f0",
   "metadata": {},
   "source": [
    "## Names and Name Resolution"
   ]
  },
  {
   "cell_type": "markdown",
   "id": "9e433782",
   "metadata": {},
   "source": [
    "### Variable Names in Python\n",
    "\n",
    "\n",
    "<a id='index-5'></a>\n",
    "Consider the Python statement"
   ]
  },
  {
   "cell_type": "code",
   "execution_count": null,
   "id": "37c97bea",
   "metadata": {
    "hide-output": false
   },
   "outputs": [],
   "source": [
    "x = 42"
   ]
  },
  {
   "cell_type": "markdown",
   "id": "778a8991",
   "metadata": {},
   "source": [
    "We now know that when this statement is executed, Python creates an object of\n",
    "type `int` in your computer’s memory, containing\n",
    "\n",
    "- the value `42`  \n",
    "- some associated attributes  \n",
    "\n",
    "\n",
    "But what is `x` itself?\n",
    "\n",
    "In Python, `x` is called a *name*, and the statement `x = 42` *binds* the name `x` to the integer object we have just discussed.\n",
    "\n",
    "Under the hood, this process of binding names to objects is implemented as a dictionary—more about this in a moment.\n",
    "\n",
    "There is no problem binding two or more names to the one object, regardless of what that object is"
   ]
  },
  {
   "cell_type": "code",
   "execution_count": null,
   "id": "51dfd1b1",
   "metadata": {
    "hide-output": false
   },
   "outputs": [],
   "source": [
    "def f(string):      # Create a function called f\n",
    "    print(string)   # that prints any string it's passed\n",
    "\n",
    "g = f\n",
    "id(g) == id(f)"
   ]
  },
  {
   "cell_type": "code",
   "execution_count": null,
   "id": "d5b3957e",
   "metadata": {
    "hide-output": false
   },
   "outputs": [],
   "source": [
    "g('test')"
   ]
  },
  {
   "cell_type": "markdown",
   "id": "2d458bdd",
   "metadata": {},
   "source": [
    "In the first step, a function object is created, and the name `f` is bound to it.\n",
    "\n",
    "After binding the name `g` to the same object, we can use it anywhere we would use `f`.\n",
    "\n",
    "What happens when the number of names bound to an object goes to zero?\n",
    "\n",
    "Here’s an example of this situation, where the name `x` is first bound to one object and then rebound to another"
   ]
  },
  {
   "cell_type": "code",
   "execution_count": null,
   "id": "224ea58b",
   "metadata": {
    "hide-output": false
   },
   "outputs": [],
   "source": [
    "x = 'foo'\n",
    "id(x)"
   ]
  },
  {
   "cell_type": "code",
   "execution_count": null,
   "id": "880bd896",
   "metadata": {
    "hide-output": false
   },
   "outputs": [],
   "source": [
    "x = 'bar'  # No names bound to the first object"
   ]
  },
  {
   "cell_type": "markdown",
   "id": "7f5ff773",
   "metadata": {},
   "source": [
    "What happens here is that the first object is garbage collected.\n",
    "\n",
    "In other words, the memory slot that stores that object is deallocated, and returned to the operating system.\n",
    "\n",
    "Garbage collection is actually an active research area in computer science.\n",
    "\n",
    "You can [read more on garbage collection](https://rushter.com/blog/python-garbage-collector/) if you are interested."
   ]
  },
  {
   "cell_type": "markdown",
   "id": "3220c2de",
   "metadata": {},
   "source": [
    "### Namespaces\n",
    "\n",
    "\n",
    "<a id='index-6'></a>\n",
    "Recall from the preceding discussion that the statement"
   ]
  },
  {
   "cell_type": "code",
   "execution_count": null,
   "id": "5807662a",
   "metadata": {
    "hide-output": false
   },
   "outputs": [],
   "source": [
    "x = 42"
   ]
  },
  {
   "cell_type": "markdown",
   "id": "76b8564d",
   "metadata": {},
   "source": [
    "binds the name `x` to the integer object on the right-hand side.\n",
    "\n",
    "We also mentioned that this process of binding `x` to the correct object is implemented as a dictionary.\n",
    "\n",
    "This dictionary is called a *namespace*.\n",
    "\n",
    "**Definition:** A namespace is a symbol table that maps names to objects in memory.\n",
    "\n",
    "Python uses multiple namespaces, creating them on the fly as necessary.\n",
    "\n",
    "For example, every time we import a module, Python creates a namespace for that module.\n",
    "\n",
    "To see this in action, suppose we write a script `mathfoo.py` with a single line"
   ]
  },
  {
   "cell_type": "code",
   "execution_count": null,
   "id": "eacb7284",
   "metadata": {
    "hide-output": false
   },
   "outputs": [],
   "source": [
    "%%file mathfoo.py\n",
    "pi = 'foobar'"
   ]
  },
  {
   "cell_type": "markdown",
   "id": "54447aaf",
   "metadata": {},
   "source": [
    "Now we start the Python interpreter and import it"
   ]
  },
  {
   "cell_type": "code",
   "execution_count": null,
   "id": "3a4c0150",
   "metadata": {
    "hide-output": false
   },
   "outputs": [],
   "source": [
    "import mathfoo"
   ]
  },
  {
   "cell_type": "markdown",
   "id": "4061240d",
   "metadata": {},
   "source": [
    "Next let’s import the `math` module from the standard library"
   ]
  },
  {
   "cell_type": "code",
   "execution_count": null,
   "id": "160342ed",
   "metadata": {
    "hide-output": false
   },
   "outputs": [],
   "source": [
    "import math"
   ]
  },
  {
   "cell_type": "markdown",
   "id": "868b50b1",
   "metadata": {},
   "source": [
    "Both of these modules have an attribute called `pi`"
   ]
  },
  {
   "cell_type": "code",
   "execution_count": null,
   "id": "d245a790",
   "metadata": {
    "hide-output": false
   },
   "outputs": [],
   "source": [
    "math.pi"
   ]
  },
  {
   "cell_type": "code",
   "execution_count": null,
   "id": "d6396005",
   "metadata": {
    "hide-output": false
   },
   "outputs": [],
   "source": [
    "mathfoo.pi"
   ]
  },
  {
   "cell_type": "markdown",
   "id": "5f7837da",
   "metadata": {},
   "source": [
    "These two different bindings of `pi` exist in different namespaces, each one implemented as a dictionary.\n",
    "\n",
    "We can look at the dictionary directly, using `module_name.__dict__`"
   ]
  },
  {
   "cell_type": "code",
   "execution_count": null,
   "id": "9ab4d479",
   "metadata": {
    "hide-output": false
   },
   "outputs": [],
   "source": [
    "import math\n",
    "\n",
    "math.__dict__.items()"
   ]
  },
  {
   "cell_type": "code",
   "execution_count": null,
   "id": "d008709a",
   "metadata": {
    "hide-output": false
   },
   "outputs": [],
   "source": [
    "import mathfoo\n",
    "\n",
    "mathfoo.__dict__.items()"
   ]
  },
  {
   "cell_type": "markdown",
   "id": "84c6f987",
   "metadata": {},
   "source": [
    "As you know, we access elements of the namespace using the dotted attribute notation"
   ]
  },
  {
   "cell_type": "code",
   "execution_count": null,
   "id": "6972ec3e",
   "metadata": {
    "hide-output": false
   },
   "outputs": [],
   "source": [
    "math.pi"
   ]
  },
  {
   "cell_type": "markdown",
   "id": "c2f80d33",
   "metadata": {},
   "source": [
    "In fact this is entirely equivalent to `math.__dict__['pi']`"
   ]
  },
  {
   "cell_type": "code",
   "execution_count": null,
   "id": "68e0b717",
   "metadata": {
    "hide-output": false
   },
   "outputs": [],
   "source": [
    "math.__dict__['pi'] == math.pi"
   ]
  },
  {
   "cell_type": "markdown",
   "id": "b35de9b7",
   "metadata": {},
   "source": [
    "### Viewing Namespaces\n",
    "\n",
    "As we saw above, the `math` namespace can be printed by typing `math.__dict__`.\n",
    "\n",
    "Another way to see its contents is to type `vars(math)`"
   ]
  },
  {
   "cell_type": "code",
   "execution_count": null,
   "id": "08e0ea48",
   "metadata": {
    "hide-output": false
   },
   "outputs": [],
   "source": [
    "vars(math).items()"
   ]
  },
  {
   "cell_type": "markdown",
   "id": "3923fb41",
   "metadata": {},
   "source": [
    "If you just want to see the names, you can type"
   ]
  },
  {
   "cell_type": "code",
   "execution_count": null,
   "id": "a644b677",
   "metadata": {
    "hide-output": false
   },
   "outputs": [],
   "source": [
    "# Show the first 10 names\n",
    "dir(math)[0:10]"
   ]
  },
  {
   "cell_type": "markdown",
   "id": "4704f879",
   "metadata": {},
   "source": [
    "Notice the special names `__doc__` and `__name__`.\n",
    "\n",
    "These are initialized in the namespace when any module is imported\n",
    "\n",
    "- `__doc__` is the doc string of the module  \n",
    "- `__name__` is the name of the module  "
   ]
  },
  {
   "cell_type": "code",
   "execution_count": null,
   "id": "554027da",
   "metadata": {
    "hide-output": false
   },
   "outputs": [],
   "source": [
    "print(math.__doc__)"
   ]
  },
  {
   "cell_type": "code",
   "execution_count": null,
   "id": "de327fab",
   "metadata": {
    "hide-output": false
   },
   "outputs": [],
   "source": [
    "math.__name__"
   ]
  },
  {
   "cell_type": "markdown",
   "id": "3babf7bb",
   "metadata": {},
   "source": [
    "### Interactive Sessions\n",
    "\n",
    "\n",
    "<a id='index-7'></a>\n",
    "In Python, **all** code executed by the interpreter runs in some module.\n",
    "\n",
    "What about commands typed at the prompt?\n",
    "\n",
    "These are also regarded as being executed within a module — in this case, a module called `__main__`.\n",
    "\n",
    "To check this, we can look at the current module name via the value of `__name__` given at the prompt"
   ]
  },
  {
   "cell_type": "code",
   "execution_count": null,
   "id": "ba7901ea",
   "metadata": {
    "hide-output": false
   },
   "outputs": [],
   "source": [
    "print(__name__)"
   ]
  },
  {
   "cell_type": "markdown",
   "id": "98cdb391",
   "metadata": {},
   "source": [
    "When we run a script using IPython’s `run` command, the contents of the file are executed as part of `__main__` too.\n",
    "\n",
    "To see this, let’s create a file `mod.py` that prints its own `__name__` attribute"
   ]
  },
  {
   "cell_type": "code",
   "execution_count": null,
   "id": "5d90b0e7",
   "metadata": {
    "hide-output": false
   },
   "outputs": [],
   "source": [
    "%%file mod.py\n",
    "print(__name__)"
   ]
  },
  {
   "cell_type": "markdown",
   "id": "353b89ec",
   "metadata": {},
   "source": [
    "Now let’s look at two different ways of running it in IPython"
   ]
  },
  {
   "cell_type": "code",
   "execution_count": null,
   "id": "f1d8ec27",
   "metadata": {
    "hide-output": false
   },
   "outputs": [],
   "source": [
    "import mod  # Standard import"
   ]
  },
  {
   "cell_type": "code",
   "execution_count": null,
   "id": "9f875e5d",
   "metadata": {
    "hide-output": false
   },
   "outputs": [],
   "source": [
    "%run mod.py  # Run interactively"
   ]
  },
  {
   "cell_type": "markdown",
   "id": "fd58fd80",
   "metadata": {},
   "source": [
    "In the second case, the code is executed as part of `__main__`, so `__name__` is equal to `__main__`.\n",
    "\n",
    "To see the contents of the namespace of `__main__` we use `vars()` rather than `vars(__main__)`.\n",
    "\n",
    "If you do this in IPython, you will see a whole lot of variables that IPython\n",
    "needs, and has initialized when you started up your session.\n",
    "\n",
    "If you prefer to see only the variables you have initialized, use `%whos`"
   ]
  },
  {
   "cell_type": "code",
   "execution_count": null,
   "id": "e9dab5d6",
   "metadata": {
    "hide-output": false
   },
   "outputs": [],
   "source": [
    "x = 2\n",
    "y = 3\n",
    "\n",
    "import numpy as np\n",
    "\n",
    "%whos"
   ]
  },
  {
   "cell_type": "markdown",
   "id": "1f3e5f1e",
   "metadata": {},
   "source": [
    "### The Global Namespace\n",
    "\n",
    "\n",
    "<a id='index-8'></a>\n",
    "Python documentation often makes reference to the “global namespace”.\n",
    "\n",
    "The global namespace is *the namespace of the module currently being executed*.\n",
    "\n",
    "For example, suppose that we start the interpreter and begin making assignments.\n",
    "\n",
    "We are now working in the module `__main__`, and hence the namespace for `__main__` is the global namespace.\n",
    "\n",
    "Next, we import a module called `amodule`"
   ]
  },
  {
   "cell_type": "markdown",
   "id": "18f1c368",
   "metadata": {
    "hide-output": false
   },
   "source": [
    "```python3\n",
    "import amodule\n",
    "```\n"
   ]
  },
  {
   "cell_type": "markdown",
   "id": "c7dc98ca",
   "metadata": {},
   "source": [
    "At this point, the interpreter creates a namespace for the module `amodule` and starts executing commands in the module.\n",
    "\n",
    "While this occurs, the namespace `amodule.__dict__` is the global namespace.\n",
    "\n",
    "Once execution of the module finishes, the interpreter returns to the module from where the import statement was made.\n",
    "\n",
    "In this case it’s `__main__`, so the namespace of `__main__` again becomes the global namespace."
   ]
  },
  {
   "cell_type": "markdown",
   "id": "dbcd725c",
   "metadata": {},
   "source": [
    "### Local Namespaces\n",
    "\n",
    "\n",
    "<a id='index-9'></a>\n",
    "Important fact: When we call a function, the interpreter creates a *local namespace* for that function, and registers the variables in that namespace.\n",
    "\n",
    "The reason for this will be explained in just a moment.\n",
    "\n",
    "Variables in the local namespace are called *local variables*.\n",
    "\n",
    "After the function returns, the namespace is deallocated and lost.\n",
    "\n",
    "While the function is executing, we can view the contents of the local namespace with `locals()`.\n",
    "\n",
    "For example, consider"
   ]
  },
  {
   "cell_type": "code",
   "execution_count": null,
   "id": "123a64eb",
   "metadata": {
    "hide-output": false
   },
   "outputs": [],
   "source": [
    "def f(x):\n",
    "    a = 2\n",
    "    print(locals())\n",
    "    return a * x"
   ]
  },
  {
   "cell_type": "markdown",
   "id": "9dc0110f",
   "metadata": {},
   "source": [
    "Now let’s call the function"
   ]
  },
  {
   "cell_type": "code",
   "execution_count": null,
   "id": "02c0e6bd",
   "metadata": {
    "hide-output": false
   },
   "outputs": [],
   "source": [
    "f(1)"
   ]
  },
  {
   "cell_type": "markdown",
   "id": "a463dcb2",
   "metadata": {},
   "source": [
    "You can see the local namespace of `f` before it is destroyed."
   ]
  },
  {
   "cell_type": "markdown",
   "id": "13764462",
   "metadata": {},
   "source": [
    "### The `__builtins__` Namespace\n",
    "\n",
    "\n",
    "<a id='index-10'></a>\n",
    "We have been using various built-in functions, such as `max(), dir(), str(), list(), len(), range(), type()`, etc.\n",
    "\n",
    "How does access to these names work?\n",
    "\n",
    "- These definitions are stored in a module called `__builtin__`.  \n",
    "- They have their own namespace called `__builtins__`.  "
   ]
  },
  {
   "cell_type": "code",
   "execution_count": null,
   "id": "770d6d85",
   "metadata": {
    "hide-output": false
   },
   "outputs": [],
   "source": [
    "# Show the first 10 names in `__main__`\n",
    "dir()[0:10]"
   ]
  },
  {
   "cell_type": "code",
   "execution_count": null,
   "id": "d99cf5d3",
   "metadata": {
    "hide-output": false
   },
   "outputs": [],
   "source": [
    "# Show the first 10 names in `__builtins__`\n",
    "dir(__builtins__)[0:10]"
   ]
  },
  {
   "cell_type": "markdown",
   "id": "b24e0345",
   "metadata": {},
   "source": [
    "We can access elements of the namespace as follows"
   ]
  },
  {
   "cell_type": "code",
   "execution_count": null,
   "id": "f7f43730",
   "metadata": {
    "hide-output": false
   },
   "outputs": [],
   "source": [
    "__builtins__.max"
   ]
  },
  {
   "cell_type": "markdown",
   "id": "32c28f8e",
   "metadata": {},
   "source": [
    "But `__builtins__` is special, because we can always access them directly as well"
   ]
  },
  {
   "cell_type": "code",
   "execution_count": null,
   "id": "ca4fd065",
   "metadata": {
    "hide-output": false
   },
   "outputs": [],
   "source": [
    "max"
   ]
  },
  {
   "cell_type": "code",
   "execution_count": null,
   "id": "4af4f1ef",
   "metadata": {
    "hide-output": false
   },
   "outputs": [],
   "source": [
    "__builtins__.max == max"
   ]
  },
  {
   "cell_type": "markdown",
   "id": "94b5a6e1",
   "metadata": {},
   "source": [
    "The next section explains how this works …"
   ]
  },
  {
   "cell_type": "markdown",
   "id": "bdaae381",
   "metadata": {},
   "source": [
    "### Name Resolution\n",
    "\n",
    "\n",
    "<a id='index-11'></a>\n",
    "Namespaces are great because they help us organize variable names.\n",
    "\n",
    "(Type `import this` at the prompt and look at the last item that’s printed)\n",
    "\n",
    "However, we do need to understand how the Python interpreter works with multiple namespaces.\n",
    "\n",
    "Understanding the flow of execution will help us to check which variables are in scope and how to operate on them when writing and debugging programs.\n",
    "\n",
    "At any point of execution, there are in fact at least two namespaces that can be accessed directly.\n",
    "\n",
    "(“Accessed directly” means without using a dot, as in  `pi` rather than `math.pi`)\n",
    "\n",
    "These namespaces are\n",
    "\n",
    "- The global namespace (of the module being executed)  \n",
    "- The builtin namespace  \n",
    "\n",
    "\n",
    "If the interpreter is executing a function, then the directly accessible namespaces are\n",
    "\n",
    "- The local namespace of the function  \n",
    "- The global namespace (of the module being executed)  \n",
    "- The builtin namespace  \n",
    "\n",
    "\n",
    "Sometimes functions are defined within other functions, like so"
   ]
  },
  {
   "cell_type": "code",
   "execution_count": null,
   "id": "8cc39f9c",
   "metadata": {
    "hide-output": false
   },
   "outputs": [],
   "source": [
    "def f():\n",
    "    a = 2\n",
    "    def g():\n",
    "        b = 4\n",
    "        print(a * b)\n",
    "    g()"
   ]
  },
  {
   "cell_type": "markdown",
   "id": "b9cb1df9",
   "metadata": {},
   "source": [
    "Here `f` is the *enclosing function* for `g`, and each function gets its\n",
    "own namespaces.\n",
    "\n",
    "Now we can give the rule for how namespace resolution works:\n",
    "\n",
    "The order in which the interpreter searches for names is\n",
    "\n",
    "1. the local namespace (if it exists)  \n",
    "1. the hierarchy of enclosing namespaces (if they exist)  \n",
    "1. the global namespace  \n",
    "1. the builtin namespace  \n",
    "\n",
    "\n",
    "If the name is not in any of these namespaces, the interpreter raises a `NameError`.\n",
    "\n",
    "This is called the **LEGB rule** (local, enclosing, global, builtin).\n",
    "\n",
    "Here’s an example that helps to illustrate.\n",
    "\n",
    "Visualizations here are created by [nbtutor](https://github.com/lgpage/nbtutor) in a Jupyter notebook.\n",
    "\n",
    "They can help you better understand your program when you are learning a new language.\n",
    "\n",
    "Consider a script `test.py` that looks as follows"
   ]
  },
  {
   "cell_type": "code",
   "execution_count": null,
   "id": "c42f40ef",
   "metadata": {
    "hide-output": false
   },
   "outputs": [],
   "source": [
    "%%file test.py\n",
    "def g(x):\n",
    "    a = 1\n",
    "    x = x + a\n",
    "    return x\n",
    "\n",
    "a = 0\n",
    "y = g(10)\n",
    "print(\"a = \", a, \"y = \", y)"
   ]
  },
  {
   "cell_type": "markdown",
   "id": "c595bd65",
   "metadata": {},
   "source": [
    "What happens when we run this script?"
   ]
  },
  {
   "cell_type": "code",
   "execution_count": null,
   "id": "470a5c1e",
   "metadata": {
    "hide-output": false
   },
   "outputs": [],
   "source": [
    "%run test.py"
   ]
  },
  {
   "cell_type": "markdown",
   "id": "e7fc94fd",
   "metadata": {},
   "source": [
    "First,\n",
    "\n",
    "- The global namespace `{}` is created.  \n",
    "\n",
    "\n",
    "![https://python-programming.quantecon.org/_static/lecture_specific/oop_intro/global.png](https://python-programming.quantecon.org/_static/lecture_specific/oop_intro/global.png)\n",
    "\n",
    "  \n",
    "- The function object is created, and `g` is bound to it within the global namespace.  \n",
    "- The name `a` is bound to `0`, again in the global namespace.  \n",
    "\n",
    "\n",
    "![https://python-programming.quantecon.org/_static/lecture_specific/oop_intro/global2.png](https://python-programming.quantecon.org/_static/lecture_specific/oop_intro/global2.png)\n",
    "\n",
    "  \n",
    "Next `g` is called via `y = g(10)`, leading to the following sequence of actions\n",
    "\n",
    "- The local namespace for the function is created.  \n",
    "- Local names `x` and `a` are bound, so that the local namespace becomes `{'x': 10, 'a': 1}`.  \n",
    "  - Note that the global `a` was not affected by the local `a`.  \n",
    "\n",
    "\n",
    "![https://python-programming.quantecon.org/_static/lecture_specific/oop_intro/local1.png](https://python-programming.quantecon.org/_static/lecture_specific/oop_intro/local1.png)\n",
    "\n",
    "  \n",
    "- Statement `x = x + a` uses the local `a` and local `x` to compute `x + a`, and binds local name `x` to the result.  \n",
    "- This value is returned, and `y` is bound to it in the global namespace.  \n",
    "- Local `x` and `a` are discarded (and the local namespace is deallocated).  \n",
    "\n",
    "\n",
    "![https://python-programming.quantecon.org/_static/lecture_specific/oop_intro/local_return.png](https://python-programming.quantecon.org/_static/lecture_specific/oop_intro/local_return.png)\n",
    "\n",
    "  \n",
    "\n",
    "<a id='mutable-vs-immutable'></a>"
   ]
  },
  {
   "cell_type": "markdown",
   "id": "9224deb2",
   "metadata": {},
   "source": [
    "### Mutable Versus Immutable Parameters\n",
    "\n",
    "This is a good time to say a little more about mutable vs immutable objects.\n",
    "\n",
    "Consider the code segment"
   ]
  },
  {
   "cell_type": "code",
   "execution_count": null,
   "id": "3b3f6fc6",
   "metadata": {
    "hide-output": false
   },
   "outputs": [],
   "source": [
    "def f(x):\n",
    "    x = x + 1\n",
    "    return x\n",
    "\n",
    "x = 1\n",
    "print(f(x), x)"
   ]
  },
  {
   "cell_type": "markdown",
   "id": "98263254",
   "metadata": {},
   "source": [
    "We now understand what will happen here: The code prints `2` as the value of `f(x)` and `1` as the value of `x`.\n",
    "\n",
    "First `f` and `x` are registered in the global namespace.\n",
    "\n",
    "The call `f(x)` creates a local namespace and adds `x` to it, bound to `1`.\n",
    "\n",
    "Next, this local `x` is rebound to the new integer object `2`, and this value is returned.\n",
    "\n",
    "None of this affects the global `x`.\n",
    "\n",
    "However, it’s a different story when we use a **mutable** data type such as a list"
   ]
  },
  {
   "cell_type": "code",
   "execution_count": null,
   "id": "92f4fee9",
   "metadata": {
    "hide-output": false
   },
   "outputs": [],
   "source": [
    "def f(x):\n",
    "    x[0] = x[0] + 1\n",
    "    return x\n",
    "\n",
    "x = [1]\n",
    "print(f(x), x)"
   ]
  },
  {
   "cell_type": "markdown",
   "id": "9f775685",
   "metadata": {},
   "source": [
    "This prints `[2]` as the value of `f(x)` and *same* for `x`.\n",
    "\n",
    "Here’s what happens\n",
    "\n",
    "- `f` is registered as a function in the global namespace  \n",
    "\n",
    "\n",
    "![https://python-programming.quantecon.org/_static/lecture_specific/oop_intro/mutable1.png](https://python-programming.quantecon.org/_static/lecture_specific/oop_intro/mutable1.png)\n",
    "\n",
    "  \n",
    "- `x` bound to `[1]` in the global namespace  \n",
    "\n",
    "\n",
    "![https://python-programming.quantecon.org/_static/lecture_specific/oop_intro/mutable2.png](https://python-programming.quantecon.org/_static/lecture_specific/oop_intro/mutable2.png)\n",
    "\n",
    "  \n",
    "- The call `f(x)`  \n",
    "  - Creates a local namespace  \n",
    "  - Adds `x` to the local namespace, bound to `[1]`  \n",
    "\n",
    "\n",
    "![https://python-programming.quantecon.org/_static/lecture_specific/oop_intro/mutable3.png](https://python-programming.quantecon.org/_static/lecture_specific/oop_intro/mutable3.png)\n",
    "\n",
    "  \n",
    ">**Note**\n",
    ">\n",
    ">The global `x` and the local `x` refer to the same `[1]`\n",
    "\n",
    "We can see the identity of local `x` and the identity of global `x` are the same"
   ]
  },
  {
   "cell_type": "code",
   "execution_count": null,
   "id": "596d1b3e",
   "metadata": {
    "hide-output": false
   },
   "outputs": [],
   "source": [
    "def f(x):\n",
    "    x[0] = x[0] + 1\n",
    "    print(f'the identity of local x is {id(x)}')\n",
    "    return x\n",
    "\n",
    "x = [1]\n",
    "print(f'the identity of global x is {id(x)}')\n",
    "print(f(x), x)"
   ]
  },
  {
   "cell_type": "markdown",
   "id": "33954383",
   "metadata": {},
   "source": [
    "- Within `f(x)`  \n",
    "  - The list `[1]` is modified to `[2]`  \n",
    "  - Returns the list `[2]`  \n",
    "\n",
    "\n",
    "![https://python-programming.quantecon.org/_static/lecture_specific/oop_intro/mutable4.png](https://python-programming.quantecon.org/_static/lecture_specific/oop_intro/mutable4.png)\n",
    "\n",
    "  \n",
    "- The local namespace is deallocated, and the local `x` is lost  \n",
    "\n",
    "\n",
    "![https://python-programming.quantecon.org/_static/lecture_specific/oop_intro/mutable5.png](https://python-programming.quantecon.org/_static/lecture_specific/oop_intro/mutable5.png)\n",
    "\n",
    "  \n",
    "If you want to modify the local `x` and the global `x` separately, you can create a [*copy*](https://docs.python.org/3/library/copy.html) of the list and assign the copy to the local `x`.\n",
    "\n",
    "We will leave this for you to explore."
   ]
  },
  {
   "cell_type": "markdown",
   "id": "97ac1396",
   "metadata": {},
   "source": [
    "## Summary\n",
    "\n",
    "Messages in this lecture are clear:\n",
    "\n",
    "- In Python, *everything in memory is treated as an object*.  \n",
    "- Zero, one or many names can be bound to a given object.  \n",
    "- Every name resides within a scope defined by its namespace.  \n",
    "\n",
    "\n",
    "This includes not just lists, strings, etc., but also less obvious things, such as\n",
    "\n",
    "- functions (once they have been read into memory)  \n",
    "- modules  (ditto)  \n",
    "- files opened for reading or writing  \n",
    "- integers, etc.  \n",
    "\n",
    "\n",
    "Consider, for example, functions.\n",
    "\n",
    "When Python reads a function definition, it creates a **function object** and stores it in memory.\n",
    "\n",
    "The following code illustrates further this idea"
   ]
  },
  {
   "cell_type": "code",
   "execution_count": null,
   "id": "5de3cb06",
   "metadata": {
    "hide-output": false
   },
   "outputs": [],
   "source": [
    "#reset the current namespace\n",
    "%reset"
   ]
  },
  {
   "cell_type": "code",
   "execution_count": null,
   "id": "e2c3fa08",
   "metadata": {
    "hide-output": false
   },
   "outputs": [],
   "source": [
    "def f(x): return x**2\n",
    "f"
   ]
  },
  {
   "cell_type": "code",
   "execution_count": null,
   "id": "0f74ff72",
   "metadata": {
    "hide-output": false
   },
   "outputs": [],
   "source": [
    "type(f)"
   ]
  },
  {
   "cell_type": "code",
   "execution_count": null,
   "id": "5cfec061",
   "metadata": {
    "hide-output": false
   },
   "outputs": [],
   "source": [
    "id(f)"
   ]
  },
  {
   "cell_type": "code",
   "execution_count": null,
   "id": "81c84cfb",
   "metadata": {
    "hide-output": false
   },
   "outputs": [],
   "source": [
    "f.__name__"
   ]
  },
  {
   "cell_type": "markdown",
   "id": "bd778266",
   "metadata": {},
   "source": [
    "We can see that `f` has type, identity, attributes and so on—just like any other object.\n",
    "\n",
    "It also has methods.\n",
    "\n",
    "One example is the `__call__` method, which just evaluates the function"
   ]
  },
  {
   "cell_type": "code",
   "execution_count": null,
   "id": "8e1e30ea",
   "metadata": {
    "hide-output": false
   },
   "outputs": [],
   "source": [
    "f.__call__(3)"
   ]
  },
  {
   "cell_type": "markdown",
   "id": "fdac2360",
   "metadata": {},
   "source": [
    "Another is the `__dir__` method, which returns a list of attributes.\n",
    "\n",
    "We can also find `f` our current namespace"
   ]
  },
  {
   "cell_type": "code",
   "execution_count": null,
   "id": "0e74b240",
   "metadata": {
    "hide-output": false
   },
   "outputs": [],
   "source": [
    "'f' in dir()"
   ]
  },
  {
   "cell_type": "markdown",
   "id": "dd076cbd",
   "metadata": {},
   "source": [
    "Modules loaded into memory are also treated as objects"
   ]
  },
  {
   "cell_type": "code",
   "execution_count": null,
   "id": "6f2135c0",
   "metadata": {
    "hide-output": false
   },
   "outputs": [],
   "source": [
    "import math\n",
    "\n",
    "id(math)"
   ]
  },
  {
   "cell_type": "markdown",
   "id": "783fb34e",
   "metadata": {},
   "source": [
    "We can find `math` in our global namespace after the import"
   ]
  },
  {
   "cell_type": "code",
   "execution_count": null,
   "id": "4741c286",
   "metadata": {
    "hide-output": false
   },
   "outputs": [],
   "source": [
    "print(dir()[-1::-1])"
   ]
  },
  {
   "cell_type": "markdown",
   "id": "fd129b24",
   "metadata": {},
   "source": [
    "We can also find all objects associated with the `math` module in the private namespace of `math`"
   ]
  },
  {
   "cell_type": "code",
   "execution_count": null,
   "id": "77ed8330",
   "metadata": {
    "hide-output": false
   },
   "outputs": [],
   "source": [
    "print(dir(math))"
   ]
  },
  {
   "cell_type": "markdown",
   "id": "a0d4ca2c",
   "metadata": {},
   "source": [
    "We can also directly import objects to our current namespace using `from ... import ...`"
   ]
  },
  {
   "cell_type": "code",
   "execution_count": null,
   "id": "68261493",
   "metadata": {
    "hide-output": false
   },
   "outputs": [],
   "source": [
    "from math import log, pi, sqrt\n",
    "\n",
    "print(dir()[-1::-1])"
   ]
  },
  {
   "cell_type": "markdown",
   "id": "7540bcbb",
   "metadata": {},
   "source": [
    "We can find these names appear in the current namespace now.\n",
    "\n",
    "*This uniform treatment of data in Python (everything is an object) helps keep the language simple and consistent.*"
   ]
  },
  {
   "cell_type": "markdown",
   "id": "6cd9d96d",
   "metadata": {},
   "source": [
    "## Exercises"
   ]
  },
  {
   "cell_type": "markdown",
   "id": "cca88dae",
   "metadata": {},
   "source": [
    "## Exercise 6.1\n",
    "\n",
    "We have met the [boolean data type](https://python-programming.quantecon.org/python_essentials.html#boolean) previously.\n",
    "Using what we have learnt in this lecture, print a list of methods of boolean objects.\n",
    "\n",
    "You can use `callable()` to test whether an attribute of an object can be called as a function"
   ]
  },
  {
   "cell_type": "markdown",
   "id": "64ea4246",
   "metadata": {},
   "source": [
    "## Solution to[ Exercise 6.1](https://python-programming.quantecon.org/#oop_intro_ex1)\n",
    "\n",
    "Firstly, we need to find all attributes of a boolean object.\n",
    "\n",
    "You can use one of the following ways:\n",
    "\n",
    "*1.* You can call the `.__dir__()` method"
   ]
  },
  {
   "cell_type": "code",
   "execution_count": null,
   "id": "a3413c57",
   "metadata": {
    "hide-output": false
   },
   "outputs": [],
   "source": [
    "print(sorted(True.__dir__()))"
   ]
  },
  {
   "cell_type": "markdown",
   "id": "9d4faab3",
   "metadata": {},
   "source": [
    "*2.* You can use the built-in function `dir()`"
   ]
  },
  {
   "cell_type": "code",
   "execution_count": null,
   "id": "b4685097",
   "metadata": {
    "hide-output": false
   },
   "outputs": [],
   "source": [
    "print(sorted(dir(True)))"
   ]
  },
  {
   "cell_type": "markdown",
   "id": "01f5b4a9",
   "metadata": {},
   "source": [
    "*3.* Since the boolean data type is a primitive type, you can also find it in the built-in namespace"
   ]
  },
  {
   "cell_type": "code",
   "execution_count": null,
   "id": "2f937d97",
   "metadata": {
    "hide-output": false
   },
   "outputs": [],
   "source": [
    "print(dir(__builtins__.bool))"
   ]
  },
  {
   "cell_type": "markdown",
   "id": "d86e4ebd",
   "metadata": {},
   "source": [
    "Next, we can use a `for` loop to filter out attributes that are callable"
   ]
  },
  {
   "cell_type": "code",
   "execution_count": null,
   "id": "a420b01f",
   "metadata": {
    "hide-output": false
   },
   "outputs": [],
   "source": [
    "attrls = dir(__builtins__.bool)\n",
    "callablels = list()\n",
    "\n",
    "for i in attrls:\n",
    "  # Use eval() to evaluate a string as an expression\n",
    "  if callable(eval(f'True.{i}')):\n",
    "    callablels.append(i)\n",
    "print(callablels)"
   ]
  },
  {
   "cell_type": "markdown",
   "id": "137d3a95",
   "metadata": {},
   "source": [
    "Here is a one-line solution"
   ]
  },
  {
   "cell_type": "code",
   "execution_count": null,
   "id": "978a1c84",
   "metadata": {
    "hide-output": false
   },
   "outputs": [],
   "source": [
    "print([i for i in attrls if callable(eval(f'True.{i}'))])"
   ]
  },
  {
   "cell_type": "markdown",
   "id": "ee9f092b",
   "metadata": {},
   "source": [
    "You can explore these methods and see what they are used for."
   ]
  }
 ],
 "metadata": {
  "date": 1666754582.8809566,
  "filename": "oop_intro.md",
  "kernelspec": {
   "display_name": "Python",
   "language": "python3",
   "name": "python3"
  },
  "title": "OOP I: Objects and Names"
 },
 "nbformat": 4,
 "nbformat_minor": 5
}